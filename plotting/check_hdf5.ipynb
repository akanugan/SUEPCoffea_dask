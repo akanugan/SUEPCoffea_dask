{
 "cells": [
  {
   "cell_type": "markdown",
   "id": "26c7f632",
   "metadata": {},
   "source": [
    "## Check HDF5 File\n",
    "Utility notebook used when make_plots.py isn't working as expected.<br>\n",
    "Open an HDF5 output of workflows/SUEP_coffea.py and check out its contents."
   ]
  },
  {
   "cell_type": "code",
   "execution_count": 1,
   "id": "8db74d48",
   "metadata": {},
   "outputs": [],
   "source": [
    "import pandas as pd\n",
    "import matplotlib.pyplot as plt\n",
    "import numpy as np"
   ]
  },
  {
   "cell_type": "code",
   "execution_count": 2,
   "id": "b1db9d32",
   "metadata": {},
   "outputs": [],
   "source": [
    "def h5load(ifile, label):\n",
    "    with pd.HDFStore(ifile, 'r') as store:\n",
    "        data = store[label] \n",
    "        metadata = store.get_storer(label).attrs.metadata\n",
    "        return data, metadata"
   ]
  },
  {
   "cell_type": "code",
   "execution_count": 3,
   "id": "1af919da-4b06-4f70-af88-b9c58366ea3b",
   "metadata": {},
   "outputs": [
    {
     "data": {
      "text/plain": [
       "{'era': '2018', 'mc': 0, 'sample': 'ScoutingPFHT+Run2018A-v1+RAW'}"
      ]
     },
     "execution_count": 3,
     "metadata": {},
     "output_type": "execute_result"
    }
   ],
   "source": [
    "f = '../out.hdf5'\n",
    "#f1 = '/data/submit/jinw65/SUEP/wj_2017/ScoutingPFHT+Run2017E-v1+RAW/62EF7861-7CA5-E711-A0FC-02163E01475A.hdf5'\n",
    "#f1 = '/data/submit/akanugan/SUEP/afterHLTfix17/QCD_HT1500to2000_TuneCP5_13TeV-madgraphMLM-pythia8+RunIISummer20UL17RECO-106X_mc2017_realistic_v6-v2+AODSIM/64352BE2-6241-3649-9FAA-35F7B4129C78.hdf5'\n",
    "#f1 = '/data/submit/akanugan/SUEP/full17/ScoutingPFHT+Run2017F-v1+RAW/3210C370-E7B8-E711-9F33-02163E019C38.hdf5'\n",
    "#f1 = '/data/submit/akanugan/SUEP/new_vars3/ScoutingPFHT+Run2018A-v1+RAW/6AC48EAA-A256-E811-9C6B-02163E019FF4.hdf5' #run 316187\n",
    "#f1 = '/data/submit/akanugan/SUEP/new_vars3/ScoutingPFHT+Run2018A-v1+RAW/6AD2C777-A256-E811-9AE7-FA163E0F11D0.hdf5'\n",
    "f1 = '/data/submit/akanugan/SUEP/new_vars3/ScoutingPFHT+Run2018A-v1+RAW/3ADD6F29-E449-E811-96C9-FA163E7841DC.hdf5'#run 315267\n",
    "df,m  = h5load(f1, 'vars')\n",
    "m"
   ]
  },
  {
   "cell_type": "code",
   "execution_count": 4,
   "id": "4ca6fffa",
   "metadata": {},
   "outputs": [
    {
     "data": {
      "text/plain": [
       "Index(['event', 'run', 'lumi', 'ntracks', 'ngood_fastjets', 'ht', 'ht_JEC',\n",
       "       'ht_JEC_JER_up', 'ht_JEC_JER_down', 'ht_JEC_JES_up', 'ht_JEC_JES_down',\n",
       "       'n_sel_electrons', 'n_sel_muons', 'n_sel_leps', 'ngood_ak4jets',\n",
       "       'PV_npvs', 'SUEP_genMass', 'SUEP_genPt', 'SUEP_genEta', 'SUEP_genPhi',\n",
       "       'SUEP_nconst_CL', 'SUEP_pt_avg_b_CL', 'SUEP_S1_CL', 'SUEP_pt_avg_CL',\n",
       "       'SUEP_pt_CL', 'SUEP_eta_CL', 'SUEP_phi_CL', 'SUEP_mass_CL',\n",
       "       'SUEP_delta_mass_genMass_CL', 'SUEP_delta_pt_genPt_CL',\n",
       "       'SUEP_genEta_diff_CL', 'SUEP_genPhi_diff_CL', 'SUEP_genR_diff_CL',\n",
       "       'ISR_nconst_CL', 'ISR_pt_avg_b_CL', 'ISR_S1_CL', 'ISR_pt_avg_CL',\n",
       "       'ISR_pt_CL', 'ISR_eta_CL', 'ISR_phi_CL', 'ISR_mass_CL'],\n",
       "      dtype='object')"
      ]
     },
     "execution_count": 4,
     "metadata": {},
     "output_type": "execute_result"
    }
   ],
   "source": [
    "df.keys()"
   ]
  },
  {
   "cell_type": "code",
   "execution_count": 7,
   "id": "1f2c1142",
   "metadata": {},
   "outputs": [
    {
     "data": {
      "text/plain": [
       "0       184\n",
       "1       184\n",
       "2       184\n",
       "3       184\n",
       "4       184\n",
       "       ... \n",
       "9885    209\n",
       "9886    209\n",
       "9887    209\n",
       "9888    209\n",
       "9889    209\n",
       "Name: lumi, Length: 197799, dtype: uint32"
      ]
     },
     "execution_count": 7,
     "metadata": {},
     "output_type": "execute_result"
    }
   ],
   "source": [
    "df['lumi']"
   ]
  },
  {
   "cell_type": "code",
   "execution_count": 9,
   "id": "3892b305-13a5-4aa6-bb26-63c71109d81b",
   "metadata": {},
   "outputs": [
    {
     "data": {
      "image/png": "[encoded data removed]",
      "text/plain": [
       "<Figure size 640x480 with 1 Axes>"
      ]
     },
     "metadata": {},
     "output_type": "display_data"
    }
   ],
   "source": [
    "_ = plt.hist(df['lumi'], alpha=0.5, bins=np.linspace(150,250,100))\n",
    "plt.yscale('log')"
   ]
  },
  {
   "cell_type": "code",
   "execution_count": 19,
   "id": "25e28a00-8b50-44a9-bf70-426ace8a6b19",
   "metadata": {},
   "outputs": [
    {
     "data": {
      "text/html": [
       "<div>\n",
       "<style scoped>\n",
       "    .dataframe tbody tr th:only-of-type {\n",
       "        vertical-align: middle;\n",
       "    }\n",
       "\n",
       "    .dataframe tbody tr th {\n",
       "        vertical-align: top;\n",
       "    }\n",
       "\n",
       "    .dataframe thead th {\n",
       "        text-align: right;\n",
       "    }\n",
       "</style>\n",
       "<table border=\"1\" class=\"dataframe\">\n",
       "  <thead>\n",
       "    <tr style=\"text-align: right;\">\n",
       "      <th></th>\n",
       "      <th>ntracks</th>\n",
       "      <th>ngood_fastjets</th>\n",
       "      <th>ht</th>\n",
       "      <th>ht_JEC</th>\n",
       "      <th>ht_JEC_JER_up</th>\n",
       "      <th>ht_JEC_JER_down</th>\n",
       "      <th>ht_JEC_JES_up</th>\n",
       "      <th>ht_JEC_JES_down</th>\n",
       "      <th>n_sel_electrons</th>\n",
       "      <th>n_sel_muons</th>\n",
       "      <th>n_sel_leps</th>\n",
       "      <th>ngood_ak4jets</th>\n",
       "      <th>PV_npvs</th>\n",
       "      <th>SUEP_genMass</th>\n",
       "      <th>SUEP_genPt</th>\n",
       "      <th>SUEP_genEta</th>\n",
       "      <th>SUEP_genPhi</th>\n",
       "      <th>SUEP_nconst_CL</th>\n",
       "      <th>SUEP_pt_avg_b_CL</th>\n",
       "      <th>SUEP_S1_CL</th>\n",
       "      <th>SUEP_pt_avg_CL</th>\n",
       "      <th>SUEP_pt_CL</th>\n",
       "      <th>SUEP_eta_CL</th>\n",
       "      <th>SUEP_phi_CL</th>\n",
       "      <th>SUEP_mass_CL</th>\n",
       "      <th>SUEP_delta_mass_genMass_CL</th>\n",
       "      <th>SUEP_delta_pt_genPt_CL</th>\n",
       "      <th>SUEP_genEta_diff_CL</th>\n",
       "      <th>SUEP_genPhi_diff_CL</th>\n",
       "      <th>SUEP_genR_diff_CL</th>\n",
       "      <th>ISR_nconst_CL</th>\n",
       "      <th>ISR_pt_avg_b_CL</th>\n",
       "      <th>ISR_S1_CL</th>\n",
       "      <th>ISR_pt_avg_CL</th>\n",
       "      <th>ISR_pt_CL</th>\n",
       "      <th>ISR_eta_CL</th>\n",
       "      <th>ISR_phi_CL</th>\n",
       "      <th>ISR_mass_CL</th>\n",
       "    </tr>\n",
       "  </thead>\n",
       "  <tbody>\n",
       "    <tr>\n",
       "      <th>count</th>\n",
       "      <td>436758.000000</td>\n",
       "      <td>436758.000000</td>\n",
       "      <td>436758.000000</td>\n",
       "      <td>436758.000000</td>\n",
       "      <td>436758.000000</td>\n",
       "      <td>436758.000000</td>\n",
       "      <td>436758.000000</td>\n",
       "      <td>436758.000000</td>\n",
       "      <td>436758.000000</td>\n",
       "      <td>436758.0</td>\n",
       "      <td>436758.000000</td>\n",
       "      <td>436758.000000</td>\n",
       "      <td>436758.000000</td>\n",
       "      <td>436758.0</td>\n",
       "      <td>436758.0</td>\n",
       "      <td>436758.0</td>\n",
       "      <td>436758.0</td>\n",
       "      <td>141942.000000</td>\n",
       "      <td>141942.000000</td>\n",
       "      <td>1.419420e+05</td>\n",
       "      <td>141942.000000</td>\n",
       "      <td>141942.000000</td>\n",
       "      <td>141942.000000</td>\n",
       "      <td>141942.000000</td>\n",
       "      <td>141942.000000</td>\n",
       "      <td>141942.000000</td>\n",
       "      <td>141942.000000</td>\n",
       "      <td>141942.000000</td>\n",
       "      <td>141942.000000</td>\n",
       "      <td>141942.000000</td>\n",
       "      <td>141942.000000</td>\n",
       "      <td>141942.000000</td>\n",
       "      <td>1.419420e+05</td>\n",
       "      <td>141942.000000</td>\n",
       "      <td>141942.000000</td>\n",
       "      <td>141942.000000</td>\n",
       "      <td>141942.000000</td>\n",
       "      <td>141942.000000</td>\n",
       "    </tr>\n",
       "    <tr>\n",
       "      <th>mean</th>\n",
       "      <td>19.263475</td>\n",
       "      <td>1.072596</td>\n",
       "      <td>504.200641</td>\n",
       "      <td>529.702336</td>\n",
       "      <td>529.702336</td>\n",
       "      <td>529.702336</td>\n",
       "      <td>529.702336</td>\n",
       "      <td>529.702336</td>\n",
       "      <td>0.464697</td>\n",
       "      <td>0.0</td>\n",
       "      <td>0.464697</td>\n",
       "      <td>3.682305</td>\n",
       "      <td>17.799704</td>\n",
       "      <td>0.0</td>\n",
       "      <td>0.0</td>\n",
       "      <td>0.0</td>\n",
       "      <td>0.0</td>\n",
       "      <td>14.496400</td>\n",
       "      <td>2.014848</td>\n",
       "      <td>3.341620e-01</td>\n",
       "      <td>8.761105</td>\n",
       "      <td>112.173204</td>\n",
       "      <td>-0.001763</td>\n",
       "      <td>-0.091657</td>\n",
       "      <td>39.520547</td>\n",
       "      <td>39.520547</td>\n",
       "      <td>112.173204</td>\n",
       "      <td>-0.001763</td>\n",
       "      <td>-0.091657</td>\n",
       "      <td>1.689109</td>\n",
       "      <td>8.644813</td>\n",
       "      <td>1.903831</td>\n",
       "      <td>2.589356e-01</td>\n",
       "      <td>13.642896</td>\n",
       "      <td>96.252067</td>\n",
       "      <td>-0.033698</td>\n",
       "      <td>0.009261</td>\n",
       "      <td>23.189235</td>\n",
       "    </tr>\n",
       "    <tr>\n",
       "      <th>std</th>\n",
       "      <td>10.583146</td>\n",
       "      <td>0.805355</td>\n",
       "      <td>140.345625</td>\n",
       "      <td>151.405562</td>\n",
       "      <td>151.405562</td>\n",
       "      <td>151.405562</td>\n",
       "      <td>151.405562</td>\n",
       "      <td>151.405562</td>\n",
       "      <td>0.776455</td>\n",
       "      <td>0.0</td>\n",
       "      <td>0.776455</td>\n",
       "      <td>1.340394</td>\n",
       "      <td>5.458363</td>\n",
       "      <td>0.0</td>\n",
       "      <td>0.0</td>\n",
       "      <td>0.0</td>\n",
       "      <td>0.0</td>\n",
       "      <td>5.313087</td>\n",
       "      <td>1.140362</td>\n",
       "      <td>1.860664e-01</td>\n",
       "      <td>4.389156</td>\n",
       "      <td>47.712818</td>\n",
       "      <td>0.767331</td>\n",
       "      <td>1.710508</td>\n",
       "      <td>26.349501</td>\n",
       "      <td>26.349501</td>\n",
       "      <td>47.712818</td>\n",
       "      <td>0.767331</td>\n",
       "      <td>1.710508</td>\n",
       "      <td>0.818492</td>\n",
       "      <td>3.883926</td>\n",
       "      <td>1.447565</td>\n",
       "      <td>1.850588e-01</td>\n",
       "      <td>9.143187</td>\n",
       "      <td>43.268394</td>\n",
       "      <td>1.045065</td>\n",
       "      <td>1.881049</td>\n",
       "      <td>18.356244</td>\n",
       "    </tr>\n",
       "    <tr>\n",
       "      <th>min</th>\n",
       "      <td>0.000000</td>\n",
       "      <td>0.000000</td>\n",
       "      <td>224.132599</td>\n",
       "      <td>236.665756</td>\n",
       "      <td>236.665756</td>\n",
       "      <td>236.665756</td>\n",
       "      <td>236.665756</td>\n",
       "      <td>236.665756</td>\n",
       "      <td>0.000000</td>\n",
       "      <td>0.0</td>\n",
       "      <td>0.000000</td>\n",
       "      <td>1.000000</td>\n",
       "      <td>1.000000</td>\n",
       "      <td>0.0</td>\n",
       "      <td>0.0</td>\n",
       "      <td>0.0</td>\n",
       "      <td>0.0</td>\n",
       "      <td>2.000000</td>\n",
       "      <td>0.087115</td>\n",
       "      <td>-8.326673e-17</td>\n",
       "      <td>2.290690</td>\n",
       "      <td>50.000851</td>\n",
       "      <td>-2.320234</td>\n",
       "      <td>-3.141512</td>\n",
       "      <td>0.468390</td>\n",
       "      <td>0.468390</td>\n",
       "      <td>50.000851</td>\n",
       "      <td>-2.320234</td>\n",
       "      <td>-3.141512</td>\n",
       "      <td>0.003285</td>\n",
       "      <td>2.000000</td>\n",
       "      <td>0.007694</td>\n",
       "      <td>-5.828671e-16</td>\n",
       "      <td>2.319590</td>\n",
       "      <td>50.000067</td>\n",
       "      <td>-2.475258</td>\n",
       "      <td>-3.141535</td>\n",
       "      <td>0.244926</td>\n",
       "    </tr>\n",
       "    <tr>\n",
       "      <th>25%</th>\n",
       "      <td>12.000000</td>\n",
       "      <td>0.000000</td>\n",
       "      <td>416.401581</td>\n",
       "      <td>436.110741</td>\n",
       "      <td>436.110741</td>\n",
       "      <td>436.110741</td>\n",
       "      <td>436.110741</td>\n",
       "      <td>436.110741</td>\n",
       "      <td>0.000000</td>\n",
       "      <td>0.0</td>\n",
       "      <td>0.000000</td>\n",
       "      <td>3.000000</td>\n",
       "      <td>14.000000</td>\n",
       "      <td>0.0</td>\n",
       "      <td>0.0</td>\n",
       "      <td>0.0</td>\n",
       "      <td>0.0</td>\n",
       "      <td>11.000000</td>\n",
       "      <td>1.237569</td>\n",
       "      <td>1.848386e-01</td>\n",
       "      <td>5.904485</td>\n",
       "      <td>76.898079</td>\n",
       "      <td>-0.575453</td>\n",
       "      <td>-1.557653</td>\n",
       "      <td>21.259843</td>\n",
       "      <td>21.259843</td>\n",
       "      <td>76.898079</td>\n",
       "      <td>-0.575453</td>\n",
       "      <td>-1.557653</td>\n",
       "      <td>1.017909</td>\n",
       "      <td>6.000000</td>\n",
       "      <td>0.963935</td>\n",
       "      <td>1.098968e-01</td>\n",
       "      <td>7.959971</td>\n",
       "      <td>64.538802</td>\n",
       "      <td>-0.881449</td>\n",
       "      <td>-1.743495</td>\n",
       "      <td>10.506898</td>\n",
       "    </tr>\n",
       "    <tr>\n",
       "      <th>50%</th>\n",
       "      <td>19.000000</td>\n",
       "      <td>1.000000</td>\n",
       "      <td>466.576294</td>\n",
       "      <td>487.789597</td>\n",
       "      <td>487.789597</td>\n",
       "      <td>487.789597</td>\n",
       "      <td>487.789597</td>\n",
       "      <td>487.789597</td>\n",
       "      <td>0.000000</td>\n",
       "      <td>0.0</td>\n",
       "      <td>0.000000</td>\n",
       "      <td>4.000000</td>\n",
       "      <td>17.000000</td>\n",
       "      <td>0.0</td>\n",
       "      <td>0.0</td>\n",
       "      <td>0.0</td>\n",
       "      <td>0.0</td>\n",
       "      <td>14.000000</td>\n",
       "      <td>1.779455</td>\n",
       "      <td>3.120879e-01</td>\n",
       "      <td>7.684505</td>\n",
       "      <td>102.346783</td>\n",
       "      <td>0.007163</td>\n",
       "      <td>-0.134660</td>\n",
       "      <td>33.449563</td>\n",
       "      <td>33.449563</td>\n",
       "      <td>102.346783</td>\n",
       "      <td>0.007163</td>\n",
       "      <td>-0.134660</td>\n",
       "      <td>1.627075</td>\n",
       "      <td>8.000000</td>\n",
       "      <td>1.586521</td>\n",
       "      <td>2.224647e-01</td>\n",
       "      <td>11.064146</td>\n",
       "      <td>83.893541</td>\n",
       "      <td>-0.039115</td>\n",
       "      <td>0.058831</td>\n",
       "      <td>19.054448</td>\n",
       "    </tr>\n",
       "    <tr>\n",
       "      <th>75%</th>\n",
       "      <td>26.000000</td>\n",
       "      <td>2.000000</td>\n",
       "      <td>546.656784</td>\n",
       "      <td>574.130554</td>\n",
       "      <td>574.130554</td>\n",
       "      <td>574.130554</td>\n",
       "      <td>574.130554</td>\n",
       "      <td>574.130554</td>\n",
       "      <td>1.000000</td>\n",
       "      <td>0.0</td>\n",
       "      <td>1.000000</td>\n",
       "      <td>4.000000</td>\n",
       "      <td>21.000000</td>\n",
       "      <td>0.0</td>\n",
       "      <td>0.0</td>\n",
       "      <td>0.0</td>\n",
       "      <td>0.0</td>\n",
       "      <td>18.000000</td>\n",
       "      <td>2.512774</td>\n",
       "      <td>4.661225e-01</td>\n",
       "      <td>10.325899</td>\n",
       "      <td>135.800606</td>\n",
       "      <td>0.572100</td>\n",
       "      <td>1.262523</td>\n",
       "      <td>51.012426</td>\n",
       "      <td>51.012426</td>\n",
       "      <td>135.800606</td>\n",
       "      <td>0.572100</td>\n",
       "      <td>1.262523</td>\n",
       "      <td>2.379502</td>\n",
       "      <td>11.000000</td>\n",
       "      <td>2.444864</td>\n",
       "      <td>3.792110e-01</td>\n",
       "      <td>16.274413</td>\n",
       "      <td>114.986159</td>\n",
       "      <td>0.827646</td>\n",
       "      <td>1.639735</td>\n",
       "      <td>30.866783</td>\n",
       "    </tr>\n",
       "    <tr>\n",
       "      <th>max</th>\n",
       "      <td>88.000000</td>\n",
       "      <td>4.000000</td>\n",
       "      <td>3397.760254</td>\n",
       "      <td>3555.769775</td>\n",
       "      <td>3555.769775</td>\n",
       "      <td>3555.769775</td>\n",
       "      <td>3555.769775</td>\n",
       "      <td>3555.769775</td>\n",
       "      <td>10.000000</td>\n",
       "      <td>0.0</td>\n",
       "      <td>10.000000</td>\n",
       "      <td>15.000000</td>\n",
       "      <td>67.000000</td>\n",
       "      <td>0.0</td>\n",
       "      <td>0.0</td>\n",
       "      <td>0.0</td>\n",
       "      <td>0.0</td>\n",
       "      <td>52.000000</td>\n",
       "      <td>27.152134</td>\n",
       "      <td>9.457397e-01</td>\n",
       "      <td>101.059239</td>\n",
       "      <td>606.984897</td>\n",
       "      <td>2.313026</td>\n",
       "      <td>3.141579</td>\n",
       "      <td>367.662552</td>\n",
       "      <td>367.662552</td>\n",
       "      <td>606.984897</td>\n",
       "      <td>2.313026</td>\n",
       "      <td>3.141579</td>\n",
       "      <td>3.751724</td>\n",
       "      <td>37.000000</td>\n",
       "      <td>125.230684</td>\n",
       "      <td>9.311157e-01</td>\n",
       "      <td>304.372060</td>\n",
       "      <td>608.749339</td>\n",
       "      <td>2.401535</td>\n",
       "      <td>3.141570</td>\n",
       "      <td>311.115328</td>\n",
       "    </tr>\n",
       "  </tbody>\n",
       "</table>\n",
       "</div>"
      ],
      "text/plain": [
       "             ntracks  ngood_fastjets             ht         ht_JEC  \\\n",
       "count  436758.000000   436758.000000  436758.000000  436758.000000   \n",
       "mean       19.263475        1.072596     504.200641     529.702336   \n",
       "std        10.583146        0.805355     140.345625     151.405562   \n",
       "min         0.000000        0.000000     224.132599     236.665756   \n",
       "25%        12.000000        0.000000     416.401581     436.110741   \n",
       "50%        19.000000        1.000000     466.576294     487.789597   \n",
       "75%        26.000000        2.000000     546.656784     574.130554   \n",
       "max        88.000000        4.000000    3397.760254    3555.769775   \n",
       "\n",
       "       ht_JEC_JER_up  ht_JEC_JER_down  ht_JEC_JES_up  ht_JEC_JES_down  \\\n",
       "count  436758.000000    436758.000000  436758.000000    436758.000000   \n",
       "mean      529.702336       529.702336     529.702336       529.702336   \n",
       "std       151.405562       151.405562     151.405562       151.405562   \n",
       "min       236.665756       236.665756     236.665756       236.665756   \n",
       "25%       436.110741       436.110741     436.110741       436.110741   \n",
       "50%       487.789597       487.789597     487.789597       487.789597   \n",
       "75%       574.130554       574.130554     574.130554       574.130554   \n",
       "max      3555.769775      3555.769775    3555.769775      3555.769775   \n",
       "\n",
       "       n_sel_electrons  n_sel_muons     n_sel_leps  ngood_ak4jets  \\\n",
       "count    436758.000000     436758.0  436758.000000  436758.000000   \n",
       "mean          0.464697          0.0       0.464697       3.682305   \n",
       "std           0.776455          0.0       0.776455       1.340394   \n",
       "min           0.000000          0.0       0.000000       1.000000   \n",
       "25%           0.000000          0.0       0.000000       3.000000   \n",
       "50%           0.000000          0.0       0.000000       4.000000   \n",
       "75%           1.000000          0.0       1.000000       4.000000   \n",
       "max          10.000000          0.0      10.000000      15.000000   \n",
       "\n",
       "             PV_npvs  SUEP_genMass  SUEP_genPt  SUEP_genEta  SUEP_genPhi  \\\n",
       "count  436758.000000      436758.0    436758.0     436758.0     436758.0   \n",
       "mean       17.799704           0.0         0.0          0.0          0.0   \n",
       "std         5.458363           0.0         0.0          0.0          0.0   \n",
       "min         1.000000           0.0         0.0          0.0          0.0   \n",
       "25%        14.000000           0.0         0.0          0.0          0.0   \n",
       "50%        17.000000           0.0         0.0          0.0          0.0   \n",
       "75%        21.000000           0.0         0.0          0.0          0.0   \n",
       "max        67.000000           0.0         0.0          0.0          0.0   \n",
       "\n",
       "       SUEP_nconst_CL  SUEP_pt_avg_b_CL    SUEP_S1_CL  SUEP_pt_avg_CL  \\\n",
       "count   141942.000000     141942.000000  1.419420e+05   141942.000000   \n",
       "mean        14.496400          2.014848  3.341620e-01        8.761105   \n",
       "std          5.313087          1.140362  1.860664e-01        4.389156   \n",
       "min          2.000000          0.087115 -8.326673e-17        2.290690   \n",
       "25%         11.000000          1.237569  1.848386e-01        5.904485   \n",
       "50%         14.000000          1.779455  3.120879e-01        7.684505   \n",
       "75%         18.000000          2.512774  4.661225e-01       10.325899   \n",
       "max         52.000000         27.152134  9.457397e-01      101.059239   \n",
       "\n",
       "          SUEP_pt_CL    SUEP_eta_CL    SUEP_phi_CL   SUEP_mass_CL  \\\n",
       "count  141942.000000  141942.000000  141942.000000  141942.000000   \n",
       "mean      112.173204      -0.001763      -0.091657      39.520547   \n",
       "std        47.712818       0.767331       1.710508      26.349501   \n",
       "min        50.000851      -2.320234      -3.141512       0.468390   \n",
       "25%        76.898079      -0.575453      -1.557653      21.259843   \n",
       "50%       102.346783       0.007163      -0.134660      33.449563   \n",
       "75%       135.800606       0.572100       1.262523      51.012426   \n",
       "max       606.984897       2.313026       3.141579     367.662552   \n",
       "\n",
       "       SUEP_delta_mass_genMass_CL  SUEP_delta_pt_genPt_CL  \\\n",
       "count               141942.000000           141942.000000   \n",
       "mean                    39.520547              112.173204   \n",
       "std                     26.349501               47.712818   \n",
       "min                      0.468390               50.000851   \n",
       "25%                     21.259843               76.898079   \n",
       "50%                     33.449563              102.346783   \n",
       "75%                     51.012426              135.800606   \n",
       "max                    367.662552              606.984897   \n",
       "\n",
       "       SUEP_genEta_diff_CL  SUEP_genPhi_diff_CL  SUEP_genR_diff_CL  \\\n",
       "count        141942.000000        141942.000000      141942.000000   \n",
       "mean             -0.001763            -0.091657           1.689109   \n",
       "std               0.767331             1.710508           0.818492   \n",
       "min              -2.320234            -3.141512           0.003285   \n",
       "25%              -0.575453            -1.557653           1.017909   \n",
       "50%               0.007163            -0.134660           1.627075   \n",
       "75%               0.572100             1.262523           2.379502   \n",
       "max               2.313026             3.141579           3.751724   \n",
       "\n",
       "       ISR_nconst_CL  ISR_pt_avg_b_CL     ISR_S1_CL  ISR_pt_avg_CL  \\\n",
       "count  141942.000000    141942.000000  1.419420e+05  141942.000000   \n",
       "mean        8.644813         1.903831  2.589356e-01      13.642896   \n",
       "std         3.883926         1.447565  1.850588e-01       9.143187   \n",
       "min         2.000000         0.007694 -5.828671e-16       2.319590   \n",
       "25%         6.000000         0.963935  1.098968e-01       7.959971   \n",
       "50%         8.000000         1.586521  2.224647e-01      11.064146   \n",
       "75%        11.000000         2.444864  3.792110e-01      16.274413   \n",
       "max        37.000000       125.230684  9.311157e-01     304.372060   \n",
       "\n",
       "           ISR_pt_CL     ISR_eta_CL     ISR_phi_CL    ISR_mass_CL  \n",
       "count  141942.000000  141942.000000  141942.000000  141942.000000  \n",
       "mean       96.252067      -0.033698       0.009261      23.189235  \n",
       "std        43.268394       1.045065       1.881049      18.356244  \n",
       "min        50.000067      -2.475258      -3.141535       0.244926  \n",
       "25%        64.538802      -0.881449      -1.743495      10.506898  \n",
       "50%        83.893541      -0.039115       0.058831      19.054448  \n",
       "75%       114.986159       0.827646       1.639735      30.866783  \n",
       "max       608.749339       2.401535       3.141570     311.115328  "
      ]
     },
     "execution_count": 19,
     "metadata": {},
     "output_type": "execute_result"
    }
   ],
   "source": [
    "pd.set_option('display.max_columns', None)\n",
    "df[df['ht_JEC']>0].describe()"
   ]
  },
  {
   "cell_type": "code",
   "execution_count": 60,
   "id": "419c645f-add6-43c6-9612-07e4c055ee93",
   "metadata": {},
   "outputs": [
    {
     "name": "stdout",
     "output_type": "stream",
     "text": [
      "2152 2152\n",
      "1314 1312\n"
     ]
    }
   ],
   "source": [
    "a = original_order['ht_JEC']\n",
    "b = new_order['ht_JEC']\n",
    "\n",
    "print(len(a), len(b))\n",
    "\n",
    "aa = a[a > 1200]\n",
    "bb = b[b > 1200]\n",
    "\n",
    "print(len(aa), len(bb))"
   ]
  },
  {
   "cell_type": "code",
   "execution_count": 5,
   "id": "7f91befb-2ae7-489d-8267-9ac949b3775c",
   "metadata": {},
   "outputs": [],
   "source": [
    "f = '/data/submit/cms/store/user/lavezzo/SUEP/feb23/JetHT+Run2018A-UL2018_MiniAODv2-v1+MINIAOD/merged/JetHT+Run2018A-UL2018_MiniAODv2-v1+MINIAOD_merged_0.hdf5'\n",
    "event_vars, m = h5load(f,'vars')\n",
    "f = '/data/submit/cms/store/user/lavezzo/SUEP/feb23/JetHT+Run2018A-UL2018_MiniAODv2-v1+MINIAOD/merged/JetHT+Run2018A-UL2018_MiniAODv2-v1+MINIAOD_merged_1.hdf5'\n",
    "event_vars_2, m = h5load(f,'vars')"
   ]
  },
  {
   "cell_type": "code",
   "execution_count": 6,
   "id": "b2b23036-c465-4dd2-8145-0dad87c8f986",
   "metadata": {},
   "outputs": [],
   "source": [
    "f = '/data/submit/cms/store/user/lavezzo/SUEP/inference7_SUEPtracks/JetHT+Run2018A-UL2018_MiniAODv2-v1+MINIAOD/merged/JetHT+Run2018A-UL2018_MiniAODv2-v1+MINIAOD_merged_0.hdf5'\n",
    "event_vars_3, m = h5load(f,'vars')\n",
    "f = '/data/submit/cms/store/user/lavezzo/SUEP/inference7_SUEPtracks/JetHT+Run2018A-UL2018_MiniAODv2-v1+MINIAOD/merged/JetHT+Run2018A-UL2018_MiniAODv2-v1+MINIAOD_merged_1.hdf5'\n",
    "event_vars_4, m = h5load(f,'vars')"
   ]
  },
  {
   "cell_type": "code",
   "execution_count": 7,
   "id": "3b607264-da52-43a4-97c4-b3653515e3da",
   "metadata": {},
   "outputs": [],
   "source": [
    "new = pd.concat([event_vars, event_vars_2])\n",
    "old = pd.concat([event_vars_3, event_vars_4])"
   ]
  },
  {
   "cell_type": "code",
   "execution_count": 8,
   "id": "3b3f685a-8c59-4044-a8ee-6017438a6eaa",
   "metadata": {},
   "outputs": [],
   "source": [
    "new = new[new['ht_JEC']>1200]\n",
    "old = old[old['ht_JEC']>1200]"
   ]
  },
  {
   "cell_type": "code",
   "execution_count": 9,
   "id": "19d329e7-3b0f-4ef9-9c05-1279a12b5f21",
   "metadata": {},
   "outputs": [
    {
     "name": "stdout",
     "output_type": "stream",
     "text": [
      "(5191549, 43)\n",
      "(5294924, 38)\n"
     ]
    }
   ],
   "source": [
    "print(new.shape)\n",
    "print(old.shape)"
   ]
  },
  {
   "cell_type": "code",
   "execution_count": 18,
   "id": "01970c2b-c683-41b0-8ac8-e6dae175f6e0",
   "metadata": {},
   "outputs": [],
   "source": [
    "import plot_utils\n",
    "\n",
    "# ran these over old data\n",
    "# original = old make_plots\n",
    "# new = new make_plots\n",
    "p0 = plot_utils.openpkl('/work/submit/lavezzo/SUEP/outputs/JetHT+Run2018A-UL2018_MiniAODv2-v1+MINIAOD_sys_studies_v3.pkl')\n",
    "p1 = plot_utils.openpkl('/work/submit/lavezzo/SUEP/outputs/JetHT+Run2018A-UL2018_MiniAODv2-v1+MINIAOD_original.pkl')\n",
    "p5 = plot_utils.openpkl('/work/submit/lavezzo/SUEP/outputs/JetHT+Run2018A-UL2018_MiniAODv2-v1+MINIAOD_new.pkl')\n",
    "p2 = plot_utils.openpkl('/work/submit/lavezzo/SUEP/outputs/JetHT+Run2018A-UL2018_MiniAODv2-v1+MINIAOD_original_JEC.pkl')\n",
    "p6 = plot_utils.openpkl('/work/submit/lavezzo/SUEP/outputs/JetHT+Run2018A-UL2018_MiniAODv2-v1+MINIAOD_new_JEC.pkl')\n",
    "p3 = plot_utils.openpkl('/work/submit/lavezzo/SUEP/outputs/JetHT+Run2018A-UL2018_MiniAODv2-v1+MINIAOD_original_JEC_newRegions.pkl')\n",
    "\n",
    "# this is running over new data\n",
    "# the latter has the old regions, ht > 1200\n",
    "p4 = plot_utils.openpkl('/work/submit/lavezzo/SUEP/outputs/JetHT+Run2018A-UL2018_MiniAODv2-v1+MINIAOD_feb23_v2.pkl')\n",
    "p7 = plot_utils.openpkl('/work/submit/lavezzo/SUEP/outputs/JetHT+Run2018A-UL2018_MiniAODv2-v1+MINIAOD_new_newNtuples.pkl')"
   ]
  },
  {
   "cell_type": "code",
   "execution_count": 77,
   "id": "7c3620a0-3cb5-4456-90fa-eaab0184d37d",
   "metadata": {},
   "outputs": [],
   "source": [
    "# ran these over old data\n",
    "# original = old make_plots\n",
    "# new = new make_plots\n",
    "sample = 'QCD_HT1500to2000_TuneCP5_PSWeights_13TeV-madgraph-pythia8+RunIISummer20UL18MiniAODv2-106X_upgrade2018_realistic_v16_L1v1-v1+MINIAODSIM'\n",
    "q0 = plot_utils.openpkl('/work/submit/lavezzo/SUEP/outputs/'+sample+'_sys_studies_v3.pkl')\n",
    "#p1 = plot_utils.openpkl('/work/submit/lavezzo/SUEP/outputs/JetHT+Run2018A-UL2018_MiniAODv2-v1+MINIAOD_original.pkl')\n",
    "#p5 = plot_utils.openpkl('/work/submit/lavezzo/SUEP/outputs/JetHT+Run2018A-UL2018_MiniAODv2-v1+MINIAOD_new.pkl')\n",
    "#p2 = plot_utils.openpkl('/work/submit/lavezzo/SUEP/outputs/JetHT+Run2018A-UL2018_MiniAODv2-v1+MINIAOD_original_JEC.pkl')\n",
    "#p6 = plot_utils.openpkl('/work/submit/lavezzo/SUEP/outputs/JetHT+Run2018A-UL2018_MiniAODv2-v1+MINIAOD_new_JEC.pkl')\n",
    "#p3 = plot_utils.openpkl('/work/submit/lavezzo/SUEP/outputs/JetHT+Run2018A-UL2018_MiniAODv2-v1+MINIAOD_original_JEC_newRegions.pkl')\n",
    "\n",
    "# this is running over new data\n",
    "# the latter has the old regions, ht > 1200\n",
    "q4 = plot_utils.openpkl('/work/submit/lavezzo/SUEP/outputs/'+sample+'_feb23_v2.pkl')\n",
    "#p7 = plot_utils.openpkl('/work/submit/lavezzo/SUEP/outputs/JetHT+Run2018A-UL2018_MiniAODv2-v1+MINIAOD_new_newNtuples.pkl')"
   ]
  },
  {
   "cell_type": "code",
   "execution_count": 80,
   "id": "5fcc9ec0-237a-4e00-ab1f-91f08cfaca74",
   "metadata": {},
   "outputs": [
    {
     "name": "stdout",
     "output_type": "stream",
     "text": [
      "1.0000000000000906\n"
     ]
    },
    {
     "data": {
      "text/plain": [
       "(0.5, 1.5)"
      ]
     },
     "execution_count": 80,
     "metadata": {},
     "output_type": "execute_result"
    },
    {
     "data": {
      "image/png": "[encoded data removed]",
      "text/plain": [
       "<Figure size 1332x756 with 2 Axes>"
      ]
     },
     "metadata": {
      "needs_background": "light"
     },
     "output_type": "display_data"
    }
   ],
   "source": [
    "h1 = q4['ht_Cluster70']\n",
    "h2 = q4['ht_JEC_Cluster70']\n",
    "\n",
    "print(h1.sum().value/h2.sum().value)\n",
    "\n",
    "fig, axs = plot_utils.plot_ratio([h1,h2], labels=['HT','HT JEC'])\n",
    "fig.set_size_inches(18.5, 10.5)\n",
    "axs[1].set_ylim(0.5, 1.5)"
   ]
  },
  {
   "cell_type": "code",
   "execution_count": 16,
   "id": "a13db0d9",
   "metadata": {},
   "outputs": [
    {
     "data": {
      "text/plain": [
       "Text(0.5, 0, '# Leptons')"
      ]
     },
     "execution_count": 16,
     "metadata": {},
     "output_type": "execute_result"
    },
    {
     "data": {
      "image/png": "[encoded data removed]",
      "text/plain": [
       "<Figure size 432x288 with 1 Axes>"
      ]
     },
     "metadata": {
      "needs_background": "light"
     },
     "output_type": "display_data"
    }
   ],
   "source": [
    "x = event_vars['n_sel_leps']\n",
    "m = event_vars['n_sel_muons']\n",
    "e = event_vars['n_sel_electrons']\n",
    "#_= plt.hist(x+1, bins=np.linspace(0,50,200), label='total')\n",
    "_= plt.hist(m, bins=np.linspace(0,50,200), label='muons')\n",
    "_= plt.hist(e, bins=np.linspace(0,50,200), label='electrons')\n",
    "plt.yscale('log')\n",
    "plt.legend()\n",
    "plt.xlabel(\"# Leptons\")"
   ]
  },
  {
   "cell_type": "code",
   "execution_count": 35,
   "id": "21bb4aa6",
   "metadata": {},
   "outputs": [
    {
     "name": "stdout",
     "output_type": "stream",
     "text": [
      "64909205.15625\n",
      "64774388.28125\n"
     ]
    },
    {
     "data": {
      "image/png": "[encoded data removed]",
      "text/plain": [
       "<Figure size 432x288 with 1 Axes>"
      ]
     },
     "metadata": {
      "needs_background": "light"
     },
     "output_type": "display_data"
    }
   ],
   "source": [
    "plt.hist(htloose, bins=np.linspace(0,5000,100),  histtype='step', label='loose')\n",
    "plt.hist(httight, bins=np.linspace(0,5000,100), histtype='step', label='tight')\n",
    "plt.yscale('log')\n",
    "plt.legend()\n",
    "print(np.sum(htloose))\n",
    "print(np.sum(httight))"
   ]
  },
  {
   "cell_type": "code",
   "execution_count": null,
   "id": "0733b1fd",
   "metadata": {},
   "outputs": [],
   "source": []
  }
 ],
 "metadata": {
  "kernelspec": {
   "display_name": "SUEP",
   "language": "python",
   "name": "python3"
  },
  "language_info": {
   "codemirror_mode": {
    "name": "ipython",
    "version": 3
   },
   "file_extension": ".py",
   "mimetype": "text/x-python",
   "name": "python",
   "nbconvert_exporter": "python",
   "pygments_lexer": "ipython3",
   "version": "3.9.15"
  }
 },
 "nbformat": 4,
 "nbformat_minor": 5
}
