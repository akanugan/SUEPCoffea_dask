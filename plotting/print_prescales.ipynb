{
 "cells": [
  {
   "cell_type": "code",
   "execution_count": 9,
   "metadata": {},
   "outputs": [],
   "source": [
    "def process_prescales_data(input_file, output_file):\n",
    "    with open(input_file, 'r') as file:\n",
    "        lines = file.readlines()\n",
    "\n",
    "\n",
    "    current_run_data = []\n",
    "    consolidated_data = []\n",
    "\n",
    "\n",
    "    for line in lines:\n",
    "        if line.strip().startswith('+'):\n",
    "            if current_run_data:\n",
    "        \n",
    "                consolidated_data.append(','.join(current_run_data))\n",
    "                current_run_data = []  \n",
    "            continue \n",
    "\n",
    "        parts = line.strip().strip('|').split('|')\n",
    "\n",
    "        parts = [part.strip() for part in parts]\n",
    "\n",
    "  \n",
    "        if parts[0]:  # This means it's a new run line\n",
    "            if current_run_data:\n",
    "              \n",
    "                consolidated_data.append(','.join(current_run_data))\n",
    "                current_run_data = []\n",
    "            \n",
    "            current_run_data = parts[:6]  # Assuming the first 6 columns are fixed\n",
    "\n",
    "\n",
    "        current_run_data.append(parts[-1])  # Use the last part which should be l1bit/prescval\n",
    "\n",
    "\n",
    "    if current_run_data:\n",
    "        consolidated_data.append(','.join(current_run_data))\n",
    "\n",
    "\n",
    "    with open(output_file, 'w') as file:\n",
    "        for line in consolidated_data:\n",
    "            file.write(line + '\\n')\n",
    "\n",
    "\n",
    "input_file = 'prescales_2016.txt'\n",
    "output_file = 'processed_prescales_2016.csv'\n",
    "process_prescales_data(input_file, output_file)"
   ]
  },
  {
   "cell_type": "code",
   "execution_count": 1,
   "metadata": {},
   "outputs": [
    {
     "ename": "IndexError",
     "evalue": "list index out of range",
     "output_type": "error",
     "traceback": [
      "\u001b[0;31m---------------------------------------------------------------------------\u001b[0m",
      "\u001b[0;31mIndexError\u001b[0m                                Traceback (most recent call last)",
      "Cell \u001b[0;32mIn[1], line 26\u001b[0m\n\u001b[1;32m     23\u001b[0m output_pickle \u001b[38;5;241m=\u001b[39m \u001b[38;5;124m'\u001b[39m\u001b[38;5;124ml1_configurations_2017.pickle\u001b[39m\u001b[38;5;124m'\u001b[39m\n\u001b[1;32m     25\u001b[0m \u001b[38;5;66;03m# Extract configurations and save to pickle\u001b[39;00m\n\u001b[0;32m---> 26\u001b[0m l1_configurations \u001b[38;5;241m=\u001b[39m \u001b[43mextract_l1_configurations\u001b[49m\u001b[43m(\u001b[49m\u001b[43minput_file\u001b[49m\u001b[43m)\u001b[49m\n\u001b[1;32m     27\u001b[0m \u001b[38;5;28;01mwith\u001b[39;00m \u001b[38;5;28mopen\u001b[39m(output_pickle, \u001b[38;5;124m'\u001b[39m\u001b[38;5;124mwb\u001b[39m\u001b[38;5;124m'\u001b[39m) \u001b[38;5;28;01mas\u001b[39;00m handle:\n\u001b[1;32m     28\u001b[0m     pickle\u001b[38;5;241m.\u001b[39mdump(l1_configurations, handle, protocol\u001b[38;5;241m=\u001b[39mpickle\u001b[38;5;241m.\u001b[39mHIGHEST_PROTOCOL)\n",
      "Cell \u001b[0;32mIn[1], line 9\u001b[0m, in \u001b[0;36mextract_l1_configurations\u001b[0;34m(input_file)\u001b[0m\n\u001b[1;32m      7\u001b[0m parts \u001b[38;5;241m=\u001b[39m line\u001b[38;5;241m.\u001b[39mstrip()\u001b[38;5;241m.\u001b[39msplit(\u001b[38;5;124m'\u001b[39m\u001b[38;5;124m,\u001b[39m\u001b[38;5;124m'\u001b[39m)\n\u001b[1;32m      8\u001b[0m run_number \u001b[38;5;241m=\u001b[39m parts[\u001b[38;5;241m0\u001b[39m]\n\u001b[0;32m----> 9\u001b[0m l1_config \u001b[38;5;241m=\u001b[39m \u001b[38;5;124m'\u001b[39m\u001b[38;5;124mOR \u001b[39m\u001b[38;5;124m'\u001b[39m \u001b[38;5;241m+\u001b[39m \u001b[43mline\u001b[49m\u001b[38;5;241;43m.\u001b[39;49m\u001b[43msplit\u001b[49m\u001b[43m(\u001b[49m\u001b[38;5;124;43m'\u001b[39;49m\u001b[38;5;124;43mOR \u001b[39;49m\u001b[38;5;124;43m'\u001b[39;49m\u001b[43m)\u001b[49m\u001b[43m[\u001b[49m\u001b[38;5;241;43m1\u001b[39;49m\u001b[43m]\u001b[49m\u001b[38;5;241m.\u001b[39mstrip()\n\u001b[1;32m     11\u001b[0m \u001b[38;5;28;01mif\u001b[39;00m l1_config \u001b[38;5;129;01mnot\u001b[39;00m \u001b[38;5;129;01min\u001b[39;00m l1_dict:\n\u001b[1;32m     12\u001b[0m     l1_dict[l1_config] \u001b[38;5;241m=\u001b[39m \u001b[38;5;28mset\u001b[39m()\n",
      "\u001b[0;31mIndexError\u001b[0m: list index out of range"
     ]
    }
   ],
   "source": [
    "import pickle\n",
    "\n",
    "def extract_l1_configurations(input_file):\n",
    "    l1_dict = {}\n",
    "    with open(input_file, 'r') as file:\n",
    "        for line in file:\n",
    "            parts = line.strip().split(',')\n",
    "            run_number = parts[0]\n",
    "            l1_config = 'OR ' + line.split('OR ')[1].strip()\n",
    "\n",
    "            if l1_config not in l1_dict:\n",
    "                l1_dict[l1_config] = set()\n",
    "            l1_dict[l1_config].add(run_number)\n",
    "\n",
    "    # Convert sets to lists\n",
    "    for key in l1_dict:\n",
    "        l1_dict[key] = list(l1_dict[key])\n",
    "\n",
    "    return l1_dict\n",
    "\n",
    "# File paths\n",
    "input_file = 'processed_prescales_2017.csv'\n",
    "output_pickle = 'l1_configurations_2017.pickle'\n",
    "\n",
    "\n",
    "l1_configurations = extract_l1_configurations(input_file)\n",
    "with open(output_pickle, 'wb') as handle:\n",
    "    pickle.dump(l1_configurations, handle, protocol=pickle.HIGHEST_PROTOCOL)"
   ]
  },
  {
   "cell_type": "code",
   "execution_count": 16,
   "metadata": {},
   "outputs": [
    {
     "name": "stdout",
     "output_type": "stream",
     "text": [
      "Dictionary saved to l1_2017_patterns.pickle\n"
     ]
    }
   ],
   "source": [
    "import pickle\n",
    "\n",
    "\n",
    "file_path = 'processed_prescales_2017.csv'\n",
    "\n",
    "or_patterns = {}\n",
    "\n",
    "\n",
    "with open(file_path, 'r') as file:\n",
    "    for line in file:\n",
    "        # Skip lines containing 'DST_HT410_PFScouting_v9/0'\n",
    "        if 'DST_HT410_PFScouting_v9/0' in line:\n",
    "            continue\n",
    "        \n",
    "        parts = line.strip().split(',')\n",
    "        run_number = parts[0]\n",
    "        \n",
    "      \n",
    "        or_index = line.find('OR')\n",
    "        if or_index != -1:\n",
    "            pattern = line[or_index + 3:].strip()  \n",
    "            \n",
    "\n",
    "            if pattern not in or_patterns:\n",
    "                or_patterns[pattern] = []\n",
    "            or_patterns[pattern].append(run_number)\n",
    "\n",
    "output_pickle = 'l1_2017_patterns.pickle'\n",
    "with open(output_pickle, 'wb') as handle:\n",
    "    pickle.dump(or_patterns, handle, protocol=pickle.HIGHEST_PROTOCOL)\n",
    "\n",
    "print(f\"Dictionary saved to {output_pickle}\")"
   ]
  },
  {
   "cell_type": "code",
   "execution_count": 15,
   "metadata": {},
   "outputs": [
    {
     "name": "stdout",
     "output_type": "stream",
     "text": [
      "Dictionary saved to l1_configurations_2017.pickle\n"
     ]
    }
   ],
   "source": [
    "import pickle\n",
    "\n",
    "# Define the path to your CSV file\n",
    "file_path = 'processed_prescales_2017_filtered.csv'\n",
    "\n",
    "# Initialize a dictionary to hold all L1 configurations with a value of '1.00' and their corresponding run numbers\n",
    "l1_config_runs = {}\n",
    "\n",
    "# Open the file and process each line\n",
    "with open(file_path, 'r') as file:\n",
    "    for line in file:\n",
    "        # Skip lines containing 'DST_HT410_PFScouting_v9/0'\n",
    "        if 'DST_HT410_PFScouting_v9/0' in line:\n",
    "            continue\n",
    "        \n",
    "        parts = line.strip().split(',')\n",
    "        run_number = parts[0]\n",
    "        \n",
    "        # Process each part to find L1_* entries with '/1.00'\n",
    "        for part in parts:\n",
    "            if 'L1_' in part and '/1.00' in part:\n",
    "                if part not in l1_config_runs:\n",
    "                    l1_config_runs[part] = set()  # Use a set to ensure uniqueness\n",
    "                l1_config_runs[part].add(run_number)\n",
    "\n",
    "# Convert sets to lists for easier handling later\n",
    "for key in l1_config_runs:\n",
    "    l1_config_runs[key] = sorted(list(l1_config_runs[key]), key=int)\n",
    "\n",
    "# Save the dictionary to a file using pickle\n",
    "output_pickle = 'l1_configurations_2017.pickle'\n",
    "with open(output_pickle, 'wb') as handle:\n",
    "    pickle.dump(l1_config_runs, handle, protocol=pickle.HIGHEST_PROTOCOL)\n",
    "\n",
    "print(f\"Dictionary saved to {output_pickle}\")"
   ]
  },
  {
   "cell_type": "code",
   "execution_count": null,
   "metadata": {},
   "outputs": [],
   "source": []
  }
 ],
 "metadata": {
  "kernelspec": {
   "display_name": "SUEP",
   "language": "python",
   "name": "suep"
  },
  "language_info": {
   "codemirror_mode": {
    "name": "ipython",
    "version": 3
   },
   "file_extension": ".py",
   "mimetype": "text/x-python",
   "name": "python",
   "nbconvert_exporter": "python",
   "pygments_lexer": "ipython3",
   "version": "3.9.15"
  }
 },
 "nbformat": 4,
 "nbformat_minor": 2
}
