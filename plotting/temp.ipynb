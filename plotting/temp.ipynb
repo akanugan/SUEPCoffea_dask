{
 "cells": [
  {
   "cell_type": "code",
   "execution_count": 15,
   "metadata": {},
   "outputs": [
    {
     "name": "stdout",
     "output_type": "stream",
     "text": [
      "477\n",
      "477\n"
     ]
    }
   ],
   "source": [
    "def get_run_and_recorded(filename):\n",
    "    run_list = []\n",
    "    intLumi_list = []\n",
    "    with open(filename, 'r') as file:\n",
    "        # Skip the first line (header) if needed\n",
    "        next(file)\n",
    "        for line in file:\n",
    "            # Split the line by comma\n",
    "            parts = line.strip().split(',')\n",
    "            # Extract run and recorded values\n",
    "            run = int(parts[0].split(':')[0])\n",
    "            recorded = float(parts[-1])\n",
    "            # Append to the list\n",
    "            run_list.append((run))\n",
    "            intLumi_list.append((recorded))\n",
    "    return run_list, intLumi_list\n",
    "\n",
    "# Example usage:\n",
    "filename = \"out_leagcy18_DST_HT410.txt\"\n",
    "runs, intLumis = get_run_and_recorded(filename)\n",
    "print(len(runs))\n",
    "print(len(intLumis))"
   ]
  },
  {
   "cell_type": "code",
   "execution_count": null,
   "metadata": {},
   "outputs": [],
   "source": []
  }
 ],
 "metadata": {
  "kernelspec": {
   "display_name": "SUEP",
   "language": "python",
   "name": "python3"
  },
  "language_info": {
   "codemirror_mode": {
    "name": "ipython",
    "version": 3
   },
   "file_extension": ".py",
   "mimetype": "text/x-python",
   "name": "python",
   "nbconvert_exporter": "python",
   "pygments_lexer": "ipython3",
   "version": "3.9.15"
  }
 },
 "nbformat": 4,
 "nbformat_minor": 2
}
