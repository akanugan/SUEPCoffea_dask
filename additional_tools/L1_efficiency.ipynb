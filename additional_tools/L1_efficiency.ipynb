{
 "cells": [
  {
   "cell_type": "code",
   "execution_count": 1,
   "id": "0480ba98-51d2-46ed-ba94-0f95d68c9153",
   "metadata": {},
   "outputs": [],
   "source": [
    "#Basic imports\n",
    "import os\n",
    "import uproot\n",
    "import numpy as np\n",
    "import awkward as ak\n",
    "from tqdm import tqdm\n",
    "import matplotlib.pyplot as plt"
   ]
  },
  {
   "cell_type": "code",
   "execution_count": 2,
   "id": "222b1222-7249-488f-b4f8-0dfb1deb6682",
   "metadata": {},
   "outputs": [],
   "source": [
    "#Run through the ROOT files and return Info on the triggers\n",
    "def create_dict(filelist):\n",
    "    trigger_dict = {}\n",
    "    for i, filename in enumerate(tqdm(filelist)):\n",
    "        try:\n",
    "            file = uproot.open(filename)\n",
    "            for variable in file.keys():\n",
    "                if 'L1_' not in variable: continue #Look for L1 triggers\n",
    "                if '_L1_' in variable: continue    #Remove variables with L1 in the name but aren't triggers\n",
    "                x = np.array(file[variable])\n",
    "                x = np.multiply(x, 1)\n",
    "                if i == 0:\n",
    "                    trigger_dict[variable] = x\n",
    "                else:\n",
    "                    trigger_dict[variable] = np.append(trigger_dict[variable],x)\n",
    "            file.close()\n",
    "        except:\n",
    "            print('File failed:{}'.format(filename))#Tell user which file is causing issues\n",
    "    return trigger_dict"
   ]
  },
  {
   "cell_type": "code",
   "execution_count": 3,
   "id": "62f1582e-32bc-41b2-9dda-b49653fdb2f7",
   "metadata": {},
   "outputs": [],
   "source": [
    "decay = 'hadronic'\n",
    "# files_125 = os.popen('xrdfs root://xrootd.cmsaf.mit.edu ls /store/user/paus/nanosu/A01/SUEP-m125-{}+RunIIAutumn18-private+MINIAODSIM'.format(decay)).readlines()\n",
    "# filelist_125 =  ['root://xrootd.cmsaf.mit.edu/{}:Events'.format(i.rstrip()) for i in files_125]\n",
    "# files_400 = os.popen('xrdfs root://xrootd.cmsaf.mit.edu ls /store/user/paus/nanosu/A01/SUEP-m400-{}+RunIIAutumn18-private+MINIAODSIM'.format(decay)).readlines()\n",
    "# filelist_400 =  ['root://xrootd.cmsaf.mit.edu/{}:Events'.format(i.rstrip()) for i in files_400]\n",
    "# files_750 = os.popen('xrdfs root://xrootd.cmsaf.mit.edu ls /store/user/paus/nanosu/A01/SUEP-m750-{}+RunIIAutumn18-private+MINIAODSIM'.format(decay)).readlines()\n",
    "# filelist_750 =  ['root://xrootd.cmsaf.mit.edu/{}:Events'.format(i.rstrip()) for i in files_750]\n",
    "# files_1000 = os.popen('xrdfs root://xrootd.cmsaf.mit.edu ls /store/user/paus/nanosu/A01/SUEP-m1000-{}+RunIIAutumn18-private+MINIAODSIM'.format(decay)).readlines()\n",
    "# filelist_1000 =  ['root://xrootd.cmsaf.mit.edu/{}:Events'.format(i.rstrip()) for i in files_1000]\n",
    "\n",
    "\n",
    "files_200 = os.popen('xrdfs root://xrootd.cmsaf.mit.edu ls /store/user/bmaier/suep/official_private/2018/GluGluToSUEP_HT400_T0p35_mS200.000_mPhi1.400_T0.350_mode{}_TuneCP5_13TeV/'.format(decay)).readlines()\n",
    "filelist_200 =  ['root://xrootd.cmsaf.mit.edu/{}:Events'.format(i.rstrip()) for i in files_200]\n",
    "files_400 = os.popen('xrdfs root://xrootd.cmsaf.mit.edu ls /store/user/bmaier/suep/official_private/2018/GluGluToSUEP_HT400_T0p35_mS400.000_mPhi1.400_T0.350_mode{}_TuneCP5_13TeV/'.format(decay)).readlines()\n",
    "filelist_400 =  ['root://xrootd.cmsaf.mit.edu/{}:Events'.format(i.rstrip()) for i in files_400]\n",
    "files_700 = os.popen('xrdfs root://xrootd.cmsaf.mit.edu ls /store/user/bmaier/suep/official_private/2018/GluGluToSUEP_HT400_T0p35_mS700.000_mPhi1.400_T0.350_mode{}_TuneCP5_13TeV/'.format(decay)).readlines()\n",
    "filelist_700 =  ['root://xrootd.cmsaf.mit.edu/{}:Events'.format(i.rstrip()) for i in files_700]\n",
    "files_1000 = os.popen('xrdfs root://xrootd.cmsaf.mit.edu ls /store/user/bmaier/suep/official_private/2018/GluGluToSUEP_HT400_T0p35_mS1000.000_mPhi1.400_T0.350_mode{}_TuneCP5_13TeV/'.format(decay)).readlines()\n",
    "filelist_1000 =  ['root://xrootd.cmsaf.mit.edu/{}:Events'.format(i.rstrip()) for i in files_1000]"
   ]
  },
  {
   "cell_type": "code",
   "execution_count": 4,
   "id": "bea26fa4-57ed-4c8e-b8ea-d75dc2ca0d05",
   "metadata": {},
   "outputs": [
    {
     "name": "stdout",
     "output_type": "stream",
     "text": [
      "Processing m=200 GeV for the hadronic decay mode:\n"
     ]
    },
    {
     "name": "stderr",
     "output_type": "stream",
     "text": [
      "  1%|          | 1/120 [00:04<08:21,  4.21s/it]"
     ]
    },
    {
     "name": "stdout",
     "output_type": "stream",
     "text": [
      "File failed:root://xrootd.cmsaf.mit.edu//store/user/bmaier/suep/official_private/2018/GluGluToSUEP_HT400_T0p35_mS200.000_mPhi1.400_T0.350_modehadronic_TuneCP5_13TeV//Scouting_GluGluToSUEP_HT400_T0p35_mS200.000_mPhi1.400_T0.350_modehadronic_TuneCP5_13TeV_1028467.root:Events\n"
     ]
    },
    {
     "name": "stderr",
     "output_type": "stream",
     "text": [
      "  2%|▏         | 2/120 [00:06<05:41,  2.89s/it]"
     ]
    },
    {
     "name": "stdout",
     "output_type": "stream",
     "text": [
      "File failed:root://xrootd.cmsaf.mit.edu//store/user/bmaier/suep/official_private/2018/GluGluToSUEP_HT400_T0p35_mS200.000_mPhi1.400_T0.350_modehadronic_TuneCP5_13TeV//Scouting_GluGluToSUEP_HT400_T0p35_mS200.000_mPhi1.400_T0.350_modehadronic_TuneCP5_13TeV_1068237.root:Events\n"
     ]
    },
    {
     "name": "stderr",
     "output_type": "stream",
     "text": [
      "  2%|▎         | 3/120 [00:07<04:22,  2.25s/it]"
     ]
    },
    {
     "name": "stdout",
     "output_type": "stream",
     "text": [
      "File failed:root://xrootd.cmsaf.mit.edu//store/user/bmaier/suep/official_private/2018/GluGluToSUEP_HT400_T0p35_mS200.000_mPhi1.400_T0.350_modehadronic_TuneCP5_13TeV//Scouting_GluGluToSUEP_HT400_T0p35_mS200.000_mPhi1.400_T0.350_modehadronic_TuneCP5_13TeV_1103846.root:Events\n"
     ]
    },
    {
     "name": "stderr",
     "output_type": "stream",
     "text": [
      "  3%|▎         | 4/120 [00:09<03:57,  2.05s/it]"
     ]
    },
    {
     "name": "stdout",
     "output_type": "stream",
     "text": [
      "File failed:root://xrootd.cmsaf.mit.edu//store/user/bmaier/suep/official_private/2018/GluGluToSUEP_HT400_T0p35_mS200.000_mPhi1.400_T0.350_modehadronic_TuneCP5_13TeV//Scouting_GluGluToSUEP_HT400_T0p35_mS200.000_mPhi1.400_T0.350_modehadronic_TuneCP5_13TeV_1192140.root:Events\n"
     ]
    },
    {
     "name": "stderr",
     "output_type": "stream",
     "text": [
      "  4%|▍         | 5/120 [00:11<03:55,  2.05s/it]"
     ]
    },
    {
     "name": "stdout",
     "output_type": "stream",
     "text": [
      "File failed:root://xrootd.cmsaf.mit.edu//store/user/bmaier/suep/official_private/2018/GluGluToSUEP_HT400_T0p35_mS200.000_mPhi1.400_T0.350_modehadronic_TuneCP5_13TeV//Scouting_GluGluToSUEP_HT400_T0p35_mS200.000_mPhi1.400_T0.350_modehadronic_TuneCP5_13TeV_1207011.root:Events\n"
     ]
    },
    {
     "name": "stderr",
     "output_type": "stream",
     "text": [
      "  5%|▌         | 6/120 [00:13<03:58,  2.09s/it]"
     ]
    },
    {
     "name": "stdout",
     "output_type": "stream",
     "text": [
      "File failed:root://xrootd.cmsaf.mit.edu//store/user/bmaier/suep/official_private/2018/GluGluToSUEP_HT400_T0p35_mS200.000_mPhi1.400_T0.350_modehadronic_TuneCP5_13TeV//Scouting_GluGluToSUEP_HT400_T0p35_mS200.000_mPhi1.400_T0.350_modehadronic_TuneCP5_13TeV_1232910.root:Events\n"
     ]
    },
    {
     "name": "stderr",
     "output_type": "stream",
     "text": [
      "  6%|▌         | 7/120 [00:16<04:06,  2.19s/it]"
     ]
    },
    {
     "name": "stdout",
     "output_type": "stream",
     "text": [
      "File failed:root://xrootd.cmsaf.mit.edu//store/user/bmaier/suep/official_private/2018/GluGluToSUEP_HT400_T0p35_mS200.000_mPhi1.400_T0.350_modehadronic_TuneCP5_13TeV//Scouting_GluGluToSUEP_HT400_T0p35_mS200.000_mPhi1.400_T0.350_modehadronic_TuneCP5_13TeV_1281105.root:Events\n"
     ]
    },
    {
     "name": "stderr",
     "output_type": "stream",
     "text": [
      "  7%|▋         | 8/120 [00:18<04:10,  2.24s/it]"
     ]
    },
    {
     "name": "stdout",
     "output_type": "stream",
     "text": [
      "File failed:root://xrootd.cmsaf.mit.edu//store/user/bmaier/suep/official_private/2018/GluGluToSUEP_HT400_T0p35_mS200.000_mPhi1.400_T0.350_modehadronic_TuneCP5_13TeV//Scouting_GluGluToSUEP_HT400_T0p35_mS200.000_mPhi1.400_T0.350_modehadronic_TuneCP5_13TeV_1293402.root:Events\n"
     ]
    },
    {
     "name": "stderr",
     "output_type": "stream",
     "text": [
      "  8%|▊         | 9/120 [00:20<04:04,  2.20s/it]"
     ]
    },
    {
     "name": "stdout",
     "output_type": "stream",
     "text": [
      "File failed:root://xrootd.cmsaf.mit.edu//store/user/bmaier/suep/official_private/2018/GluGluToSUEP_HT400_T0p35_mS200.000_mPhi1.400_T0.350_modehadronic_TuneCP5_13TeV//Scouting_GluGluToSUEP_HT400_T0p35_mS200.000_mPhi1.400_T0.350_modehadronic_TuneCP5_13TeV_1295340.root:Events\n"
     ]
    },
    {
     "name": "stderr",
     "output_type": "stream",
     "text": [
      "  8%|▊         | 10/120 [00:22<03:44,  2.04s/it]"
     ]
    },
    {
     "name": "stdout",
     "output_type": "stream",
     "text": [
      "File failed:root://xrootd.cmsaf.mit.edu//store/user/bmaier/suep/official_private/2018/GluGluToSUEP_HT400_T0p35_mS200.000_mPhi1.400_T0.350_modehadronic_TuneCP5_13TeV//Scouting_GluGluToSUEP_HT400_T0p35_mS200.000_mPhi1.400_T0.350_modehadronic_TuneCP5_13TeV_1338901.root:Events\n",
      "File failed:root://xrootd.cmsaf.mit.edu//store/user/bmaier/suep/official_private/2018/GluGluToSUEP_HT400_T0p35_mS200.000_mPhi1.400_T0.350_modehadronic_TuneCP5_13TeV//Scouting_GluGluToSUEP_HT400_T0p35_mS200.000_mPhi1.400_T0.350_modehadronic_TuneCP5_13TeV_1360401.root:Events\n"
     ]
    },
    {
     "name": "stderr",
     "output_type": "stream",
     "text": [
      " 10%|█         | 12/120 [00:23<02:41,  1.50s/it]"
     ]
    },
    {
     "name": "stdout",
     "output_type": "stream",
     "text": [
      "File failed:root://xrootd.cmsaf.mit.edu//store/user/bmaier/suep/official_private/2018/GluGluToSUEP_HT400_T0p35_mS200.000_mPhi1.400_T0.350_modehadronic_TuneCP5_13TeV//Scouting_GluGluToSUEP_HT400_T0p35_mS200.000_mPhi1.400_T0.350_modehadronic_TuneCP5_13TeV_1396235.root:Events\n"
     ]
    },
    {
     "name": "stderr",
     "output_type": "stream",
     "text": [
      " 12%|█▏        | 14/120 [00:25<02:09,  1.22s/it]"
     ]
    },
    {
     "name": "stdout",
     "output_type": "stream",
     "text": [
      "File failed:root://xrootd.cmsaf.mit.edu//store/user/bmaier/suep/official_private/2018/GluGluToSUEP_HT400_T0p35_mS200.000_mPhi1.400_T0.350_modehadronic_TuneCP5_13TeV//Scouting_GluGluToSUEP_HT400_T0p35_mS200.000_mPhi1.400_T0.350_modehadronic_TuneCP5_13TeV_1424045.root:Events\n",
      "File failed:root://xrootd.cmsaf.mit.edu//store/user/bmaier/suep/official_private/2018/GluGluToSUEP_HT400_T0p35_mS200.000_mPhi1.400_T0.350_modehadronic_TuneCP5_13TeV//Scouting_GluGluToSUEP_HT400_T0p35_mS200.000_mPhi1.400_T0.350_modehadronic_TuneCP5_13TeV_1436846.root:Events\n"
     ]
    },
    {
     "name": "stderr",
     "output_type": "stream",
     "text": [
      " 12%|█▎        | 15/120 [00:26<01:36,  1.09it/s]"
     ]
    },
    {
     "name": "stdout",
     "output_type": "stream",
     "text": [
      "File failed:root://xrootd.cmsaf.mit.edu//store/user/bmaier/suep/official_private/2018/GluGluToSUEP_HT400_T0p35_mS200.000_mPhi1.400_T0.350_modehadronic_TuneCP5_13TeV//Scouting_GluGluToSUEP_HT400_T0p35_mS200.000_mPhi1.400_T0.350_modehadronic_TuneCP5_13TeV_1510251.root:Events\n"
     ]
    },
    {
     "name": "stderr",
     "output_type": "stream",
     "text": [
      " 14%|█▍        | 17/120 [00:28<01:34,  1.09it/s]"
     ]
    },
    {
     "name": "stdout",
     "output_type": "stream",
     "text": [
      "File failed:root://xrootd.cmsaf.mit.edu//store/user/bmaier/suep/official_private/2018/GluGluToSUEP_HT400_T0p35_mS200.000_mPhi1.400_T0.350_modehadronic_TuneCP5_13TeV//Scouting_GluGluToSUEP_HT400_T0p35_mS200.000_mPhi1.400_T0.350_modehadronic_TuneCP5_13TeV_1550474.root:Events\n",
      "File failed:root://xrootd.cmsaf.mit.edu//store/user/bmaier/suep/official_private/2018/GluGluToSUEP_HT400_T0p35_mS200.000_mPhi1.400_T0.350_modehadronic_TuneCP5_13TeV//Scouting_GluGluToSUEP_HT400_T0p35_mS200.000_mPhi1.400_T0.350_modehadronic_TuneCP5_13TeV_155249.root:Events\n",
      "File failed:root://xrootd.cmsaf.mit.edu//store/user/bmaier/suep/official_private/2018/GluGluToSUEP_HT400_T0p35_mS200.000_mPhi1.400_T0.350_modehadronic_TuneCP5_13TeV//Scouting_GluGluToSUEP_HT400_T0p35_mS200.000_mPhi1.400_T0.350_modehadronic_TuneCP5_13TeV_1561593.root:Events\n"
     ]
    },
    {
     "name": "stderr",
     "output_type": "stream",
     "text": [
      " 17%|█▋        | 20/120 [00:28<00:48,  2.06it/s]"
     ]
    },
    {
     "name": "stdout",
     "output_type": "stream",
     "text": [
      "File failed:root://xrootd.cmsaf.mit.edu//store/user/bmaier/suep/official_private/2018/GluGluToSUEP_HT400_T0p35_mS200.000_mPhi1.400_T0.350_modehadronic_TuneCP5_13TeV//Scouting_GluGluToSUEP_HT400_T0p35_mS200.000_mPhi1.400_T0.350_modehadronic_TuneCP5_13TeV_1561917.root:Events\n",
      "File failed:root://xrootd.cmsaf.mit.edu//store/user/bmaier/suep/official_private/2018/GluGluToSUEP_HT400_T0p35_mS200.000_mPhi1.400_T0.350_modehadronic_TuneCP5_13TeV//Scouting_GluGluToSUEP_HT400_T0p35_mS200.000_mPhi1.400_T0.350_modehadronic_TuneCP5_13TeV_1591202.root:Events\n"
     ]
    },
    {
     "name": "stderr",
     "output_type": "stream",
     "text": [
      " 18%|█▊        | 21/120 [00:28<00:39,  2.52it/s]"
     ]
    },
    {
     "name": "stdout",
     "output_type": "stream",
     "text": [
      "File failed:root://xrootd.cmsaf.mit.edu//store/user/bmaier/suep/official_private/2018/GluGluToSUEP_HT400_T0p35_mS200.000_mPhi1.400_T0.350_modehadronic_TuneCP5_13TeV//Scouting_GluGluToSUEP_HT400_T0p35_mS200.000_mPhi1.400_T0.350_modehadronic_TuneCP5_13TeV_168426.root:Events\n",
      "File failed:root://xrootd.cmsaf.mit.edu//store/user/bmaier/suep/official_private/2018/GluGluToSUEP_HT400_T0p35_mS200.000_mPhi1.400_T0.350_modehadronic_TuneCP5_13TeV//Scouting_GluGluToSUEP_HT400_T0p35_mS200.000_mPhi1.400_T0.350_modehadronic_TuneCP5_13TeV_1686344.root:Events\n"
     ]
    },
    {
     "name": "stderr",
     "output_type": "stream",
     "text": [
      " 21%|██        | 25/120 [00:31<00:46,  2.06it/s]"
     ]
    },
    {
     "name": "stdout",
     "output_type": "stream",
     "text": [
      "File failed:root://xrootd.cmsaf.mit.edu//store/user/bmaier/suep/official_private/2018/GluGluToSUEP_HT400_T0p35_mS200.000_mPhi1.400_T0.350_modehadronic_TuneCP5_13TeV//Scouting_GluGluToSUEP_HT400_T0p35_mS200.000_mPhi1.400_T0.350_modehadronic_TuneCP5_13TeV_1721889.root:Events\n",
      "File failed:root://xrootd.cmsaf.mit.edu//store/user/bmaier/suep/official_private/2018/GluGluToSUEP_HT400_T0p35_mS200.000_mPhi1.400_T0.350_modehadronic_TuneCP5_13TeV//Scouting_GluGluToSUEP_HT400_T0p35_mS200.000_mPhi1.400_T0.350_modehadronic_TuneCP5_13TeV_1762877.root:Events\n",
      "File failed:root://xrootd.cmsaf.mit.edu//store/user/bmaier/suep/official_private/2018/GluGluToSUEP_HT400_T0p35_mS200.000_mPhi1.400_T0.350_modehadronic_TuneCP5_13TeV//Scouting_GluGluToSUEP_HT400_T0p35_mS200.000_mPhi1.400_T0.350_modehadronic_TuneCP5_13TeV_1840263.root:Events\n"
     ]
    },
    {
     "name": "stderr",
     "output_type": "stream",
     "text": [
      " 23%|██▎       | 28/120 [00:31<00:26,  3.53it/s]"
     ]
    },
    {
     "name": "stdout",
     "output_type": "stream",
     "text": [
      "File failed:root://xrootd.cmsaf.mit.edu//store/user/bmaier/suep/official_private/2018/GluGluToSUEP_HT400_T0p35_mS200.000_mPhi1.400_T0.350_modehadronic_TuneCP5_13TeV//Scouting_GluGluToSUEP_HT400_T0p35_mS200.000_mPhi1.400_T0.350_modehadronic_TuneCP5_13TeV_1906563.root:Events\n",
      "File failed:root://xrootd.cmsaf.mit.edu//store/user/bmaier/suep/official_private/2018/GluGluToSUEP_HT400_T0p35_mS200.000_mPhi1.400_T0.350_modehadronic_TuneCP5_13TeV//Scouting_GluGluToSUEP_HT400_T0p35_mS200.000_mPhi1.400_T0.350_modehadronic_TuneCP5_13TeV_1935175.root:Events\n",
      "File failed:root://xrootd.cmsaf.mit.edu//store/user/bmaier/suep/official_private/2018/GluGluToSUEP_HT400_T0p35_mS200.000_mPhi1.400_T0.350_modehadronic_TuneCP5_13TeV//Scouting_GluGluToSUEP_HT400_T0p35_mS200.000_mPhi1.400_T0.350_modehadronic_TuneCP5_13TeV_200406.root:Events\n",
      "File failed:root://xrootd.cmsaf.mit.edu//store/user/bmaier/suep/official_private/2018/GluGluToSUEP_HT400_T0p35_mS200.000_mPhi1.400_T0.350_modehadronic_TuneCP5_13TeV//Scouting_GluGluToSUEP_HT400_T0p35_mS200.000_mPhi1.400_T0.350_modehadronic_TuneCP5_13TeV_2019605.root:Events\n"
     ]
    },
    {
     "name": "stderr",
     "output_type": "stream",
     "text": [
      " 25%|██▌       | 30/120 [00:32<00:23,  3.77it/s]"
     ]
    },
    {
     "name": "stdout",
     "output_type": "stream",
     "text": [
      "File failed:root://xrootd.cmsaf.mit.edu//store/user/bmaier/suep/official_private/2018/GluGluToSUEP_HT400_T0p35_mS200.000_mPhi1.400_T0.350_modehadronic_TuneCP5_13TeV//Scouting_GluGluToSUEP_HT400_T0p35_mS200.000_mPhi1.400_T0.350_modehadronic_TuneCP5_13TeV_2024733.root:Events\n"
     ]
    },
    {
     "name": "stderr",
     "output_type": "stream",
     "text": [
      " 27%|██▋       | 32/120 [00:34<00:43,  2.03it/s]"
     ]
    },
    {
     "name": "stdout",
     "output_type": "stream",
     "text": [
      "File failed:root://xrootd.cmsaf.mit.edu//store/user/bmaier/suep/official_private/2018/GluGluToSUEP_HT400_T0p35_mS200.000_mPhi1.400_T0.350_modehadronic_TuneCP5_13TeV//Scouting_GluGluToSUEP_HT400_T0p35_mS200.000_mPhi1.400_T0.350_modehadronic_TuneCP5_13TeV_2136025.root:Events\n",
      "File failed:root://xrootd.cmsaf.mit.edu//store/user/bmaier/suep/official_private/2018/GluGluToSUEP_HT400_T0p35_mS200.000_mPhi1.400_T0.350_modehadronic_TuneCP5_13TeV//Scouting_GluGluToSUEP_HT400_T0p35_mS200.000_mPhi1.400_T0.350_modehadronic_TuneCP5_13TeV_2229247.root:Events\n"
     ]
    },
    {
     "name": "stderr",
     "output_type": "stream",
     "text": [
      " 28%|██▊       | 33/120 [00:34<00:35,  2.48it/s]"
     ]
    },
    {
     "name": "stdout",
     "output_type": "stream",
     "text": [
      "File failed:root://xrootd.cmsaf.mit.edu//store/user/bmaier/suep/official_private/2018/GluGluToSUEP_HT400_T0p35_mS200.000_mPhi1.400_T0.350_modehadronic_TuneCP5_13TeV//Scouting_GluGluToSUEP_HT400_T0p35_mS200.000_mPhi1.400_T0.350_modehadronic_TuneCP5_13TeV_2271392.root:Events\n"
     ]
    },
    {
     "name": "stderr",
     "output_type": "stream",
     "text": [
      " 28%|██▊       | 34/120 [00:35<00:56,  1.53it/s]"
     ]
    },
    {
     "name": "stdout",
     "output_type": "stream",
     "text": [
      "File failed:root://xrootd.cmsaf.mit.edu//store/user/bmaier/suep/official_private/2018/GluGluToSUEP_HT400_T0p35_mS200.000_mPhi1.400_T0.350_modehadronic_TuneCP5_13TeV//Scouting_GluGluToSUEP_HT400_T0p35_mS200.000_mPhi1.400_T0.350_modehadronic_TuneCP5_13TeV_2290736.root:Events\n",
      "File failed:root://xrootd.cmsaf.mit.edu//store/user/bmaier/suep/official_private/2018/GluGluToSUEP_HT400_T0p35_mS200.000_mPhi1.400_T0.350_modehadronic_TuneCP5_13TeV//Scouting_GluGluToSUEP_HT400_T0p35_mS200.000_mPhi1.400_T0.350_modehadronic_TuneCP5_13TeV_2330427.root:Events\n"
     ]
    },
    {
     "name": "stderr",
     "output_type": "stream",
     "text": [
      " 32%|███▏      | 38/120 [00:36<00:28,  2.92it/s]"
     ]
    },
    {
     "name": "stdout",
     "output_type": "stream",
     "text": [
      "File failed:root://xrootd.cmsaf.mit.edu//store/user/bmaier/suep/official_private/2018/GluGluToSUEP_HT400_T0p35_mS200.000_mPhi1.400_T0.350_modehadronic_TuneCP5_13TeV//Scouting_GluGluToSUEP_HT400_T0p35_mS200.000_mPhi1.400_T0.350_modehadronic_TuneCP5_13TeV_2347686.root:Events\n",
      "File failed:root://xrootd.cmsaf.mit.edu//store/user/bmaier/suep/official_private/2018/GluGluToSUEP_HT400_T0p35_mS200.000_mPhi1.400_T0.350_modehadronic_TuneCP5_13TeV//Scouting_GluGluToSUEP_HT400_T0p35_mS200.000_mPhi1.400_T0.350_modehadronic_TuneCP5_13TeV_2356965.root:Events\n",
      "File failed:root://xrootd.cmsaf.mit.edu//store/user/bmaier/suep/official_private/2018/GluGluToSUEP_HT400_T0p35_mS200.000_mPhi1.400_T0.350_modehadronic_TuneCP5_13TeV//Scouting_GluGluToSUEP_HT400_T0p35_mS200.000_mPhi1.400_T0.350_modehadronic_TuneCP5_13TeV_2400668.root:Events\n"
     ]
    },
    {
     "name": "stderr",
     "output_type": "stream",
     "text": [
      " 33%|███▎      | 40/120 [00:36<00:20,  3.91it/s]"
     ]
    },
    {
     "name": "stdout",
     "output_type": "stream",
     "text": [
      "File failed:root://xrootd.cmsaf.mit.edu//store/user/bmaier/suep/official_private/2018/GluGluToSUEP_HT400_T0p35_mS200.000_mPhi1.400_T0.350_modehadronic_TuneCP5_13TeV//Scouting_GluGluToSUEP_HT400_T0p35_mS200.000_mPhi1.400_T0.350_modehadronic_TuneCP5_13TeV_2484222.root:Events\n",
      "File failed:root://xrootd.cmsaf.mit.edu//store/user/bmaier/suep/official_private/2018/GluGluToSUEP_HT400_T0p35_mS200.000_mPhi1.400_T0.350_modehadronic_TuneCP5_13TeV//Scouting_GluGluToSUEP_HT400_T0p35_mS200.000_mPhi1.400_T0.350_modehadronic_TuneCP5_13TeV_2500739.root:Events\n"
     ]
    },
    {
     "name": "stderr",
     "output_type": "stream",
     "text": [
      " 35%|███▌      | 42/120 [00:38<00:37,  2.10it/s]"
     ]
    },
    {
     "name": "stdout",
     "output_type": "stream",
     "text": [
      "File failed:root://xrootd.cmsaf.mit.edu//store/user/bmaier/suep/official_private/2018/GluGluToSUEP_HT400_T0p35_mS200.000_mPhi1.400_T0.350_modehadronic_TuneCP5_13TeV//Scouting_GluGluToSUEP_HT400_T0p35_mS200.000_mPhi1.400_T0.350_modehadronic_TuneCP5_13TeV_2532.root:Events\n",
      "File failed:root://xrootd.cmsaf.mit.edu//store/user/bmaier/suep/official_private/2018/GluGluToSUEP_HT400_T0p35_mS200.000_mPhi1.400_T0.350_modehadronic_TuneCP5_13TeV//Scouting_GluGluToSUEP_HT400_T0p35_mS200.000_mPhi1.400_T0.350_modehadronic_TuneCP5_13TeV_2558911.root:Events\n"
     ]
    },
    {
     "name": "stderr",
     "output_type": "stream",
     "text": [
      " 38%|███▊      | 45/120 [00:38<00:18,  3.98it/s]"
     ]
    },
    {
     "name": "stdout",
     "output_type": "stream",
     "text": [
      "File failed:root://xrootd.cmsaf.mit.edu//store/user/bmaier/suep/official_private/2018/GluGluToSUEP_HT400_T0p35_mS200.000_mPhi1.400_T0.350_modehadronic_TuneCP5_13TeV//Scouting_GluGluToSUEP_HT400_T0p35_mS200.000_mPhi1.400_T0.350_modehadronic_TuneCP5_13TeV_258115.root:Events\n",
      "File failed:root://xrootd.cmsaf.mit.edu//store/user/bmaier/suep/official_private/2018/GluGluToSUEP_HT400_T0p35_mS200.000_mPhi1.400_T0.350_modehadronic_TuneCP5_13TeV//Scouting_GluGluToSUEP_HT400_T0p35_mS200.000_mPhi1.400_T0.350_modehadronic_TuneCP5_13TeV_2643852.root:Events\n",
      "File failed:root://xrootd.cmsaf.mit.edu//store/user/bmaier/suep/official_private/2018/GluGluToSUEP_HT400_T0p35_mS200.000_mPhi1.400_T0.350_modehadronic_TuneCP5_13TeV//Scouting_GluGluToSUEP_HT400_T0p35_mS200.000_mPhi1.400_T0.350_modehadronic_TuneCP5_13TeV_2685829.root:Events\n"
     ]
    },
    {
     "name": "stderr",
     "output_type": "stream",
     "text": [
      " 40%|████      | 48/120 [00:39<00:18,  3.86it/s]"
     ]
    },
    {
     "name": "stdout",
     "output_type": "stream",
     "text": [
      "File failed:root://xrootd.cmsaf.mit.edu//store/user/bmaier/suep/official_private/2018/GluGluToSUEP_HT400_T0p35_mS200.000_mPhi1.400_T0.350_modehadronic_TuneCP5_13TeV//Scouting_GluGluToSUEP_HT400_T0p35_mS200.000_mPhi1.400_T0.350_modehadronic_TuneCP5_13TeV_2812902.root:Events\n",
      "File failed:root://xrootd.cmsaf.mit.edu//store/user/bmaier/suep/official_private/2018/GluGluToSUEP_HT400_T0p35_mS200.000_mPhi1.400_T0.350_modehadronic_TuneCP5_13TeV//Scouting_GluGluToSUEP_HT400_T0p35_mS200.000_mPhi1.400_T0.350_modehadronic_TuneCP5_13TeV_28369.root:Events\n",
      "File failed:root://xrootd.cmsaf.mit.edu//store/user/bmaier/suep/official_private/2018/GluGluToSUEP_HT400_T0p35_mS200.000_mPhi1.400_T0.350_modehadronic_TuneCP5_13TeV//Scouting_GluGluToSUEP_HT400_T0p35_mS200.000_mPhi1.400_T0.350_modehadronic_TuneCP5_13TeV_2860954.root:Events\n",
      "File failed:root://xrootd.cmsaf.mit.edu//store/user/bmaier/suep/official_private/2018/GluGluToSUEP_HT400_T0p35_mS200.000_mPhi1.400_T0.350_modehadronic_TuneCP5_13TeV//Scouting_GluGluToSUEP_HT400_T0p35_mS200.000_mPhi1.400_T0.350_modehadronic_TuneCP5_13TeV_2892172.root:Events\n"
     ]
    },
    {
     "name": "stderr",
     "output_type": "stream",
     "text": [
      " 42%|████▏     | 50/120 [00:40<00:17,  3.99it/s]"
     ]
    },
    {
     "name": "stdout",
     "output_type": "stream",
     "text": [
      "File failed:root://xrootd.cmsaf.mit.edu//store/user/bmaier/suep/official_private/2018/GluGluToSUEP_HT400_T0p35_mS200.000_mPhi1.400_T0.350_modehadronic_TuneCP5_13TeV//Scouting_GluGluToSUEP_HT400_T0p35_mS200.000_mPhi1.400_T0.350_modehadronic_TuneCP5_13TeV_2909161.root:Events\n"
     ]
    },
    {
     "name": "stderr",
     "output_type": "stream",
     "text": [
      " 42%|████▎     | 51/120 [00:42<00:42,  1.61it/s]"
     ]
    },
    {
     "name": "stdout",
     "output_type": "stream",
     "text": [
      "File failed:root://xrootd.cmsaf.mit.edu//store/user/bmaier/suep/official_private/2018/GluGluToSUEP_HT400_T0p35_mS200.000_mPhi1.400_T0.350_modehadronic_TuneCP5_13TeV//Scouting_GluGluToSUEP_HT400_T0p35_mS200.000_mPhi1.400_T0.350_modehadronic_TuneCP5_13TeV_2909933.root:Events\n"
     ]
    },
    {
     "name": "stderr",
     "output_type": "stream",
     "text": [
      " 45%|████▌     | 54/120 [00:43<00:34,  1.92it/s]"
     ]
    },
    {
     "name": "stdout",
     "output_type": "stream",
     "text": [
      "File failed:root://xrootd.cmsaf.mit.edu//store/user/bmaier/suep/official_private/2018/GluGluToSUEP_HT400_T0p35_mS200.000_mPhi1.400_T0.350_modehadronic_TuneCP5_13TeV//Scouting_GluGluToSUEP_HT400_T0p35_mS200.000_mPhi1.400_T0.350_modehadronic_TuneCP5_13TeV_2957008.root:Events\n",
      "File failed:root://xrootd.cmsaf.mit.edu//store/user/bmaier/suep/official_private/2018/GluGluToSUEP_HT400_T0p35_mS200.000_mPhi1.400_T0.350_modehadronic_TuneCP5_13TeV//Scouting_GluGluToSUEP_HT400_T0p35_mS200.000_mPhi1.400_T0.350_modehadronic_TuneCP5_13TeV_299606.root:Events\n",
      "File failed:root://xrootd.cmsaf.mit.edu//store/user/bmaier/suep/official_private/2018/GluGluToSUEP_HT400_T0p35_mS200.000_mPhi1.400_T0.350_modehadronic_TuneCP5_13TeV//Scouting_GluGluToSUEP_HT400_T0p35_mS200.000_mPhi1.400_T0.350_modehadronic_TuneCP5_13TeV_2997860.root:Events\n"
     ]
    },
    {
     "name": "stderr",
     "output_type": "stream",
     "text": [
      " 46%|████▌     | 55/120 [00:44<00:31,  2.05it/s]"
     ]
    },
    {
     "name": "stdout",
     "output_type": "stream",
     "text": [
      "File failed:root://xrootd.cmsaf.mit.edu//store/user/bmaier/suep/official_private/2018/GluGluToSUEP_HT400_T0p35_mS200.000_mPhi1.400_T0.350_modehadronic_TuneCP5_13TeV//Scouting_GluGluToSUEP_HT400_T0p35_mS200.000_mPhi1.400_T0.350_modehadronic_TuneCP5_13TeV_3029729.root:Events\n"
     ]
    },
    {
     "name": "stderr",
     "output_type": "stream",
     "text": [
      " 47%|████▋     | 56/120 [00:46<00:56,  1.13it/s]"
     ]
    },
    {
     "name": "stdout",
     "output_type": "stream",
     "text": [
      "File failed:root://xrootd.cmsaf.mit.edu//store/user/bmaier/suep/official_private/2018/GluGluToSUEP_HT400_T0p35_mS200.000_mPhi1.400_T0.350_modehadronic_TuneCP5_13TeV//Scouting_GluGluToSUEP_HT400_T0p35_mS200.000_mPhi1.400_T0.350_modehadronic_TuneCP5_13TeV_312697.root:Events\n"
     ]
    },
    {
     "name": "stderr",
     "output_type": "stream",
     "text": [
      " 49%|████▉     | 59/120 [00:47<00:30,  2.00it/s]"
     ]
    },
    {
     "name": "stdout",
     "output_type": "stream",
     "text": [
      "File failed:root://xrootd.cmsaf.mit.edu//store/user/bmaier/suep/official_private/2018/GluGluToSUEP_HT400_T0p35_mS200.000_mPhi1.400_T0.350_modehadronic_TuneCP5_13TeV//Scouting_GluGluToSUEP_HT400_T0p35_mS200.000_mPhi1.400_T0.350_modehadronic_TuneCP5_13TeV_3129300.root:Events\n",
      "File failed:root://xrootd.cmsaf.mit.edu//store/user/bmaier/suep/official_private/2018/GluGluToSUEP_HT400_T0p35_mS200.000_mPhi1.400_T0.350_modehadronic_TuneCP5_13TeV//Scouting_GluGluToSUEP_HT400_T0p35_mS200.000_mPhi1.400_T0.350_modehadronic_TuneCP5_13TeV_3156117.root:Events\n",
      "File failed:root://xrootd.cmsaf.mit.edu//store/user/bmaier/suep/official_private/2018/GluGluToSUEP_HT400_T0p35_mS200.000_mPhi1.400_T0.350_modehadronic_TuneCP5_13TeV//Scouting_GluGluToSUEP_HT400_T0p35_mS200.000_mPhi1.400_T0.350_modehadronic_TuneCP5_13TeV_3160681.root:Events\n"
     ]
    },
    {
     "name": "stderr",
     "output_type": "stream",
     "text": [
      " 52%|█████▏    | 62/120 [00:47<00:17,  3.38it/s]"
     ]
    },
    {
     "name": "stdout",
     "output_type": "stream",
     "text": [
      "File failed:root://xrootd.cmsaf.mit.edu//store/user/bmaier/suep/official_private/2018/GluGluToSUEP_HT400_T0p35_mS200.000_mPhi1.400_T0.350_modehadronic_TuneCP5_13TeV//Scouting_GluGluToSUEP_HT400_T0p35_mS200.000_mPhi1.400_T0.350_modehadronic_TuneCP5_13TeV_3245167.root:Events\n",
      "File failed:root://xrootd.cmsaf.mit.edu//store/user/bmaier/suep/official_private/2018/GluGluToSUEP_HT400_T0p35_mS200.000_mPhi1.400_T0.350_modehadronic_TuneCP5_13TeV//Scouting_GluGluToSUEP_HT400_T0p35_mS200.000_mPhi1.400_T0.350_modehadronic_TuneCP5_13TeV_3248725.root:Events\n",
      "File failed:root://xrootd.cmsaf.mit.edu//store/user/bmaier/suep/official_private/2018/GluGluToSUEP_HT400_T0p35_mS200.000_mPhi1.400_T0.350_modehadronic_TuneCP5_13TeV//Scouting_GluGluToSUEP_HT400_T0p35_mS200.000_mPhi1.400_T0.350_modehadronic_TuneCP5_13TeV_3271394.root:Events\n"
     ]
    },
    {
     "name": "stderr",
     "output_type": "stream",
     "text": [
      " 54%|█████▍    | 65/120 [00:47<00:10,  5.08it/s]"
     ]
    },
    {
     "name": "stdout",
     "output_type": "stream",
     "text": [
      "File failed:root://xrootd.cmsaf.mit.edu//store/user/bmaier/suep/official_private/2018/GluGluToSUEP_HT400_T0p35_mS200.000_mPhi1.400_T0.350_modehadronic_TuneCP5_13TeV//Scouting_GluGluToSUEP_HT400_T0p35_mS200.000_mPhi1.400_T0.350_modehadronic_TuneCP5_13TeV_34844.root:Events\n",
      "File failed:root://xrootd.cmsaf.mit.edu//store/user/bmaier/suep/official_private/2018/GluGluToSUEP_HT400_T0p35_mS200.000_mPhi1.400_T0.350_modehadronic_TuneCP5_13TeV//Scouting_GluGluToSUEP_HT400_T0p35_mS200.000_mPhi1.400_T0.350_modehadronic_TuneCP5_13TeV_3514026.root:Events\n",
      "File failed:root://xrootd.cmsaf.mit.edu//store/user/bmaier/suep/official_private/2018/GluGluToSUEP_HT400_T0p35_mS200.000_mPhi1.400_T0.350_modehadronic_TuneCP5_13TeV//Scouting_GluGluToSUEP_HT400_T0p35_mS200.000_mPhi1.400_T0.350_modehadronic_TuneCP5_13TeV_3586730.root:Events\n"
     ]
    },
    {
     "name": "stderr",
     "output_type": "stream",
     "text": [
      " 55%|█████▌    | 66/120 [00:47<00:09,  5.45it/s]"
     ]
    },
    {
     "name": "stdout",
     "output_type": "stream",
     "text": [
      "File failed:root://xrootd.cmsaf.mit.edu//store/user/bmaier/suep/official_private/2018/GluGluToSUEP_HT400_T0p35_mS200.000_mPhi1.400_T0.350_modehadronic_TuneCP5_13TeV//Scouting_GluGluToSUEP_HT400_T0p35_mS200.000_mPhi1.400_T0.350_modehadronic_TuneCP5_13TeV_3601124.root:Events\n",
      "File failed:root://xrootd.cmsaf.mit.edu//store/user/bmaier/suep/official_private/2018/GluGluToSUEP_HT400_T0p35_mS200.000_mPhi1.400_T0.350_modehadronic_TuneCP5_13TeV//Scouting_GluGluToSUEP_HT400_T0p35_mS200.000_mPhi1.400_T0.350_modehadronic_TuneCP5_13TeV_3627966.root:Events\n"
     ]
    },
    {
     "name": "stderr",
     "output_type": "stream",
     "text": [
      " 57%|█████▋    | 68/120 [00:49<00:21,  2.46it/s]"
     ]
    },
    {
     "name": "stdout",
     "output_type": "stream",
     "text": [
      "File failed:root://xrootd.cmsaf.mit.edu//store/user/bmaier/suep/official_private/2018/GluGluToSUEP_HT400_T0p35_mS200.000_mPhi1.400_T0.350_modehadronic_TuneCP5_13TeV//Scouting_GluGluToSUEP_HT400_T0p35_mS200.000_mPhi1.400_T0.350_modehadronic_TuneCP5_13TeV_3638037.root:Events\n"
     ]
    },
    {
     "name": "stderr",
     "output_type": "stream",
     "text": [
      " 57%|█████▊    | 69/120 [00:50<00:23,  2.14it/s]"
     ]
    },
    {
     "name": "stdout",
     "output_type": "stream",
     "text": [
      "File failed:root://xrootd.cmsaf.mit.edu//store/user/bmaier/suep/official_private/2018/GluGluToSUEP_HT400_T0p35_mS200.000_mPhi1.400_T0.350_modehadronic_TuneCP5_13TeV//Scouting_GluGluToSUEP_HT400_T0p35_mS200.000_mPhi1.400_T0.350_modehadronic_TuneCP5_13TeV_3752990.root:Events\n",
      "File failed:root://xrootd.cmsaf.mit.edu//store/user/bmaier/suep/official_private/2018/GluGluToSUEP_HT400_T0p35_mS200.000_mPhi1.400_T0.350_modehadronic_TuneCP5_13TeV//Scouting_GluGluToSUEP_HT400_T0p35_mS200.000_mPhi1.400_T0.350_modehadronic_TuneCP5_13TeV_3776773.root:Events\n"
     ]
    },
    {
     "name": "stderr",
     "output_type": "stream",
     "text": [
      " 60%|██████    | 72/120 [00:50<00:15,  3.05it/s]"
     ]
    },
    {
     "name": "stdout",
     "output_type": "stream",
     "text": [
      "File failed:root://xrootd.cmsaf.mit.edu//store/user/bmaier/suep/official_private/2018/GluGluToSUEP_HT400_T0p35_mS200.000_mPhi1.400_T0.350_modehadronic_TuneCP5_13TeV//Scouting_GluGluToSUEP_HT400_T0p35_mS200.000_mPhi1.400_T0.350_modehadronic_TuneCP5_13TeV_3787348.root:Events\n",
      "File failed:root://xrootd.cmsaf.mit.edu//store/user/bmaier/suep/official_private/2018/GluGluToSUEP_HT400_T0p35_mS200.000_mPhi1.400_T0.350_modehadronic_TuneCP5_13TeV//Scouting_GluGluToSUEP_HT400_T0p35_mS200.000_mPhi1.400_T0.350_modehadronic_TuneCP5_13TeV_379620.root:Events\n",
      "File failed:root://xrootd.cmsaf.mit.edu//store/user/bmaier/suep/official_private/2018/GluGluToSUEP_HT400_T0p35_mS200.000_mPhi1.400_T0.350_modehadronic_TuneCP5_13TeV//Scouting_GluGluToSUEP_HT400_T0p35_mS200.000_mPhi1.400_T0.350_modehadronic_TuneCP5_13TeV_3809208.root:Events\n"
     ]
    },
    {
     "name": "stderr",
     "output_type": "stream",
     "text": [
      " 62%|██████▎   | 75/120 [00:51<00:11,  3.90it/s]"
     ]
    },
    {
     "name": "stdout",
     "output_type": "stream",
     "text": [
      "File failed:root://xrootd.cmsaf.mit.edu//store/user/bmaier/suep/official_private/2018/GluGluToSUEP_HT400_T0p35_mS200.000_mPhi1.400_T0.350_modehadronic_TuneCP5_13TeV//Scouting_GluGluToSUEP_HT400_T0p35_mS200.000_mPhi1.400_T0.350_modehadronic_TuneCP5_13TeV_3836071.root:Events\n",
      "File failed:root://xrootd.cmsaf.mit.edu//store/user/bmaier/suep/official_private/2018/GluGluToSUEP_HT400_T0p35_mS200.000_mPhi1.400_T0.350_modehadronic_TuneCP5_13TeV//Scouting_GluGluToSUEP_HT400_T0p35_mS200.000_mPhi1.400_T0.350_modehadronic_TuneCP5_13TeV_3855900.root:Events\n"
     ]
    },
    {
     "name": "stderr",
     "output_type": "stream",
     "text": [
      " 64%|██████▍   | 77/120 [00:51<00:09,  4.51it/s]"
     ]
    },
    {
     "name": "stdout",
     "output_type": "stream",
     "text": [
      "File failed:root://xrootd.cmsaf.mit.edu//store/user/bmaier/suep/official_private/2018/GluGluToSUEP_HT400_T0p35_mS200.000_mPhi1.400_T0.350_modehadronic_TuneCP5_13TeV//Scouting_GluGluToSUEP_HT400_T0p35_mS200.000_mPhi1.400_T0.350_modehadronic_TuneCP5_13TeV_3891129.root:Events\n",
      "File failed:root://xrootd.cmsaf.mit.edu//store/user/bmaier/suep/official_private/2018/GluGluToSUEP_HT400_T0p35_mS200.000_mPhi1.400_T0.350_modehadronic_TuneCP5_13TeV//Scouting_GluGluToSUEP_HT400_T0p35_mS200.000_mPhi1.400_T0.350_modehadronic_TuneCP5_13TeV_3903789.root:Events\n"
     ]
    },
    {
     "name": "stderr",
     "output_type": "stream",
     "text": [
      " 67%|██████▋   | 80/120 [00:51<00:05,  6.91it/s]"
     ]
    },
    {
     "name": "stdout",
     "output_type": "stream",
     "text": [
      "File failed:root://xrootd.cmsaf.mit.edu//store/user/bmaier/suep/official_private/2018/GluGluToSUEP_HT400_T0p35_mS200.000_mPhi1.400_T0.350_modehadronic_TuneCP5_13TeV//Scouting_GluGluToSUEP_HT400_T0p35_mS200.000_mPhi1.400_T0.350_modehadronic_TuneCP5_13TeV_3927790.root:Events\n",
      "File failed:root://xrootd.cmsaf.mit.edu//store/user/bmaier/suep/official_private/2018/GluGluToSUEP_HT400_T0p35_mS200.000_mPhi1.400_T0.350_modehadronic_TuneCP5_13TeV//Scouting_GluGluToSUEP_HT400_T0p35_mS200.000_mPhi1.400_T0.350_modehadronic_TuneCP5_13TeV_393067.root:Events\n",
      "File failed:root://xrootd.cmsaf.mit.edu//store/user/bmaier/suep/official_private/2018/GluGluToSUEP_HT400_T0p35_mS200.000_mPhi1.400_T0.350_modehadronic_TuneCP5_13TeV//Scouting_GluGluToSUEP_HT400_T0p35_mS200.000_mPhi1.400_T0.350_modehadronic_TuneCP5_13TeV_3932151.root:Events\n"
     ]
    },
    {
     "name": "stderr",
     "output_type": "stream",
     "text": [
      " 68%|██████▊   | 82/120 [00:52<00:05,  7.43it/s]"
     ]
    },
    {
     "name": "stdout",
     "output_type": "stream",
     "text": [
      "File failed:root://xrootd.cmsaf.mit.edu//store/user/bmaier/suep/official_private/2018/GluGluToSUEP_HT400_T0p35_mS200.000_mPhi1.400_T0.350_modehadronic_TuneCP5_13TeV//Scouting_GluGluToSUEP_HT400_T0p35_mS200.000_mPhi1.400_T0.350_modehadronic_TuneCP5_13TeV_3969651.root:Events\n",
      "File failed:root://xrootd.cmsaf.mit.edu//store/user/bmaier/suep/official_private/2018/GluGluToSUEP_HT400_T0p35_mS200.000_mPhi1.400_T0.350_modehadronic_TuneCP5_13TeV//Scouting_GluGluToSUEP_HT400_T0p35_mS200.000_mPhi1.400_T0.350_modehadronic_TuneCP5_13TeV_3975242.root:Events\n"
     ]
    },
    {
     "name": "stderr",
     "output_type": "stream",
     "text": [
      " 69%|██████▉   | 83/120 [00:52<00:05,  7.35it/s]"
     ]
    },
    {
     "name": "stdout",
     "output_type": "stream",
     "text": [
      "File failed:root://xrootd.cmsaf.mit.edu//store/user/bmaier/suep/official_private/2018/GluGluToSUEP_HT400_T0p35_mS200.000_mPhi1.400_T0.350_modehadronic_TuneCP5_13TeV//Scouting_GluGluToSUEP_HT400_T0p35_mS200.000_mPhi1.400_T0.350_modehadronic_TuneCP5_13TeV_3995079.root:Events\n",
      "File failed:root://xrootd.cmsaf.mit.edu//store/user/bmaier/suep/official_private/2018/GluGluToSUEP_HT400_T0p35_mS200.000_mPhi1.400_T0.350_modehadronic_TuneCP5_13TeV//Scouting_GluGluToSUEP_HT400_T0p35_mS200.000_mPhi1.400_T0.350_modehadronic_TuneCP5_13TeV_4022575.root:Events\n"
     ]
    },
    {
     "name": "stderr",
     "output_type": "stream",
     "text": [
      " 71%|███████   | 85/120 [00:52<00:04,  8.02it/s]"
     ]
    },
    {
     "name": "stdout",
     "output_type": "stream",
     "text": [
      "File failed:root://xrootd.cmsaf.mit.edu//store/user/bmaier/suep/official_private/2018/GluGluToSUEP_HT400_T0p35_mS200.000_mPhi1.400_T0.350_modehadronic_TuneCP5_13TeV//Scouting_GluGluToSUEP_HT400_T0p35_mS200.000_mPhi1.400_T0.350_modehadronic_TuneCP5_13TeV_4043249.root:Events\n"
     ]
    },
    {
     "name": "stderr",
     "output_type": "stream",
     "text": [
      " 72%|███████▏  | 86/120 [00:52<00:06,  5.36it/s]"
     ]
    },
    {
     "name": "stdout",
     "output_type": "stream",
     "text": [
      "File failed:root://xrootd.cmsaf.mit.edu//store/user/bmaier/suep/official_private/2018/GluGluToSUEP_HT400_T0p35_mS200.000_mPhi1.400_T0.350_modehadronic_TuneCP5_13TeV//Scouting_GluGluToSUEP_HT400_T0p35_mS200.000_mPhi1.400_T0.350_modehadronic_TuneCP5_13TeV_4086636.root:Events\n",
      "File failed:root://xrootd.cmsaf.mit.edu//store/user/bmaier/suep/official_private/2018/GluGluToSUEP_HT400_T0p35_mS200.000_mPhi1.400_T0.350_modehadronic_TuneCP5_13TeV//Scouting_GluGluToSUEP_HT400_T0p35_mS200.000_mPhi1.400_T0.350_modehadronic_TuneCP5_13TeV_4174541.root:Events\n"
     ]
    },
    {
     "name": "stderr",
     "output_type": "stream",
     "text": [
      " 74%|███████▍  | 89/120 [00:53<00:06,  4.46it/s]"
     ]
    },
    {
     "name": "stdout",
     "output_type": "stream",
     "text": [
      "File failed:root://xrootd.cmsaf.mit.edu//store/user/bmaier/suep/official_private/2018/GluGluToSUEP_HT400_T0p35_mS200.000_mPhi1.400_T0.350_modehadronic_TuneCP5_13TeV//Scouting_GluGluToSUEP_HT400_T0p35_mS200.000_mPhi1.400_T0.350_modehadronic_TuneCP5_13TeV_4209019.root:Events\n",
      "File failed:root://xrootd.cmsaf.mit.edu//store/user/bmaier/suep/official_private/2018/GluGluToSUEP_HT400_T0p35_mS200.000_mPhi1.400_T0.350_modehadronic_TuneCP5_13TeV//Scouting_GluGluToSUEP_HT400_T0p35_mS200.000_mPhi1.400_T0.350_modehadronic_TuneCP5_13TeV_4212200.root:Events\n"
     ]
    },
    {
     "name": "stderr",
     "output_type": "stream",
     "text": [
      " 76%|███████▌  | 91/120 [00:53<00:05,  5.74it/s]"
     ]
    },
    {
     "name": "stdout",
     "output_type": "stream",
     "text": [
      "File failed:root://xrootd.cmsaf.mit.edu//store/user/bmaier/suep/official_private/2018/GluGluToSUEP_HT400_T0p35_mS200.000_mPhi1.400_T0.350_modehadronic_TuneCP5_13TeV//Scouting_GluGluToSUEP_HT400_T0p35_mS200.000_mPhi1.400_T0.350_modehadronic_TuneCP5_13TeV_4319304.root:Events\n",
      "File failed:root://xrootd.cmsaf.mit.edu//store/user/bmaier/suep/official_private/2018/GluGluToSUEP_HT400_T0p35_mS200.000_mPhi1.400_T0.350_modehadronic_TuneCP5_13TeV//Scouting_GluGluToSUEP_HT400_T0p35_mS200.000_mPhi1.400_T0.350_modehadronic_TuneCP5_13TeV_4323826.root:Events\n"
     ]
    },
    {
     "name": "stderr",
     "output_type": "stream",
     "text": [
      " 78%|███████▊  | 93/120 [00:54<00:04,  6.66it/s]"
     ]
    },
    {
     "name": "stdout",
     "output_type": "stream",
     "text": [
      "File failed:root://xrootd.cmsaf.mit.edu//store/user/bmaier/suep/official_private/2018/GluGluToSUEP_HT400_T0p35_mS200.000_mPhi1.400_T0.350_modehadronic_TuneCP5_13TeV//Scouting_GluGluToSUEP_HT400_T0p35_mS200.000_mPhi1.400_T0.350_modehadronic_TuneCP5_13TeV_4341387.root:Events\n",
      "File failed:root://xrootd.cmsaf.mit.edu//store/user/bmaier/suep/official_private/2018/GluGluToSUEP_HT400_T0p35_mS200.000_mPhi1.400_T0.350_modehadronic_TuneCP5_13TeV//Scouting_GluGluToSUEP_HT400_T0p35_mS200.000_mPhi1.400_T0.350_modehadronic_TuneCP5_13TeV_4343631.root:Events\n"
     ]
    },
    {
     "name": "stderr",
     "output_type": "stream",
     "text": [
      " 80%|████████  | 96/120 [00:54<00:03,  6.00it/s]"
     ]
    },
    {
     "name": "stdout",
     "output_type": "stream",
     "text": [
      "File failed:root://xrootd.cmsaf.mit.edu//store/user/bmaier/suep/official_private/2018/GluGluToSUEP_HT400_T0p35_mS200.000_mPhi1.400_T0.350_modehadronic_TuneCP5_13TeV//Scouting_GluGluToSUEP_HT400_T0p35_mS200.000_mPhi1.400_T0.350_modehadronic_TuneCP5_13TeV_4369754.root:Events\n",
      "File failed:root://xrootd.cmsaf.mit.edu//store/user/bmaier/suep/official_private/2018/GluGluToSUEP_HT400_T0p35_mS200.000_mPhi1.400_T0.350_modehadronic_TuneCP5_13TeV//Scouting_GluGluToSUEP_HT400_T0p35_mS200.000_mPhi1.400_T0.350_modehadronic_TuneCP5_13TeV_4423891.root:Events\n",
      "File failed:root://xrootd.cmsaf.mit.edu//store/user/bmaier/suep/official_private/2018/GluGluToSUEP_HT400_T0p35_mS200.000_mPhi1.400_T0.350_modehadronic_TuneCP5_13TeV//Scouting_GluGluToSUEP_HT400_T0p35_mS200.000_mPhi1.400_T0.350_modehadronic_TuneCP5_13TeV_4446306.root:Events\n"
     ]
    },
    {
     "name": "stderr",
     "output_type": "stream",
     "text": [
      " 81%|████████  | 97/120 [00:55<00:04,  4.64it/s]"
     ]
    },
    {
     "name": "stdout",
     "output_type": "stream",
     "text": [
      "File failed:root://xrootd.cmsaf.mit.edu//store/user/bmaier/suep/official_private/2018/GluGluToSUEP_HT400_T0p35_mS200.000_mPhi1.400_T0.350_modehadronic_TuneCP5_13TeV//Scouting_GluGluToSUEP_HT400_T0p35_mS200.000_mPhi1.400_T0.350_modehadronic_TuneCP5_13TeV_4453469.root:Events\n"
     ]
    },
    {
     "name": "stderr",
     "output_type": "stream",
     "text": [
      " 82%|████████▏ | 98/120 [00:55<00:07,  3.03it/s]"
     ]
    },
    {
     "name": "stdout",
     "output_type": "stream",
     "text": [
      "File failed:root://xrootd.cmsaf.mit.edu//store/user/bmaier/suep/official_private/2018/GluGluToSUEP_HT400_T0p35_mS200.000_mPhi1.400_T0.350_modehadronic_TuneCP5_13TeV//Scouting_GluGluToSUEP_HT400_T0p35_mS200.000_mPhi1.400_T0.350_modehadronic_TuneCP5_13TeV_4461906.root:Events\n"
     ]
    },
    {
     "name": "stderr",
     "output_type": "stream",
     "text": [
      " 82%|████████▎ | 99/120 [00:57<00:13,  1.55it/s]"
     ]
    },
    {
     "name": "stdout",
     "output_type": "stream",
     "text": [
      "File failed:root://xrootd.cmsaf.mit.edu//store/user/bmaier/suep/official_private/2018/GluGluToSUEP_HT400_T0p35_mS200.000_mPhi1.400_T0.350_modehadronic_TuneCP5_13TeV//Scouting_GluGluToSUEP_HT400_T0p35_mS200.000_mPhi1.400_T0.350_modehadronic_TuneCP5_13TeV_4482821.root:Events\n",
      "File failed:root://xrootd.cmsaf.mit.edu//store/user/bmaier/suep/official_private/2018/GluGluToSUEP_HT400_T0p35_mS200.000_mPhi1.400_T0.350_modehadronic_TuneCP5_13TeV//Scouting_GluGluToSUEP_HT400_T0p35_mS200.000_mPhi1.400_T0.350_modehadronic_TuneCP5_13TeV_450677.root:Events\n"
     ]
    },
    {
     "name": "stderr",
     "output_type": "stream",
     "text": [
      " 86%|████████▌ | 103/120 [00:58<00:05,  3.07it/s]"
     ]
    },
    {
     "name": "stdout",
     "output_type": "stream",
     "text": [
      "File failed:root://xrootd.cmsaf.mit.edu//store/user/bmaier/suep/official_private/2018/GluGluToSUEP_HT400_T0p35_mS200.000_mPhi1.400_T0.350_modehadronic_TuneCP5_13TeV//Scouting_GluGluToSUEP_HT400_T0p35_mS200.000_mPhi1.400_T0.350_modehadronic_TuneCP5_13TeV_4538826.root:Events\n",
      "File failed:root://xrootd.cmsaf.mit.edu//store/user/bmaier/suep/official_private/2018/GluGluToSUEP_HT400_T0p35_mS200.000_mPhi1.400_T0.350_modehadronic_TuneCP5_13TeV//Scouting_GluGluToSUEP_HT400_T0p35_mS200.000_mPhi1.400_T0.350_modehadronic_TuneCP5_13TeV_4559530.root:Events\n",
      "File failed:root://xrootd.cmsaf.mit.edu//store/user/bmaier/suep/official_private/2018/GluGluToSUEP_HT400_T0p35_mS200.000_mPhi1.400_T0.350_modehadronic_TuneCP5_13TeV//Scouting_GluGluToSUEP_HT400_T0p35_mS200.000_mPhi1.400_T0.350_modehadronic_TuneCP5_13TeV_4569137.root:Events\n"
     ]
    },
    {
     "name": "stderr",
     "output_type": "stream",
     "text": [
      " 88%|████████▊ | 105/120 [00:58<00:03,  4.04it/s]"
     ]
    },
    {
     "name": "stdout",
     "output_type": "stream",
     "text": [
      "File failed:root://xrootd.cmsaf.mit.edu//store/user/bmaier/suep/official_private/2018/GluGluToSUEP_HT400_T0p35_mS200.000_mPhi1.400_T0.350_modehadronic_TuneCP5_13TeV//Scouting_GluGluToSUEP_HT400_T0p35_mS200.000_mPhi1.400_T0.350_modehadronic_TuneCP5_13TeV_469473.root:Events\n",
      "File failed:root://xrootd.cmsaf.mit.edu//store/user/bmaier/suep/official_private/2018/GluGluToSUEP_HT400_T0p35_mS200.000_mPhi1.400_T0.350_modehadronic_TuneCP5_13TeV//Scouting_GluGluToSUEP_HT400_T0p35_mS200.000_mPhi1.400_T0.350_modehadronic_TuneCP5_13TeV_478738.root:Events\n"
     ]
    },
    {
     "name": "stderr",
     "output_type": "stream",
     "text": [
      " 88%|████████▊ | 106/120 [00:58<00:03,  4.50it/s]"
     ]
    },
    {
     "name": "stdout",
     "output_type": "stream",
     "text": [
      "File failed:root://xrootd.cmsaf.mit.edu//store/user/bmaier/suep/official_private/2018/GluGluToSUEP_HT400_T0p35_mS200.000_mPhi1.400_T0.350_modehadronic_TuneCP5_13TeV//Scouting_GluGluToSUEP_HT400_T0p35_mS200.000_mPhi1.400_T0.350_modehadronic_TuneCP5_13TeV_4804199.root:Events\n"
     ]
    },
    {
     "name": "stderr",
     "output_type": "stream",
     "text": [
      " 90%|█████████ | 108/120 [00:58<00:02,  4.41it/s]"
     ]
    },
    {
     "name": "stdout",
     "output_type": "stream",
     "text": [
      "File failed:root://xrootd.cmsaf.mit.edu//store/user/bmaier/suep/official_private/2018/GluGluToSUEP_HT400_T0p35_mS200.000_mPhi1.400_T0.350_modehadronic_TuneCP5_13TeV//Scouting_GluGluToSUEP_HT400_T0p35_mS200.000_mPhi1.400_T0.350_modehadronic_TuneCP5_13TeV_4931066.root:Events\n",
      "File failed:root://xrootd.cmsaf.mit.edu//store/user/bmaier/suep/official_private/2018/GluGluToSUEP_HT400_T0p35_mS200.000_mPhi1.400_T0.350_modehadronic_TuneCP5_13TeV//Scouting_GluGluToSUEP_HT400_T0p35_mS200.000_mPhi1.400_T0.350_modehadronic_TuneCP5_13TeV_4947303.root:Events\n"
     ]
    },
    {
     "name": "stderr",
     "output_type": "stream",
     "text": [
      " 91%|█████████ | 109/120 [00:59<00:02,  3.78it/s]"
     ]
    },
    {
     "name": "stdout",
     "output_type": "stream",
     "text": [
      "File failed:root://xrootd.cmsaf.mit.edu//store/user/bmaier/suep/official_private/2018/GluGluToSUEP_HT400_T0p35_mS200.000_mPhi1.400_T0.350_modehadronic_TuneCP5_13TeV//Scouting_GluGluToSUEP_HT400_T0p35_mS200.000_mPhi1.400_T0.350_modehadronic_TuneCP5_13TeV_4967969.root:Events\n",
      "File failed:root://xrootd.cmsaf.mit.edu//store/user/bmaier/suep/official_private/2018/GluGluToSUEP_HT400_T0p35_mS200.000_mPhi1.400_T0.350_modehadronic_TuneCP5_13TeV//Scouting_GluGluToSUEP_HT400_T0p35_mS200.000_mPhi1.400_T0.350_modehadronic_TuneCP5_13TeV_510674.root:Events\n"
     ]
    },
    {
     "name": "stderr",
     "output_type": "stream",
     "text": [
      " 92%|█████████▎| 111/120 [01:00<00:04,  2.13it/s]"
     ]
    },
    {
     "name": "stdout",
     "output_type": "stream",
     "text": [
      "File failed:root://xrootd.cmsaf.mit.edu//store/user/bmaier/suep/official_private/2018/GluGluToSUEP_HT400_T0p35_mS200.000_mPhi1.400_T0.350_modehadronic_TuneCP5_13TeV//Scouting_GluGluToSUEP_HT400_T0p35_mS200.000_mPhi1.400_T0.350_modehadronic_TuneCP5_13TeV_533097.root:Events\n"
     ]
    },
    {
     "name": "stderr",
     "output_type": "stream",
     "text": [
      " 95%|█████████▌| 114/120 [01:01<00:02,  2.63it/s]"
     ]
    },
    {
     "name": "stdout",
     "output_type": "stream",
     "text": [
      "File failed:root://xrootd.cmsaf.mit.edu//store/user/bmaier/suep/official_private/2018/GluGluToSUEP_HT400_T0p35_mS200.000_mPhi1.400_T0.350_modehadronic_TuneCP5_13TeV//Scouting_GluGluToSUEP_HT400_T0p35_mS200.000_mPhi1.400_T0.350_modehadronic_TuneCP5_13TeV_590717.root:Events\n",
      "File failed:root://xrootd.cmsaf.mit.edu//store/user/bmaier/suep/official_private/2018/GluGluToSUEP_HT400_T0p35_mS200.000_mPhi1.400_T0.350_modehadronic_TuneCP5_13TeV//Scouting_GluGluToSUEP_HT400_T0p35_mS200.000_mPhi1.400_T0.350_modehadronic_TuneCP5_13TeV_622070.root:Events\n",
      "File failed:root://xrootd.cmsaf.mit.edu//store/user/bmaier/suep/official_private/2018/GluGluToSUEP_HT400_T0p35_mS200.000_mPhi1.400_T0.350_modehadronic_TuneCP5_13TeV//Scouting_GluGluToSUEP_HT400_T0p35_mS200.000_mPhi1.400_T0.350_modehadronic_TuneCP5_13TeV_624205.root:Events\n"
     ]
    },
    {
     "name": "stderr",
     "output_type": "stream",
     "text": [
      " 98%|█████████▊| 117/120 [01:02<00:00,  4.27it/s]"
     ]
    },
    {
     "name": "stdout",
     "output_type": "stream",
     "text": [
      "File failed:root://xrootd.cmsaf.mit.edu//store/user/bmaier/suep/official_private/2018/GluGluToSUEP_HT400_T0p35_mS200.000_mPhi1.400_T0.350_modehadronic_TuneCP5_13TeV//Scouting_GluGluToSUEP_HT400_T0p35_mS200.000_mPhi1.400_T0.350_modehadronic_TuneCP5_13TeV_632497.root:Events\n",
      "File failed:root://xrootd.cmsaf.mit.edu//store/user/bmaier/suep/official_private/2018/GluGluToSUEP_HT400_T0p35_mS200.000_mPhi1.400_T0.350_modehadronic_TuneCP5_13TeV//Scouting_GluGluToSUEP_HT400_T0p35_mS200.000_mPhi1.400_T0.350_modehadronic_TuneCP5_13TeV_649613.root:Events\n",
      "File failed:root://xrootd.cmsaf.mit.edu//store/user/bmaier/suep/official_private/2018/GluGluToSUEP_HT400_T0p35_mS200.000_mPhi1.400_T0.350_modehadronic_TuneCP5_13TeV//Scouting_GluGluToSUEP_HT400_T0p35_mS200.000_mPhi1.400_T0.350_modehadronic_TuneCP5_13TeV_6904.root:Events\n"
     ]
    },
    {
     "name": "stderr",
     "output_type": "stream",
     "text": [
      " 99%|█████████▉| 119/120 [01:02<00:00,  4.10it/s]"
     ]
    },
    {
     "name": "stdout",
     "output_type": "stream",
     "text": [
      "File failed:root://xrootd.cmsaf.mit.edu//store/user/bmaier/suep/official_private/2018/GluGluToSUEP_HT400_T0p35_mS200.000_mPhi1.400_T0.350_modehadronic_TuneCP5_13TeV//Scouting_GluGluToSUEP_HT400_T0p35_mS200.000_mPhi1.400_T0.350_modehadronic_TuneCP5_13TeV_744542.root:Events\n",
      "File failed:root://xrootd.cmsaf.mit.edu//store/user/bmaier/suep/official_private/2018/GluGluToSUEP_HT400_T0p35_mS200.000_mPhi1.400_T0.350_modehadronic_TuneCP5_13TeV//Scouting_GluGluToSUEP_HT400_T0p35_mS200.000_mPhi1.400_T0.350_modehadronic_TuneCP5_13TeV_806433.root:Events\n"
     ]
    },
    {
     "name": "stderr",
     "output_type": "stream",
     "text": [
      "100%|██████████| 120/120 [01:02<00:00,  1.91it/s]\n"
     ]
    },
    {
     "name": "stdout",
     "output_type": "stream",
     "text": [
      "File failed:root://xrootd.cmsaf.mit.edu//store/user/bmaier/suep/official_private/2018/GluGluToSUEP_HT400_T0p35_mS200.000_mPhi1.400_T0.350_modehadronic_TuneCP5_13TeV//Scouting_GluGluToSUEP_HT400_T0p35_mS200.000_mPhi1.400_T0.350_modehadronic_TuneCP5_13TeV_826667.root:Events\n",
      "Processing m=400 GeV for the hadronic decay mode:\n"
     ]
    },
    {
     "name": "stderr",
     "output_type": "stream",
     "text": [
      "  1%|          | 1/101 [00:00<00:11,  8.40it/s]"
     ]
    },
    {
     "name": "stdout",
     "output_type": "stream",
     "text": [
      "File failed:root://xrootd.cmsaf.mit.edu//store/user/bmaier/suep/official_private/2018/GluGluToSUEP_HT400_T0p35_mS400.000_mPhi1.400_T0.350_modehadronic_TuneCP5_13TeV//Scouting_GluGluToSUEP_HT400_T0p35_mS400.000_mPhi1.400_T0.350_modehadronic_TuneCP5_13TeV_1045066.root:Events\n"
     ]
    },
    {
     "name": "stderr",
     "output_type": "stream",
     "text": [
      "  2%|▏         | 2/101 [00:00<00:13,  7.17it/s]"
     ]
    },
    {
     "name": "stdout",
     "output_type": "stream",
     "text": [
      "File failed:root://xrootd.cmsaf.mit.edu//store/user/bmaier/suep/official_private/2018/GluGluToSUEP_HT400_T0p35_mS400.000_mPhi1.400_T0.350_modehadronic_TuneCP5_13TeV//Scouting_GluGluToSUEP_HT400_T0p35_mS400.000_mPhi1.400_T0.350_modehadronic_TuneCP5_13TeV_1062882.root:Events\n"
     ]
    },
    {
     "name": "stderr",
     "output_type": "stream",
     "text": [
      "  4%|▍         | 4/101 [00:00<00:10,  9.13it/s]"
     ]
    },
    {
     "name": "stdout",
     "output_type": "stream",
     "text": [
      "File failed:root://xrootd.cmsaf.mit.edu//store/user/bmaier/suep/official_private/2018/GluGluToSUEP_HT400_T0p35_mS400.000_mPhi1.400_T0.350_modehadronic_TuneCP5_13TeV//Scouting_GluGluToSUEP_HT400_T0p35_mS400.000_mPhi1.400_T0.350_modehadronic_TuneCP5_13TeV_1119780.root:Events\n",
      "File failed:root://xrootd.cmsaf.mit.edu//store/user/bmaier/suep/official_private/2018/GluGluToSUEP_HT400_T0p35_mS400.000_mPhi1.400_T0.350_modehadronic_TuneCP5_13TeV//Scouting_GluGluToSUEP_HT400_T0p35_mS400.000_mPhi1.400_T0.350_modehadronic_TuneCP5_13TeV_1139656.root:Events\n"
     ]
    },
    {
     "name": "stderr",
     "output_type": "stream",
     "text": [
      "  6%|▌         | 6/101 [00:00<00:16,  5.80it/s]"
     ]
    },
    {
     "name": "stdout",
     "output_type": "stream",
     "text": [
      "File failed:root://xrootd.cmsaf.mit.edu//store/user/bmaier/suep/official_private/2018/GluGluToSUEP_HT400_T0p35_mS400.000_mPhi1.400_T0.350_modehadronic_TuneCP5_13TeV//Scouting_GluGluToSUEP_HT400_T0p35_mS400.000_mPhi1.400_T0.350_modehadronic_TuneCP5_13TeV_1141995.root:Events\n",
      "File failed:root://xrootd.cmsaf.mit.edu//store/user/bmaier/suep/official_private/2018/GluGluToSUEP_HT400_T0p35_mS400.000_mPhi1.400_T0.350_modehadronic_TuneCP5_13TeV//Scouting_GluGluToSUEP_HT400_T0p35_mS400.000_mPhi1.400_T0.350_modehadronic_TuneCP5_13TeV_1159873.root:Events\n",
      "File failed:root://xrootd.cmsaf.mit.edu//store/user/bmaier/suep/official_private/2018/GluGluToSUEP_HT400_T0p35_mS400.000_mPhi1.400_T0.350_modehadronic_TuneCP5_13TeV//Scouting_GluGluToSUEP_HT400_T0p35_mS400.000_mPhi1.400_T0.350_modehadronic_TuneCP5_13TeV_120285.root:Events\n"
     ]
    },
    {
     "name": "stderr",
     "output_type": "stream",
     "text": [
      "  8%|▊         | 8/101 [00:01<00:11,  8.08it/s]"
     ]
    },
    {
     "name": "stdout",
     "output_type": "stream",
     "text": [
      "File failed:root://xrootd.cmsaf.mit.edu//store/user/bmaier/suep/official_private/2018/GluGluToSUEP_HT400_T0p35_mS400.000_mPhi1.400_T0.350_modehadronic_TuneCP5_13TeV//Scouting_GluGluToSUEP_HT400_T0p35_mS400.000_mPhi1.400_T0.350_modehadronic_TuneCP5_13TeV_122682.root:Events\n",
      "File failed:root://xrootd.cmsaf.mit.edu//store/user/bmaier/suep/official_private/2018/GluGluToSUEP_HT400_T0p35_mS400.000_mPhi1.400_T0.350_modehadronic_TuneCP5_13TeV//Scouting_GluGluToSUEP_HT400_T0p35_mS400.000_mPhi1.400_T0.350_modehadronic_TuneCP5_13TeV_1263956.root:Events\n"
     ]
    },
    {
     "name": "stderr",
     "output_type": "stream",
     "text": [
      " 12%|█▏        | 12/101 [00:01<00:09,  9.67it/s]"
     ]
    },
    {
     "name": "stdout",
     "output_type": "stream",
     "text": [
      "File failed:root://xrootd.cmsaf.mit.edu//store/user/bmaier/suep/official_private/2018/GluGluToSUEP_HT400_T0p35_mS400.000_mPhi1.400_T0.350_modehadronic_TuneCP5_13TeV//Scouting_GluGluToSUEP_HT400_T0p35_mS400.000_mPhi1.400_T0.350_modehadronic_TuneCP5_13TeV_1283081.root:Events\n",
      "File failed:root://xrootd.cmsaf.mit.edu//store/user/bmaier/suep/official_private/2018/GluGluToSUEP_HT400_T0p35_mS400.000_mPhi1.400_T0.350_modehadronic_TuneCP5_13TeV//Scouting_GluGluToSUEP_HT400_T0p35_mS400.000_mPhi1.400_T0.350_modehadronic_TuneCP5_13TeV_1288092.root:Events\n",
      "File failed:root://xrootd.cmsaf.mit.edu//store/user/bmaier/suep/official_private/2018/GluGluToSUEP_HT400_T0p35_mS400.000_mPhi1.400_T0.350_modehadronic_TuneCP5_13TeV//Scouting_GluGluToSUEP_HT400_T0p35_mS400.000_mPhi1.400_T0.350_modehadronic_TuneCP5_13TeV_1288138.root:Events\n",
      "File failed:root://xrootd.cmsaf.mit.edu//store/user/bmaier/suep/official_private/2018/GluGluToSUEP_HT400_T0p35_mS400.000_mPhi1.400_T0.350_modehadronic_TuneCP5_13TeV//Scouting_GluGluToSUEP_HT400_T0p35_mS400.000_mPhi1.400_T0.350_modehadronic_TuneCP5_13TeV_1328641.root:Events\n"
     ]
    },
    {
     "name": "stderr",
     "output_type": "stream",
     "text": [
      " 14%|█▍        | 14/101 [00:02<00:14,  6.12it/s]"
     ]
    },
    {
     "name": "stdout",
     "output_type": "stream",
     "text": [
      "File failed:root://xrootd.cmsaf.mit.edu//store/user/bmaier/suep/official_private/2018/GluGluToSUEP_HT400_T0p35_mS400.000_mPhi1.400_T0.350_modehadronic_TuneCP5_13TeV//Scouting_GluGluToSUEP_HT400_T0p35_mS400.000_mPhi1.400_T0.350_modehadronic_TuneCP5_13TeV_1356599.root:Events\n"
     ]
    },
    {
     "name": "stderr",
     "output_type": "stream",
     "text": [
      " 16%|█▌        | 16/101 [00:02<00:15,  5.35it/s]"
     ]
    },
    {
     "name": "stdout",
     "output_type": "stream",
     "text": [
      "File failed:root://xrootd.cmsaf.mit.edu//store/user/bmaier/suep/official_private/2018/GluGluToSUEP_HT400_T0p35_mS400.000_mPhi1.400_T0.350_modehadronic_TuneCP5_13TeV//Scouting_GluGluToSUEP_HT400_T0p35_mS400.000_mPhi1.400_T0.350_modehadronic_TuneCP5_13TeV_1377786.root:Events\n",
      "File failed:root://xrootd.cmsaf.mit.edu//store/user/bmaier/suep/official_private/2018/GluGluToSUEP_HT400_T0p35_mS400.000_mPhi1.400_T0.350_modehadronic_TuneCP5_13TeV//Scouting_GluGluToSUEP_HT400_T0p35_mS400.000_mPhi1.400_T0.350_modehadronic_TuneCP5_13TeV_1428568.root:Events\n"
     ]
    },
    {
     "name": "stderr",
     "output_type": "stream",
     "text": [
      " 18%|█▊        | 18/101 [00:02<00:12,  6.58it/s]"
     ]
    },
    {
     "name": "stdout",
     "output_type": "stream",
     "text": [
      "File failed:root://xrootd.cmsaf.mit.edu//store/user/bmaier/suep/official_private/2018/GluGluToSUEP_HT400_T0p35_mS400.000_mPhi1.400_T0.350_modehadronic_TuneCP5_13TeV//Scouting_GluGluToSUEP_HT400_T0p35_mS400.000_mPhi1.400_T0.350_modehadronic_TuneCP5_13TeV_1502787.root:Events\n",
      "File failed:root://xrootd.cmsaf.mit.edu//store/user/bmaier/suep/official_private/2018/GluGluToSUEP_HT400_T0p35_mS400.000_mPhi1.400_T0.350_modehadronic_TuneCP5_13TeV//Scouting_GluGluToSUEP_HT400_T0p35_mS400.000_mPhi1.400_T0.350_modehadronic_TuneCP5_13TeV_1615701.root:Events\n",
      "File failed:root://xrootd.cmsaf.mit.edu//store/user/bmaier/suep/official_private/2018/GluGluToSUEP_HT400_T0p35_mS400.000_mPhi1.400_T0.350_modehadronic_TuneCP5_13TeV//Scouting_GluGluToSUEP_HT400_T0p35_mS400.000_mPhi1.400_T0.350_modehadronic_TuneCP5_13TeV_1641175.root:Events\n"
     ]
    },
    {
     "name": "stderr",
     "output_type": "stream",
     "text": [
      " 20%|█▉        | 20/101 [00:02<00:10,  7.43it/s]"
     ]
    },
    {
     "name": "stdout",
     "output_type": "stream",
     "text": [
      "File failed:root://xrootd.cmsaf.mit.edu//store/user/bmaier/suep/official_private/2018/GluGluToSUEP_HT400_T0p35_mS400.000_mPhi1.400_T0.350_modehadronic_TuneCP5_13TeV//Scouting_GluGluToSUEP_HT400_T0p35_mS400.000_mPhi1.400_T0.350_modehadronic_TuneCP5_13TeV_1738611.root:Events\n"
     ]
    },
    {
     "name": "stderr",
     "output_type": "stream",
     "text": [
      " 21%|██        | 21/101 [00:03<00:15,  5.33it/s]"
     ]
    },
    {
     "name": "stdout",
     "output_type": "stream",
     "text": [
      "File failed:root://xrootd.cmsaf.mit.edu//store/user/bmaier/suep/official_private/2018/GluGluToSUEP_HT400_T0p35_mS400.000_mPhi1.400_T0.350_modehadronic_TuneCP5_13TeV//Scouting_GluGluToSUEP_HT400_T0p35_mS400.000_mPhi1.400_T0.350_modehadronic_TuneCP5_13TeV_1784609.root:Events\n",
      "File failed:root://xrootd.cmsaf.mit.edu//store/user/bmaier/suep/official_private/2018/GluGluToSUEP_HT400_T0p35_mS400.000_mPhi1.400_T0.350_modehadronic_TuneCP5_13TeV//Scouting_GluGluToSUEP_HT400_T0p35_mS400.000_mPhi1.400_T0.350_modehadronic_TuneCP5_13TeV_1891667.root:Events\n"
     ]
    },
    {
     "name": "stderr",
     "output_type": "stream",
     "text": [
      " 25%|██▍       | 25/101 [00:03<00:12,  5.93it/s]"
     ]
    },
    {
     "name": "stdout",
     "output_type": "stream",
     "text": [
      "File failed:root://xrootd.cmsaf.mit.edu//store/user/bmaier/suep/official_private/2018/GluGluToSUEP_HT400_T0p35_mS400.000_mPhi1.400_T0.350_modehadronic_TuneCP5_13TeV//Scouting_GluGluToSUEP_HT400_T0p35_mS400.000_mPhi1.400_T0.350_modehadronic_TuneCP5_13TeV_1962711.root:Events\n",
      "File failed:root://xrootd.cmsaf.mit.edu//store/user/bmaier/suep/official_private/2018/GluGluToSUEP_HT400_T0p35_mS400.000_mPhi1.400_T0.350_modehadronic_TuneCP5_13TeV//Scouting_GluGluToSUEP_HT400_T0p35_mS400.000_mPhi1.400_T0.350_modehadronic_TuneCP5_13TeV_2059365.root:Events\n",
      "File failed:root://xrootd.cmsaf.mit.edu//store/user/bmaier/suep/official_private/2018/GluGluToSUEP_HT400_T0p35_mS400.000_mPhi1.400_T0.350_modehadronic_TuneCP5_13TeV//Scouting_GluGluToSUEP_HT400_T0p35_mS400.000_mPhi1.400_T0.350_modehadronic_TuneCP5_13TeV_2070220.root:Events\n",
      "File failed:root://xrootd.cmsaf.mit.edu//store/user/bmaier/suep/official_private/2018/GluGluToSUEP_HT400_T0p35_mS400.000_mPhi1.400_T0.350_modehadronic_TuneCP5_13TeV//Scouting_GluGluToSUEP_HT400_T0p35_mS400.000_mPhi1.400_T0.350_modehadronic_TuneCP5_13TeV_2126791.root:Events\n"
     ]
    },
    {
     "name": "stderr",
     "output_type": "stream",
     "text": [
      " 29%|██▊       | 29/101 [00:04<00:10,  6.60it/s]"
     ]
    },
    {
     "name": "stdout",
     "output_type": "stream",
     "text": [
      "File failed:root://xrootd.cmsaf.mit.edu//store/user/bmaier/suep/official_private/2018/GluGluToSUEP_HT400_T0p35_mS400.000_mPhi1.400_T0.350_modehadronic_TuneCP5_13TeV//Scouting_GluGluToSUEP_HT400_T0p35_mS400.000_mPhi1.400_T0.350_modehadronic_TuneCP5_13TeV_2184175.root:Events\n",
      "File failed:root://xrootd.cmsaf.mit.edu//store/user/bmaier/suep/official_private/2018/GluGluToSUEP_HT400_T0p35_mS400.000_mPhi1.400_T0.350_modehadronic_TuneCP5_13TeV//Scouting_GluGluToSUEP_HT400_T0p35_mS400.000_mPhi1.400_T0.350_modehadronic_TuneCP5_13TeV_2265713.root:Events\n",
      "File failed:root://xrootd.cmsaf.mit.edu//store/user/bmaier/suep/official_private/2018/GluGluToSUEP_HT400_T0p35_mS400.000_mPhi1.400_T0.350_modehadronic_TuneCP5_13TeV//Scouting_GluGluToSUEP_HT400_T0p35_mS400.000_mPhi1.400_T0.350_modehadronic_TuneCP5_13TeV_2318466.root:Events\n"
     ]
    },
    {
     "name": "stderr",
     "output_type": "stream",
     "text": [
      " 31%|███       | 31/101 [00:05<00:12,  5.52it/s]"
     ]
    },
    {
     "name": "stdout",
     "output_type": "stream",
     "text": [
      "File failed:root://xrootd.cmsaf.mit.edu//store/user/bmaier/suep/official_private/2018/GluGluToSUEP_HT400_T0p35_mS400.000_mPhi1.400_T0.350_modehadronic_TuneCP5_13TeV//Scouting_GluGluToSUEP_HT400_T0p35_mS400.000_mPhi1.400_T0.350_modehadronic_TuneCP5_13TeV_2332217.root:Events\n",
      "File failed:root://xrootd.cmsaf.mit.edu//store/user/bmaier/suep/official_private/2018/GluGluToSUEP_HT400_T0p35_mS400.000_mPhi1.400_T0.350_modehadronic_TuneCP5_13TeV//Scouting_GluGluToSUEP_HT400_T0p35_mS400.000_mPhi1.400_T0.350_modehadronic_TuneCP5_13TeV_23984.root:Events\n"
     ]
    },
    {
     "name": "stderr",
     "output_type": "stream",
     "text": [
      " 33%|███▎      | 33/101 [00:05<00:10,  6.63it/s]"
     ]
    },
    {
     "name": "stdout",
     "output_type": "stream",
     "text": [
      "File failed:root://xrootd.cmsaf.mit.edu//store/user/bmaier/suep/official_private/2018/GluGluToSUEP_HT400_T0p35_mS400.000_mPhi1.400_T0.350_modehadronic_TuneCP5_13TeV//Scouting_GluGluToSUEP_HT400_T0p35_mS400.000_mPhi1.400_T0.350_modehadronic_TuneCP5_13TeV_2449157.root:Events\n",
      "File failed:root://xrootd.cmsaf.mit.edu//store/user/bmaier/suep/official_private/2018/GluGluToSUEP_HT400_T0p35_mS400.000_mPhi1.400_T0.350_modehadronic_TuneCP5_13TeV//Scouting_GluGluToSUEP_HT400_T0p35_mS400.000_mPhi1.400_T0.350_modehadronic_TuneCP5_13TeV_257895.root:Events\n"
     ]
    },
    {
     "name": "stderr",
     "output_type": "stream",
     "text": [
      " 36%|███▌      | 36/101 [00:05<00:07,  8.24it/s]"
     ]
    },
    {
     "name": "stdout",
     "output_type": "stream",
     "text": [
      "File failed:root://xrootd.cmsaf.mit.edu//store/user/bmaier/suep/official_private/2018/GluGluToSUEP_HT400_T0p35_mS400.000_mPhi1.400_T0.350_modehadronic_TuneCP5_13TeV//Scouting_GluGluToSUEP_HT400_T0p35_mS400.000_mPhi1.400_T0.350_modehadronic_TuneCP5_13TeV_2605235.root:Events\n",
      "File failed:root://xrootd.cmsaf.mit.edu//store/user/bmaier/suep/official_private/2018/GluGluToSUEP_HT400_T0p35_mS400.000_mPhi1.400_T0.350_modehadronic_TuneCP5_13TeV//Scouting_GluGluToSUEP_HT400_T0p35_mS400.000_mPhi1.400_T0.350_modehadronic_TuneCP5_13TeV_2686890.root:Events\n",
      "File failed:root://xrootd.cmsaf.mit.edu//store/user/bmaier/suep/official_private/2018/GluGluToSUEP_HT400_T0p35_mS400.000_mPhi1.400_T0.350_modehadronic_TuneCP5_13TeV//Scouting_GluGluToSUEP_HT400_T0p35_mS400.000_mPhi1.400_T0.350_modehadronic_TuneCP5_13TeV_269659.root:Events\n"
     ]
    },
    {
     "name": "stderr",
     "output_type": "stream",
     "text": [
      " 38%|███▊      | 38/101 [00:05<00:07,  8.81it/s]"
     ]
    },
    {
     "name": "stdout",
     "output_type": "stream",
     "text": [
      "File failed:root://xrootd.cmsaf.mit.edu//store/user/bmaier/suep/official_private/2018/GluGluToSUEP_HT400_T0p35_mS400.000_mPhi1.400_T0.350_modehadronic_TuneCP5_13TeV//Scouting_GluGluToSUEP_HT400_T0p35_mS400.000_mPhi1.400_T0.350_modehadronic_TuneCP5_13TeV_2767054.root:Events\n",
      "File failed:root://xrootd.cmsaf.mit.edu//store/user/bmaier/suep/official_private/2018/GluGluToSUEP_HT400_T0p35_mS400.000_mPhi1.400_T0.350_modehadronic_TuneCP5_13TeV//Scouting_GluGluToSUEP_HT400_T0p35_mS400.000_mPhi1.400_T0.350_modehadronic_TuneCP5_13TeV_280468.root:Events\n"
     ]
    },
    {
     "name": "stderr",
     "output_type": "stream",
     "text": [
      " 40%|███▉      | 40/101 [00:06<00:10,  6.08it/s]"
     ]
    },
    {
     "name": "stdout",
     "output_type": "stream",
     "text": [
      "File failed:root://xrootd.cmsaf.mit.edu//store/user/bmaier/suep/official_private/2018/GluGluToSUEP_HT400_T0p35_mS400.000_mPhi1.400_T0.350_modehadronic_TuneCP5_13TeV//Scouting_GluGluToSUEP_HT400_T0p35_mS400.000_mPhi1.400_T0.350_modehadronic_TuneCP5_13TeV_2808138.root:Events\n",
      "File failed:root://xrootd.cmsaf.mit.edu//store/user/bmaier/suep/official_private/2018/GluGluToSUEP_HT400_T0p35_mS400.000_mPhi1.400_T0.350_modehadronic_TuneCP5_13TeV//Scouting_GluGluToSUEP_HT400_T0p35_mS400.000_mPhi1.400_T0.350_modehadronic_TuneCP5_13TeV_2829604.root:Events\n"
     ]
    },
    {
     "name": "stderr",
     "output_type": "stream",
     "text": [
      " 43%|████▎     | 43/101 [00:06<00:07,  7.59it/s]"
     ]
    },
    {
     "name": "stdout",
     "output_type": "stream",
     "text": [
      "File failed:root://xrootd.cmsaf.mit.edu//store/user/bmaier/suep/official_private/2018/GluGluToSUEP_HT400_T0p35_mS400.000_mPhi1.400_T0.350_modehadronic_TuneCP5_13TeV//Scouting_GluGluToSUEP_HT400_T0p35_mS400.000_mPhi1.400_T0.350_modehadronic_TuneCP5_13TeV_2852167.root:Events\n",
      "File failed:root://xrootd.cmsaf.mit.edu//store/user/bmaier/suep/official_private/2018/GluGluToSUEP_HT400_T0p35_mS400.000_mPhi1.400_T0.350_modehadronic_TuneCP5_13TeV//Scouting_GluGluToSUEP_HT400_T0p35_mS400.000_mPhi1.400_T0.350_modehadronic_TuneCP5_13TeV_2929500.root:Events\n",
      "File failed:root://xrootd.cmsaf.mit.edu//store/user/bmaier/suep/official_private/2018/GluGluToSUEP_HT400_T0p35_mS400.000_mPhi1.400_T0.350_modehadronic_TuneCP5_13TeV//Scouting_GluGluToSUEP_HT400_T0p35_mS400.000_mPhi1.400_T0.350_modehadronic_TuneCP5_13TeV_2931542.root:Events\n"
     ]
    },
    {
     "name": "stderr",
     "output_type": "stream",
     "text": [
      " 46%|████▌     | 46/101 [00:06<00:06,  8.87it/s]"
     ]
    },
    {
     "name": "stdout",
     "output_type": "stream",
     "text": [
      "File failed:root://xrootd.cmsaf.mit.edu//store/user/bmaier/suep/official_private/2018/GluGluToSUEP_HT400_T0p35_mS400.000_mPhi1.400_T0.350_modehadronic_TuneCP5_13TeV//Scouting_GluGluToSUEP_HT400_T0p35_mS400.000_mPhi1.400_T0.350_modehadronic_TuneCP5_13TeV_2935624.root:Events\n",
      "File failed:root://xrootd.cmsaf.mit.edu//store/user/bmaier/suep/official_private/2018/GluGluToSUEP_HT400_T0p35_mS400.000_mPhi1.400_T0.350_modehadronic_TuneCP5_13TeV//Scouting_GluGluToSUEP_HT400_T0p35_mS400.000_mPhi1.400_T0.350_modehadronic_TuneCP5_13TeV_2948173.root:Events\n",
      "File failed:root://xrootd.cmsaf.mit.edu//store/user/bmaier/suep/official_private/2018/GluGluToSUEP_HT400_T0p35_mS400.000_mPhi1.400_T0.350_modehadronic_TuneCP5_13TeV//Scouting_GluGluToSUEP_HT400_T0p35_mS400.000_mPhi1.400_T0.350_modehadronic_TuneCP5_13TeV_2972743.root:Events\n"
     ]
    },
    {
     "name": "stderr",
     "output_type": "stream",
     "text": [
      " 49%|████▊     | 49/101 [00:07<00:05,  9.46it/s]"
     ]
    },
    {
     "name": "stdout",
     "output_type": "stream",
     "text": [
      "File failed:root://xrootd.cmsaf.mit.edu//store/user/bmaier/suep/official_private/2018/GluGluToSUEP_HT400_T0p35_mS400.000_mPhi1.400_T0.350_modehadronic_TuneCP5_13TeV//Scouting_GluGluToSUEP_HT400_T0p35_mS400.000_mPhi1.400_T0.350_modehadronic_TuneCP5_13TeV_3045046.root:Events\n",
      "File failed:root://xrootd.cmsaf.mit.edu//store/user/bmaier/suep/official_private/2018/GluGluToSUEP_HT400_T0p35_mS400.000_mPhi1.400_T0.350_modehadronic_TuneCP5_13TeV//Scouting_GluGluToSUEP_HT400_T0p35_mS400.000_mPhi1.400_T0.350_modehadronic_TuneCP5_13TeV_315662.root:Events\n",
      "File failed:root://xrootd.cmsaf.mit.edu//store/user/bmaier/suep/official_private/2018/GluGluToSUEP_HT400_T0p35_mS400.000_mPhi1.400_T0.350_modehadronic_TuneCP5_13TeV//Scouting_GluGluToSUEP_HT400_T0p35_mS400.000_mPhi1.400_T0.350_modehadronic_TuneCP5_13TeV_315669.root:Events\n"
     ]
    },
    {
     "name": "stderr",
     "output_type": "stream",
     "text": [
      " 51%|█████▏    | 52/101 [00:07<00:07,  6.80it/s]"
     ]
    },
    {
     "name": "stdout",
     "output_type": "stream",
     "text": [
      "File failed:root://xrootd.cmsaf.mit.edu//store/user/bmaier/suep/official_private/2018/GluGluToSUEP_HT400_T0p35_mS400.000_mPhi1.400_T0.350_modehadronic_TuneCP5_13TeV//Scouting_GluGluToSUEP_HT400_T0p35_mS400.000_mPhi1.400_T0.350_modehadronic_TuneCP5_13TeV_3168204.root:Events\n",
      "File failed:root://xrootd.cmsaf.mit.edu//store/user/bmaier/suep/official_private/2018/GluGluToSUEP_HT400_T0p35_mS400.000_mPhi1.400_T0.350_modehadronic_TuneCP5_13TeV//Scouting_GluGluToSUEP_HT400_T0p35_mS400.000_mPhi1.400_T0.350_modehadronic_TuneCP5_13TeV_3170425.root:Events\n",
      "File failed:root://xrootd.cmsaf.mit.edu//store/user/bmaier/suep/official_private/2018/GluGluToSUEP_HT400_T0p35_mS400.000_mPhi1.400_T0.350_modehadronic_TuneCP5_13TeV//Scouting_GluGluToSUEP_HT400_T0p35_mS400.000_mPhi1.400_T0.350_modehadronic_TuneCP5_13TeV_3173940.root:Events\n"
     ]
    },
    {
     "name": "stderr",
     "output_type": "stream",
     "text": [
      " 53%|█████▎    | 54/101 [00:08<00:06,  7.58it/s]"
     ]
    },
    {
     "name": "stdout",
     "output_type": "stream",
     "text": [
      "File failed:root://xrootd.cmsaf.mit.edu//store/user/bmaier/suep/official_private/2018/GluGluToSUEP_HT400_T0p35_mS400.000_mPhi1.400_T0.350_modehadronic_TuneCP5_13TeV//Scouting_GluGluToSUEP_HT400_T0p35_mS400.000_mPhi1.400_T0.350_modehadronic_TuneCP5_13TeV_3229941.root:Events\n",
      "File failed:root://xrootd.cmsaf.mit.edu//store/user/bmaier/suep/official_private/2018/GluGluToSUEP_HT400_T0p35_mS400.000_mPhi1.400_T0.350_modehadronic_TuneCP5_13TeV//Scouting_GluGluToSUEP_HT400_T0p35_mS400.000_mPhi1.400_T0.350_modehadronic_TuneCP5_13TeV_3230591.root:Events\n"
     ]
    },
    {
     "name": "stderr",
     "output_type": "stream",
     "text": [
      " 54%|█████▍    | 55/101 [00:08<00:05,  8.05it/s]"
     ]
    },
    {
     "name": "stdout",
     "output_type": "stream",
     "text": [
      "File failed:root://xrootd.cmsaf.mit.edu//store/user/bmaier/suep/official_private/2018/GluGluToSUEP_HT400_T0p35_mS400.000_mPhi1.400_T0.350_modehadronic_TuneCP5_13TeV//Scouting_GluGluToSUEP_HT400_T0p35_mS400.000_mPhi1.400_T0.350_modehadronic_TuneCP5_13TeV_3261095.root:Events\n"
     ]
    },
    {
     "name": "stderr",
     "output_type": "stream",
     "text": [
      " 56%|█████▋    | 57/101 [00:09<00:15,  2.75it/s]"
     ]
    },
    {
     "name": "stdout",
     "output_type": "stream",
     "text": [
      "File failed:root://xrootd.cmsaf.mit.edu//store/user/bmaier/suep/official_private/2018/GluGluToSUEP_HT400_T0p35_mS400.000_mPhi1.400_T0.350_modehadronic_TuneCP5_13TeV//Scouting_GluGluToSUEP_HT400_T0p35_mS400.000_mPhi1.400_T0.350_modehadronic_TuneCP5_13TeV_3292130.root:Events\n",
      "File failed:root://xrootd.cmsaf.mit.edu//store/user/bmaier/suep/official_private/2018/GluGluToSUEP_HT400_T0p35_mS400.000_mPhi1.400_T0.350_modehadronic_TuneCP5_13TeV//Scouting_GluGluToSUEP_HT400_T0p35_mS400.000_mPhi1.400_T0.350_modehadronic_TuneCP5_13TeV_3403717.root:Events\n"
     ]
    },
    {
     "name": "stderr",
     "output_type": "stream",
     "text": [
      " 58%|█████▊    | 59/101 [00:10<00:12,  3.25it/s]"
     ]
    },
    {
     "name": "stdout",
     "output_type": "stream",
     "text": [
      "File failed:root://xrootd.cmsaf.mit.edu//store/user/bmaier/suep/official_private/2018/GluGluToSUEP_HT400_T0p35_mS400.000_mPhi1.400_T0.350_modehadronic_TuneCP5_13TeV//Scouting_GluGluToSUEP_HT400_T0p35_mS400.000_mPhi1.400_T0.350_modehadronic_TuneCP5_13TeV_3438560.root:Events\n",
      "File failed:root://xrootd.cmsaf.mit.edu//store/user/bmaier/suep/official_private/2018/GluGluToSUEP_HT400_T0p35_mS400.000_mPhi1.400_T0.350_modehadronic_TuneCP5_13TeV//Scouting_GluGluToSUEP_HT400_T0p35_mS400.000_mPhi1.400_T0.350_modehadronic_TuneCP5_13TeV_3465638.root:Events\n"
     ]
    },
    {
     "name": "stderr",
     "output_type": "stream",
     "text": [
      " 59%|█████▉    | 60/101 [00:10<00:10,  4.01it/s]"
     ]
    },
    {
     "name": "stdout",
     "output_type": "stream",
     "text": [
      "File failed:root://xrootd.cmsaf.mit.edu//store/user/bmaier/suep/official_private/2018/GluGluToSUEP_HT400_T0p35_mS400.000_mPhi1.400_T0.350_modehadronic_TuneCP5_13TeV//Scouting_GluGluToSUEP_HT400_T0p35_mS400.000_mPhi1.400_T0.350_modehadronic_TuneCP5_13TeV_3488921.root:Events\n",
      "File failed:root://xrootd.cmsaf.mit.edu//store/user/bmaier/suep/official_private/2018/GluGluToSUEP_HT400_T0p35_mS400.000_mPhi1.400_T0.350_modehadronic_TuneCP5_13TeV//Scouting_GluGluToSUEP_HT400_T0p35_mS400.000_mPhi1.400_T0.350_modehadronic_TuneCP5_13TeV_3579292.root:Events\n"
     ]
    },
    {
     "name": "stderr",
     "output_type": "stream",
     "text": [
      " 61%|██████▏   | 62/101 [00:11<00:18,  2.13it/s]"
     ]
    },
    {
     "name": "stdout",
     "output_type": "stream",
     "text": [
      "File failed:root://xrootd.cmsaf.mit.edu//store/user/bmaier/suep/official_private/2018/GluGluToSUEP_HT400_T0p35_mS400.000_mPhi1.400_T0.350_modehadronic_TuneCP5_13TeV//Scouting_GluGluToSUEP_HT400_T0p35_mS400.000_mPhi1.400_T0.350_modehadronic_TuneCP5_13TeV_3602279.root:Events\n"
     ]
    },
    {
     "name": "stderr",
     "output_type": "stream",
     "text": [
      " 63%|██████▎   | 64/101 [00:12<00:13,  2.67it/s]"
     ]
    },
    {
     "name": "stdout",
     "output_type": "stream",
     "text": [
      "File failed:root://xrootd.cmsaf.mit.edu//store/user/bmaier/suep/official_private/2018/GluGluToSUEP_HT400_T0p35_mS400.000_mPhi1.400_T0.350_modehadronic_TuneCP5_13TeV//Scouting_GluGluToSUEP_HT400_T0p35_mS400.000_mPhi1.400_T0.350_modehadronic_TuneCP5_13TeV_3604208.root:Events\n",
      "File failed:root://xrootd.cmsaf.mit.edu//store/user/bmaier/suep/official_private/2018/GluGluToSUEP_HT400_T0p35_mS400.000_mPhi1.400_T0.350_modehadronic_TuneCP5_13TeV//Scouting_GluGluToSUEP_HT400_T0p35_mS400.000_mPhi1.400_T0.350_modehadronic_TuneCP5_13TeV_3627351.root:Events\n"
     ]
    },
    {
     "name": "stderr",
     "output_type": "stream",
     "text": [
      " 66%|██████▋   | 67/101 [00:13<00:08,  3.83it/s]"
     ]
    },
    {
     "name": "stdout",
     "output_type": "stream",
     "text": [
      "File failed:root://xrootd.cmsaf.mit.edu//store/user/bmaier/suep/official_private/2018/GluGluToSUEP_HT400_T0p35_mS400.000_mPhi1.400_T0.350_modehadronic_TuneCP5_13TeV//Scouting_GluGluToSUEP_HT400_T0p35_mS400.000_mPhi1.400_T0.350_modehadronic_TuneCP5_13TeV_3633201.root:Events\n",
      "File failed:root://xrootd.cmsaf.mit.edu//store/user/bmaier/suep/official_private/2018/GluGluToSUEP_HT400_T0p35_mS400.000_mPhi1.400_T0.350_modehadronic_TuneCP5_13TeV//Scouting_GluGluToSUEP_HT400_T0p35_mS400.000_mPhi1.400_T0.350_modehadronic_TuneCP5_13TeV_3838763.root:Events\n",
      "File failed:root://xrootd.cmsaf.mit.edu//store/user/bmaier/suep/official_private/2018/GluGluToSUEP_HT400_T0p35_mS400.000_mPhi1.400_T0.350_modehadronic_TuneCP5_13TeV//Scouting_GluGluToSUEP_HT400_T0p35_mS400.000_mPhi1.400_T0.350_modehadronic_TuneCP5_13TeV_3842390.root:Events\n"
     ]
    },
    {
     "name": "stderr",
     "output_type": "stream",
     "text": [
      " 68%|██████▊   | 69/101 [00:13<00:06,  5.21it/s]"
     ]
    },
    {
     "name": "stdout",
     "output_type": "stream",
     "text": [
      "File failed:root://xrootd.cmsaf.mit.edu//store/user/bmaier/suep/official_private/2018/GluGluToSUEP_HT400_T0p35_mS400.000_mPhi1.400_T0.350_modehadronic_TuneCP5_13TeV//Scouting_GluGluToSUEP_HT400_T0p35_mS400.000_mPhi1.400_T0.350_modehadronic_TuneCP5_13TeV_3881453.root:Events\n",
      "File failed:root://xrootd.cmsaf.mit.edu//store/user/bmaier/suep/official_private/2018/GluGluToSUEP_HT400_T0p35_mS400.000_mPhi1.400_T0.350_modehadronic_TuneCP5_13TeV//Scouting_GluGluToSUEP_HT400_T0p35_mS400.000_mPhi1.400_T0.350_modehadronic_TuneCP5_13TeV_3910576.root:Events\n"
     ]
    },
    {
     "name": "stderr",
     "output_type": "stream",
     "text": [
      " 69%|██████▉   | 70/101 [00:13<00:05,  5.58it/s]"
     ]
    },
    {
     "name": "stdout",
     "output_type": "stream",
     "text": [
      "File failed:root://xrootd.cmsaf.mit.edu//store/user/bmaier/suep/official_private/2018/GluGluToSUEP_HT400_T0p35_mS400.000_mPhi1.400_T0.350_modehadronic_TuneCP5_13TeV//Scouting_GluGluToSUEP_HT400_T0p35_mS400.000_mPhi1.400_T0.350_modehadronic_TuneCP5_13TeV_394208.root:Events\n"
     ]
    },
    {
     "name": "stderr",
     "output_type": "stream",
     "text": [
      " 72%|███████▏  | 73/101 [00:13<00:05,  5.53it/s]"
     ]
    },
    {
     "name": "stdout",
     "output_type": "stream",
     "text": [
      "File failed:root://xrootd.cmsaf.mit.edu//store/user/bmaier/suep/official_private/2018/GluGluToSUEP_HT400_T0p35_mS400.000_mPhi1.400_T0.350_modehadronic_TuneCP5_13TeV//Scouting_GluGluToSUEP_HT400_T0p35_mS400.000_mPhi1.400_T0.350_modehadronic_TuneCP5_13TeV_3942895.root:Events\n",
      "File failed:root://xrootd.cmsaf.mit.edu//store/user/bmaier/suep/official_private/2018/GluGluToSUEP_HT400_T0p35_mS400.000_mPhi1.400_T0.350_modehadronic_TuneCP5_13TeV//Scouting_GluGluToSUEP_HT400_T0p35_mS400.000_mPhi1.400_T0.350_modehadronic_TuneCP5_13TeV_399244.root:Events\n",
      "File failed:root://xrootd.cmsaf.mit.edu//store/user/bmaier/suep/official_private/2018/GluGluToSUEP_HT400_T0p35_mS400.000_mPhi1.400_T0.350_modehadronic_TuneCP5_13TeV//Scouting_GluGluToSUEP_HT400_T0p35_mS400.000_mPhi1.400_T0.350_modehadronic_TuneCP5_13TeV_4307983.root:Events\n"
     ]
    },
    {
     "name": "stderr",
     "output_type": "stream",
     "text": [
      " 73%|███████▎  | 74/101 [00:14<00:04,  5.67it/s]"
     ]
    },
    {
     "name": "stdout",
     "output_type": "stream",
     "text": [
      "File failed:root://xrootd.cmsaf.mit.edu//store/user/bmaier/suep/official_private/2018/GluGluToSUEP_HT400_T0p35_mS400.000_mPhi1.400_T0.350_modehadronic_TuneCP5_13TeV//Scouting_GluGluToSUEP_HT400_T0p35_mS400.000_mPhi1.400_T0.350_modehadronic_TuneCP5_13TeV_4355885.root:Events\n"
     ]
    },
    {
     "name": "stderr",
     "output_type": "stream",
     "text": [
      " 74%|███████▍  | 75/101 [00:14<00:05,  4.63it/s]"
     ]
    },
    {
     "name": "stdout",
     "output_type": "stream",
     "text": [
      "File failed:root://xrootd.cmsaf.mit.edu//store/user/bmaier/suep/official_private/2018/GluGluToSUEP_HT400_T0p35_mS400.000_mPhi1.400_T0.350_modehadronic_TuneCP5_13TeV//Scouting_GluGluToSUEP_HT400_T0p35_mS400.000_mPhi1.400_T0.350_modehadronic_TuneCP5_13TeV_4376409.root:Events\n",
      "File failed:root://xrootd.cmsaf.mit.edu//store/user/bmaier/suep/official_private/2018/GluGluToSUEP_HT400_T0p35_mS400.000_mPhi1.400_T0.350_modehadronic_TuneCP5_13TeV//Scouting_GluGluToSUEP_HT400_T0p35_mS400.000_mPhi1.400_T0.350_modehadronic_TuneCP5_13TeV_4401272.root:Events\n"
     ]
    },
    {
     "name": "stderr",
     "output_type": "stream",
     "text": [
      " 77%|███████▋  | 78/101 [00:14<00:03,  6.27it/s]"
     ]
    },
    {
     "name": "stdout",
     "output_type": "stream",
     "text": [
      "File failed:root://xrootd.cmsaf.mit.edu//store/user/bmaier/suep/official_private/2018/GluGluToSUEP_HT400_T0p35_mS400.000_mPhi1.400_T0.350_modehadronic_TuneCP5_13TeV//Scouting_GluGluToSUEP_HT400_T0p35_mS400.000_mPhi1.400_T0.350_modehadronic_TuneCP5_13TeV_4468795.root:Events\n",
      "File failed:root://xrootd.cmsaf.mit.edu//store/user/bmaier/suep/official_private/2018/GluGluToSUEP_HT400_T0p35_mS400.000_mPhi1.400_T0.350_modehadronic_TuneCP5_13TeV//Scouting_GluGluToSUEP_HT400_T0p35_mS400.000_mPhi1.400_T0.350_modehadronic_TuneCP5_13TeV_4474199.root:Events\n"
     ]
    },
    {
     "name": "stderr",
     "output_type": "stream",
     "text": [
      " 80%|████████  | 81/101 [00:15<00:02,  8.12it/s]"
     ]
    },
    {
     "name": "stdout",
     "output_type": "stream",
     "text": [
      "File failed:root://xrootd.cmsaf.mit.edu//store/user/bmaier/suep/official_private/2018/GluGluToSUEP_HT400_T0p35_mS400.000_mPhi1.400_T0.350_modehadronic_TuneCP5_13TeV//Scouting_GluGluToSUEP_HT400_T0p35_mS400.000_mPhi1.400_T0.350_modehadronic_TuneCP5_13TeV_4488016.root:Events\n",
      "File failed:root://xrootd.cmsaf.mit.edu//store/user/bmaier/suep/official_private/2018/GluGluToSUEP_HT400_T0p35_mS400.000_mPhi1.400_T0.350_modehadronic_TuneCP5_13TeV//Scouting_GluGluToSUEP_HT400_T0p35_mS400.000_mPhi1.400_T0.350_modehadronic_TuneCP5_13TeV_4502932.root:Events\n",
      "File failed:root://xrootd.cmsaf.mit.edu//store/user/bmaier/suep/official_private/2018/GluGluToSUEP_HT400_T0p35_mS400.000_mPhi1.400_T0.350_modehadronic_TuneCP5_13TeV//Scouting_GluGluToSUEP_HT400_T0p35_mS400.000_mPhi1.400_T0.350_modehadronic_TuneCP5_13TeV_4551614.root:Events\n"
     ]
    },
    {
     "name": "stderr",
     "output_type": "stream",
     "text": [
      " 82%|████████▏ | 83/101 [00:15<00:02,  8.78it/s]"
     ]
    },
    {
     "name": "stdout",
     "output_type": "stream",
     "text": [
      "File failed:root://xrootd.cmsaf.mit.edu//store/user/bmaier/suep/official_private/2018/GluGluToSUEP_HT400_T0p35_mS400.000_mPhi1.400_T0.350_modehadronic_TuneCP5_13TeV//Scouting_GluGluToSUEP_HT400_T0p35_mS400.000_mPhi1.400_T0.350_modehadronic_TuneCP5_13TeV_4641532.root:Events\n",
      "File failed:root://xrootd.cmsaf.mit.edu//store/user/bmaier/suep/official_private/2018/GluGluToSUEP_HT400_T0p35_mS400.000_mPhi1.400_T0.350_modehadronic_TuneCP5_13TeV//Scouting_GluGluToSUEP_HT400_T0p35_mS400.000_mPhi1.400_T0.350_modehadronic_TuneCP5_13TeV_4653894.root:Events\n"
     ]
    },
    {
     "name": "stderr",
     "output_type": "stream",
     "text": [
      " 84%|████████▍ | 85/101 [00:15<00:01,  9.44it/s]"
     ]
    },
    {
     "name": "stdout",
     "output_type": "stream",
     "text": [
      "File failed:root://xrootd.cmsaf.mit.edu//store/user/bmaier/suep/official_private/2018/GluGluToSUEP_HT400_T0p35_mS400.000_mPhi1.400_T0.350_modehadronic_TuneCP5_13TeV//Scouting_GluGluToSUEP_HT400_T0p35_mS400.000_mPhi1.400_T0.350_modehadronic_TuneCP5_13TeV_4675873.root:Events\n",
      "File failed:root://xrootd.cmsaf.mit.edu//store/user/bmaier/suep/official_private/2018/GluGluToSUEP_HT400_T0p35_mS400.000_mPhi1.400_T0.350_modehadronic_TuneCP5_13TeV//Scouting_GluGluToSUEP_HT400_T0p35_mS400.000_mPhi1.400_T0.350_modehadronic_TuneCP5_13TeV_4845022.root:Events\n"
     ]
    },
    {
     "name": "stderr",
     "output_type": "stream",
     "text": [
      " 86%|████████▌ | 87/101 [00:15<00:02,  6.26it/s]"
     ]
    },
    {
     "name": "stdout",
     "output_type": "stream",
     "text": [
      "File failed:root://xrootd.cmsaf.mit.edu//store/user/bmaier/suep/official_private/2018/GluGluToSUEP_HT400_T0p35_mS400.000_mPhi1.400_T0.350_modehadronic_TuneCP5_13TeV//Scouting_GluGluToSUEP_HT400_T0p35_mS400.000_mPhi1.400_T0.350_modehadronic_TuneCP5_13TeV_4848538.root:Events\n",
      "File failed:root://xrootd.cmsaf.mit.edu//store/user/bmaier/suep/official_private/2018/GluGluToSUEP_HT400_T0p35_mS400.000_mPhi1.400_T0.350_modehadronic_TuneCP5_13TeV//Scouting_GluGluToSUEP_HT400_T0p35_mS400.000_mPhi1.400_T0.350_modehadronic_TuneCP5_13TeV_485702.root:Events\n"
     ]
    },
    {
     "name": "stderr",
     "output_type": "stream",
     "text": [
      " 88%|████████▊ | 89/101 [00:16<00:01,  8.11it/s]"
     ]
    },
    {
     "name": "stdout",
     "output_type": "stream",
     "text": [
      "File failed:root://xrootd.cmsaf.mit.edu//store/user/bmaier/suep/official_private/2018/GluGluToSUEP_HT400_T0p35_mS400.000_mPhi1.400_T0.350_modehadronic_TuneCP5_13TeV//Scouting_GluGluToSUEP_HT400_T0p35_mS400.000_mPhi1.400_T0.350_modehadronic_TuneCP5_13TeV_4922954.root:Events\n",
      "File failed:root://xrootd.cmsaf.mit.edu//store/user/bmaier/suep/official_private/2018/GluGluToSUEP_HT400_T0p35_mS400.000_mPhi1.400_T0.350_modehadronic_TuneCP5_13TeV//Scouting_GluGluToSUEP_HT400_T0p35_mS400.000_mPhi1.400_T0.350_modehadronic_TuneCP5_13TeV_4985950.root:Events\n"
     ]
    },
    {
     "name": "stderr",
     "output_type": "stream",
     "text": [
      " 90%|█████████ | 91/101 [00:16<00:01,  7.54it/s]"
     ]
    },
    {
     "name": "stdout",
     "output_type": "stream",
     "text": [
      "File failed:root://xrootd.cmsaf.mit.edu//store/user/bmaier/suep/official_private/2018/GluGluToSUEP_HT400_T0p35_mS400.000_mPhi1.400_T0.350_modehadronic_TuneCP5_13TeV//Scouting_GluGluToSUEP_HT400_T0p35_mS400.000_mPhi1.400_T0.350_modehadronic_TuneCP5_13TeV_4998541.root:Events\n",
      "File failed:root://xrootd.cmsaf.mit.edu//store/user/bmaier/suep/official_private/2018/GluGluToSUEP_HT400_T0p35_mS400.000_mPhi1.400_T0.350_modehadronic_TuneCP5_13TeV//Scouting_GluGluToSUEP_HT400_T0p35_mS400.000_mPhi1.400_T0.350_modehadronic_TuneCP5_13TeV_556463.root:Events\n"
     ]
    },
    {
     "name": "stderr",
     "output_type": "stream",
     "text": [
      " 91%|█████████ | 92/101 [00:16<00:01,  7.13it/s]"
     ]
    },
    {
     "name": "stdout",
     "output_type": "stream",
     "text": [
      "File failed:root://xrootd.cmsaf.mit.edu//store/user/bmaier/suep/official_private/2018/GluGluToSUEP_HT400_T0p35_mS400.000_mPhi1.400_T0.350_modehadronic_TuneCP5_13TeV//Scouting_GluGluToSUEP_HT400_T0p35_mS400.000_mPhi1.400_T0.350_modehadronic_TuneCP5_13TeV_563096.root:Events\n",
      "File failed:root://xrootd.cmsaf.mit.edu//store/user/bmaier/suep/official_private/2018/GluGluToSUEP_HT400_T0p35_mS400.000_mPhi1.400_T0.350_modehadronic_TuneCP5_13TeV//Scouting_GluGluToSUEP_HT400_T0p35_mS400.000_mPhi1.400_T0.350_modehadronic_TuneCP5_13TeV_575675.root:Events\n"
     ]
    },
    {
     "name": "stderr",
     "output_type": "stream",
     "text": [
      " 93%|█████████▎| 94/101 [00:20<00:05,  1.19it/s]"
     ]
    },
    {
     "name": "stdout",
     "output_type": "stream",
     "text": [
      "File failed:root://xrootd.cmsaf.mit.edu//store/user/bmaier/suep/official_private/2018/GluGluToSUEP_HT400_T0p35_mS400.000_mPhi1.400_T0.350_modehadronic_TuneCP5_13TeV//Scouting_GluGluToSUEP_HT400_T0p35_mS400.000_mPhi1.400_T0.350_modehadronic_TuneCP5_13TeV_607745.root:Events\n",
      "File failed:root://xrootd.cmsaf.mit.edu//store/user/bmaier/suep/official_private/2018/GluGluToSUEP_HT400_T0p35_mS400.000_mPhi1.400_T0.350_modehadronic_TuneCP5_13TeV//Scouting_GluGluToSUEP_HT400_T0p35_mS400.000_mPhi1.400_T0.350_modehadronic_TuneCP5_13TeV_647844.root:Events\n"
     ]
    },
    {
     "name": "stderr",
     "output_type": "stream",
     "text": [
      " 95%|█████████▌| 96/101 [00:20<00:03,  1.63it/s]"
     ]
    },
    {
     "name": "stdout",
     "output_type": "stream",
     "text": [
      "File failed:root://xrootd.cmsaf.mit.edu//store/user/bmaier/suep/official_private/2018/GluGluToSUEP_HT400_T0p35_mS400.000_mPhi1.400_T0.350_modehadronic_TuneCP5_13TeV//Scouting_GluGluToSUEP_HT400_T0p35_mS400.000_mPhi1.400_T0.350_modehadronic_TuneCP5_13TeV_648778.root:Events\n",
      "File failed:root://xrootd.cmsaf.mit.edu//store/user/bmaier/suep/official_private/2018/GluGluToSUEP_HT400_T0p35_mS400.000_mPhi1.400_T0.350_modehadronic_TuneCP5_13TeV//Scouting_GluGluToSUEP_HT400_T0p35_mS400.000_mPhi1.400_T0.350_modehadronic_TuneCP5_13TeV_705188.root:Events\n"
     ]
    },
    {
     "name": "stderr",
     "output_type": "stream",
     "text": [
      " 97%|█████████▋| 98/101 [00:20<00:01,  2.22it/s]"
     ]
    },
    {
     "name": "stdout",
     "output_type": "stream",
     "text": [
      "File failed:root://xrootd.cmsaf.mit.edu//store/user/bmaier/suep/official_private/2018/GluGluToSUEP_HT400_T0p35_mS400.000_mPhi1.400_T0.350_modehadronic_TuneCP5_13TeV//Scouting_GluGluToSUEP_HT400_T0p35_mS400.000_mPhi1.400_T0.350_modehadronic_TuneCP5_13TeV_714582.root:Events\n"
     ]
    },
    {
     "name": "stderr",
     "output_type": "stream",
     "text": [
      " 99%|█████████▉| 100/101 [00:21<00:00,  2.38it/s]"
     ]
    },
    {
     "name": "stdout",
     "output_type": "stream",
     "text": [
      "File failed:root://xrootd.cmsaf.mit.edu//store/user/bmaier/suep/official_private/2018/GluGluToSUEP_HT400_T0p35_mS400.000_mPhi1.400_T0.350_modehadronic_TuneCP5_13TeV//Scouting_GluGluToSUEP_HT400_T0p35_mS400.000_mPhi1.400_T0.350_modehadronic_TuneCP5_13TeV_759124.root:Events\n",
      "File failed:root://xrootd.cmsaf.mit.edu//store/user/bmaier/suep/official_private/2018/GluGluToSUEP_HT400_T0p35_mS400.000_mPhi1.400_T0.350_modehadronic_TuneCP5_13TeV//Scouting_GluGluToSUEP_HT400_T0p35_mS400.000_mPhi1.400_T0.350_modehadronic_TuneCP5_13TeV_783114.root:Events\n"
     ]
    },
    {
     "name": "stderr",
     "output_type": "stream",
     "text": [
      "100%|██████████| 101/101 [00:21<00:00,  4.61it/s]\n"
     ]
    },
    {
     "name": "stdout",
     "output_type": "stream",
     "text": [
      "File failed:root://xrootd.cmsaf.mit.edu//store/user/bmaier/suep/official_private/2018/GluGluToSUEP_HT400_T0p35_mS400.000_mPhi1.400_T0.350_modehadronic_TuneCP5_13TeV//Scouting_GluGluToSUEP_HT400_T0p35_mS400.000_mPhi1.400_T0.350_modehadronic_TuneCP5_13TeV_937227.root:Events\n",
      "Processing m=700 GeV for the hadronic decay mode:\n"
     ]
    },
    {
     "name": "stderr",
     "output_type": "stream",
     "text": [
      "  1%|          | 1/104 [00:00<00:17,  5.90it/s]"
     ]
    },
    {
     "name": "stdout",
     "output_type": "stream",
     "text": [
      "File failed:root://xrootd.cmsaf.mit.edu//store/user/bmaier/suep/official_private/2018/GluGluToSUEP_HT400_T0p35_mS700.000_mPhi1.400_T0.350_modehadronic_TuneCP5_13TeV//Scouting_GluGluToSUEP_HT400_T0p35_mS700.000_mPhi1.400_T0.350_modehadronic_TuneCP5_13TeV_100035.root:Events\n"
     ]
    },
    {
     "name": "stderr",
     "output_type": "stream",
     "text": [
      "  3%|▎         | 3/104 [00:00<00:09, 10.12it/s]"
     ]
    },
    {
     "name": "stdout",
     "output_type": "stream",
     "text": [
      "File failed:root://xrootd.cmsaf.mit.edu//store/user/bmaier/suep/official_private/2018/GluGluToSUEP_HT400_T0p35_mS700.000_mPhi1.400_T0.350_modehadronic_TuneCP5_13TeV//Scouting_GluGluToSUEP_HT400_T0p35_mS700.000_mPhi1.400_T0.350_modehadronic_TuneCP5_13TeV_1066933.root:Events\n",
      "File failed:root://xrootd.cmsaf.mit.edu//store/user/bmaier/suep/official_private/2018/GluGluToSUEP_HT400_T0p35_mS700.000_mPhi1.400_T0.350_modehadronic_TuneCP5_13TeV//Scouting_GluGluToSUEP_HT400_T0p35_mS700.000_mPhi1.400_T0.350_modehadronic_TuneCP5_13TeV_1127952.root:Events\n",
      "File failed:root://xrootd.cmsaf.mit.edu//store/user/bmaier/suep/official_private/2018/GluGluToSUEP_HT400_T0p35_mS700.000_mPhi1.400_T0.350_modehadronic_TuneCP5_13TeV//Scouting_GluGluToSUEP_HT400_T0p35_mS700.000_mPhi1.400_T0.350_modehadronic_TuneCP5_13TeV_1206539.root:Events\n"
     ]
    },
    {
     "name": "stderr",
     "output_type": "stream",
     "text": [
      "  5%|▍         | 5/104 [00:01<00:25,  3.94it/s]"
     ]
    },
    {
     "name": "stdout",
     "output_type": "stream",
     "text": [
      "File failed:root://xrootd.cmsaf.mit.edu//store/user/bmaier/suep/official_private/2018/GluGluToSUEP_HT400_T0p35_mS700.000_mPhi1.400_T0.350_modehadronic_TuneCP5_13TeV//Scouting_GluGluToSUEP_HT400_T0p35_mS700.000_mPhi1.400_T0.350_modehadronic_TuneCP5_13TeV_125138.root:Events\n",
      "File failed:root://xrootd.cmsaf.mit.edu//store/user/bmaier/suep/official_private/2018/GluGluToSUEP_HT400_T0p35_mS700.000_mPhi1.400_T0.350_modehadronic_TuneCP5_13TeV//Scouting_GluGluToSUEP_HT400_T0p35_mS700.000_mPhi1.400_T0.350_modehadronic_TuneCP5_13TeV_1278838.root:Events\n"
     ]
    },
    {
     "name": "stderr",
     "output_type": "stream",
     "text": [
      "  9%|▊         | 9/104 [00:01<00:17,  5.36it/s]"
     ]
    },
    {
     "name": "stdout",
     "output_type": "stream",
     "text": [
      "File failed:root://xrootd.cmsaf.mit.edu//store/user/bmaier/suep/official_private/2018/GluGluToSUEP_HT400_T0p35_mS700.000_mPhi1.400_T0.350_modehadronic_TuneCP5_13TeV//Scouting_GluGluToSUEP_HT400_T0p35_mS700.000_mPhi1.400_T0.350_modehadronic_TuneCP5_13TeV_1292311.root:Events\n",
      "File failed:root://xrootd.cmsaf.mit.edu//store/user/bmaier/suep/official_private/2018/GluGluToSUEP_HT400_T0p35_mS700.000_mPhi1.400_T0.350_modehadronic_TuneCP5_13TeV//Scouting_GluGluToSUEP_HT400_T0p35_mS700.000_mPhi1.400_T0.350_modehadronic_TuneCP5_13TeV_1304672.root:Events\n",
      "File failed:root://xrootd.cmsaf.mit.edu//store/user/bmaier/suep/official_private/2018/GluGluToSUEP_HT400_T0p35_mS700.000_mPhi1.400_T0.350_modehadronic_TuneCP5_13TeV//Scouting_GluGluToSUEP_HT400_T0p35_mS700.000_mPhi1.400_T0.350_modehadronic_TuneCP5_13TeV_1338075.root:Events\n"
     ]
    },
    {
     "name": "stderr",
     "output_type": "stream",
     "text": [
      " 12%|█▏        | 12/104 [00:02<00:12,  7.09it/s]"
     ]
    },
    {
     "name": "stdout",
     "output_type": "stream",
     "text": [
      "File failed:root://xrootd.cmsaf.mit.edu//store/user/bmaier/suep/official_private/2018/GluGluToSUEP_HT400_T0p35_mS700.000_mPhi1.400_T0.350_modehadronic_TuneCP5_13TeV//Scouting_GluGluToSUEP_HT400_T0p35_mS700.000_mPhi1.400_T0.350_modehadronic_TuneCP5_13TeV_1343224.root:Events\n",
      "File failed:root://xrootd.cmsaf.mit.edu//store/user/bmaier/suep/official_private/2018/GluGluToSUEP_HT400_T0p35_mS700.000_mPhi1.400_T0.350_modehadronic_TuneCP5_13TeV//Scouting_GluGluToSUEP_HT400_T0p35_mS700.000_mPhi1.400_T0.350_modehadronic_TuneCP5_13TeV_1413924.root:Events\n",
      "File failed:root://xrootd.cmsaf.mit.edu//store/user/bmaier/suep/official_private/2018/GluGluToSUEP_HT400_T0p35_mS700.000_mPhi1.400_T0.350_modehadronic_TuneCP5_13TeV//Scouting_GluGluToSUEP_HT400_T0p35_mS700.000_mPhi1.400_T0.350_modehadronic_TuneCP5_13TeV_1418754.root:Events\n"
     ]
    },
    {
     "name": "stderr",
     "output_type": "stream",
     "text": [
      " 14%|█▍        | 15/104 [00:02<00:10,  8.61it/s]"
     ]
    },
    {
     "name": "stdout",
     "output_type": "stream",
     "text": [
      "File failed:root://xrootd.cmsaf.mit.edu//store/user/bmaier/suep/official_private/2018/GluGluToSUEP_HT400_T0p35_mS700.000_mPhi1.400_T0.350_modehadronic_TuneCP5_13TeV//Scouting_GluGluToSUEP_HT400_T0p35_mS700.000_mPhi1.400_T0.350_modehadronic_TuneCP5_13TeV_1422766.root:Events\n",
      "File failed:root://xrootd.cmsaf.mit.edu//store/user/bmaier/suep/official_private/2018/GluGluToSUEP_HT400_T0p35_mS700.000_mPhi1.400_T0.350_modehadronic_TuneCP5_13TeV//Scouting_GluGluToSUEP_HT400_T0p35_mS700.000_mPhi1.400_T0.350_modehadronic_TuneCP5_13TeV_1453677.root:Events\n",
      "File failed:root://xrootd.cmsaf.mit.edu//store/user/bmaier/suep/official_private/2018/GluGluToSUEP_HT400_T0p35_mS700.000_mPhi1.400_T0.350_modehadronic_TuneCP5_13TeV//Scouting_GluGluToSUEP_HT400_T0p35_mS700.000_mPhi1.400_T0.350_modehadronic_TuneCP5_13TeV_1476895.root:Events\n"
     ]
    },
    {
     "name": "stderr",
     "output_type": "stream",
     "text": [
      " 16%|█▋        | 17/104 [00:02<00:11,  7.72it/s]"
     ]
    },
    {
     "name": "stdout",
     "output_type": "stream",
     "text": [
      "File failed:root://xrootd.cmsaf.mit.edu//store/user/bmaier/suep/official_private/2018/GluGluToSUEP_HT400_T0p35_mS700.000_mPhi1.400_T0.350_modehadronic_TuneCP5_13TeV//Scouting_GluGluToSUEP_HT400_T0p35_mS700.000_mPhi1.400_T0.350_modehadronic_TuneCP5_13TeV_1497626.root:Events\n",
      "File failed:root://xrootd.cmsaf.mit.edu//store/user/bmaier/suep/official_private/2018/GluGluToSUEP_HT400_T0p35_mS700.000_mPhi1.400_T0.350_modehadronic_TuneCP5_13TeV//Scouting_GluGluToSUEP_HT400_T0p35_mS700.000_mPhi1.400_T0.350_modehadronic_TuneCP5_13TeV_1498791.root:Events\n"
     ]
    },
    {
     "name": "stderr",
     "output_type": "stream",
     "text": [
      " 19%|█▉        | 20/104 [00:02<00:09,  8.81it/s]"
     ]
    },
    {
     "name": "stdout",
     "output_type": "stream",
     "text": [
      "File failed:root://xrootd.cmsaf.mit.edu//store/user/bmaier/suep/official_private/2018/GluGluToSUEP_HT400_T0p35_mS700.000_mPhi1.400_T0.350_modehadronic_TuneCP5_13TeV//Scouting_GluGluToSUEP_HT400_T0p35_mS700.000_mPhi1.400_T0.350_modehadronic_TuneCP5_13TeV_155620.root:Events\n",
      "File failed:root://xrootd.cmsaf.mit.edu//store/user/bmaier/suep/official_private/2018/GluGluToSUEP_HT400_T0p35_mS700.000_mPhi1.400_T0.350_modehadronic_TuneCP5_13TeV//Scouting_GluGluToSUEP_HT400_T0p35_mS700.000_mPhi1.400_T0.350_modehadronic_TuneCP5_13TeV_1606786.root:Events\n",
      "File failed:root://xrootd.cmsaf.mit.edu//store/user/bmaier/suep/official_private/2018/GluGluToSUEP_HT400_T0p35_mS700.000_mPhi1.400_T0.350_modehadronic_TuneCP5_13TeV//Scouting_GluGluToSUEP_HT400_T0p35_mS700.000_mPhi1.400_T0.350_modehadronic_TuneCP5_13TeV_1612924.root:Events\n"
     ]
    },
    {
     "name": "stderr",
     "output_type": "stream",
     "text": [
      " 21%|██        | 22/104 [00:03<00:14,  5.74it/s]"
     ]
    },
    {
     "name": "stdout",
     "output_type": "stream",
     "text": [
      "File failed:root://xrootd.cmsaf.mit.edu//store/user/bmaier/suep/official_private/2018/GluGluToSUEP_HT400_T0p35_mS700.000_mPhi1.400_T0.350_modehadronic_TuneCP5_13TeV//Scouting_GluGluToSUEP_HT400_T0p35_mS700.000_mPhi1.400_T0.350_modehadronic_TuneCP5_13TeV_1626203.root:Events\n",
      "File failed:root://xrootd.cmsaf.mit.edu//store/user/bmaier/suep/official_private/2018/GluGluToSUEP_HT400_T0p35_mS700.000_mPhi1.400_T0.350_modehadronic_TuneCP5_13TeV//Scouting_GluGluToSUEP_HT400_T0p35_mS700.000_mPhi1.400_T0.350_modehadronic_TuneCP5_13TeV_1656258.root:Events\n"
     ]
    },
    {
     "name": "stderr",
     "output_type": "stream",
     "text": [
      " 23%|██▎       | 24/104 [00:03<00:12,  6.66it/s]"
     ]
    },
    {
     "name": "stdout",
     "output_type": "stream",
     "text": [
      "File failed:root://xrootd.cmsaf.mit.edu//store/user/bmaier/suep/official_private/2018/GluGluToSUEP_HT400_T0p35_mS700.000_mPhi1.400_T0.350_modehadronic_TuneCP5_13TeV//Scouting_GluGluToSUEP_HT400_T0p35_mS700.000_mPhi1.400_T0.350_modehadronic_TuneCP5_13TeV_1686880.root:Events\n",
      "File failed:root://xrootd.cmsaf.mit.edu//store/user/bmaier/suep/official_private/2018/GluGluToSUEP_HT400_T0p35_mS700.000_mPhi1.400_T0.350_modehadronic_TuneCP5_13TeV//Scouting_GluGluToSUEP_HT400_T0p35_mS700.000_mPhi1.400_T0.350_modehadronic_TuneCP5_13TeV_1688599.root:Events\n"
     ]
    },
    {
     "name": "stderr",
     "output_type": "stream",
     "text": [
      " 25%|██▌       | 26/104 [00:04<00:10,  7.10it/s]"
     ]
    },
    {
     "name": "stdout",
     "output_type": "stream",
     "text": [
      "File failed:root://xrootd.cmsaf.mit.edu//store/user/bmaier/suep/official_private/2018/GluGluToSUEP_HT400_T0p35_mS700.000_mPhi1.400_T0.350_modehadronic_TuneCP5_13TeV//Scouting_GluGluToSUEP_HT400_T0p35_mS700.000_mPhi1.400_T0.350_modehadronic_TuneCP5_13TeV_169266.root:Events\n",
      "File failed:root://xrootd.cmsaf.mit.edu//store/user/bmaier/suep/official_private/2018/GluGluToSUEP_HT400_T0p35_mS700.000_mPhi1.400_T0.350_modehadronic_TuneCP5_13TeV//Scouting_GluGluToSUEP_HT400_T0p35_mS700.000_mPhi1.400_T0.350_modehadronic_TuneCP5_13TeV_1715587.root:Events\n",
      "File failed:root://xrootd.cmsaf.mit.edu//store/user/bmaier/suep/official_private/2018/GluGluToSUEP_HT400_T0p35_mS700.000_mPhi1.400_T0.350_modehadronic_TuneCP5_13TeV//Scouting_GluGluToSUEP_HT400_T0p35_mS700.000_mPhi1.400_T0.350_modehadronic_TuneCP5_13TeV_1748731.root:Events\n"
     ]
    },
    {
     "name": "stderr",
     "output_type": "stream",
     "text": [
      " 29%|██▉       | 30/104 [00:04<00:10,  6.97it/s]"
     ]
    },
    {
     "name": "stdout",
     "output_type": "stream",
     "text": [
      "File failed:root://xrootd.cmsaf.mit.edu//store/user/bmaier/suep/official_private/2018/GluGluToSUEP_HT400_T0p35_mS700.000_mPhi1.400_T0.350_modehadronic_TuneCP5_13TeV//Scouting_GluGluToSUEP_HT400_T0p35_mS700.000_mPhi1.400_T0.350_modehadronic_TuneCP5_13TeV_179096.root:Events\n",
      "File failed:root://xrootd.cmsaf.mit.edu//store/user/bmaier/suep/official_private/2018/GluGluToSUEP_HT400_T0p35_mS700.000_mPhi1.400_T0.350_modehadronic_TuneCP5_13TeV//Scouting_GluGluToSUEP_HT400_T0p35_mS700.000_mPhi1.400_T0.350_modehadronic_TuneCP5_13TeV_1793661.root:Events\n",
      "File failed:root://xrootd.cmsaf.mit.edu//store/user/bmaier/suep/official_private/2018/GluGluToSUEP_HT400_T0p35_mS700.000_mPhi1.400_T0.350_modehadronic_TuneCP5_13TeV//Scouting_GluGluToSUEP_HT400_T0p35_mS700.000_mPhi1.400_T0.350_modehadronic_TuneCP5_13TeV_1859353.root:Events\n"
     ]
    },
    {
     "name": "stderr",
     "output_type": "stream",
     "text": [
      " 31%|███       | 32/104 [00:05<00:11,  6.47it/s]"
     ]
    },
    {
     "name": "stdout",
     "output_type": "stream",
     "text": [
      "File failed:root://xrootd.cmsaf.mit.edu//store/user/bmaier/suep/official_private/2018/GluGluToSUEP_HT400_T0p35_mS700.000_mPhi1.400_T0.350_modehadronic_TuneCP5_13TeV//Scouting_GluGluToSUEP_HT400_T0p35_mS700.000_mPhi1.400_T0.350_modehadronic_TuneCP5_13TeV_1881206.root:Events\n",
      "File failed:root://xrootd.cmsaf.mit.edu//store/user/bmaier/suep/official_private/2018/GluGluToSUEP_HT400_T0p35_mS700.000_mPhi1.400_T0.350_modehadronic_TuneCP5_13TeV//Scouting_GluGluToSUEP_HT400_T0p35_mS700.000_mPhi1.400_T0.350_modehadronic_TuneCP5_13TeV_1957541.root:Events\n"
     ]
    },
    {
     "name": "stderr",
     "output_type": "stream",
     "text": [
      " 33%|███▎      | 34/104 [00:05<00:09,  7.07it/s]"
     ]
    },
    {
     "name": "stdout",
     "output_type": "stream",
     "text": [
      "File failed:root://xrootd.cmsaf.mit.edu//store/user/bmaier/suep/official_private/2018/GluGluToSUEP_HT400_T0p35_mS700.000_mPhi1.400_T0.350_modehadronic_TuneCP5_13TeV//Scouting_GluGluToSUEP_HT400_T0p35_mS700.000_mPhi1.400_T0.350_modehadronic_TuneCP5_13TeV_1980122.root:Events\n",
      "File failed:root://xrootd.cmsaf.mit.edu//store/user/bmaier/suep/official_private/2018/GluGluToSUEP_HT400_T0p35_mS700.000_mPhi1.400_T0.350_modehadronic_TuneCP5_13TeV//Scouting_GluGluToSUEP_HT400_T0p35_mS700.000_mPhi1.400_T0.350_modehadronic_TuneCP5_13TeV_2134753.root:Events\n"
     ]
    },
    {
     "name": "stderr",
     "output_type": "stream",
     "text": [
      " 35%|███▍      | 36/104 [00:05<00:13,  5.19it/s]"
     ]
    },
    {
     "name": "stdout",
     "output_type": "stream",
     "text": [
      "File failed:root://xrootd.cmsaf.mit.edu//store/user/bmaier/suep/official_private/2018/GluGluToSUEP_HT400_T0p35_mS700.000_mPhi1.400_T0.350_modehadronic_TuneCP5_13TeV//Scouting_GluGluToSUEP_HT400_T0p35_mS700.000_mPhi1.400_T0.350_modehadronic_TuneCP5_13TeV_2155146.root:Events\n",
      "File failed:root://xrootd.cmsaf.mit.edu//store/user/bmaier/suep/official_private/2018/GluGluToSUEP_HT400_T0p35_mS700.000_mPhi1.400_T0.350_modehadronic_TuneCP5_13TeV//Scouting_GluGluToSUEP_HT400_T0p35_mS700.000_mPhi1.400_T0.350_modehadronic_TuneCP5_13TeV_2254812.root:Events\n"
     ]
    },
    {
     "name": "stderr",
     "output_type": "stream",
     "text": [
      " 36%|███▌      | 37/104 [00:06<00:16,  4.05it/s]"
     ]
    },
    {
     "name": "stdout",
     "output_type": "stream",
     "text": [
      "File failed:root://xrootd.cmsaf.mit.edu//store/user/bmaier/suep/official_private/2018/GluGluToSUEP_HT400_T0p35_mS700.000_mPhi1.400_T0.350_modehadronic_TuneCP5_13TeV//Scouting_GluGluToSUEP_HT400_T0p35_mS700.000_mPhi1.400_T0.350_modehadronic_TuneCP5_13TeV_225757.root:Events\n"
     ]
    },
    {
     "name": "stderr",
     "output_type": "stream",
     "text": [
      " 38%|███▊      | 39/104 [00:06<00:14,  4.43it/s]"
     ]
    },
    {
     "name": "stdout",
     "output_type": "stream",
     "text": [
      "File failed:root://xrootd.cmsaf.mit.edu//store/user/bmaier/suep/official_private/2018/GluGluToSUEP_HT400_T0p35_mS700.000_mPhi1.400_T0.350_modehadronic_TuneCP5_13TeV//Scouting_GluGluToSUEP_HT400_T0p35_mS700.000_mPhi1.400_T0.350_modehadronic_TuneCP5_13TeV_2262189.root:Events\n",
      "File failed:root://xrootd.cmsaf.mit.edu//store/user/bmaier/suep/official_private/2018/GluGluToSUEP_HT400_T0p35_mS700.000_mPhi1.400_T0.350_modehadronic_TuneCP5_13TeV//Scouting_GluGluToSUEP_HT400_T0p35_mS700.000_mPhi1.400_T0.350_modehadronic_TuneCP5_13TeV_2285090.root:Events\n",
      "File failed:root://xrootd.cmsaf.mit.edu//store/user/bmaier/suep/official_private/2018/GluGluToSUEP_HT400_T0p35_mS700.000_mPhi1.400_T0.350_modehadronic_TuneCP5_13TeV//Scouting_GluGluToSUEP_HT400_T0p35_mS700.000_mPhi1.400_T0.350_modehadronic_TuneCP5_13TeV_2320422.root:Events\n"
     ]
    },
    {
     "name": "stderr",
     "output_type": "stream",
     "text": [
      " 40%|████      | 42/104 [00:06<00:09,  6.53it/s]"
     ]
    },
    {
     "name": "stdout",
     "output_type": "stream",
     "text": [
      "File failed:root://xrootd.cmsaf.mit.edu//store/user/bmaier/suep/official_private/2018/GluGluToSUEP_HT400_T0p35_mS700.000_mPhi1.400_T0.350_modehadronic_TuneCP5_13TeV//Scouting_GluGluToSUEP_HT400_T0p35_mS700.000_mPhi1.400_T0.350_modehadronic_TuneCP5_13TeV_2356076.root:Events\n",
      "File failed:root://xrootd.cmsaf.mit.edu//store/user/bmaier/suep/official_private/2018/GluGluToSUEP_HT400_T0p35_mS700.000_mPhi1.400_T0.350_modehadronic_TuneCP5_13TeV//Scouting_GluGluToSUEP_HT400_T0p35_mS700.000_mPhi1.400_T0.350_modehadronic_TuneCP5_13TeV_2429532.root:Events\n"
     ]
    },
    {
     "name": "stderr",
     "output_type": "stream",
     "text": [
      " 41%|████▏     | 43/104 [00:07<00:08,  7.02it/s]"
     ]
    },
    {
     "name": "stdout",
     "output_type": "stream",
     "text": [
      "File failed:root://xrootd.cmsaf.mit.edu//store/user/bmaier/suep/official_private/2018/GluGluToSUEP_HT400_T0p35_mS700.000_mPhi1.400_T0.350_modehadronic_TuneCP5_13TeV//Scouting_GluGluToSUEP_HT400_T0p35_mS700.000_mPhi1.400_T0.350_modehadronic_TuneCP5_13TeV_2437873.root:Events\n"
     ]
    },
    {
     "name": "stderr",
     "output_type": "stream",
     "text": [
      " 43%|████▎     | 45/104 [00:07<00:10,  5.51it/s]"
     ]
    },
    {
     "name": "stdout",
     "output_type": "stream",
     "text": [
      "File failed:root://xrootd.cmsaf.mit.edu//store/user/bmaier/suep/official_private/2018/GluGluToSUEP_HT400_T0p35_mS700.000_mPhi1.400_T0.350_modehadronic_TuneCP5_13TeV//Scouting_GluGluToSUEP_HT400_T0p35_mS700.000_mPhi1.400_T0.350_modehadronic_TuneCP5_13TeV_2501688.root:Events\n",
      "File failed:root://xrootd.cmsaf.mit.edu//store/user/bmaier/suep/official_private/2018/GluGluToSUEP_HT400_T0p35_mS700.000_mPhi1.400_T0.350_modehadronic_TuneCP5_13TeV//Scouting_GluGluToSUEP_HT400_T0p35_mS700.000_mPhi1.400_T0.350_modehadronic_TuneCP5_13TeV_2707566.root:Events\n"
     ]
    },
    {
     "name": "stderr",
     "output_type": "stream",
     "text": [
      " 45%|████▌     | 47/104 [00:07<00:08,  6.59it/s]"
     ]
    },
    {
     "name": "stdout",
     "output_type": "stream",
     "text": [
      "File failed:root://xrootd.cmsaf.mit.edu//store/user/bmaier/suep/official_private/2018/GluGluToSUEP_HT400_T0p35_mS700.000_mPhi1.400_T0.350_modehadronic_TuneCP5_13TeV//Scouting_GluGluToSUEP_HT400_T0p35_mS700.000_mPhi1.400_T0.350_modehadronic_TuneCP5_13TeV_270995.root:Events\n",
      "File failed:root://xrootd.cmsaf.mit.edu//store/user/bmaier/suep/official_private/2018/GluGluToSUEP_HT400_T0p35_mS700.000_mPhi1.400_T0.350_modehadronic_TuneCP5_13TeV//Scouting_GluGluToSUEP_HT400_T0p35_mS700.000_mPhi1.400_T0.350_modehadronic_TuneCP5_13TeV_2829105.root:Events\n"
     ]
    },
    {
     "name": "stderr",
     "output_type": "stream",
     "text": [
      " 47%|████▋     | 49/104 [00:07<00:07,  7.77it/s]"
     ]
    },
    {
     "name": "stdout",
     "output_type": "stream",
     "text": [
      "File failed:root://xrootd.cmsaf.mit.edu//store/user/bmaier/suep/official_private/2018/GluGluToSUEP_HT400_T0p35_mS700.000_mPhi1.400_T0.350_modehadronic_TuneCP5_13TeV//Scouting_GluGluToSUEP_HT400_T0p35_mS700.000_mPhi1.400_T0.350_modehadronic_TuneCP5_13TeV_2842582.root:Events\n",
      "File failed:root://xrootd.cmsaf.mit.edu//store/user/bmaier/suep/official_private/2018/GluGluToSUEP_HT400_T0p35_mS700.000_mPhi1.400_T0.350_modehadronic_TuneCP5_13TeV//Scouting_GluGluToSUEP_HT400_T0p35_mS700.000_mPhi1.400_T0.350_modehadronic_TuneCP5_13TeV_2862456.root:Events\n"
     ]
    },
    {
     "name": "stderr",
     "output_type": "stream",
     "text": [
      " 49%|████▉     | 51/104 [00:08<00:09,  5.79it/s]"
     ]
    },
    {
     "name": "stdout",
     "output_type": "stream",
     "text": [
      "File failed:root://xrootd.cmsaf.mit.edu//store/user/bmaier/suep/official_private/2018/GluGluToSUEP_HT400_T0p35_mS700.000_mPhi1.400_T0.350_modehadronic_TuneCP5_13TeV//Scouting_GluGluToSUEP_HT400_T0p35_mS700.000_mPhi1.400_T0.350_modehadronic_TuneCP5_13TeV_2907453.root:Events\n",
      "File failed:root://xrootd.cmsaf.mit.edu//store/user/bmaier/suep/official_private/2018/GluGluToSUEP_HT400_T0p35_mS700.000_mPhi1.400_T0.350_modehadronic_TuneCP5_13TeV//Scouting_GluGluToSUEP_HT400_T0p35_mS700.000_mPhi1.400_T0.350_modehadronic_TuneCP5_13TeV_2969353.root:Events\n"
     ]
    },
    {
     "name": "stderr",
     "output_type": "stream",
     "text": [
      " 52%|█████▏    | 54/104 [00:08<00:06,  7.68it/s]"
     ]
    },
    {
     "name": "stdout",
     "output_type": "stream",
     "text": [
      "File failed:root://xrootd.cmsaf.mit.edu//store/user/bmaier/suep/official_private/2018/GluGluToSUEP_HT400_T0p35_mS700.000_mPhi1.400_T0.350_modehadronic_TuneCP5_13TeV//Scouting_GluGluToSUEP_HT400_T0p35_mS700.000_mPhi1.400_T0.350_modehadronic_TuneCP5_13TeV_2998039.root:Events\n",
      "File failed:root://xrootd.cmsaf.mit.edu//store/user/bmaier/suep/official_private/2018/GluGluToSUEP_HT400_T0p35_mS700.000_mPhi1.400_T0.350_modehadronic_TuneCP5_13TeV//Scouting_GluGluToSUEP_HT400_T0p35_mS700.000_mPhi1.400_T0.350_modehadronic_TuneCP5_13TeV_3044535.root:Events\n",
      "File failed:root://xrootd.cmsaf.mit.edu//store/user/bmaier/suep/official_private/2018/GluGluToSUEP_HT400_T0p35_mS700.000_mPhi1.400_T0.350_modehadronic_TuneCP5_13TeV//Scouting_GluGluToSUEP_HT400_T0p35_mS700.000_mPhi1.400_T0.350_modehadronic_TuneCP5_13TeV_3057502.root:Events\n"
     ]
    },
    {
     "name": "stderr",
     "output_type": "stream",
     "text": [
      " 53%|█████▎    | 55/104 [00:09<00:09,  5.12it/s]"
     ]
    },
    {
     "name": "stdout",
     "output_type": "stream",
     "text": [
      "File failed:root://xrootd.cmsaf.mit.edu//store/user/bmaier/suep/official_private/2018/GluGluToSUEP_HT400_T0p35_mS700.000_mPhi1.400_T0.350_modehadronic_TuneCP5_13TeV//Scouting_GluGluToSUEP_HT400_T0p35_mS700.000_mPhi1.400_T0.350_modehadronic_TuneCP5_13TeV_3069398.root:Events\n"
     ]
    },
    {
     "name": "stderr",
     "output_type": "stream",
     "text": [
      " 54%|█████▍    | 56/104 [00:09<00:12,  3.76it/s]"
     ]
    },
    {
     "name": "stdout",
     "output_type": "stream",
     "text": [
      "File failed:root://xrootd.cmsaf.mit.edu//store/user/bmaier/suep/official_private/2018/GluGluToSUEP_HT400_T0p35_mS700.000_mPhi1.400_T0.350_modehadronic_TuneCP5_13TeV//Scouting_GluGluToSUEP_HT400_T0p35_mS700.000_mPhi1.400_T0.350_modehadronic_TuneCP5_13TeV_3087971.root:Events\n",
      "File failed:root://xrootd.cmsaf.mit.edu//store/user/bmaier/suep/official_private/2018/GluGluToSUEP_HT400_T0p35_mS700.000_mPhi1.400_T0.350_modehadronic_TuneCP5_13TeV//Scouting_GluGluToSUEP_HT400_T0p35_mS700.000_mPhi1.400_T0.350_modehadronic_TuneCP5_13TeV_3147569.root:Events\n"
     ]
    },
    {
     "name": "stderr",
     "output_type": "stream",
     "text": [
      " 57%|█████▋    | 59/104 [00:10<00:10,  4.40it/s]"
     ]
    },
    {
     "name": "stdout",
     "output_type": "stream",
     "text": [
      "File failed:root://xrootd.cmsaf.mit.edu//store/user/bmaier/suep/official_private/2018/GluGluToSUEP_HT400_T0p35_mS700.000_mPhi1.400_T0.350_modehadronic_TuneCP5_13TeV//Scouting_GluGluToSUEP_HT400_T0p35_mS700.000_mPhi1.400_T0.350_modehadronic_TuneCP5_13TeV_3182871.root:Events\n",
      "File failed:root://xrootd.cmsaf.mit.edu//store/user/bmaier/suep/official_private/2018/GluGluToSUEP_HT400_T0p35_mS700.000_mPhi1.400_T0.350_modehadronic_TuneCP5_13TeV//Scouting_GluGluToSUEP_HT400_T0p35_mS700.000_mPhi1.400_T0.350_modehadronic_TuneCP5_13TeV_3416885.root:Events\n"
     ]
    },
    {
     "name": "stderr",
     "output_type": "stream",
     "text": [
      " 60%|█████▉    | 62/104 [00:10<00:06,  6.57it/s]"
     ]
    },
    {
     "name": "stdout",
     "output_type": "stream",
     "text": [
      "File failed:root://xrootd.cmsaf.mit.edu//store/user/bmaier/suep/official_private/2018/GluGluToSUEP_HT400_T0p35_mS700.000_mPhi1.400_T0.350_modehadronic_TuneCP5_13TeV//Scouting_GluGluToSUEP_HT400_T0p35_mS700.000_mPhi1.400_T0.350_modehadronic_TuneCP5_13TeV_3473294.root:Events\n",
      "File failed:root://xrootd.cmsaf.mit.edu//store/user/bmaier/suep/official_private/2018/GluGluToSUEP_HT400_T0p35_mS700.000_mPhi1.400_T0.350_modehadronic_TuneCP5_13TeV//Scouting_GluGluToSUEP_HT400_T0p35_mS700.000_mPhi1.400_T0.350_modehadronic_TuneCP5_13TeV_3480119.root:Events\n",
      "File failed:root://xrootd.cmsaf.mit.edu//store/user/bmaier/suep/official_private/2018/GluGluToSUEP_HT400_T0p35_mS700.000_mPhi1.400_T0.350_modehadronic_TuneCP5_13TeV//Scouting_GluGluToSUEP_HT400_T0p35_mS700.000_mPhi1.400_T0.350_modehadronic_TuneCP5_13TeV_352645.root:Events\n",
      "File failed:root://xrootd.cmsaf.mit.edu//store/user/bmaier/suep/official_private/2018/GluGluToSUEP_HT400_T0p35_mS700.000_mPhi1.400_T0.350_modehadronic_TuneCP5_13TeV//Scouting_GluGluToSUEP_HT400_T0p35_mS700.000_mPhi1.400_T0.350_modehadronic_TuneCP5_13TeV_3764546.root:Events\n"
     ]
    },
    {
     "name": "stderr",
     "output_type": "stream",
     "text": [
      " 62%|██████▎   | 65/104 [00:11<00:06,  6.01it/s]"
     ]
    },
    {
     "name": "stdout",
     "output_type": "stream",
     "text": [
      "File failed:root://xrootd.cmsaf.mit.edu//store/user/bmaier/suep/official_private/2018/GluGluToSUEP_HT400_T0p35_mS700.000_mPhi1.400_T0.350_modehadronic_TuneCP5_13TeV//Scouting_GluGluToSUEP_HT400_T0p35_mS700.000_mPhi1.400_T0.350_modehadronic_TuneCP5_13TeV_3792526.root:Events\n",
      "File failed:root://xrootd.cmsaf.mit.edu//store/user/bmaier/suep/official_private/2018/GluGluToSUEP_HT400_T0p35_mS700.000_mPhi1.400_T0.350_modehadronic_TuneCP5_13TeV//Scouting_GluGluToSUEP_HT400_T0p35_mS700.000_mPhi1.400_T0.350_modehadronic_TuneCP5_13TeV_3820875.root:Events\n"
     ]
    },
    {
     "name": "stderr",
     "output_type": "stream",
     "text": [
      " 63%|██████▎   | 66/104 [00:11<00:08,  4.69it/s]"
     ]
    },
    {
     "name": "stdout",
     "output_type": "stream",
     "text": [
      "File failed:root://xrootd.cmsaf.mit.edu//store/user/bmaier/suep/official_private/2018/GluGluToSUEP_HT400_T0p35_mS700.000_mPhi1.400_T0.350_modehadronic_TuneCP5_13TeV//Scouting_GluGluToSUEP_HT400_T0p35_mS700.000_mPhi1.400_T0.350_modehadronic_TuneCP5_13TeV_3837252.root:Events\n",
      "File failed:root://xrootd.cmsaf.mit.edu//store/user/bmaier/suep/official_private/2018/GluGluToSUEP_HT400_T0p35_mS700.000_mPhi1.400_T0.350_modehadronic_TuneCP5_13TeV//Scouting_GluGluToSUEP_HT400_T0p35_mS700.000_mPhi1.400_T0.350_modehadronic_TuneCP5_13TeV_3846015.root:Events\n"
     ]
    },
    {
     "name": "stderr",
     "output_type": "stream",
     "text": [
      " 66%|██████▋   | 69/104 [00:11<00:05,  6.43it/s]"
     ]
    },
    {
     "name": "stdout",
     "output_type": "stream",
     "text": [
      "File failed:root://xrootd.cmsaf.mit.edu//store/user/bmaier/suep/official_private/2018/GluGluToSUEP_HT400_T0p35_mS700.000_mPhi1.400_T0.350_modehadronic_TuneCP5_13TeV//Scouting_GluGluToSUEP_HT400_T0p35_mS700.000_mPhi1.400_T0.350_modehadronic_TuneCP5_13TeV_3949371.root:Events\n",
      "File failed:root://xrootd.cmsaf.mit.edu//store/user/bmaier/suep/official_private/2018/GluGluToSUEP_HT400_T0p35_mS700.000_mPhi1.400_T0.350_modehadronic_TuneCP5_13TeV//Scouting_GluGluToSUEP_HT400_T0p35_mS700.000_mPhi1.400_T0.350_modehadronic_TuneCP5_13TeV_403493.root:Events\n"
     ]
    },
    {
     "name": "stderr",
     "output_type": "stream",
     "text": [
      " 67%|██████▋   | 70/104 [00:11<00:05,  6.67it/s]"
     ]
    },
    {
     "name": "stdout",
     "output_type": "stream",
     "text": [
      "File failed:root://xrootd.cmsaf.mit.edu//store/user/bmaier/suep/official_private/2018/GluGluToSUEP_HT400_T0p35_mS700.000_mPhi1.400_T0.350_modehadronic_TuneCP5_13TeV//Scouting_GluGluToSUEP_HT400_T0p35_mS700.000_mPhi1.400_T0.350_modehadronic_TuneCP5_13TeV_4037524.root:Events\n",
      "File failed:root://xrootd.cmsaf.mit.edu//store/user/bmaier/suep/official_private/2018/GluGluToSUEP_HT400_T0p35_mS700.000_mPhi1.400_T0.350_modehadronic_TuneCP5_13TeV//Scouting_GluGluToSUEP_HT400_T0p35_mS700.000_mPhi1.400_T0.350_modehadronic_TuneCP5_13TeV_4069307.root:Events\n"
     ]
    },
    {
     "name": "stderr",
     "output_type": "stream",
     "text": [
      " 69%|██████▉   | 72/104 [00:12<00:04,  7.19it/s]"
     ]
    },
    {
     "name": "stdout",
     "output_type": "stream",
     "text": [
      "File failed:root://xrootd.cmsaf.mit.edu//store/user/bmaier/suep/official_private/2018/GluGluToSUEP_HT400_T0p35_mS700.000_mPhi1.400_T0.350_modehadronic_TuneCP5_13TeV//Scouting_GluGluToSUEP_HT400_T0p35_mS700.000_mPhi1.400_T0.350_modehadronic_TuneCP5_13TeV_4172567.root:Events\n",
      "File failed:root://xrootd.cmsaf.mit.edu//store/user/bmaier/suep/official_private/2018/GluGluToSUEP_HT400_T0p35_mS700.000_mPhi1.400_T0.350_modehadronic_TuneCP5_13TeV//Scouting_GluGluToSUEP_HT400_T0p35_mS700.000_mPhi1.400_T0.350_modehadronic_TuneCP5_13TeV_4280147.root:Events\n"
     ]
    },
    {
     "name": "stderr",
     "output_type": "stream",
     "text": [
      " 73%|███████▎  | 76/104 [00:12<00:04,  6.33it/s]"
     ]
    },
    {
     "name": "stdout",
     "output_type": "stream",
     "text": [
      "File failed:root://xrootd.cmsaf.mit.edu//store/user/bmaier/suep/official_private/2018/GluGluToSUEP_HT400_T0p35_mS700.000_mPhi1.400_T0.350_modehadronic_TuneCP5_13TeV//Scouting_GluGluToSUEP_HT400_T0p35_mS700.000_mPhi1.400_T0.350_modehadronic_TuneCP5_13TeV_4430646.root:Events\n",
      "File failed:root://xrootd.cmsaf.mit.edu//store/user/bmaier/suep/official_private/2018/GluGluToSUEP_HT400_T0p35_mS700.000_mPhi1.400_T0.350_modehadronic_TuneCP5_13TeV//Scouting_GluGluToSUEP_HT400_T0p35_mS700.000_mPhi1.400_T0.350_modehadronic_TuneCP5_13TeV_4464944.root:Events\n",
      "File failed:root://xrootd.cmsaf.mit.edu//store/user/bmaier/suep/official_private/2018/GluGluToSUEP_HT400_T0p35_mS700.000_mPhi1.400_T0.350_modehadronic_TuneCP5_13TeV//Scouting_GluGluToSUEP_HT400_T0p35_mS700.000_mPhi1.400_T0.350_modehadronic_TuneCP5_13TeV_4544250.root:Events\n"
     ]
    },
    {
     "name": "stderr",
     "output_type": "stream",
     "text": [
      " 74%|███████▍  | 77/104 [00:13<00:04,  5.73it/s]"
     ]
    },
    {
     "name": "stdout",
     "output_type": "stream",
     "text": [
      "File failed:root://xrootd.cmsaf.mit.edu//store/user/bmaier/suep/official_private/2018/GluGluToSUEP_HT400_T0p35_mS700.000_mPhi1.400_T0.350_modehadronic_TuneCP5_13TeV//Scouting_GluGluToSUEP_HT400_T0p35_mS700.000_mPhi1.400_T0.350_modehadronic_TuneCP5_13TeV_4570798.root:Events\n",
      "File failed:root://xrootd.cmsaf.mit.edu//store/user/bmaier/suep/official_private/2018/GluGluToSUEP_HT400_T0p35_mS700.000_mPhi1.400_T0.350_modehadronic_TuneCP5_13TeV//Scouting_GluGluToSUEP_HT400_T0p35_mS700.000_mPhi1.400_T0.350_modehadronic_TuneCP5_13TeV_4631680.root:Events\n"
     ]
    },
    {
     "name": "stderr",
     "output_type": "stream",
     "text": [
      " 78%|███████▊  | 81/104 [00:13<00:03,  5.97it/s]"
     ]
    },
    {
     "name": "stdout",
     "output_type": "stream",
     "text": [
      "File failed:root://xrootd.cmsaf.mit.edu//store/user/bmaier/suep/official_private/2018/GluGluToSUEP_HT400_T0p35_mS700.000_mPhi1.400_T0.350_modehadronic_TuneCP5_13TeV//Scouting_GluGluToSUEP_HT400_T0p35_mS700.000_mPhi1.400_T0.350_modehadronic_TuneCP5_13TeV_4635768.root:Events\n",
      "File failed:root://xrootd.cmsaf.mit.edu//store/user/bmaier/suep/official_private/2018/GluGluToSUEP_HT400_T0p35_mS700.000_mPhi1.400_T0.350_modehadronic_TuneCP5_13TeV//Scouting_GluGluToSUEP_HT400_T0p35_mS700.000_mPhi1.400_T0.350_modehadronic_TuneCP5_13TeV_4654139.root:Events\n",
      "File failed:root://xrootd.cmsaf.mit.edu//store/user/bmaier/suep/official_private/2018/GluGluToSUEP_HT400_T0p35_mS700.000_mPhi1.400_T0.350_modehadronic_TuneCP5_13TeV//Scouting_GluGluToSUEP_HT400_T0p35_mS700.000_mPhi1.400_T0.350_modehadronic_TuneCP5_13TeV_4659458.root:Events\n"
     ]
    },
    {
     "name": "stderr",
     "output_type": "stream",
     "text": [
      " 80%|███████▉  | 83/104 [00:14<00:02,  7.31it/s]"
     ]
    },
    {
     "name": "stdout",
     "output_type": "stream",
     "text": [
      "File failed:root://xrootd.cmsaf.mit.edu//store/user/bmaier/suep/official_private/2018/GluGluToSUEP_HT400_T0p35_mS700.000_mPhi1.400_T0.350_modehadronic_TuneCP5_13TeV//Scouting_GluGluToSUEP_HT400_T0p35_mS700.000_mPhi1.400_T0.350_modehadronic_TuneCP5_13TeV_4666232.root:Events\n",
      "File failed:root://xrootd.cmsaf.mit.edu//store/user/bmaier/suep/official_private/2018/GluGluToSUEP_HT400_T0p35_mS700.000_mPhi1.400_T0.350_modehadronic_TuneCP5_13TeV//Scouting_GluGluToSUEP_HT400_T0p35_mS700.000_mPhi1.400_T0.350_modehadronic_TuneCP5_13TeV_4735282.root:Events\n"
     ]
    },
    {
     "name": "stderr",
     "output_type": "stream",
     "text": [
      " 82%|████████▏ | 85/104 [00:14<00:03,  5.40it/s]"
     ]
    },
    {
     "name": "stdout",
     "output_type": "stream",
     "text": [
      "File failed:root://xrootd.cmsaf.mit.edu//store/user/bmaier/suep/official_private/2018/GluGluToSUEP_HT400_T0p35_mS700.000_mPhi1.400_T0.350_modehadronic_TuneCP5_13TeV//Scouting_GluGluToSUEP_HT400_T0p35_mS700.000_mPhi1.400_T0.350_modehadronic_TuneCP5_13TeV_4745900.root:Events\n",
      "File failed:root://xrootd.cmsaf.mit.edu//store/user/bmaier/suep/official_private/2018/GluGluToSUEP_HT400_T0p35_mS700.000_mPhi1.400_T0.350_modehadronic_TuneCP5_13TeV//Scouting_GluGluToSUEP_HT400_T0p35_mS700.000_mPhi1.400_T0.350_modehadronic_TuneCP5_13TeV_4748803.root:Events\n"
     ]
    },
    {
     "name": "stderr",
     "output_type": "stream",
     "text": [
      " 83%|████████▎ | 86/104 [00:14<00:04,  4.42it/s]"
     ]
    },
    {
     "name": "stdout",
     "output_type": "stream",
     "text": [
      "File failed:root://xrootd.cmsaf.mit.edu//store/user/bmaier/suep/official_private/2018/GluGluToSUEP_HT400_T0p35_mS700.000_mPhi1.400_T0.350_modehadronic_TuneCP5_13TeV//Scouting_GluGluToSUEP_HT400_T0p35_mS700.000_mPhi1.400_T0.350_modehadronic_TuneCP5_13TeV_4765450.root:Events\n",
      "File failed:root://xrootd.cmsaf.mit.edu//store/user/bmaier/suep/official_private/2018/GluGluToSUEP_HT400_T0p35_mS700.000_mPhi1.400_T0.350_modehadronic_TuneCP5_13TeV//Scouting_GluGluToSUEP_HT400_T0p35_mS700.000_mPhi1.400_T0.350_modehadronic_TuneCP5_13TeV_4781449.root:Events\n"
     ]
    },
    {
     "name": "stderr",
     "output_type": "stream",
     "text": [
      " 85%|████████▍ | 88/104 [00:15<00:02,  5.61it/s]"
     ]
    },
    {
     "name": "stdout",
     "output_type": "stream",
     "text": [
      "File failed:root://xrootd.cmsaf.mit.edu//store/user/bmaier/suep/official_private/2018/GluGluToSUEP_HT400_T0p35_mS700.000_mPhi1.400_T0.350_modehadronic_TuneCP5_13TeV//Scouting_GluGluToSUEP_HT400_T0p35_mS700.000_mPhi1.400_T0.350_modehadronic_TuneCP5_13TeV_4786403.root:Events\n"
     ]
    },
    {
     "name": "stderr",
     "output_type": "stream",
     "text": [
      " 87%|████████▋ | 90/104 [00:15<00:02,  5.18it/s]"
     ]
    },
    {
     "name": "stdout",
     "output_type": "stream",
     "text": [
      "File failed:root://xrootd.cmsaf.mit.edu//store/user/bmaier/suep/official_private/2018/GluGluToSUEP_HT400_T0p35_mS700.000_mPhi1.400_T0.350_modehadronic_TuneCP5_13TeV//Scouting_GluGluToSUEP_HT400_T0p35_mS700.000_mPhi1.400_T0.350_modehadronic_TuneCP5_13TeV_4839764.root:Events\n",
      "File failed:root://xrootd.cmsaf.mit.edu//store/user/bmaier/suep/official_private/2018/GluGluToSUEP_HT400_T0p35_mS700.000_mPhi1.400_T0.350_modehadronic_TuneCP5_13TeV//Scouting_GluGluToSUEP_HT400_T0p35_mS700.000_mPhi1.400_T0.350_modehadronic_TuneCP5_13TeV_535040.root:Events\n"
     ]
    },
    {
     "name": "stderr",
     "output_type": "stream",
     "text": [
      " 88%|████████▊ | 92/104 [00:15<00:01,  6.40it/s]"
     ]
    },
    {
     "name": "stdout",
     "output_type": "stream",
     "text": [
      "File failed:root://xrootd.cmsaf.mit.edu//store/user/bmaier/suep/official_private/2018/GluGluToSUEP_HT400_T0p35_mS700.000_mPhi1.400_T0.350_modehadronic_TuneCP5_13TeV//Scouting_GluGluToSUEP_HT400_T0p35_mS700.000_mPhi1.400_T0.350_modehadronic_TuneCP5_13TeV_54155.root:Events\n",
      "File failed:root://xrootd.cmsaf.mit.edu//store/user/bmaier/suep/official_private/2018/GluGluToSUEP_HT400_T0p35_mS700.000_mPhi1.400_T0.350_modehadronic_TuneCP5_13TeV//Scouting_GluGluToSUEP_HT400_T0p35_mS700.000_mPhi1.400_T0.350_modehadronic_TuneCP5_13TeV_566457.root:Events\n",
      "File failed:root://xrootd.cmsaf.mit.edu//store/user/bmaier/suep/official_private/2018/GluGluToSUEP_HT400_T0p35_mS700.000_mPhi1.400_T0.350_modehadronic_TuneCP5_13TeV//Scouting_GluGluToSUEP_HT400_T0p35_mS700.000_mPhi1.400_T0.350_modehadronic_TuneCP5_13TeV_590660.root:Events\n"
     ]
    },
    {
     "name": "stderr",
     "output_type": "stream",
     "text": [
      " 91%|█████████▏| 95/104 [00:16<00:01,  8.15it/s]"
     ]
    },
    {
     "name": "stdout",
     "output_type": "stream",
     "text": [
      "File failed:root://xrootd.cmsaf.mit.edu//store/user/bmaier/suep/official_private/2018/GluGluToSUEP_HT400_T0p35_mS700.000_mPhi1.400_T0.350_modehadronic_TuneCP5_13TeV//Scouting_GluGluToSUEP_HT400_T0p35_mS700.000_mPhi1.400_T0.350_modehadronic_TuneCP5_13TeV_604675.root:Events\n",
      "File failed:root://xrootd.cmsaf.mit.edu//store/user/bmaier/suep/official_private/2018/GluGluToSUEP_HT400_T0p35_mS700.000_mPhi1.400_T0.350_modehadronic_TuneCP5_13TeV//Scouting_GluGluToSUEP_HT400_T0p35_mS700.000_mPhi1.400_T0.350_modehadronic_TuneCP5_13TeV_650971.root:Events\n",
      "File failed:root://xrootd.cmsaf.mit.edu//store/user/bmaier/suep/official_private/2018/GluGluToSUEP_HT400_T0p35_mS700.000_mPhi1.400_T0.350_modehadronic_TuneCP5_13TeV//Scouting_GluGluToSUEP_HT400_T0p35_mS700.000_mPhi1.400_T0.350_modehadronic_TuneCP5_13TeV_651699.root:Events\n"
     ]
    },
    {
     "name": "stderr",
     "output_type": "stream",
     "text": [
      " 94%|█████████▍| 98/104 [00:16<00:00,  8.76it/s]"
     ]
    },
    {
     "name": "stdout",
     "output_type": "stream",
     "text": [
      "File failed:root://xrootd.cmsaf.mit.edu//store/user/bmaier/suep/official_private/2018/GluGluToSUEP_HT400_T0p35_mS700.000_mPhi1.400_T0.350_modehadronic_TuneCP5_13TeV//Scouting_GluGluToSUEP_HT400_T0p35_mS700.000_mPhi1.400_T0.350_modehadronic_TuneCP5_13TeV_721463.root:Events\n",
      "File failed:root://xrootd.cmsaf.mit.edu//store/user/bmaier/suep/official_private/2018/GluGluToSUEP_HT400_T0p35_mS700.000_mPhi1.400_T0.350_modehadronic_TuneCP5_13TeV//Scouting_GluGluToSUEP_HT400_T0p35_mS700.000_mPhi1.400_T0.350_modehadronic_TuneCP5_13TeV_737139.root:Events\n"
     ]
    },
    {
     "name": "stderr",
     "output_type": "stream",
     "text": [
      " 96%|█████████▌| 100/104 [00:16<00:00,  9.08it/s]"
     ]
    },
    {
     "name": "stdout",
     "output_type": "stream",
     "text": [
      "File failed:root://xrootd.cmsaf.mit.edu//store/user/bmaier/suep/official_private/2018/GluGluToSUEP_HT400_T0p35_mS700.000_mPhi1.400_T0.350_modehadronic_TuneCP5_13TeV//Scouting_GluGluToSUEP_HT400_T0p35_mS700.000_mPhi1.400_T0.350_modehadronic_TuneCP5_13TeV_809499.root:Events\n",
      "File failed:root://xrootd.cmsaf.mit.edu//store/user/bmaier/suep/official_private/2018/GluGluToSUEP_HT400_T0p35_mS700.000_mPhi1.400_T0.350_modehadronic_TuneCP5_13TeV//Scouting_GluGluToSUEP_HT400_T0p35_mS700.000_mPhi1.400_T0.350_modehadronic_TuneCP5_13TeV_811450.root:Events\n"
     ]
    },
    {
     "name": "stderr",
     "output_type": "stream",
     "text": [
      " 98%|█████████▊| 102/104 [00:16<00:00,  8.83it/s]"
     ]
    },
    {
     "name": "stdout",
     "output_type": "stream",
     "text": [
      "File failed:root://xrootd.cmsaf.mit.edu//store/user/bmaier/suep/official_private/2018/GluGluToSUEP_HT400_T0p35_mS700.000_mPhi1.400_T0.350_modehadronic_TuneCP5_13TeV//Scouting_GluGluToSUEP_HT400_T0p35_mS700.000_mPhi1.400_T0.350_modehadronic_TuneCP5_13TeV_814964.root:Events\n",
      "File failed:root://xrootd.cmsaf.mit.edu//store/user/bmaier/suep/official_private/2018/GluGluToSUEP_HT400_T0p35_mS700.000_mPhi1.400_T0.350_modehadronic_TuneCP5_13TeV//Scouting_GluGluToSUEP_HT400_T0p35_mS700.000_mPhi1.400_T0.350_modehadronic_TuneCP5_13TeV_891903.root:Events\n"
     ]
    },
    {
     "name": "stderr",
     "output_type": "stream",
     "text": [
      "100%|██████████| 104/104 [00:17<00:00,  6.05it/s]\n"
     ]
    },
    {
     "name": "stdout",
     "output_type": "stream",
     "text": [
      "File failed:root://xrootd.cmsaf.mit.edu//store/user/bmaier/suep/official_private/2018/GluGluToSUEP_HT400_T0p35_mS700.000_mPhi1.400_T0.350_modehadronic_TuneCP5_13TeV//Scouting_GluGluToSUEP_HT400_T0p35_mS700.000_mPhi1.400_T0.350_modehadronic_TuneCP5_13TeV_961182.root:Events\n",
      "File failed:root://xrootd.cmsaf.mit.edu//store/user/bmaier/suep/official_private/2018/GluGluToSUEP_HT400_T0p35_mS700.000_mPhi1.400_T0.350_modehadronic_TuneCP5_13TeV//Scouting_GluGluToSUEP_HT400_T0p35_mS700.000_mPhi1.400_T0.350_modehadronic_TuneCP5_13TeV_989378.root:Events\n",
      "Processing m=1000 GeV for the hadronic decay mode:\n"
     ]
    },
    {
     "name": "stderr",
     "output_type": "stream",
     "text": [
      "  2%|▏         | 2/95 [00:00<00:09, 10.24it/s]"
     ]
    },
    {
     "name": "stdout",
     "output_type": "stream",
     "text": [
      "File failed:root://xrootd.cmsaf.mit.edu//store/user/bmaier/suep/official_private/2018/GluGluToSUEP_HT400_T0p35_mS1000.000_mPhi1.400_T0.350_modehadronic_TuneCP5_13TeV//Scouting_GluGluToSUEP_HT400_T0p35_mS1000.000_mPhi1.400_T0.350_modehadronic_TuneCP5_13TeV_1033556.root:Events\n",
      "File failed:root://xrootd.cmsaf.mit.edu//store/user/bmaier/suep/official_private/2018/GluGluToSUEP_HT400_T0p35_mS1000.000_mPhi1.400_T0.350_modehadronic_TuneCP5_13TeV//Scouting_GluGluToSUEP_HT400_T0p35_mS1000.000_mPhi1.400_T0.350_modehadronic_TuneCP5_13TeV_1095561.root:Events\n",
      "File failed:root://xrootd.cmsaf.mit.edu//store/user/bmaier/suep/official_private/2018/GluGluToSUEP_HT400_T0p35_mS1000.000_mPhi1.400_T0.350_modehadronic_TuneCP5_13TeV//Scouting_GluGluToSUEP_HT400_T0p35_mS1000.000_mPhi1.400_T0.350_modehadronic_TuneCP5_13TeV_1119723.root:Events\n"
     ]
    },
    {
     "name": "stderr",
     "output_type": "stream",
     "text": [
      "  4%|▍         | 4/95 [00:00<00:08, 10.21it/s]"
     ]
    },
    {
     "name": "stdout",
     "output_type": "stream",
     "text": [
      "File failed:root://xrootd.cmsaf.mit.edu//store/user/bmaier/suep/official_private/2018/GluGluToSUEP_HT400_T0p35_mS1000.000_mPhi1.400_T0.350_modehadronic_TuneCP5_13TeV//Scouting_GluGluToSUEP_HT400_T0p35_mS1000.000_mPhi1.400_T0.350_modehadronic_TuneCP5_13TeV_113513.root:Events\n",
      "File failed:root://xrootd.cmsaf.mit.edu//store/user/bmaier/suep/official_private/2018/GluGluToSUEP_HT400_T0p35_mS1000.000_mPhi1.400_T0.350_modehadronic_TuneCP5_13TeV//Scouting_GluGluToSUEP_HT400_T0p35_mS1000.000_mPhi1.400_T0.350_modehadronic_TuneCP5_13TeV_1177781.root:Events\n"
     ]
    },
    {
     "name": "stderr",
     "output_type": "stream",
     "text": [
      "  7%|▋         | 7/95 [00:00<00:09,  9.18it/s]"
     ]
    },
    {
     "name": "stdout",
     "output_type": "stream",
     "text": [
      "File failed:root://xrootd.cmsaf.mit.edu//store/user/bmaier/suep/official_private/2018/GluGluToSUEP_HT400_T0p35_mS1000.000_mPhi1.400_T0.350_modehadronic_TuneCP5_13TeV//Scouting_GluGluToSUEP_HT400_T0p35_mS1000.000_mPhi1.400_T0.350_modehadronic_TuneCP5_13TeV_1182451.root:Events\n",
      "File failed:root://xrootd.cmsaf.mit.edu//store/user/bmaier/suep/official_private/2018/GluGluToSUEP_HT400_T0p35_mS1000.000_mPhi1.400_T0.350_modehadronic_TuneCP5_13TeV//Scouting_GluGluToSUEP_HT400_T0p35_mS1000.000_mPhi1.400_T0.350_modehadronic_TuneCP5_13TeV_1211020.root:Events\n"
     ]
    },
    {
     "name": "stderr",
     "output_type": "stream",
     "text": [
      "  9%|▉         | 9/95 [00:00<00:09,  9.24it/s]"
     ]
    },
    {
     "name": "stdout",
     "output_type": "stream",
     "text": [
      "File failed:root://xrootd.cmsaf.mit.edu//store/user/bmaier/suep/official_private/2018/GluGluToSUEP_HT400_T0p35_mS1000.000_mPhi1.400_T0.350_modehadronic_TuneCP5_13TeV//Scouting_GluGluToSUEP_HT400_T0p35_mS1000.000_mPhi1.400_T0.350_modehadronic_TuneCP5_13TeV_1212135.root:Events\n",
      "File failed:root://xrootd.cmsaf.mit.edu//store/user/bmaier/suep/official_private/2018/GluGluToSUEP_HT400_T0p35_mS1000.000_mPhi1.400_T0.350_modehadronic_TuneCP5_13TeV//Scouting_GluGluToSUEP_HT400_T0p35_mS1000.000_mPhi1.400_T0.350_modehadronic_TuneCP5_13TeV_1237018.root:Events\n"
     ]
    },
    {
     "name": "stderr",
     "output_type": "stream",
     "text": [
      " 12%|█▏        | 11/95 [00:02<00:31,  2.66it/s]"
     ]
    },
    {
     "name": "stdout",
     "output_type": "stream",
     "text": [
      "File failed:root://xrootd.cmsaf.mit.edu//store/user/bmaier/suep/official_private/2018/GluGluToSUEP_HT400_T0p35_mS1000.000_mPhi1.400_T0.350_modehadronic_TuneCP5_13TeV//Scouting_GluGluToSUEP_HT400_T0p35_mS1000.000_mPhi1.400_T0.350_modehadronic_TuneCP5_13TeV_1352774.root:Events\n",
      "File failed:root://xrootd.cmsaf.mit.edu//store/user/bmaier/suep/official_private/2018/GluGluToSUEP_HT400_T0p35_mS1000.000_mPhi1.400_T0.350_modehadronic_TuneCP5_13TeV//Scouting_GluGluToSUEP_HT400_T0p35_mS1000.000_mPhi1.400_T0.350_modehadronic_TuneCP5_13TeV_1366558.root:Events\n"
     ]
    },
    {
     "name": "stderr",
     "output_type": "stream",
     "text": [
      " 14%|█▎        | 13/95 [00:02<00:20,  4.09it/s]"
     ]
    },
    {
     "name": "stdout",
     "output_type": "stream",
     "text": [
      "File failed:root://xrootd.cmsaf.mit.edu//store/user/bmaier/suep/official_private/2018/GluGluToSUEP_HT400_T0p35_mS1000.000_mPhi1.400_T0.350_modehadronic_TuneCP5_13TeV//Scouting_GluGluToSUEP_HT400_T0p35_mS1000.000_mPhi1.400_T0.350_modehadronic_TuneCP5_13TeV_1390560.root:Events\n",
      "File failed:root://xrootd.cmsaf.mit.edu//store/user/bmaier/suep/official_private/2018/GluGluToSUEP_HT400_T0p35_mS1000.000_mPhi1.400_T0.350_modehadronic_TuneCP5_13TeV//Scouting_GluGluToSUEP_HT400_T0p35_mS1000.000_mPhi1.400_T0.350_modehadronic_TuneCP5_13TeV_1418796.root:Events\n"
     ]
    },
    {
     "name": "stderr",
     "output_type": "stream",
     "text": [
      " 16%|█▌        | 15/95 [00:02<00:14,  5.48it/s]"
     ]
    },
    {
     "name": "stdout",
     "output_type": "stream",
     "text": [
      "File failed:root://xrootd.cmsaf.mit.edu//store/user/bmaier/suep/official_private/2018/GluGluToSUEP_HT400_T0p35_mS1000.000_mPhi1.400_T0.350_modehadronic_TuneCP5_13TeV//Scouting_GluGluToSUEP_HT400_T0p35_mS1000.000_mPhi1.400_T0.350_modehadronic_TuneCP5_13TeV_1496374.root:Events\n",
      "File failed:root://xrootd.cmsaf.mit.edu//store/user/bmaier/suep/official_private/2018/GluGluToSUEP_HT400_T0p35_mS1000.000_mPhi1.400_T0.350_modehadronic_TuneCP5_13TeV//Scouting_GluGluToSUEP_HT400_T0p35_mS1000.000_mPhi1.400_T0.350_modehadronic_TuneCP5_13TeV_1496452.root:Events\n"
     ]
    },
    {
     "name": "stderr",
     "output_type": "stream",
     "text": [
      " 19%|█▉        | 18/95 [00:03<00:12,  6.04it/s]"
     ]
    },
    {
     "name": "stdout",
     "output_type": "stream",
     "text": [
      "File failed:root://xrootd.cmsaf.mit.edu//store/user/bmaier/suep/official_private/2018/GluGluToSUEP_HT400_T0p35_mS1000.000_mPhi1.400_T0.350_modehadronic_TuneCP5_13TeV//Scouting_GluGluToSUEP_HT400_T0p35_mS1000.000_mPhi1.400_T0.350_modehadronic_TuneCP5_13TeV_1510566.root:Events\n",
      "File failed:root://xrootd.cmsaf.mit.edu//store/user/bmaier/suep/official_private/2018/GluGluToSUEP_HT400_T0p35_mS1000.000_mPhi1.400_T0.350_modehadronic_TuneCP5_13TeV//Scouting_GluGluToSUEP_HT400_T0p35_mS1000.000_mPhi1.400_T0.350_modehadronic_TuneCP5_13TeV_1550297.root:Events\n",
      "File failed:root://xrootd.cmsaf.mit.edu//store/user/bmaier/suep/official_private/2018/GluGluToSUEP_HT400_T0p35_mS1000.000_mPhi1.400_T0.350_modehadronic_TuneCP5_13TeV//Scouting_GluGluToSUEP_HT400_T0p35_mS1000.000_mPhi1.400_T0.350_modehadronic_TuneCP5_13TeV_1603982.root:Events\n"
     ]
    },
    {
     "name": "stderr",
     "output_type": "stream",
     "text": [
      " 21%|██        | 20/95 [00:04<00:14,  5.04it/s]"
     ]
    },
    {
     "name": "stdout",
     "output_type": "stream",
     "text": [
      "File failed:root://xrootd.cmsaf.mit.edu//store/user/bmaier/suep/official_private/2018/GluGluToSUEP_HT400_T0p35_mS1000.000_mPhi1.400_T0.350_modehadronic_TuneCP5_13TeV//Scouting_GluGluToSUEP_HT400_T0p35_mS1000.000_mPhi1.400_T0.350_modehadronic_TuneCP5_13TeV_163561.root:Events\n",
      "File failed:root://xrootd.cmsaf.mit.edu//store/user/bmaier/suep/official_private/2018/GluGluToSUEP_HT400_T0p35_mS1000.000_mPhi1.400_T0.350_modehadronic_TuneCP5_13TeV//Scouting_GluGluToSUEP_HT400_T0p35_mS1000.000_mPhi1.400_T0.350_modehadronic_TuneCP5_13TeV_1715852.root:Events\n",
      "File failed:root://xrootd.cmsaf.mit.edu//store/user/bmaier/suep/official_private/2018/GluGluToSUEP_HT400_T0p35_mS1000.000_mPhi1.400_T0.350_modehadronic_TuneCP5_13TeV//Scouting_GluGluToSUEP_HT400_T0p35_mS1000.000_mPhi1.400_T0.350_modehadronic_TuneCP5_13TeV_1790211.root:Events\n"
     ]
    },
    {
     "name": "stderr",
     "output_type": "stream",
     "text": [
      " 24%|██▍       | 23/95 [00:04<00:11,  6.45it/s]"
     ]
    },
    {
     "name": "stdout",
     "output_type": "stream",
     "text": [
      "File failed:root://xrootd.cmsaf.mit.edu//store/user/bmaier/suep/official_private/2018/GluGluToSUEP_HT400_T0p35_mS1000.000_mPhi1.400_T0.350_modehadronic_TuneCP5_13TeV//Scouting_GluGluToSUEP_HT400_T0p35_mS1000.000_mPhi1.400_T0.350_modehadronic_TuneCP5_13TeV_1872153.root:Events\n",
      "File failed:root://xrootd.cmsaf.mit.edu//store/user/bmaier/suep/official_private/2018/GluGluToSUEP_HT400_T0p35_mS1000.000_mPhi1.400_T0.350_modehadronic_TuneCP5_13TeV//Scouting_GluGluToSUEP_HT400_T0p35_mS1000.000_mPhi1.400_T0.350_modehadronic_TuneCP5_13TeV_1989442.root:Events\n"
     ]
    },
    {
     "name": "stderr",
     "output_type": "stream",
     "text": [
      " 26%|██▋       | 25/95 [00:04<00:09,  7.10it/s]"
     ]
    },
    {
     "name": "stdout",
     "output_type": "stream",
     "text": [
      "File failed:root://xrootd.cmsaf.mit.edu//store/user/bmaier/suep/official_private/2018/GluGluToSUEP_HT400_T0p35_mS1000.000_mPhi1.400_T0.350_modehadronic_TuneCP5_13TeV//Scouting_GluGluToSUEP_HT400_T0p35_mS1000.000_mPhi1.400_T0.350_modehadronic_TuneCP5_13TeV_2003881.root:Events\n",
      "File failed:root://xrootd.cmsaf.mit.edu//store/user/bmaier/suep/official_private/2018/GluGluToSUEP_HT400_T0p35_mS1000.000_mPhi1.400_T0.350_modehadronic_TuneCP5_13TeV//Scouting_GluGluToSUEP_HT400_T0p35_mS1000.000_mPhi1.400_T0.350_modehadronic_TuneCP5_13TeV_2167649.root:Events\n"
     ]
    },
    {
     "name": "stderr",
     "output_type": "stream",
     "text": [
      " 28%|██▊       | 27/95 [00:04<00:08,  7.98it/s]"
     ]
    },
    {
     "name": "stdout",
     "output_type": "stream",
     "text": [
      "File failed:root://xrootd.cmsaf.mit.edu//store/user/bmaier/suep/official_private/2018/GluGluToSUEP_HT400_T0p35_mS1000.000_mPhi1.400_T0.350_modehadronic_TuneCP5_13TeV//Scouting_GluGluToSUEP_HT400_T0p35_mS1000.000_mPhi1.400_T0.350_modehadronic_TuneCP5_13TeV_2198401.root:Events\n",
      "File failed:root://xrootd.cmsaf.mit.edu//store/user/bmaier/suep/official_private/2018/GluGluToSUEP_HT400_T0p35_mS1000.000_mPhi1.400_T0.350_modehadronic_TuneCP5_13TeV//Scouting_GluGluToSUEP_HT400_T0p35_mS1000.000_mPhi1.400_T0.350_modehadronic_TuneCP5_13TeV_2259045.root:Events\n",
      "File failed:root://xrootd.cmsaf.mit.edu//store/user/bmaier/suep/official_private/2018/GluGluToSUEP_HT400_T0p35_mS1000.000_mPhi1.400_T0.350_modehadronic_TuneCP5_13TeV//Scouting_GluGluToSUEP_HT400_T0p35_mS1000.000_mPhi1.400_T0.350_modehadronic_TuneCP5_13TeV_2301950.root:Events\n"
     ]
    },
    {
     "name": "stderr",
     "output_type": "stream",
     "text": [
      " 32%|███▏      | 30/95 [00:05<00:07,  8.59it/s]"
     ]
    },
    {
     "name": "stdout",
     "output_type": "stream",
     "text": [
      "File failed:root://xrootd.cmsaf.mit.edu//store/user/bmaier/suep/official_private/2018/GluGluToSUEP_HT400_T0p35_mS1000.000_mPhi1.400_T0.350_modehadronic_TuneCP5_13TeV//Scouting_GluGluToSUEP_HT400_T0p35_mS1000.000_mPhi1.400_T0.350_modehadronic_TuneCP5_13TeV_2379541.root:Events\n",
      "File failed:root://xrootd.cmsaf.mit.edu//store/user/bmaier/suep/official_private/2018/GluGluToSUEP_HT400_T0p35_mS1000.000_mPhi1.400_T0.350_modehadronic_TuneCP5_13TeV//Scouting_GluGluToSUEP_HT400_T0p35_mS1000.000_mPhi1.400_T0.350_modehadronic_TuneCP5_13TeV_2397105.root:Events\n"
     ]
    },
    {
     "name": "stderr",
     "output_type": "stream",
     "text": [
      " 35%|███▍      | 33/95 [00:05<00:08,  7.70it/s]"
     ]
    },
    {
     "name": "stdout",
     "output_type": "stream",
     "text": [
      "File failed:root://xrootd.cmsaf.mit.edu//store/user/bmaier/suep/official_private/2018/GluGluToSUEP_HT400_T0p35_mS1000.000_mPhi1.400_T0.350_modehadronic_TuneCP5_13TeV//Scouting_GluGluToSUEP_HT400_T0p35_mS1000.000_mPhi1.400_T0.350_modehadronic_TuneCP5_13TeV_2422427.root:Events\n",
      "File failed:root://xrootd.cmsaf.mit.edu//store/user/bmaier/suep/official_private/2018/GluGluToSUEP_HT400_T0p35_mS1000.000_mPhi1.400_T0.350_modehadronic_TuneCP5_13TeV//Scouting_GluGluToSUEP_HT400_T0p35_mS1000.000_mPhi1.400_T0.350_modehadronic_TuneCP5_13TeV_2444757.root:Events\n",
      "File failed:root://xrootd.cmsaf.mit.edu//store/user/bmaier/suep/official_private/2018/GluGluToSUEP_HT400_T0p35_mS1000.000_mPhi1.400_T0.350_modehadronic_TuneCP5_13TeV//Scouting_GluGluToSUEP_HT400_T0p35_mS1000.000_mPhi1.400_T0.350_modehadronic_TuneCP5_13TeV_2563727.root:Events\n",
      "File failed:root://xrootd.cmsaf.mit.edu//store/user/bmaier/suep/official_private/2018/GluGluToSUEP_HT400_T0p35_mS1000.000_mPhi1.400_T0.350_modehadronic_TuneCP5_13TeV//Scouting_GluGluToSUEP_HT400_T0p35_mS1000.000_mPhi1.400_T0.350_modehadronic_TuneCP5_13TeV_260513.root:Events\n"
     ]
    },
    {
     "name": "stderr",
     "output_type": "stream",
     "text": [
      " 37%|███▋      | 35/95 [00:06<00:10,  5.91it/s]"
     ]
    },
    {
     "name": "stdout",
     "output_type": "stream",
     "text": [
      "File failed:root://xrootd.cmsaf.mit.edu//store/user/bmaier/suep/official_private/2018/GluGluToSUEP_HT400_T0p35_mS1000.000_mPhi1.400_T0.350_modehadronic_TuneCP5_13TeV//Scouting_GluGluToSUEP_HT400_T0p35_mS1000.000_mPhi1.400_T0.350_modehadronic_TuneCP5_13TeV_265263.root:Events\n",
      "File failed:root://xrootd.cmsaf.mit.edu//store/user/bmaier/suep/official_private/2018/GluGluToSUEP_HT400_T0p35_mS1000.000_mPhi1.400_T0.350_modehadronic_TuneCP5_13TeV//Scouting_GluGluToSUEP_HT400_T0p35_mS1000.000_mPhi1.400_T0.350_modehadronic_TuneCP5_13TeV_2675082.root:Events\n"
     ]
    },
    {
     "name": "stderr",
     "output_type": "stream",
     "text": [
      " 40%|████      | 38/95 [00:06<00:11,  4.82it/s]"
     ]
    },
    {
     "name": "stdout",
     "output_type": "stream",
     "text": [
      "File failed:root://xrootd.cmsaf.mit.edu//store/user/bmaier/suep/official_private/2018/GluGluToSUEP_HT400_T0p35_mS1000.000_mPhi1.400_T0.350_modehadronic_TuneCP5_13TeV//Scouting_GluGluToSUEP_HT400_T0p35_mS1000.000_mPhi1.400_T0.350_modehadronic_TuneCP5_13TeV_2699336.root:Events\n",
      "File failed:root://xrootd.cmsaf.mit.edu//store/user/bmaier/suep/official_private/2018/GluGluToSUEP_HT400_T0p35_mS1000.000_mPhi1.400_T0.350_modehadronic_TuneCP5_13TeV//Scouting_GluGluToSUEP_HT400_T0p35_mS1000.000_mPhi1.400_T0.350_modehadronic_TuneCP5_13TeV_2778514.root:Events\n"
     ]
    },
    {
     "name": "stderr",
     "output_type": "stream",
     "text": [
      " 42%|████▏     | 40/95 [00:07<00:09,  5.70it/s]"
     ]
    },
    {
     "name": "stdout",
     "output_type": "stream",
     "text": [
      "File failed:root://xrootd.cmsaf.mit.edu//store/user/bmaier/suep/official_private/2018/GluGluToSUEP_HT400_T0p35_mS1000.000_mPhi1.400_T0.350_modehadronic_TuneCP5_13TeV//Scouting_GluGluToSUEP_HT400_T0p35_mS1000.000_mPhi1.400_T0.350_modehadronic_TuneCP5_13TeV_2848402.root:Events\n",
      "File failed:root://xrootd.cmsaf.mit.edu//store/user/bmaier/suep/official_private/2018/GluGluToSUEP_HT400_T0p35_mS1000.000_mPhi1.400_T0.350_modehadronic_TuneCP5_13TeV//Scouting_GluGluToSUEP_HT400_T0p35_mS1000.000_mPhi1.400_T0.350_modehadronic_TuneCP5_13TeV_2999660.root:Events\n"
     ]
    },
    {
     "name": "stderr",
     "output_type": "stream",
     "text": [
      " 44%|████▍     | 42/95 [00:07<00:08,  6.10it/s]"
     ]
    },
    {
     "name": "stdout",
     "output_type": "stream",
     "text": [
      "File failed:root://xrootd.cmsaf.mit.edu//store/user/bmaier/suep/official_private/2018/GluGluToSUEP_HT400_T0p35_mS1000.000_mPhi1.400_T0.350_modehadronic_TuneCP5_13TeV//Scouting_GluGluToSUEP_HT400_T0p35_mS1000.000_mPhi1.400_T0.350_modehadronic_TuneCP5_13TeV_3013436.root:Events\n",
      "File failed:root://xrootd.cmsaf.mit.edu//store/user/bmaier/suep/official_private/2018/GluGluToSUEP_HT400_T0p35_mS1000.000_mPhi1.400_T0.350_modehadronic_TuneCP5_13TeV//Scouting_GluGluToSUEP_HT400_T0p35_mS1000.000_mPhi1.400_T0.350_modehadronic_TuneCP5_13TeV_3023229.root:Events\n"
     ]
    },
    {
     "name": "stderr",
     "output_type": "stream",
     "text": [
      " 46%|████▋     | 44/95 [00:07<00:07,  7.11it/s]"
     ]
    },
    {
     "name": "stdout",
     "output_type": "stream",
     "text": [
      "File failed:root://xrootd.cmsaf.mit.edu//store/user/bmaier/suep/official_private/2018/GluGluToSUEP_HT400_T0p35_mS1000.000_mPhi1.400_T0.350_modehadronic_TuneCP5_13TeV//Scouting_GluGluToSUEP_HT400_T0p35_mS1000.000_mPhi1.400_T0.350_modehadronic_TuneCP5_13TeV_305703.root:Events\n",
      "File failed:root://xrootd.cmsaf.mit.edu//store/user/bmaier/suep/official_private/2018/GluGluToSUEP_HT400_T0p35_mS1000.000_mPhi1.400_T0.350_modehadronic_TuneCP5_13TeV//Scouting_GluGluToSUEP_HT400_T0p35_mS1000.000_mPhi1.400_T0.350_modehadronic_TuneCP5_13TeV_3128290.root:Events\n"
     ]
    },
    {
     "name": "stderr",
     "output_type": "stream",
     "text": [
      " 47%|████▋     | 45/95 [00:07<00:07,  6.95it/s]"
     ]
    },
    {
     "name": "stdout",
     "output_type": "stream",
     "text": [
      "File failed:root://xrootd.cmsaf.mit.edu//store/user/bmaier/suep/official_private/2018/GluGluToSUEP_HT400_T0p35_mS1000.000_mPhi1.400_T0.350_modehadronic_TuneCP5_13TeV//Scouting_GluGluToSUEP_HT400_T0p35_mS1000.000_mPhi1.400_T0.350_modehadronic_TuneCP5_13TeV_3155611.root:Events\n"
     ]
    },
    {
     "name": "stderr",
     "output_type": "stream",
     "text": [
      " 48%|████▊     | 46/95 [00:08<00:15,  3.16it/s]"
     ]
    },
    {
     "name": "stdout",
     "output_type": "stream",
     "text": [
      "File failed:root://xrootd.cmsaf.mit.edu//store/user/bmaier/suep/official_private/2018/GluGluToSUEP_HT400_T0p35_mS1000.000_mPhi1.400_T0.350_modehadronic_TuneCP5_13TeV//Scouting_GluGluToSUEP_HT400_T0p35_mS1000.000_mPhi1.400_T0.350_modehadronic_TuneCP5_13TeV_316895.root:Events\n"
     ]
    },
    {
     "name": "stderr",
     "output_type": "stream",
     "text": [
      " 51%|█████     | 48/95 [00:08<00:11,  4.14it/s]"
     ]
    },
    {
     "name": "stdout",
     "output_type": "stream",
     "text": [
      "File failed:root://xrootd.cmsaf.mit.edu//store/user/bmaier/suep/official_private/2018/GluGluToSUEP_HT400_T0p35_mS1000.000_mPhi1.400_T0.350_modehadronic_TuneCP5_13TeV//Scouting_GluGluToSUEP_HT400_T0p35_mS1000.000_mPhi1.400_T0.350_modehadronic_TuneCP5_13TeV_3170276.root:Events\n",
      "File failed:root://xrootd.cmsaf.mit.edu//store/user/bmaier/suep/official_private/2018/GluGluToSUEP_HT400_T0p35_mS1000.000_mPhi1.400_T0.350_modehadronic_TuneCP5_13TeV//Scouting_GluGluToSUEP_HT400_T0p35_mS1000.000_mPhi1.400_T0.350_modehadronic_TuneCP5_13TeV_3185010.root:Events\n"
     ]
    },
    {
     "name": "stderr",
     "output_type": "stream",
     "text": [
      " 52%|█████▏    | 49/95 [00:09<00:13,  3.29it/s]"
     ]
    },
    {
     "name": "stdout",
     "output_type": "stream",
     "text": [
      "File failed:root://xrootd.cmsaf.mit.edu//store/user/bmaier/suep/official_private/2018/GluGluToSUEP_HT400_T0p35_mS1000.000_mPhi1.400_T0.350_modehadronic_TuneCP5_13TeV//Scouting_GluGluToSUEP_HT400_T0p35_mS1000.000_mPhi1.400_T0.350_modehadronic_TuneCP5_13TeV_3224243.root:Events\n",
      "File failed:root://xrootd.cmsaf.mit.edu//store/user/bmaier/suep/official_private/2018/GluGluToSUEP_HT400_T0p35_mS1000.000_mPhi1.400_T0.350_modehadronic_TuneCP5_13TeV//Scouting_GluGluToSUEP_HT400_T0p35_mS1000.000_mPhi1.400_T0.350_modehadronic_TuneCP5_13TeV_3231903.root:Events\n"
     ]
    },
    {
     "name": "stderr",
     "output_type": "stream",
     "text": [
      " 55%|█████▍    | 52/95 [00:09<00:08,  5.17it/s]"
     ]
    },
    {
     "name": "stdout",
     "output_type": "stream",
     "text": [
      "File failed:root://xrootd.cmsaf.mit.edu//store/user/bmaier/suep/official_private/2018/GluGluToSUEP_HT400_T0p35_mS1000.000_mPhi1.400_T0.350_modehadronic_TuneCP5_13TeV//Scouting_GluGluToSUEP_HT400_T0p35_mS1000.000_mPhi1.400_T0.350_modehadronic_TuneCP5_13TeV_3263622.root:Events\n",
      "File failed:root://xrootd.cmsaf.mit.edu//store/user/bmaier/suep/official_private/2018/GluGluToSUEP_HT400_T0p35_mS1000.000_mPhi1.400_T0.350_modehadronic_TuneCP5_13TeV//Scouting_GluGluToSUEP_HT400_T0p35_mS1000.000_mPhi1.400_T0.350_modehadronic_TuneCP5_13TeV_3290106.root:Events\n"
     ]
    },
    {
     "name": "stderr",
     "output_type": "stream",
     "text": [
      " 56%|█████▌    | 53/95 [00:10<00:11,  3.52it/s]"
     ]
    },
    {
     "name": "stdout",
     "output_type": "stream",
     "text": [
      "File failed:root://xrootd.cmsaf.mit.edu//store/user/bmaier/suep/official_private/2018/GluGluToSUEP_HT400_T0p35_mS1000.000_mPhi1.400_T0.350_modehadronic_TuneCP5_13TeV//Scouting_GluGluToSUEP_HT400_T0p35_mS1000.000_mPhi1.400_T0.350_modehadronic_TuneCP5_13TeV_3412425.root:Events\n"
     ]
    },
    {
     "name": "stderr",
     "output_type": "stream",
     "text": [
      " 57%|█████▋    | 54/95 [00:10<00:13,  3.02it/s]"
     ]
    },
    {
     "name": "stdout",
     "output_type": "stream",
     "text": [
      "File failed:root://xrootd.cmsaf.mit.edu//store/user/bmaier/suep/official_private/2018/GluGluToSUEP_HT400_T0p35_mS1000.000_mPhi1.400_T0.350_modehadronic_TuneCP5_13TeV//Scouting_GluGluToSUEP_HT400_T0p35_mS1000.000_mPhi1.400_T0.350_modehadronic_TuneCP5_13TeV_3423644.root:Events\n"
     ]
    },
    {
     "name": "stderr",
     "output_type": "stream",
     "text": [
      " 58%|█████▊    | 55/95 [00:11<00:15,  2.66it/s]"
     ]
    },
    {
     "name": "stdout",
     "output_type": "stream",
     "text": [
      "File failed:root://xrootd.cmsaf.mit.edu//store/user/bmaier/suep/official_private/2018/GluGluToSUEP_HT400_T0p35_mS1000.000_mPhi1.400_T0.350_modehadronic_TuneCP5_13TeV//Scouting_GluGluToSUEP_HT400_T0p35_mS1000.000_mPhi1.400_T0.350_modehadronic_TuneCP5_13TeV_3461728.root:Events\n",
      "File failed:root://xrootd.cmsaf.mit.edu//store/user/bmaier/suep/official_private/2018/GluGluToSUEP_HT400_T0p35_mS1000.000_mPhi1.400_T0.350_modehadronic_TuneCP5_13TeV//Scouting_GluGluToSUEP_HT400_T0p35_mS1000.000_mPhi1.400_T0.350_modehadronic_TuneCP5_13TeV_3543017.root:Events\n"
     ]
    },
    {
     "name": "stderr",
     "output_type": "stream",
     "text": [
      " 61%|██████    | 58/95 [00:11<00:10,  3.60it/s]"
     ]
    },
    {
     "name": "stdout",
     "output_type": "stream",
     "text": [
      "File failed:root://xrootd.cmsaf.mit.edu//store/user/bmaier/suep/official_private/2018/GluGluToSUEP_HT400_T0p35_mS1000.000_mPhi1.400_T0.350_modehadronic_TuneCP5_13TeV//Scouting_GluGluToSUEP_HT400_T0p35_mS1000.000_mPhi1.400_T0.350_modehadronic_TuneCP5_13TeV_3553185.root:Events\n",
      "File failed:root://xrootd.cmsaf.mit.edu//store/user/bmaier/suep/official_private/2018/GluGluToSUEP_HT400_T0p35_mS1000.000_mPhi1.400_T0.350_modehadronic_TuneCP5_13TeV//Scouting_GluGluToSUEP_HT400_T0p35_mS1000.000_mPhi1.400_T0.350_modehadronic_TuneCP5_13TeV_3567635.root:Events\n"
     ]
    },
    {
     "name": "stderr",
     "output_type": "stream",
     "text": [
      " 63%|██████▎   | 60/95 [00:12<00:07,  4.76it/s]"
     ]
    },
    {
     "name": "stdout",
     "output_type": "stream",
     "text": [
      "File failed:root://xrootd.cmsaf.mit.edu//store/user/bmaier/suep/official_private/2018/GluGluToSUEP_HT400_T0p35_mS1000.000_mPhi1.400_T0.350_modehadronic_TuneCP5_13TeV//Scouting_GluGluToSUEP_HT400_T0p35_mS1000.000_mPhi1.400_T0.350_modehadronic_TuneCP5_13TeV_362596.root:Events\n",
      "File failed:root://xrootd.cmsaf.mit.edu//store/user/bmaier/suep/official_private/2018/GluGluToSUEP_HT400_T0p35_mS1000.000_mPhi1.400_T0.350_modehadronic_TuneCP5_13TeV//Scouting_GluGluToSUEP_HT400_T0p35_mS1000.000_mPhi1.400_T0.350_modehadronic_TuneCP5_13TeV_3626373.root:Events\n"
     ]
    },
    {
     "name": "stderr",
     "output_type": "stream",
     "text": [
      " 65%|██████▌   | 62/95 [00:12<00:05,  6.10it/s]"
     ]
    },
    {
     "name": "stdout",
     "output_type": "stream",
     "text": [
      "File failed:root://xrootd.cmsaf.mit.edu//store/user/bmaier/suep/official_private/2018/GluGluToSUEP_HT400_T0p35_mS1000.000_mPhi1.400_T0.350_modehadronic_TuneCP5_13TeV//Scouting_GluGluToSUEP_HT400_T0p35_mS1000.000_mPhi1.400_T0.350_modehadronic_TuneCP5_13TeV_3668172.root:Events\n",
      "File failed:root://xrootd.cmsaf.mit.edu//store/user/bmaier/suep/official_private/2018/GluGluToSUEP_HT400_T0p35_mS1000.000_mPhi1.400_T0.350_modehadronic_TuneCP5_13TeV//Scouting_GluGluToSUEP_HT400_T0p35_mS1000.000_mPhi1.400_T0.350_modehadronic_TuneCP5_13TeV_367497.root:Events\n"
     ]
    },
    {
     "name": "stderr",
     "output_type": "stream",
     "text": [
      " 67%|██████▋   | 64/95 [00:12<00:04,  6.48it/s]"
     ]
    },
    {
     "name": "stdout",
     "output_type": "stream",
     "text": [
      "File failed:root://xrootd.cmsaf.mit.edu//store/user/bmaier/suep/official_private/2018/GluGluToSUEP_HT400_T0p35_mS1000.000_mPhi1.400_T0.350_modehadronic_TuneCP5_13TeV//Scouting_GluGluToSUEP_HT400_T0p35_mS1000.000_mPhi1.400_T0.350_modehadronic_TuneCP5_13TeV_3770245.root:Events\n",
      "File failed:root://xrootd.cmsaf.mit.edu//store/user/bmaier/suep/official_private/2018/GluGluToSUEP_HT400_T0p35_mS1000.000_mPhi1.400_T0.350_modehadronic_TuneCP5_13TeV//Scouting_GluGluToSUEP_HT400_T0p35_mS1000.000_mPhi1.400_T0.350_modehadronic_TuneCP5_13TeV_3798457.root:Events\n"
     ]
    },
    {
     "name": "stderr",
     "output_type": "stream",
     "text": [
      " 68%|██████▊   | 65/95 [00:13<00:06,  4.45it/s]"
     ]
    },
    {
     "name": "stdout",
     "output_type": "stream",
     "text": [
      "File failed:root://xrootd.cmsaf.mit.edu//store/user/bmaier/suep/official_private/2018/GluGluToSUEP_HT400_T0p35_mS1000.000_mPhi1.400_T0.350_modehadronic_TuneCP5_13TeV//Scouting_GluGluToSUEP_HT400_T0p35_mS1000.000_mPhi1.400_T0.350_modehadronic_TuneCP5_13TeV_4030951.root:Events\n",
      "File failed:root://xrootd.cmsaf.mit.edu//store/user/bmaier/suep/official_private/2018/GluGluToSUEP_HT400_T0p35_mS1000.000_mPhi1.400_T0.350_modehadronic_TuneCP5_13TeV//Scouting_GluGluToSUEP_HT400_T0p35_mS1000.000_mPhi1.400_T0.350_modehadronic_TuneCP5_13TeV_4038705.root:Events\n"
     ]
    },
    {
     "name": "stderr",
     "output_type": "stream",
     "text": [
      " 72%|███████▏  | 68/95 [00:13<00:04,  5.96it/s]"
     ]
    },
    {
     "name": "stdout",
     "output_type": "stream",
     "text": [
      "File failed:root://xrootd.cmsaf.mit.edu//store/user/bmaier/suep/official_private/2018/GluGluToSUEP_HT400_T0p35_mS1000.000_mPhi1.400_T0.350_modehadronic_TuneCP5_13TeV//Scouting_GluGluToSUEP_HT400_T0p35_mS1000.000_mPhi1.400_T0.350_modehadronic_TuneCP5_13TeV_4132953.root:Events\n",
      "File failed:root://xrootd.cmsaf.mit.edu//store/user/bmaier/suep/official_private/2018/GluGluToSUEP_HT400_T0p35_mS1000.000_mPhi1.400_T0.350_modehadronic_TuneCP5_13TeV//Scouting_GluGluToSUEP_HT400_T0p35_mS1000.000_mPhi1.400_T0.350_modehadronic_TuneCP5_13TeV_4184217.root:Events\n"
     ]
    },
    {
     "name": "stderr",
     "output_type": "stream",
     "text": [
      " 73%|███████▎  | 69/95 [00:13<00:04,  6.18it/s]"
     ]
    },
    {
     "name": "stdout",
     "output_type": "stream",
     "text": [
      "File failed:root://xrootd.cmsaf.mit.edu//store/user/bmaier/suep/official_private/2018/GluGluToSUEP_HT400_T0p35_mS1000.000_mPhi1.400_T0.350_modehadronic_TuneCP5_13TeV//Scouting_GluGluToSUEP_HT400_T0p35_mS1000.000_mPhi1.400_T0.350_modehadronic_TuneCP5_13TeV_4242849.root:Events\n",
      "File failed:root://xrootd.cmsaf.mit.edu//store/user/bmaier/suep/official_private/2018/GluGluToSUEP_HT400_T0p35_mS1000.000_mPhi1.400_T0.350_modehadronic_TuneCP5_13TeV//Scouting_GluGluToSUEP_HT400_T0p35_mS1000.000_mPhi1.400_T0.350_modehadronic_TuneCP5_13TeV_4300589.root:Events\n"
     ]
    },
    {
     "name": "stderr",
     "output_type": "stream",
     "text": [
      " 76%|███████▌  | 72/95 [00:13<00:03,  7.01it/s]"
     ]
    },
    {
     "name": "stdout",
     "output_type": "stream",
     "text": [
      "File failed:root://xrootd.cmsaf.mit.edu//store/user/bmaier/suep/official_private/2018/GluGluToSUEP_HT400_T0p35_mS1000.000_mPhi1.400_T0.350_modehadronic_TuneCP5_13TeV//Scouting_GluGluToSUEP_HT400_T0p35_mS1000.000_mPhi1.400_T0.350_modehadronic_TuneCP5_13TeV_4311853.root:Events\n",
      "File failed:root://xrootd.cmsaf.mit.edu//store/user/bmaier/suep/official_private/2018/GluGluToSUEP_HT400_T0p35_mS1000.000_mPhi1.400_T0.350_modehadronic_TuneCP5_13TeV//Scouting_GluGluToSUEP_HT400_T0p35_mS1000.000_mPhi1.400_T0.350_modehadronic_TuneCP5_13TeV_4440673.root:Events\n"
     ]
    },
    {
     "name": "stderr",
     "output_type": "stream",
     "text": [
      " 77%|███████▋  | 73/95 [00:14<00:03,  7.21it/s]"
     ]
    },
    {
     "name": "stdout",
     "output_type": "stream",
     "text": [
      "File failed:root://xrootd.cmsaf.mit.edu//store/user/bmaier/suep/official_private/2018/GluGluToSUEP_HT400_T0p35_mS1000.000_mPhi1.400_T0.350_modehadronic_TuneCP5_13TeV//Scouting_GluGluToSUEP_HT400_T0p35_mS1000.000_mPhi1.400_T0.350_modehadronic_TuneCP5_13TeV_4498035.root:Events\n"
     ]
    },
    {
     "name": "stderr",
     "output_type": "stream",
     "text": [
      " 80%|████████  | 76/95 [00:14<00:02,  6.87it/s]"
     ]
    },
    {
     "name": "stdout",
     "output_type": "stream",
     "text": [
      "File failed:root://xrootd.cmsaf.mit.edu//store/user/bmaier/suep/official_private/2018/GluGluToSUEP_HT400_T0p35_mS1000.000_mPhi1.400_T0.350_modehadronic_TuneCP5_13TeV//Scouting_GluGluToSUEP_HT400_T0p35_mS1000.000_mPhi1.400_T0.350_modehadronic_TuneCP5_13TeV_4519920.root:Events\n",
      "File failed:root://xrootd.cmsaf.mit.edu//store/user/bmaier/suep/official_private/2018/GluGluToSUEP_HT400_T0p35_mS1000.000_mPhi1.400_T0.350_modehadronic_TuneCP5_13TeV//Scouting_GluGluToSUEP_HT400_T0p35_mS1000.000_mPhi1.400_T0.350_modehadronic_TuneCP5_13TeV_4607645.root:Events\n",
      "File failed:root://xrootd.cmsaf.mit.edu//store/user/bmaier/suep/official_private/2018/GluGluToSUEP_HT400_T0p35_mS1000.000_mPhi1.400_T0.350_modehadronic_TuneCP5_13TeV//Scouting_GluGluToSUEP_HT400_T0p35_mS1000.000_mPhi1.400_T0.350_modehadronic_TuneCP5_13TeV_4628345.root:Events\n"
     ]
    },
    {
     "name": "stderr",
     "output_type": "stream",
     "text": [
      " 82%|████████▏ | 78/95 [00:14<00:02,  7.09it/s]"
     ]
    },
    {
     "name": "stdout",
     "output_type": "stream",
     "text": [
      "File failed:root://xrootd.cmsaf.mit.edu//store/user/bmaier/suep/official_private/2018/GluGluToSUEP_HT400_T0p35_mS1000.000_mPhi1.400_T0.350_modehadronic_TuneCP5_13TeV//Scouting_GluGluToSUEP_HT400_T0p35_mS1000.000_mPhi1.400_T0.350_modehadronic_TuneCP5_13TeV_4696628.root:Events\n",
      "File failed:root://xrootd.cmsaf.mit.edu//store/user/bmaier/suep/official_private/2018/GluGluToSUEP_HT400_T0p35_mS1000.000_mPhi1.400_T0.350_modehadronic_TuneCP5_13TeV//Scouting_GluGluToSUEP_HT400_T0p35_mS1000.000_mPhi1.400_T0.350_modehadronic_TuneCP5_13TeV_4701342.root:Events\n"
     ]
    },
    {
     "name": "stderr",
     "output_type": "stream",
     "text": [
      " 83%|████████▎ | 79/95 [00:15<00:02,  7.53it/s]"
     ]
    },
    {
     "name": "stdout",
     "output_type": "stream",
     "text": [
      "File failed:root://xrootd.cmsaf.mit.edu//store/user/bmaier/suep/official_private/2018/GluGluToSUEP_HT400_T0p35_mS1000.000_mPhi1.400_T0.350_modehadronic_TuneCP5_13TeV//Scouting_GluGluToSUEP_HT400_T0p35_mS1000.000_mPhi1.400_T0.350_modehadronic_TuneCP5_13TeV_4798999.root:Events\n"
     ]
    },
    {
     "name": "stderr",
     "output_type": "stream",
     "text": [
      " 84%|████████▍ | 80/95 [00:15<00:03,  4.92it/s]"
     ]
    },
    {
     "name": "stdout",
     "output_type": "stream",
     "text": [
      "File failed:root://xrootd.cmsaf.mit.edu//store/user/bmaier/suep/official_private/2018/GluGluToSUEP_HT400_T0p35_mS1000.000_mPhi1.400_T0.350_modehadronic_TuneCP5_13TeV//Scouting_GluGluToSUEP_HT400_T0p35_mS1000.000_mPhi1.400_T0.350_modehadronic_TuneCP5_13TeV_4811138.root:Events\n"
     ]
    },
    {
     "name": "stderr",
     "output_type": "stream",
     "text": [
      " 86%|████████▋ | 82/95 [00:15<00:02,  4.48it/s]"
     ]
    },
    {
     "name": "stdout",
     "output_type": "stream",
     "text": [
      "File failed:root://xrootd.cmsaf.mit.edu//store/user/bmaier/suep/official_private/2018/GluGluToSUEP_HT400_T0p35_mS1000.000_mPhi1.400_T0.350_modehadronic_TuneCP5_13TeV//Scouting_GluGluToSUEP_HT400_T0p35_mS1000.000_mPhi1.400_T0.350_modehadronic_TuneCP5_13TeV_4839340.root:Events\n",
      "File failed:root://xrootd.cmsaf.mit.edu//store/user/bmaier/suep/official_private/2018/GluGluToSUEP_HT400_T0p35_mS1000.000_mPhi1.400_T0.350_modehadronic_TuneCP5_13TeV//Scouting_GluGluToSUEP_HT400_T0p35_mS1000.000_mPhi1.400_T0.350_modehadronic_TuneCP5_13TeV_4909579.root:Events\n"
     ]
    },
    {
     "name": "stderr",
     "output_type": "stream",
     "text": [
      " 87%|████████▋ | 83/95 [00:16<00:02,  4.73it/s]"
     ]
    },
    {
     "name": "stdout",
     "output_type": "stream",
     "text": [
      "File failed:root://xrootd.cmsaf.mit.edu//store/user/bmaier/suep/official_private/2018/GluGluToSUEP_HT400_T0p35_mS1000.000_mPhi1.400_T0.350_modehadronic_TuneCP5_13TeV//Scouting_GluGluToSUEP_HT400_T0p35_mS1000.000_mPhi1.400_T0.350_modehadronic_TuneCP5_13TeV_4931506.root:Events\n",
      "File failed:root://xrootd.cmsaf.mit.edu//store/user/bmaier/suep/official_private/2018/GluGluToSUEP_HT400_T0p35_mS1000.000_mPhi1.400_T0.350_modehadronic_TuneCP5_13TeV//Scouting_GluGluToSUEP_HT400_T0p35_mS1000.000_mPhi1.400_T0.350_modehadronic_TuneCP5_13TeV_515492.root:Events\n"
     ]
    },
    {
     "name": "stderr",
     "output_type": "stream",
     "text": [
      " 89%|████████▉ | 85/95 [00:16<00:01,  5.56it/s]"
     ]
    },
    {
     "name": "stdout",
     "output_type": "stream",
     "text": [
      "File failed:root://xrootd.cmsaf.mit.edu//store/user/bmaier/suep/official_private/2018/GluGluToSUEP_HT400_T0p35_mS1000.000_mPhi1.400_T0.350_modehadronic_TuneCP5_13TeV//Scouting_GluGluToSUEP_HT400_T0p35_mS1000.000_mPhi1.400_T0.350_modehadronic_TuneCP5_13TeV_517198.root:Events\n",
      "File failed:root://xrootd.cmsaf.mit.edu//store/user/bmaier/suep/official_private/2018/GluGluToSUEP_HT400_T0p35_mS1000.000_mPhi1.400_T0.350_modehadronic_TuneCP5_13TeV//Scouting_GluGluToSUEP_HT400_T0p35_mS1000.000_mPhi1.400_T0.350_modehadronic_TuneCP5_13TeV_529178.root:Events\n",
      "File failed:root://xrootd.cmsaf.mit.edu//store/user/bmaier/suep/official_private/2018/GluGluToSUEP_HT400_T0p35_mS1000.000_mPhi1.400_T0.350_modehadronic_TuneCP5_13TeV//Scouting_GluGluToSUEP_HT400_T0p35_mS1000.000_mPhi1.400_T0.350_modehadronic_TuneCP5_13TeV_534919.root:Events\n"
     ]
    },
    {
     "name": "stderr",
     "output_type": "stream",
     "text": [
      " 94%|█████████▎| 89/95 [00:16<00:00,  7.62it/s]"
     ]
    },
    {
     "name": "stdout",
     "output_type": "stream",
     "text": [
      "File failed:root://xrootd.cmsaf.mit.edu//store/user/bmaier/suep/official_private/2018/GluGluToSUEP_HT400_T0p35_mS1000.000_mPhi1.400_T0.350_modehadronic_TuneCP5_13TeV//Scouting_GluGluToSUEP_HT400_T0p35_mS1000.000_mPhi1.400_T0.350_modehadronic_TuneCP5_13TeV_564487.root:Events\n",
      "File failed:root://xrootd.cmsaf.mit.edu//store/user/bmaier/suep/official_private/2018/GluGluToSUEP_HT400_T0p35_mS1000.000_mPhi1.400_T0.350_modehadronic_TuneCP5_13TeV//Scouting_GluGluToSUEP_HT400_T0p35_mS1000.000_mPhi1.400_T0.350_modehadronic_TuneCP5_13TeV_579590.root:Events\n",
      "File failed:root://xrootd.cmsaf.mit.edu//store/user/bmaier/suep/official_private/2018/GluGluToSUEP_HT400_T0p35_mS1000.000_mPhi1.400_T0.350_modehadronic_TuneCP5_13TeV//Scouting_GluGluToSUEP_HT400_T0p35_mS1000.000_mPhi1.400_T0.350_modehadronic_TuneCP5_13TeV_59111.root:Events\n"
     ]
    },
    {
     "name": "stderr",
     "output_type": "stream",
     "text": [
      " 97%|█████████▋| 92/95 [00:17<00:00,  8.35it/s]"
     ]
    },
    {
     "name": "stdout",
     "output_type": "stream",
     "text": [
      "File failed:root://xrootd.cmsaf.mit.edu//store/user/bmaier/suep/official_private/2018/GluGluToSUEP_HT400_T0p35_mS1000.000_mPhi1.400_T0.350_modehadronic_TuneCP5_13TeV//Scouting_GluGluToSUEP_HT400_T0p35_mS1000.000_mPhi1.400_T0.350_modehadronic_TuneCP5_13TeV_871777.root:Events\n",
      "File failed:root://xrootd.cmsaf.mit.edu//store/user/bmaier/suep/official_private/2018/GluGluToSUEP_HT400_T0p35_mS1000.000_mPhi1.400_T0.350_modehadronic_TuneCP5_13TeV//Scouting_GluGluToSUEP_HT400_T0p35_mS1000.000_mPhi1.400_T0.350_modehadronic_TuneCP5_13TeV_908455.root:Events\n"
     ]
    },
    {
     "name": "stderr",
     "output_type": "stream",
     "text": [
      " 98%|█████████▊| 93/95 [00:17<00:00,  8.42it/s]"
     ]
    },
    {
     "name": "stdout",
     "output_type": "stream",
     "text": [
      "File failed:root://xrootd.cmsaf.mit.edu//store/user/bmaier/suep/official_private/2018/GluGluToSUEP_HT400_T0p35_mS1000.000_mPhi1.400_T0.350_modehadronic_TuneCP5_13TeV//Scouting_GluGluToSUEP_HT400_T0p35_mS1000.000_mPhi1.400_T0.350_modehadronic_TuneCP5_13TeV_91769.root:Events\n",
      "File failed:root://xrootd.cmsaf.mit.edu//store/user/bmaier/suep/official_private/2018/GluGluToSUEP_HT400_T0p35_mS1000.000_mPhi1.400_T0.350_modehadronic_TuneCP5_13TeV//Scouting_GluGluToSUEP_HT400_T0p35_mS1000.000_mPhi1.400_T0.350_modehadronic_TuneCP5_13TeV_938611.root:Events\n"
     ]
    },
    {
     "name": "stderr",
     "output_type": "stream",
     "text": [
      "100%|██████████| 95/95 [00:17<00:00,  5.45it/s]"
     ]
    },
    {
     "name": "stdout",
     "output_type": "stream",
     "text": [
      "File failed:root://xrootd.cmsaf.mit.edu//store/user/bmaier/suep/official_private/2018/GluGluToSUEP_HT400_T0p35_mS1000.000_mPhi1.400_T0.350_modehadronic_TuneCP5_13TeV//Scouting_GluGluToSUEP_HT400_T0p35_mS1000.000_mPhi1.400_T0.350_modehadronic_TuneCP5_13TeV_969387.root:Events\n"
     ]
    },
    {
     "name": "stderr",
     "output_type": "stream",
     "text": [
      "\n"
     ]
    }
   ],
   "source": [
    "# print('Processing m=125 GeV for the {} decay mode:'.format(decay))\n",
    "# trigger_dict_125 = create_dict(filelist_125)\n",
    "# print('Processing m=400 GeV for the {} decay mode:'.format(decay))\n",
    "# trigger_dict_400 = create_dict(filelist_400)\n",
    "# print('Processing m=750 GeV for the {} decay mode:'.format(decay))\n",
    "# trigger_dict_750 = create_dict(filelist_750)\n",
    "# print('Processing m=1000 GeV for the {} decay mode:'.format(decay))\n",
    "# trigger_dict_1000 = create_dict(filelist_1000)\n",
    "\n",
    "print('Processing m=200 GeV for the {} decay mode:'.format(decay))\n",
    "trigger_dict_200 = create_dict(filelist_200)\n",
    "print('Processing m=400 GeV for the {} decay mode:'.format(decay))\n",
    "trigger_dict_400 = create_dict(filelist_400)\n",
    "print('Processing m=700 GeV for the {} decay mode:'.format(decay))\n",
    "trigger_dict_700 = create_dict(filelist_700)\n",
    "print('Processing m=1000 GeV for the {} decay mode:'.format(decay))\n",
    "trigger_dict_1000 = create_dict(filelist_1000)"
   ]
  },
  {
   "cell_type": "code",
   "execution_count": 5,
   "id": "ce4f5b44-b04e-454f-93fc-22c62e671066",
   "metadata": {},
   "outputs": [
    {
     "name": "stdout",
     "output_type": "stream",
     "text": [
      "creating plots of trigger efficiencies.\n"
     ]
    },
    {
     "name": "stderr",
     "output_type": "stream",
     "text": [
      "0it [00:00, ?it/s]\n"
     ]
    }
   ],
   "source": [
    "print('creating plots of trigger efficiencies.')\n",
    "for trigger in tqdm(trigger_dict_200):\n",
    "    # x_125 = trigger_dict_125[trigger]\n",
    "    # ratio_125 = x_125.sum() / len(x_125) * 100.0\n",
    "    # x_400 = trigger_dict_400[trigger]\n",
    "    # ratio_400 = x_400.sum() / len(x_400) * 100.0\n",
    "    # x_750 = trigger_dict_750[trigger]\n",
    "    # ratio_750 = x_750.sum() / len(x_750) * 100.0\n",
    "    # x_1000 = trigger_dict_1000[trigger]\n",
    "    # ratio_1000 = x_1000.sum() / len(x_1000) * 100.0\n",
    "    # plt.plot([125,400,750,1000],[ratio_125,ratio_400,ratio_750,ratio_1000],color='green', marker='o', linestyle='dashed',\n",
    "    #  linewidth=2, markersize=5)\n",
    "    x_200 = trigger_dict_200[trigger]\n",
    "    ratio_200 = x_200.sum() / len(x_200) * 100.0\n",
    "    x_400 = trigger_dict_400[trigger]\n",
    "    ratio_400 = x_400.sum() / len(x_400) * 100.0\n",
    "    x_700 = trigger_dict_700[trigger]\n",
    "    ratio_700 = x_700.sum() / len(x_700) * 100.0\n",
    "    x_1000 = trigger_dict_1000[trigger]\n",
    "    ratio_1000 = x_1000.sum() / len(x_1000) * 100.0\n",
    "    plt.plot([200,400,700,1000],[ratio_200,ratio_400,ratio_700,ratio_1000],color='green', marker='o', linestyle='dashed',\n",
    "     linewidth=2, markersize=5)\n",
    "    plt.xlabel('Scalar Mass')\n",
    "    plt.ylabel('Efficiency')\n",
    "    plt.ylim([0,110])\n",
    "    plt.title('{} Efficiency'.format(trigger))\n",
    "    plt.savefig('outputs_HT400/{}_eff.png'.format(trigger))\n",
    "    plt.show()"
   ]
  },
  {
   "cell_type": "code",
   "execution_count": null,
   "id": "4d92785a-eb2e-4026-996a-10751c33fb0f",
   "metadata": {},
   "outputs": [],
   "source": []
  }
 ],
 "metadata": {
  "kernelspec": {
   "display_name": "SUEP",
   "language": "python",
   "name": "suep"
  },
  "language_info": {
   "codemirror_mode": {
    "name": "ipython",
    "version": 3
   },
   "file_extension": ".py",
   "mimetype": "text/x-python",
   "name": "python",
   "nbconvert_exporter": "python",
   "pygments_lexer": "ipython3",
   "version": "3.9.15"
  }
 },
 "nbformat": 4,
 "nbformat_minor": 5
}
