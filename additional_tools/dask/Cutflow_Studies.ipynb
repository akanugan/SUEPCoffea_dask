{
 "cells": [
  {
   "cell_type": "markdown",
   "id": "c0ad632b",
   "metadata": {},
   "source": [
    "# Dask through Jupyter Notebooks"
   ]
  },
  {
   "cell_type": "markdown",
   "id": "cb0cdad0",
   "metadata": {},
   "source": [
    "This notebook runs a simple study on SUEP data using Dask, creating an output coffea file that can be analyzed in Dask_analysis.ipynb."
   ]
  },
  {
   "cell_type": "code",
   "execution_count": 1,
   "id": "e5a0c0b2",
   "metadata": {
    "tags": []
   },
   "outputs": [
    {
     "name": "stderr",
     "output_type": "stream",
     "text": [
      "/work/submit/lavezzo/miniforge3/envs/SUEP/lib/python3.9/site-packages/coffea/util.py:154: FutureWarning: In coffea version v0.8.0 (target date: 31 Dec 2022), this will be an error.\n",
      "(Set coffea.deprecations_as_errors = True to get a stack trace now.)\n",
      "ImportError: coffea.hist is deprecated\n",
      "  warnings.warn(message, FutureWarning)\n"
     ]
    }
   ],
   "source": [
    "import os\n",
    "import sys\n",
    "import json\n",
    "import time\n",
    "import random\n",
    "import numpy as np\n",
    "import fastjet\n",
    "import awkward as ak\n",
    "import vector\n",
    "vector.register_awkward()\n",
    "import coffea\n",
    "coffea.deprecations_as_errors = False #Get rid of warning for now\n",
    "from coffea import hist, processor\n",
    "from hist import Hist\n",
    "import matplotlib\n",
    "\n",
    "sys.path.append(\"..\")\n",
    "from dask_jobqueue import SLURMCluster\n",
    "from distributed import Client\n",
    "from dask.distributed import performance_report\n",
    "from workflows.SUEP_coffea import SUEP_cluster\n",
    "#from plotting.plot_utils import *"
   ]
  },
  {
   "cell_type": "code",
   "execution_count": 2,
   "id": "f494e9d3-ef99-4255-ac5d-81201bc75d40",
   "metadata": {},
   "outputs": [],
   "source": [
    "def check_port(port):\n",
    "    import socket\n",
    "    sock = socket.socket(socket.AF_INET, socket.SOCK_STREAM)\n",
    "    try:\n",
    "        sock.bind((\"0.0.0.0\", port))\n",
    "        available = True\n",
    "    except:\n",
    "        available = False\n",
    "    sock.close()\n",
    "    return available"
   ]
  },
  {
   "cell_type": "markdown",
   "id": "d5512360",
   "metadata": {},
   "source": [
    "We set up a coffea ABC Processor to analyze the ROOT files."
   ]
  },
  {
   "cell_type": "code",
   "execution_count": 3,
   "id": "23cce7b2",
   "metadata": {},
   "outputs": [],
   "source": [
    "class Simple_Process(processor.ProcessorABC):\n",
    "    def __init__(self, isMC: int, era: int, sample: str, scouting: int) -> None:\n",
    "        \n",
    "#         import os\n",
    "#         import sys\n",
    "#         import json\n",
    "#         import time\n",
    "#         import random\n",
    "#         import numpy as np\n",
    "#         import fastjet\n",
    "#         import awkward as ak\n",
    "#         import vector\n",
    "#         vector.register_awkward()\n",
    "\n",
    "#         sys.path.append(\"..\")\n",
    "#         from workflows.math_utils import sphericity\n",
    "        \n",
    "        self.gensumweight = 1.0\n",
    "        self.era = era\n",
    "        self.isMC = isMC\n",
    "        self.sample = sample\n",
    "        self.scouting = scouting\n",
    "\n",
    "        self._accumulator = processor.dict_accumulator(\n",
    "            {\n",
    "                # cutflows\n",
    "                \"sumw\": processor.defaultdict_accumulator(float),\n",
    "                \"total\": processor.defaultdict_accumulator(float),\n",
    "                \"cut1\": processor.defaultdict_accumulator(float),\n",
    "                \"cut2\": processor.defaultdict_accumulator(float),\n",
    "                \"cut3\": processor.defaultdict_accumulator(float),\n",
    "                \"cut4\": processor.defaultdict_accumulator(float),\n",
    "                \"cut5\": processor.defaultdict_accumulator(float),\n",
    "                \n",
    "                # histograms\n",
    "                \"ht_ak4\": hist.Hist(\n",
    "                    \"Events\",\n",
    "                    hist.Cat(\"dataset\", \"Dataset\"),\n",
    "                    hist.Bin(\"ht_ak4\", r\"$H_T$ [GeV]\", 500,0,5000),\n",
    "                ),\n",
    "            }\n",
    "        )\n",
    "        \n",
    "    @property\n",
    "    def accumulator(self):\n",
    "        return self._accumulator\n",
    "    \n",
    "    def getak4jets(self, events):\n",
    "        if self.scouting == 1:\n",
    "            Jets = ak.zip({\n",
    "                \"pt\": events.Jet.pt,\n",
    "                \"eta\": events.Jet.eta,\n",
    "                \"phi\": events.Jet.phi,\n",
    "                \"mass\": events.Jet.mass,\n",
    "            })\n",
    "        else:\n",
    "            Jets = ak.zip({\n",
    "                \"pt\": events.Jet.pt,\n",
    "                \"eta\": events.Jet.eta,\n",
    "                \"phi\": events.Jet.phi,\n",
    "                \"mass\": events.Jet.mass,\n",
    "                \"jetId\": events.Jet.jetId\n",
    "            })\n",
    "        jetCut = (Jets.pt > 30) & (abs(Jets.eta)<2.4)\n",
    "        ak4jets = Jets[jetCut]\n",
    "        return ak4jets\n",
    "    \n",
    "    # this is modified from the normal SUEP_cluster one,\n",
    "    # since we need to count events after each selection\n",
    "    def eventSelection(self, events, output, dataset):\n",
    "        \n",
    "        ak4jets = self.getak4jets(events)\n",
    "        \n",
    "        ht = ak.sum(ak4jets.pt,axis=-1)\n",
    "        output['ht_ak4'].fill(ht_ak4=ht, dataset=dataset)\n",
    "        \n",
    "        # apply trigger selection\n",
    "        if self.scouting == 1:\n",
    "            events = events[(ht > 600)]\n",
    "            ak4jets = ak4jets[(ht > 600)]\n",
    "        else:\n",
    "            if self.era == 2016:\n",
    "                trigger = events.HLT.PFHT900 == 1\n",
    "            else:\n",
    "                trigger = events.HLT.PFHT1050 == 1\n",
    "\n",
    "            events = events[(trigger)]\n",
    "            ak4jets = ak4jets[(trigger)]\n",
    "            ht = ht[(trigger)]\n",
    "\n",
    "            output[\"cut1\"][dataset] += len(events)\n",
    "\n",
    "            events = events[(ht > 1200)]\n",
    "            ak4jets = ak4jets[(ht > 1200)]\n",
    "\n",
    "            output[\"cut2\"][dataset] += len(events)\n",
    "            \n",
    "        return events, ak4jets\n",
    "\n",
    "    def process(self, events):\n",
    "        output = self.accumulator\n",
    "        dataset = events.metadata['dataset']\n",
    "                \n",
    "        # this needs to be here!\n",
    "        # FIXME: why isn't doing this in __init__ enough?\n",
    "        vector.register_awkward()\n",
    "\n",
    "        if self.isMC: self.gensumweight = ak.sum(events.genWeight)\n",
    "        \n",
    "        output[\"sumw\"][dataset] += ak.sum(events.genWeight)\n",
    "        output[\"total\"][dataset] += len(events)\n",
    "        \n",
    "        events, ak4jets = self.eventSelection(events, output, dataset)\n",
    "    \n",
    "        if len(events) == 0:\n",
    "            return output\n",
    "    \n",
    "#         tracks, Cleaned_cands = SUEP_cluster.getTracks(self, events)\n",
    "        \n",
    "#         # events = events[ak.num(tracks) > 0]\n",
    "#         # tracks = tracks[ak.num(tracks) > 0]\n",
    "#         indices = np.arange(0,len(tracks))\n",
    "        \n",
    "#         if len(tracks) == 0:\n",
    "#             return output\n",
    "        \n",
    "#         ak_inclusive_jets, ak_inclusive_cluster = SUEP_cluster.FastJetReclustering(self, tracks, r=1.5, minPt=150)\n",
    "                \n",
    "#         # remove events with at least 2 clusters (i.e. need at least SUEP and ISR jets for IRM)\n",
    "#         clusterCut = (ak.num(ak_inclusive_jets, axis=1)>1)\n",
    "#         ak_inclusive_cluster = ak_inclusive_cluster[clusterCut]\n",
    "#         ak_inclusive_jets = ak_inclusive_jets[clusterCut]\n",
    "#         tracks = tracks[clusterCut]\n",
    "#         indices = indices[clusterCut]   \n",
    "#         output['cut3'][dataset] += len(tracks)\n",
    "        \n",
    "#         if len(tracks) == 0:\n",
    "#             return output\n",
    "        \n",
    "#         tracks, indices, topTwoJets = SUEP_cluster.getTopTwoJets(self, tracks, indices, ak_inclusive_jets, ak_inclusive_cluster)\n",
    "#         SUEP_cand, ISR_cand, SUEP_cluster_tracks, ISR_cluster_tracks = topTwoJets\n",
    "        \n",
    "#         # boost into frame of SUEP\n",
    "#         boost_SUEP = ak.zip({\n",
    "#             \"px\": SUEP_cand.px*-1,\n",
    "#             \"py\": SUEP_cand.py*-1,\n",
    "#             \"pz\": SUEP_cand.pz*-1,\n",
    "#             \"mass\": SUEP_cand.mass\n",
    "#         }, with_name=\"Momentum4D\")        \n",
    "        \n",
    "#         # SUEP tracks for this method are defined to be the ones from the cluster\n",
    "#         # that was picked to be the SUEP jet\n",
    "#         SUEP_tracks_b = SUEP_cluster_tracks.boost_p4(boost_SUEP)        \n",
    "        \n",
    "#         # SUEP jet variables\n",
    "#         eigs = sphericity(SUEP_tracks_b,1.0) #Set r=1.0 for IRC safe\n",
    "#         S1 = 1.5 * (eigs[:,1]+eigs[:,0])\n",
    "#         nconst = ak.num(SUEP_tracks_b)\n",
    "        \n",
    "#         tracks = tracks[(nconst > 80)]\n",
    "#         S1 = S1[(nconst > 80)]\n",
    "#         output['cut4'][dataset] += len(tracks)\n",
    "        \n",
    "#         tracks = tracks[(S1 > 0.5)]\n",
    "#         output['cut5'][dataset] += len(tracks)\n",
    "                \n",
    "        return output\n",
    "        \n",
    "    def postprocess(self, accumulator):\n",
    "        return accumulator"
   ]
  },
  {
   "cell_type": "markdown",
   "id": "7ad1f141",
   "metadata": {},
   "source": [
    "The following section defines additional parts of the slurm Dask job. Here we source the bashrc to prepare Conda. We also pass in the x509 proxy. In order to share the proxy across the SubMIT machines you should move your proxy to your HOME directory."
   ]
  },
  {
   "cell_type": "code",
   "execution_count": 4,
   "id": "87fa2183",
   "metadata": {},
   "outputs": [],
   "source": [
    "slurm_env = [\n",
    "     'export XRD_RUNFORKHANDLER=1',\n",
    "     'export XRD_STREAMTIMEOUT=10',\n",
    "     f'source {os.environ[\"HOME\"]}/.bashrc',\n",
    "     f'conda activate SUEP',\n",
    "     f'export X509_USER_PROXY={os.environ[\"HOME\"]}/x509up_u210253',\n",
    "     'export PYTHONPATH=/home/submit/lavezzo/SUEP/SUEPCoffea_dask/:/home/submit/lavezzo/SUEP/SUEPCoffea_dask/workflows/:$PYTHONPATH'\n",
    "     # 'sleep $[ ( $RANDOM % 1000 )  + 1 ]s'\n",
    "]\n",
    "\n",
    "extra_args=[\n",
    "     \"--output=logs/dask_job_output_%j.out\",\n",
    "     \"--error=logs/dask_job_output_%j.err\",\n",
    "     \"--partition=submit\",\n",
    "     \"--clusters=submit\",\n",
    "]"
   ]
  },
  {
   "cell_type": "code",
   "execution_count": 5,
   "id": "2c52011c",
   "metadata": {},
   "outputs": [],
   "source": [
    "n_port       = 6820                   # might need to change this if re running\n",
    "w_port       = 9765\n",
    "cores        = 1\n",
    "processes    = 1\n",
    "memory       = \"1 GB\""
   ]
  },
  {
   "cell_type": "markdown",
   "id": "6574a317",
   "metadata": {},
   "source": [
    "The following sets up the processor and json file. If you want to change files you can simply modify the json file"
   ]
  },
  {
   "cell_type": "code",
   "execution_count": 4,
   "id": "318bc6cd",
   "metadata": {},
   "outputs": [],
   "source": [
    "# load samples\n",
    "file = \"../filelist/list_2018_SUEP_A01.txt\"\n",
    "samples = []\n",
    "with open(file, 'r') as stream:\n",
    "    for sample in stream.read().split('\\n'):\n",
    "        if '#' in sample: continue\n",
    "        if len(sample.split('/')) <= 1: continue\n",
    "        sample_name = sample.split(\"/\")[-1]\n",
    "        samples.append(sample_name)\n",
    "        \n",
    "file = \"../filelist/list_2018_HT_A01.txt\"\n",
    "with open(file, 'r') as stream:\n",
    "    for sample in stream.read().split('\\n'):\n",
    "        if '#' in sample: continue\n",
    "        if len(sample.split('/')) <= 1: continue\n",
    "        sample_name = sample.split(\"/\")[-1]\n",
    "        samples.append(sample_name)"
   ]
  },
  {
   "cell_type": "code",
   "execution_count": 5,
   "id": "f55edf30",
   "metadata": {},
   "outputs": [],
   "source": [
    "# load file names\n",
    "samples_dict = {}\n",
    "for sample_name in samples:\n",
    "    \n",
    "    \n",
    "    input_list = \"/home/tier3/cmsprod/catalog/t2mit/nanosu/A01/{}/RawFiles.00\".format(sample_name)\n",
    "    \n",
    "    files = []\n",
    "    Raw_list = open(input_list, \"r\")\n",
    "    for i in Raw_list:\n",
    "        file = i.split(\" \")[0]\n",
    "        files.append(file)\n",
    "    \n",
    "    samples_dict[sample_name] = files\n",
    "process_dict = samples_dict"
   ]
  },
  {
   "cell_type": "code",
   "execution_count": 6,
   "id": "e9b2a0e7",
   "metadata": {},
   "outputs": [],
   "source": [
    "from plotting import fill_utils\n",
    "# cross section\n",
    "xsections = {}\n",
    "for sample in list(process_dict.keys()):    \n",
    "    if 'QCD_HT' in sample: \n",
    "        xsection = fill_utils.getXSection(sample, '2018')\n",
    "        sample_name = sample.split('QCD_HT')[1].split(\"_Tune\")[0]\n",
    "    elif 'SUEP' in sample:\n",
    "        xsection = fill_utils.getXSection(sample, '2018', SUEP=True)\n",
    "        sample_name = sample.split(\"+\")[0]\n",
    "    else:\n",
    "        xsection = fill_utils.getXSection(sample, '2018')\n",
    "        sample_name = sample\n",
    "    xsections.update({sample_name:xsection})"
   ]
  },
  {
   "cell_type": "markdown",
   "id": "a65087fe",
   "metadata": {},
   "source": [
    "The next section forms the Slurm Cluster. You can set up various parameters of the cluster here."
   ]
  },
  {
   "cell_type": "code",
   "execution_count": 9,
   "id": "bb720bd8",
   "metadata": {},
   "outputs": [],
   "source": [
    "while not check_port(n_port):\n",
    "    time.sleep(5)\n",
    "    n_port+=1\n",
    "\n",
    "import socket\n",
    "cluster = SLURMCluster(\n",
    "        queue='all',\n",
    "        project=\"SUEP_Slurm\",\n",
    "        cores=cores,\n",
    "        processes=processes,\n",
    "        memory=memory,\n",
    "        #retries=10,\n",
    "        walltime='00:30:00',\n",
    "        scheduler_options={\n",
    "              'port': n_port,\n",
    "              'dashboard_address': 22378,\n",
    "              'host': socket.gethostname()\n",
    "        },\n",
    "    \n",
    "        job_extra=extra_args,\n",
    "        env_extra=slurm_env,\n",
    ")"
   ]
  },
  {
   "cell_type": "code",
   "execution_count": 10,
   "id": "87cb2b2e",
   "metadata": {},
   "outputs": [
    {
     "name": "stdout",
     "output_type": "stream",
     "text": [
      "<Client: 'tcp://18.12.2.2:6820' processes=0 threads=0, memory=0 B>\n"
     ]
    }
   ],
   "source": [
    "cluster.adapt(minimum=1, maximum=250)\n",
    "client = Client(cluster)\n",
    "print(client)"
   ]
  },
  {
   "cell_type": "markdown",
   "id": "d9c41a8d",
   "metadata": {},
   "source": [
    "## Running the processor\n",
    "Now we will run the code with a performance report. This will analyze all of the input ROOT files and will store the histograms in output. Then we can analyze the output and make plots."
   ]
  },
  {
   "cell_type": "code",
   "execution_count": 10,
   "id": "56278ba7-40b3-4ee5-9c13-b119d93e7110",
   "metadata": {
    "tags": []
   },
   "outputs": [
    {
     "name": "stdout",
     "output_type": "stream",
     "text": [
      "99\n",
      "99\n",
      "100\n",
      "100\n",
      "32\n",
      "92\n",
      "22\n",
      "11\n",
      "115\n",
      "132\n",
      "103\n",
      "43\n"
     ]
    }
   ],
   "source": [
    "# Form a run dict of files you want to process\n",
    "run_dict = {}\n",
    "\n",
    "# SUEP\n",
    "template = 'SUEP-m{}-{}+RunIIAutumn18-private+MINIAODSIM'\n",
    "for m in ['125', '400', '750', '1000']:\n",
    "    decay = 'generic'\n",
    "    #if m == '125': decay+=\"-htcut\"\n",
    "    key = template.format(m, decay)\n",
    "    new_key = key.split('+')[0]\n",
    "    print(len(process_dict[key]))\n",
    "    run_dict.update({new_key:process_dict[key][:100]})\n",
    "    \n",
    "# QCD\n",
    "percent = 0.1\n",
    "for sample in samples:\n",
    "    if 'QCD_HT' not in sample: continue\n",
    "    new_key = sample.split('QCD_HT')[1].split(\"_Tune\")[0]\n",
    "    QCD_bin = samples_dict[sample]\n",
    "    nfiles = int(percent * len(QCD_bin))\n",
    "    print(nfiles)\n",
    "    #run_dict.update({new_key:QCD_bin[:nfiles]})"
   ]
  },
  {
   "cell_type": "code",
   "execution_count": 15,
   "id": "2a1740c9",
   "metadata": {
    "collapsed": true,
    "jupyter": {
     "outputs_hidden": true
    },
    "tags": []
   },
   "outputs": [
    {
     "name": "stdout",
     "output_type": "stream",
     "text": [
      "[                                        ] | 0% Completed |  0.5s"
     ]
    },
    {
     "name": "stderr",
     "output_type": "stream",
     "text": [
      "Task exception was never retrieved\n",
      "future: <Task finished name='Task-10782' coro=<_wrap_awaitable() done, defined at /work/submit/lavezzo/miniforge3/envs/SUEP/lib/python3.9/asyncio/tasks.py:681> exception=RuntimeError('Command exited with non-zero exit code.\\nExit code: -2\\nCommand:\\nsbatch /tmp/tmphnw6lhha.sh\\nstdout:\\n\\nstderr:\\n\\n')>\n",
      "Traceback (most recent call last):\n",
      "  File \"/work/submit/lavezzo/miniforge3/envs/SUEP/lib/python3.9/asyncio/tasks.py\", line 688, in _wrap_awaitable\n",
      "    return (yield from awaitable.__await__())\n",
      "  File \"/work/submit/lavezzo/miniforge3/envs/SUEP/lib/python3.9/site-packages/distributed/deploy/spec.py\", line 59, in _\n",
      "    await self.start()\n",
      "  File \"/work/submit/lavezzo/miniforge3/envs/SUEP/lib/python3.9/site-packages/dask_jobqueue/core.py\", line 335, in start\n",
      "    out = await self._submit_job(fn)\n",
      "  File \"/work/submit/lavezzo/miniforge3/envs/SUEP/lib/python3.9/site-packages/dask_jobqueue/core.py\", line 318, in _submit_job\n",
      "    return self._call(shlex.split(self.submit_command) + [script_filename])\n",
      "  File \"/work/submit/lavezzo/miniforge3/envs/SUEP/lib/python3.9/site-packages/dask_jobqueue/core.py\", line 413, in _call\n",
      "    raise RuntimeError(\n",
      "RuntimeError: Command exited with non-zero exit code.\n",
      "Exit code: -2\n",
      "Command:\n",
      "sbatch /tmp/tmphnw6lhha.sh\n",
      "stdout:\n",
      "\n",
      "stderr:\n",
      "\n",
      "\n"
     ]
    },
    {
     "ename": "KeyboardInterrupt",
     "evalue": "",
     "output_type": "error",
     "traceback": [
      "\u001b[0;31m---------------------------------------------------------------------------\u001b[0m",
      "\u001b[0;31mKeyboardInterrupt\u001b[0m                         Traceback (most recent call last)",
      "Input \u001b[0;32mIn [15]\u001b[0m, in \u001b[0;36m<cell line: 2>\u001b[0;34m()\u001b[0m\n\u001b[1;32m      1\u001b[0m processor_instance \u001b[38;5;241m=\u001b[39m Simple_Process(isMC\u001b[38;5;241m=\u001b[39m\u001b[38;5;241m1\u001b[39m, era\u001b[38;5;241m=\u001b[39m\u001b[38;5;124m'\u001b[39m\u001b[38;5;124m2018\u001b[39m\u001b[38;5;124m'\u001b[39m, sample\u001b[38;5;241m=\u001b[39m\u001b[38;5;124m'\u001b[39m\u001b[38;5;124mtest\u001b[39m\u001b[38;5;124m'\u001b[39m, scouting\u001b[38;5;241m=\u001b[39m\u001b[38;5;241m0\u001b[39m)\n\u001b[1;32m      2\u001b[0m \u001b[38;5;28;01mwith\u001b[39;00m performance_report(filename\u001b[38;5;241m=\u001b[39m\u001b[38;5;124m\"\u001b[39m\u001b[38;5;124mdask-report.html\u001b[39m\u001b[38;5;124m\"\u001b[39m):\n\u001b[0;32m----> 3\u001b[0m     output \u001b[38;5;241m=\u001b[39m \u001b[43mprocessor\u001b[49m\u001b[38;5;241;43m.\u001b[39;49m\u001b[43mrun_uproot_job\u001b[49m\u001b[43m(\u001b[49m\u001b[43mrun_dict\u001b[49m\u001b[43m,\u001b[49m\n\u001b[1;32m      4\u001b[0m \u001b[43m             \u001b[49m\u001b[43mtreename\u001b[49m\u001b[38;5;241;43m=\u001b[39;49m\u001b[38;5;124;43m'\u001b[39;49m\u001b[38;5;124;43mEvents\u001b[39;49m\u001b[38;5;124;43m'\u001b[39;49m\u001b[43m,\u001b[49m\n\u001b[1;32m      5\u001b[0m \u001b[43m             \u001b[49m\u001b[43mprocessor_instance\u001b[49m\u001b[38;5;241;43m=\u001b[39;49m\u001b[43mprocessor_instance\u001b[49m\u001b[43m,\u001b[49m\n\u001b[1;32m      6\u001b[0m \u001b[43m             \u001b[49m\u001b[43mexecutor\u001b[49m\u001b[38;5;241;43m=\u001b[39;49m\u001b[43mprocessor\u001b[49m\u001b[38;5;241;43m.\u001b[39;49m\u001b[43mdask_executor\u001b[49m\u001b[43m,\u001b[49m\n\u001b[1;32m      7\u001b[0m \u001b[43m             \u001b[49m\u001b[43mexecutor_args\u001b[49m\u001b[38;5;241;43m=\u001b[39;49m\u001b[43m{\u001b[49m\n\u001b[1;32m      8\u001b[0m \u001b[43m                           \u001b[49m\u001b[38;5;124;43m'\u001b[39;49m\u001b[38;5;124;43mclient\u001b[39;49m\u001b[38;5;124;43m'\u001b[39;49m\u001b[43m:\u001b[49m\u001b[43m \u001b[49m\u001b[43mclient\u001b[49m\u001b[43m,\u001b[49m\n\u001b[1;32m      9\u001b[0m \u001b[43m                           \u001b[49m\u001b[38;5;124;43m'\u001b[39;49m\u001b[38;5;124;43mskipbadfiles\u001b[39;49m\u001b[38;5;124;43m'\u001b[39;49m\u001b[43m:\u001b[49m\u001b[43m \u001b[49m\u001b[38;5;28;43;01mTrue\u001b[39;49;00m\u001b[43m,\u001b[49m\n\u001b[1;32m     10\u001b[0m \u001b[43m                           \u001b[49m\u001b[38;5;124;43m'\u001b[39;49m\u001b[38;5;124;43mschema\u001b[39;49m\u001b[38;5;124;43m'\u001b[39;49m\u001b[43m:\u001b[49m\u001b[43m \u001b[49m\u001b[43mprocessor\u001b[49m\u001b[38;5;241;43m.\u001b[39;49m\u001b[43mNanoAODSchema\u001b[49m\u001b[43m,\u001b[49m\n\u001b[1;32m     11\u001b[0m \u001b[43m                           \u001b[49m\u001b[38;5;124;43m'\u001b[39;49m\u001b[38;5;124;43mxrootdtimeout\u001b[39;49m\u001b[38;5;124;43m'\u001b[39;49m\u001b[43m:\u001b[49m\u001b[43m \u001b[49m\u001b[38;5;241;43m30\u001b[39;49m\u001b[43m,\u001b[49m\n\u001b[1;32m     12\u001b[0m \u001b[43m                           \u001b[49m\u001b[43m}\u001b[49m\u001b[43m,\u001b[49m\n\u001b[1;32m     13\u001b[0m \u001b[43m             \u001b[49m\u001b[43mchunksize\u001b[49m\u001b[38;5;241;43m=\u001b[39;49m\u001b[38;5;241;43m100000\u001b[39;49m\u001b[43m)\u001b[49m\n\u001b[1;32m     14\u001b[0m coffea\u001b[38;5;241m.\u001b[39mutil\u001b[38;5;241m.\u001b[39msave(output, \u001b[38;5;124m\"\u001b[39m\u001b[38;5;124munscaled_SUEP_cutflows.coffea\u001b[39m\u001b[38;5;124m\"\u001b[39m)\n",
      "File \u001b[0;32m/work/submit/lavezzo/miniforge3/envs/SUEP/lib/python3.9/site-packages/coffea/processor/__init__.py:104\u001b[0m, in \u001b[0;36m_run_x_job\u001b[0;34m(fileset, treename, processor_instance, executor, executor_args, pre_executor, pre_args, chunksize, maxchunks, metadata_cache, dynamic_chunksize, format)\u001b[0m\n\u001b[1;32m     93\u001b[0m \u001b[38;5;66;03m# make Runner instance, assume other args are for _work_function & co.\u001b[39;00m\n\u001b[1;32m     94\u001b[0m run \u001b[38;5;241m=\u001b[39m Runner(\n\u001b[1;32m     95\u001b[0m     executor\u001b[38;5;241m=\u001b[39mexecutor,\n\u001b[1;32m     96\u001b[0m     chunksize\u001b[38;5;241m=\u001b[39mchunksize,\n\u001b[0;32m   (...)\u001b[0m\n\u001b[1;32m    101\u001b[0m     \u001b[38;5;241m*\u001b[39m\u001b[38;5;241m*\u001b[39mexecutor_args,\n\u001b[1;32m    102\u001b[0m )\n\u001b[0;32m--> 104\u001b[0m \u001b[38;5;28;01mreturn\u001b[39;00m \u001b[43mrun\u001b[49m\u001b[43m(\u001b[49m\n\u001b[1;32m    105\u001b[0m \u001b[43m    \u001b[49m\u001b[43mfileset\u001b[49m\u001b[43m,\u001b[49m\n\u001b[1;32m    106\u001b[0m \u001b[43m    \u001b[49m\u001b[43mtreename\u001b[49m\u001b[43m,\u001b[49m\n\u001b[1;32m    107\u001b[0m \u001b[43m    \u001b[49m\u001b[43mprocessor_instance\u001b[49m\u001b[38;5;241;43m=\u001b[39;49m\u001b[43mprocessor_instance\u001b[49m\u001b[43m,\u001b[49m\n\u001b[1;32m    108\u001b[0m \u001b[43m\u001b[49m\u001b[43m)\u001b[49m\n",
      "File \u001b[0;32m/work/submit/lavezzo/miniforge3/envs/SUEP/lib/python3.9/site-packages/coffea/processor/executor.py:1687\u001b[0m, in \u001b[0;36mRunner.__call__\u001b[0;34m(self, fileset, treename, processor_instance)\u001b[0m\n\u001b[1;32m   1666\u001b[0m \u001b[38;5;28;01mdef\u001b[39;00m \u001b[38;5;21m__call__\u001b[39m(\n\u001b[1;32m   1667\u001b[0m     \u001b[38;5;28mself\u001b[39m,\n\u001b[1;32m   1668\u001b[0m     fileset: Dict,\n\u001b[1;32m   1669\u001b[0m     treename: \u001b[38;5;28mstr\u001b[39m,\n\u001b[1;32m   1670\u001b[0m     processor_instance: ProcessorABC,\n\u001b[1;32m   1671\u001b[0m ) \u001b[38;5;241m-\u001b[39m\u001b[38;5;241m>\u001b[39m Accumulatable:\n\u001b[1;32m   1672\u001b[0m     \u001b[38;5;124;03m\"\"\"Run the processor_instance on a given fileset\u001b[39;00m\n\u001b[1;32m   1673\u001b[0m \n\u001b[1;32m   1674\u001b[0m \u001b[38;5;124;03m    Parameters\u001b[39;00m\n\u001b[0;32m   (...)\u001b[0m\n\u001b[1;32m   1684\u001b[0m \u001b[38;5;124;03m            An instance of a class deriving from ProcessorABC\u001b[39;00m\n\u001b[1;32m   1685\u001b[0m \u001b[38;5;124;03m    \"\"\"\u001b[39;00m\n\u001b[0;32m-> 1687\u001b[0m     wrapped_out \u001b[38;5;241m=\u001b[39m \u001b[38;5;28;43mself\u001b[39;49m\u001b[38;5;241;43m.\u001b[39;49m\u001b[43mrun\u001b[49m\u001b[43m(\u001b[49m\u001b[43mfileset\u001b[49m\u001b[43m,\u001b[49m\u001b[43m \u001b[49m\u001b[43mprocessor_instance\u001b[49m\u001b[43m,\u001b[49m\u001b[43m \u001b[49m\u001b[43mtreename\u001b[49m\u001b[43m)\u001b[49m\n\u001b[1;32m   1688\u001b[0m     \u001b[38;5;28;01mif\u001b[39;00m \u001b[38;5;28mself\u001b[39m\u001b[38;5;241m.\u001b[39muse_dataframes:\n\u001b[1;32m   1689\u001b[0m         \u001b[38;5;28;01mreturn\u001b[39;00m wrapped_out  \u001b[38;5;66;03m# not wrapped anymore\u001b[39;00m\n",
      "File \u001b[0;32m/work/submit/lavezzo/miniforge3/envs/SUEP/lib/python3.9/site-packages/coffea/processor/executor.py:1836\u001b[0m, in \u001b[0;36mRunner.run\u001b[0;34m(self, fileset, processor_instance, treename)\u001b[0m\n\u001b[1;32m   1831\u001b[0m closure \u001b[38;5;241m=\u001b[39m partial(\n\u001b[1;32m   1832\u001b[0m     \u001b[38;5;28mself\u001b[39m\u001b[38;5;241m.\u001b[39mautomatic_retries, \u001b[38;5;28mself\u001b[39m\u001b[38;5;241m.\u001b[39mretries, \u001b[38;5;28mself\u001b[39m\u001b[38;5;241m.\u001b[39mskipbadfiles, closure\n\u001b[1;32m   1833\u001b[0m )\n\u001b[1;32m   1835\u001b[0m executor \u001b[38;5;241m=\u001b[39m \u001b[38;5;28mself\u001b[39m\u001b[38;5;241m.\u001b[39mexecutor\u001b[38;5;241m.\u001b[39mcopy(\u001b[38;5;241m*\u001b[39m\u001b[38;5;241m*\u001b[39mexe_args)\n\u001b[0;32m-> 1836\u001b[0m wrapped_out, e \u001b[38;5;241m=\u001b[39m \u001b[43mexecutor\u001b[49m\u001b[43m(\u001b[49m\u001b[43mchunks\u001b[49m\u001b[43m,\u001b[49m\u001b[43m \u001b[49m\u001b[43mclosure\u001b[49m\u001b[43m,\u001b[49m\u001b[43m \u001b[49m\u001b[38;5;28;43;01mNone\u001b[39;49;00m\u001b[43m)\u001b[49m\n\u001b[1;32m   1837\u001b[0m \u001b[38;5;28;01mif\u001b[39;00m wrapped_out \u001b[38;5;129;01mis\u001b[39;00m \u001b[38;5;28;01mNone\u001b[39;00m:\n\u001b[1;32m   1838\u001b[0m     \u001b[38;5;28;01mraise\u001b[39;00m \u001b[38;5;167;01mValueError\u001b[39;00m(\n\u001b[1;32m   1839\u001b[0m         \u001b[38;5;124m\"\u001b[39m\u001b[38;5;124mNo chunks returned results, verify ``processor`` instance structure.\u001b[39m\u001b[38;5;124m\"\u001b[39m\n\u001b[1;32m   1840\u001b[0m     )\n",
      "File \u001b[0;32m/work/submit/lavezzo/miniforge3/envs/SUEP/lib/python3.9/site-packages/coffea/processor/executor.py:967\u001b[0m, in \u001b[0;36mDaskExecutor.__call__\u001b[0;34m(self, items, function, accumulator)\u001b[0m\n\u001b[1;32m    964\u001b[0m         \u001b[38;5;28;01mfrom\u001b[39;00m \u001b[38;5;21;01mdistributed\u001b[39;00m \u001b[38;5;28;01mimport\u001b[39;00m progress\n\u001b[1;32m    966\u001b[0m         \u001b[38;5;66;03m# FIXME: fancy widget doesn't appear, have to live with boring pbar\u001b[39;00m\n\u001b[0;32m--> 967\u001b[0m         \u001b[43mprogress\u001b[49m\u001b[43m(\u001b[49m\u001b[43mwork\u001b[49m\u001b[43m,\u001b[49m\u001b[43m \u001b[49m\u001b[43mmulti\u001b[49m\u001b[38;5;241;43m=\u001b[39;49m\u001b[38;5;28;43;01mTrue\u001b[39;49;00m\u001b[43m,\u001b[49m\u001b[43m \u001b[49m\u001b[43mnotebook\u001b[49m\u001b[38;5;241;43m=\u001b[39;49m\u001b[38;5;28;43;01mFalse\u001b[39;49;00m\u001b[43m)\u001b[49m\n\u001b[1;32m    968\u001b[0m     \u001b[38;5;28;01mreturn\u001b[39;00m (\n\u001b[1;32m    969\u001b[0m         accumulate(\n\u001b[1;32m    970\u001b[0m             [\n\u001b[0;32m   (...)\u001b[0m\n\u001b[1;32m    977\u001b[0m         \u001b[38;5;241m0\u001b[39m,\n\u001b[1;32m    978\u001b[0m     )\n\u001b[1;32m    979\u001b[0m \u001b[38;5;28;01mexcept\u001b[39;00m KilledWorker \u001b[38;5;28;01mas\u001b[39;00m ex:\n",
      "File \u001b[0;32m/work/submit/lavezzo/miniforge3/envs/SUEP/lib/python3.9/site-packages/distributed/diagnostics/progressbar.py:448\u001b[0m, in \u001b[0;36mprogress\u001b[0;34m(notebook, multi, complete, *futures, **kwargs)\u001b[0m\n\u001b[1;32m    446\u001b[0m     \u001b[38;5;28;01mreturn\u001b[39;00m bar\n\u001b[1;32m    447\u001b[0m \u001b[38;5;28;01melse\u001b[39;00m:\n\u001b[0;32m--> 448\u001b[0m     \u001b[43mTextProgressBar\u001b[49m\u001b[43m(\u001b[49m\u001b[43mfutures\u001b[49m\u001b[43m,\u001b[49m\u001b[43m \u001b[49m\u001b[43mcomplete\u001b[49m\u001b[38;5;241;43m=\u001b[39;49m\u001b[43mcomplete\u001b[49m\u001b[43m,\u001b[49m\u001b[43m \u001b[49m\u001b[38;5;241;43m*\u001b[39;49m\u001b[38;5;241;43m*\u001b[39;49m\u001b[43mkwargs\u001b[49m\u001b[43m)\u001b[49m\n",
      "File \u001b[0;32m/work/submit/lavezzo/miniforge3/envs/SUEP/lib/python3.9/site-packages/distributed/diagnostics/progressbar.py:129\u001b[0m, in \u001b[0;36mTextProgressBar.__init__\u001b[0;34m(self, keys, scheduler, interval, width, loop, complete, start, **kwargs)\u001b[0m\n\u001b[1;32m    127\u001b[0m \u001b[38;5;28;01mif\u001b[39;00m start:\n\u001b[1;32m    128\u001b[0m     loop_runner \u001b[38;5;241m=\u001b[39m LoopRunner(\u001b[38;5;28mself\u001b[39m\u001b[38;5;241m.\u001b[39mloop)\n\u001b[0;32m--> 129\u001b[0m     \u001b[43mloop_runner\u001b[49m\u001b[38;5;241;43m.\u001b[39;49m\u001b[43mrun_sync\u001b[49m\u001b[43m(\u001b[49m\u001b[38;5;28;43mself\u001b[39;49m\u001b[38;5;241;43m.\u001b[39;49m\u001b[43mlisten\u001b[49m\u001b[43m)\u001b[49m\n",
      "File \u001b[0;32m/work/submit/lavezzo/miniforge3/envs/SUEP/lib/python3.9/site-packages/distributed/utils.py:537\u001b[0m, in \u001b[0;36mLoopRunner.run_sync\u001b[0;34m(self, func, *args, **kwargs)\u001b[0m\n\u001b[1;32m    535\u001b[0m \u001b[38;5;28mself\u001b[39m\u001b[38;5;241m.\u001b[39mstart()\n\u001b[1;32m    536\u001b[0m \u001b[38;5;28;01mtry\u001b[39;00m:\n\u001b[0;32m--> 537\u001b[0m     \u001b[38;5;28;01mreturn\u001b[39;00m \u001b[43msync\u001b[49m\u001b[43m(\u001b[49m\u001b[38;5;28;43mself\u001b[39;49m\u001b[38;5;241;43m.\u001b[39;49m\u001b[43mloop\u001b[49m\u001b[43m,\u001b[49m\u001b[43m \u001b[49m\u001b[43mfunc\u001b[49m\u001b[43m,\u001b[49m\u001b[43m \u001b[49m\u001b[38;5;241;43m*\u001b[39;49m\u001b[43margs\u001b[49m\u001b[43m,\u001b[49m\u001b[43m \u001b[49m\u001b[38;5;241;43m*\u001b[39;49m\u001b[38;5;241;43m*\u001b[39;49m\u001b[43mkwargs\u001b[49m\u001b[43m)\u001b[49m\n\u001b[1;32m    538\u001b[0m \u001b[38;5;28;01mfinally\u001b[39;00m:\n\u001b[1;32m    539\u001b[0m     \u001b[38;5;28mself\u001b[39m\u001b[38;5;241m.\u001b[39mstop()\n",
      "File \u001b[0;32m/work/submit/lavezzo/miniforge3/envs/SUEP/lib/python3.9/site-packages/distributed/utils.py:372\u001b[0m, in \u001b[0;36msync\u001b[0;34m(loop, func, callback_timeout, *args, **kwargs)\u001b[0m\n\u001b[1;32m    370\u001b[0m \u001b[38;5;28;01melse\u001b[39;00m:\n\u001b[1;32m    371\u001b[0m     \u001b[38;5;28;01mwhile\u001b[39;00m \u001b[38;5;129;01mnot\u001b[39;00m e\u001b[38;5;241m.\u001b[39mis_set():\n\u001b[0;32m--> 372\u001b[0m         \u001b[43mwait\u001b[49m\u001b[43m(\u001b[49m\u001b[38;5;241;43m10\u001b[39;49m\u001b[43m)\u001b[49m\n\u001b[1;32m    374\u001b[0m \u001b[38;5;28;01mif\u001b[39;00m error:\n\u001b[1;32m    375\u001b[0m     typ, exc, tb \u001b[38;5;241m=\u001b[39m error\n",
      "File \u001b[0;32m/work/submit/lavezzo/miniforge3/envs/SUEP/lib/python3.9/site-packages/distributed/utils.py:361\u001b[0m, in \u001b[0;36msync.<locals>.wait\u001b[0;34m(timeout)\u001b[0m\n\u001b[1;32m    359\u001b[0m \u001b[38;5;28;01mdef\u001b[39;00m \u001b[38;5;21mwait\u001b[39m(timeout):\n\u001b[1;32m    360\u001b[0m     \u001b[38;5;28;01mtry\u001b[39;00m:\n\u001b[0;32m--> 361\u001b[0m         \u001b[38;5;28;01mreturn\u001b[39;00m \u001b[43me\u001b[49m\u001b[38;5;241;43m.\u001b[39;49m\u001b[43mwait\u001b[49m\u001b[43m(\u001b[49m\u001b[43mtimeout\u001b[49m\u001b[43m)\u001b[49m\n\u001b[1;32m    362\u001b[0m     \u001b[38;5;28;01mexcept\u001b[39;00m \u001b[38;5;167;01mKeyboardInterrupt\u001b[39;00m:\n\u001b[1;32m    363\u001b[0m         loop\u001b[38;5;241m.\u001b[39madd_callback(cancel)\n",
      "File \u001b[0;32m/work/submit/lavezzo/miniforge3/envs/SUEP/lib/python3.9/threading.py:574\u001b[0m, in \u001b[0;36mEvent.wait\u001b[0;34m(self, timeout)\u001b[0m\n\u001b[1;32m    572\u001b[0m signaled \u001b[38;5;241m=\u001b[39m \u001b[38;5;28mself\u001b[39m\u001b[38;5;241m.\u001b[39m_flag\n\u001b[1;32m    573\u001b[0m \u001b[38;5;28;01mif\u001b[39;00m \u001b[38;5;129;01mnot\u001b[39;00m signaled:\n\u001b[0;32m--> 574\u001b[0m     signaled \u001b[38;5;241m=\u001b[39m \u001b[38;5;28;43mself\u001b[39;49m\u001b[38;5;241;43m.\u001b[39;49m\u001b[43m_cond\u001b[49m\u001b[38;5;241;43m.\u001b[39;49m\u001b[43mwait\u001b[49m\u001b[43m(\u001b[49m\u001b[43mtimeout\u001b[49m\u001b[43m)\u001b[49m\n\u001b[1;32m    575\u001b[0m \u001b[38;5;28;01mreturn\u001b[39;00m signaled\n",
      "File \u001b[0;32m/work/submit/lavezzo/miniforge3/envs/SUEP/lib/python3.9/threading.py:316\u001b[0m, in \u001b[0;36mCondition.wait\u001b[0;34m(self, timeout)\u001b[0m\n\u001b[1;32m    314\u001b[0m \u001b[38;5;28;01melse\u001b[39;00m:\n\u001b[1;32m    315\u001b[0m     \u001b[38;5;28;01mif\u001b[39;00m timeout \u001b[38;5;241m>\u001b[39m \u001b[38;5;241m0\u001b[39m:\n\u001b[0;32m--> 316\u001b[0m         gotit \u001b[38;5;241m=\u001b[39m \u001b[43mwaiter\u001b[49m\u001b[38;5;241;43m.\u001b[39;49m\u001b[43macquire\u001b[49m\u001b[43m(\u001b[49m\u001b[38;5;28;43;01mTrue\u001b[39;49;00m\u001b[43m,\u001b[49m\u001b[43m \u001b[49m\u001b[43mtimeout\u001b[49m\u001b[43m)\u001b[49m\n\u001b[1;32m    317\u001b[0m     \u001b[38;5;28;01melse\u001b[39;00m:\n\u001b[1;32m    318\u001b[0m         gotit \u001b[38;5;241m=\u001b[39m waiter\u001b[38;5;241m.\u001b[39macquire(\u001b[38;5;28;01mFalse\u001b[39;00m)\n",
      "\u001b[0;31mKeyboardInterrupt\u001b[0m: "
     ]
    }
   ],
   "source": [
    "processor_instance = Simple_Process(isMC=1, era='2018', sample='test', scouting=0)\n",
    "with performance_report(filename=\"dask-report.html\"):\n",
    "    output = processor.run_uproot_job(run_dict,\n",
    "             treename='Events',\n",
    "             processor_instance=processor_instance,\n",
    "             executor=processor.dask_executor,\n",
    "             executor_args={\n",
    "                           'client': client,\n",
    "                           'skipbadfiles': True,\n",
    "                           'schema': processor.NanoAODSchema,\n",
    "                           'xrootdtimeout': 30,\n",
    "                            'retries': 5,\n",
    "                           },\n",
    "             chunksize=100000)\n",
    "coffea.util.save(output, \"unscaled_SUEP_cutflows.coffea\")"
   ]
  },
  {
   "cell_type": "code",
   "execution_count": 16,
   "id": "e9f61001-514e-49d0-b37a-32fdd07a19bd",
   "metadata": {},
   "outputs": [],
   "source": [
    "client.cancel(cluster)"
   ]
  },
  {
   "cell_type": "code",
   "execution_count": 12,
   "id": "fc9a6387-8a8a-432c-9e05-69a04654192b",
   "metadata": {},
   "outputs": [
    {
     "data": {
      "text/html": [
       "<pre style=\"white-space:pre;overflow-x:auto;line-height:normal;font-family:Menlo,'DejaVu Sans Mono',consolas,'Courier New',monospace\">     <span style=\"color: #000080; text-decoration-color: #000080; font-weight: bold\">Processing</span> <span style=\"color: #800080; text-decoration-color: #800080\">100%</span> <span style=\"color: #729c1f; text-decoration-color: #729c1f\">━━━━━━━━━━━━━━━━━━━━━━━━━━━</span> <span style=\"color: #000080; text-decoration-color: #000080; font-weight: bold\">398/398</span> [ <span style=\"color: #808000; text-decoration-color: #808000\">0:01:15</span> &lt; <span style=\"color: #008080; text-decoration-color: #008080\">0:00:00</span> | <span style=\"color: #800000; text-decoration-color: #800000\">5.8</span>  <span style=\"color: #800000; text-decoration-color: #800000\">chunk/s</span> ]\n",
       "<span style=\"color: #000080; text-decoration-color: #000080; font-weight: bold\">Merging (local)</span> <span style=\"color: #800080; text-decoration-color: #800080\">100%</span> <span style=\"color: #729c1f; text-decoration-color: #729c1f\">━━━━━━━━━━━━━━━━━━━━━━━━━━━</span> <span style=\"color: #000080; text-decoration-color: #000080; font-weight: bold\">398/398</span> [ <span style=\"color: #808000; text-decoration-color: #808000\">0:01:15</span> &lt; <span style=\"color: #008080; text-decoration-color: #008080\">0:00:00</span> | <span style=\"color: #800000; text-decoration-color: #800000\">?  </span> <span style=\"color: #800000; text-decoration-color: #800000\">merges/s</span> ]\n",
       "</pre>\n"
      ],
      "text/plain": [
       "     \u001b[1;34mProcessing\u001b[0m \u001b[35m100%\u001b[0m \u001b[38;2;114;156;31m━━━━━━━━━━━━━━━━━━━━━━━━━━━\u001b[0m \u001b[1;34m398/398\u001b[0m [ \u001b[33m0:01:15\u001b[0m < \u001b[36m0:00:00\u001b[0m | \u001b[31m5.8\u001b[0m  \u001b[31mchunk/s\u001b[0m ]\n",
       "\u001b[1;34mMerging (local)\u001b[0m \u001b[35m100%\u001b[0m \u001b[38;2;114;156;31m━━━━━━━━━━━━━━━━━━━━━━━━━━━\u001b[0m \u001b[1;34m398/398\u001b[0m [ \u001b[33m0:01:15\u001b[0m < \u001b[36m0:00:00\u001b[0m | \u001b[31m?  \u001b[0m \u001b[31mmerges/s\u001b[0m ]\n"
      ]
     },
     "metadata": {},
     "output_type": "display_data"
    },
    {
     "data": {
      "text/html": [
       "<pre style=\"white-space:pre;overflow-x:auto;line-height:normal;font-family:Menlo,'DejaVu Sans Mono',consolas,'Courier New',monospace\"></pre>\n"
      ],
      "text/plain": []
     },
     "metadata": {},
     "output_type": "display_data"
    },
    {
     "data": {
      "text/html": [
       "<pre style=\"white-space:pre;overflow-x:auto;line-height:normal;font-family:Menlo,'DejaVu Sans Mono',consolas,'Courier New',monospace\">\n",
       "</pre>\n"
      ],
      "text/plain": [
       "\n"
      ]
     },
     "metadata": {},
     "output_type": "display_data"
    }
   ],
   "source": [
    "processor_instance = Simple_Process(isMC=1, era='2018', sample='test', scouting=0)\n",
    "output = processor.run_uproot_job(run_dict,\n",
    "             treename='Events',\n",
    "             processor_instance=processor_instance,\n",
    "             executor=processor.futures_executor,\n",
    "             executor_args={\n",
    "                           'workers': 20,\n",
    "                           'skipbadfiles': True,\n",
    "                           'schema': processor.NanoAODSchema,\n",
    "                           'xrootdtimeout': 100,\n",
    "                           },\n",
    "             chunksize=100000)\n",
    "coffea.util.save(output, \"unscaled_SUEP_cutflows.coffea\")"
   ]
  },
  {
   "cell_type": "code",
   "execution_count": 2,
   "id": "4040b24a-a031-4126-9f92-8a7f91d5801d",
   "metadata": {},
   "outputs": [
    {
     "data": {
      "text/plain": [
       "{'sumw': defaultdict_accumulator(float,\n",
       "                         {'SUEP-m1000-generic': 10006.311653137207,\n",
       "                          'SUEP-m750-generic': 9997.6450881958,\n",
       "                          'SUEP-m400-generic': 9898.887825012207,\n",
       "                          'SUEP-m125-generic': 9899.140037536621}),\n",
       " 'total': defaultdict_accumulator(float,\n",
       "                         {'SUEP-m1000-generic': 10000.0,\n",
       "                          'SUEP-m750-generic': 10000.0,\n",
       "                          'SUEP-m400-generic': 9900.0,\n",
       "                          'SUEP-m125-generic': 9900.0}),\n",
       " 'cut1': defaultdict_accumulator(float,\n",
       "                         {'SUEP-m1000-generic': 354.0,\n",
       "                          'SUEP-m750-generic': 252.0,\n",
       "                          'SUEP-m400-generic': 111.0,\n",
       "                          'SUEP-m125-generic': 13.0}),\n",
       " 'cut2': defaultdict_accumulator(float,\n",
       "                         {'SUEP-m1000-generic': 301.0,\n",
       "                          'SUEP-m750-generic': 206.0,\n",
       "                          'SUEP-m400-generic': 90.0,\n",
       "                          'SUEP-m125-generic': 6.0}),\n",
       " 'cut3': defaultdict_accumulator(float, {}),\n",
       " 'cut4': defaultdict_accumulator(float, {}),\n",
       " 'cut5': defaultdict_accumulator(float, {}),\n",
       " 'ht_ak4': <Hist (dataset,ht_ak4) instance at 0x7f06a824ed00>}"
      ]
     },
     "execution_count": 2,
     "metadata": {},
     "output_type": "execute_result"
    }
   ],
   "source": [
    "output = coffea.util.load(\"unscaled_SUEP_cutflows.coffea\")\n",
    "output"
   ]
  },
  {
   "cell_type": "code",
   "execution_count": 7,
   "id": "dffa6337-c605-4e2a-b640-459989ad9ee7",
   "metadata": {},
   "outputs": [
    {
     "data": {
      "text/plain": [
       "{'SUEP-m1000-darkPhoHad': 0.17,\n",
       " 'SUEP-m1000-darkPho': 0.17,\n",
       " 'SUEP-m1000-generic': 0.17,\n",
       " 'SUEP-m125-darkPhoHad': 34.8,\n",
       " 'SUEP-m125-darkPho': 34.8,\n",
       " 'SUEP-m125-generic': 34.8,\n",
       " 'SUEP-m125-generic-htcut': 0.1043,\n",
       " 'SUEP-m400-darkPhoHad': 5.9,\n",
       " 'SUEP-m400-darkPho': 5.9,\n",
       " 'SUEP-m400-generic': 5.9,\n",
       " 'SUEP-m750-darkPhoHad': 0.5,\n",
       " 'SUEP-m750-darkPho': 0.5,\n",
       " 'SUEP-m750-generic': 0.5,\n",
       " 'SUEP-m400-md2-t0.5-generic': 5.9,\n",
       " 'SUEP-m400-md2-t1-generic': 5.9,\n",
       " 'SUEP-m400-md2-t2-generic': 5.9,\n",
       " 'SUEP-m400-md2-t3-generic': 5.9,\n",
       " 'SUEP-m400-md2-t4-generic': 5.9,\n",
       " 'SUEP-m400-md3-t1.5-generic': 5.9,\n",
       " 'SUEP-m400-md3-t3-generic': 5.9,\n",
       " 'SUEP-m400-md3-t6-generic': 5.9,\n",
       " 'SUEP-m400-md5-t10-generic': 5.9,\n",
       " 'SUEP-m400-md5-t1-generic': 5.9,\n",
       " 'SUEP-m400-md5-t5-generic': 5.9,\n",
       " '1000to1500': 1127.0,\n",
       " '100to200': 23590000.0,\n",
       " '1500to2000': 109.8,\n",
       " '2000toInf': 21.98,\n",
       " '200to300': 1555000.0,\n",
       " '300to500': 324500.0,\n",
       " '500to700': 30310.0,\n",
       " '50to100': 187300000.0}"
      ]
     },
     "execution_count": 7,
     "metadata": {},
     "output_type": "execute_result"
    }
   ],
   "source": [
    "xsections"
   ]
  },
  {
   "cell_type": "code",
   "execution_count": 37,
   "id": "fe2d9be4-a9c9-412a-a166-47c33e3e60be",
   "metadata": {},
   "outputs": [
    {
     "name": "stdout",
     "output_type": "stream",
     "text": [
      "total\n",
      "cut1\n",
      "cut2\n",
      "cut3\n",
      "cut4\n",
      "cut5\n",
      "ht_ak4\n"
     ]
    }
   ],
   "source": [
    "import sys\n",
    "sys.path.append(\"../\")\n",
    "from plotting import plot_utils\n",
    "\n",
    "# calculate normalization\n",
    "scales = {} \n",
    "for dataset in output[\"sumw\"]:\n",
    "    xsec = xsections[dataset]\n",
    "    scale = xsec / output[\"sumw\"][dataset]\n",
    "    if 'htcut' in dataset: \n",
    "        scale *= 0.003\n",
    "    scale *= plot_utils.lumis['2016']\n",
    "    scales.update({dataset: scale})\n",
    "    \n",
    "# apply normalization to all histograms and accumulators\n",
    "for key in list(output.keys()):\n",
    "    if key.lower() == 'sumw': continue\n",
    "    print(key)\n",
    "    if type(output[key]) == coffea.processor.accumulator.defaultdict_accumulator:\n",
    "        for jkey in output[key].keys():\n",
    "            if jkey not in scales: \n",
    "                print(jkey, 'not found')\n",
    "                continue\n",
    "            output[key][jkey] *= scales[jkey]\n",
    "            \n",
    "    else:\n",
    "        output[key].scale(scales, axis='dataset')\n",
    "\n",
    "coffea.util.save(output, \"SUEP_cutflows_2016.coffea\")"
   ]
  },
  {
   "cell_type": "code",
   "execution_count": 39,
   "id": "d3ce1517",
   "metadata": {},
   "outputs": [
    {
     "data": {
      "image/png": "[encoded data removed]",
      "text/plain": [
       "<Figure size 720x720 with 1 Axes>"
      ]
     },
     "metadata": {
      "needs_background": "light"
     },
     "output_type": "display_data"
    }
   ],
   "source": [
    "import matplotlib.pyplot as plt\n",
    "from coffea.hist import plot\n",
    "import mplhep as hep\n",
    "\n",
    "h_ht = output['ht_ak4']\n",
    "\n",
    "bins = []\n",
    "bins= np.append(bins, np.arange(0,5000,100))\n",
    "#print(bins)\n",
    "\n",
    "h2 = h_ht.rebin(\"ht_ak4\", hist.Bin(\"ht_ak4\", r\"$H_T$ [GeV]\", bins))\n",
    "\n",
    "fig = plt.figure(figsize=(10,10))\n",
    "ax = fig.subplots()\n",
    "labels = [r\"GF: $M_{S}=125$ GeV\",r\"GF: $M_{S}=400$ GeV\",r\"GF: $M_{S}=750$ GeV\",r\"GF: $M_{S}=1000$ GeV\"]\n",
    "#plot.plot1d(output['ht_ak4'][\"SUEP-m1000-generic\"], ax=ax, clear=False, density=True)\n",
    "\n",
    "plot.plot1d(h2, ax=ax, density=False, \n",
    "            order=['SUEP-m125-generic','SUEP-m400-generic',\n",
    "                   'SUEP-m750-generic', 'SUEP-m1000-generic'])\n",
    "cms = ax.text(\n",
    "        -0.05, 1.1e7, u\"CMS $\\it{Preliminary}$\",\n",
    "        fontsize=20, fontweight='bold',\n",
    ")\n",
    "lumi = ax.text(\n",
    "    2000, 1.1e7, r\"%.1f fb$^{-1}$ (13 TeV)\" % plot_utils.lumiLabel('2016'),\n",
    "    fontsize=18, \n",
    ")\n",
    "_ = ax.set_yscale('log')\n",
    "_ = ax.set_xlim(0,3000)\n",
    "_ = ax.set_ylim(1e0, 1e7)\n",
    "_ = ax.set_ylabel(\"Events\")\n",
    "_ = ax.legend(title=None, labels=labels)\n",
    "\n",
    "plt.savefig(\"nocut_HT_2016.pdf\")"
   ]
  },
  {
   "cell_type": "code",
   "execution_count": null,
   "id": "fb878ef7",
   "metadata": {},
   "outputs": [],
   "source": []
  }
 ],
 "metadata": {
  "kernelspec": {
   "display_name": "suep",
   "language": "python",
   "name": "suep"
  },
  "language_info": {
   "codemirror_mode": {
    "name": "ipython",
    "version": 3
   },
   "file_extension": ".py",
   "mimetype": "text/x-python",
   "name": "python",
   "nbconvert_exporter": "python",
   "pygments_lexer": "ipython3",
   "version": "3.9.15"
  }
 },
 "nbformat": 4,
 "nbformat_minor": 5
}
