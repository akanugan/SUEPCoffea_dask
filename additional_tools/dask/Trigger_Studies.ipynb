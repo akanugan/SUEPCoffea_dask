{
 "cells": [
  {
   "cell_type": "markdown",
   "id": "89478bce-c68d-4738-b62d-b288e49503ba",
   "metadata": {},
   "source": [
    "# Dask through Jupyter Notebooks"
   ]
  },
  {
   "cell_type": "markdown",
   "id": "0a66b82e-fde3-4595-b4f9-24e25e6ae57d",
   "metadata": {},
   "source": [
    "This notebook runs a simple study on SUEP data using Dask, creating an output coffea file that can be analyzed in Dask_analysis.ipynb."
   ]
  },
  {
   "cell_type": "code",
   "execution_count": 32,
   "id": "36c07901-136b-4e4e-9146-33a52a8d671e",
   "metadata": {
    "tags": []
   },
   "outputs": [],
   "source": [
    "import os\n",
    "import sys\n",
    "import json\n",
    "import time\n",
    "import random\n",
    "import numpy as np\n",
    "import coffea\n",
    "coffea.deprecations_as_errors = False #Get rid of warning for now\n",
    "from coffea import hist, processor\n",
    "from hist import Hist\n",
    "import matplotlib\n",
    "\n",
    "from dask_jobqueue import SLURMCluster\n",
    "from distributed import Client\n",
    "from dask.distributed import performance_report"
   ]
  },
  {
   "cell_type": "markdown",
   "id": "c841c2aa-987c-4a20-8911-a8923f3d36f1",
   "metadata": {},
   "source": [
    "We set up a coffea ABC Processor to analyze the ROOT files."
   ]
  },
  {
   "cell_type": "code",
   "execution_count": 22,
   "id": "768afee5-9257-4b71-a695-40c32101a1a1",
   "metadata": {},
   "outputs": [],
   "source": [
    "import awkward as ak\n",
    "import vector\n",
    "vector.register_awkward()\n",
    "\n",
    "class Simple_Process(processor.ProcessorABC):\n",
    "    def __init__(self, isMC: int, era: int, sample: str) -> None:\n",
    "        self.gensumweight = 1.0\n",
    "        self.era = era\n",
    "        self.isMC = isMC\n",
    "        self.sample = sample\n",
    "\n",
    "        self._accumulator = processor.dict_accumulator(\n",
    "            {\n",
    "                \"ht_gen\": hist.Hist(\n",
    "                    \"Events\",\n",
    "                    hist.Cat(\"dataset\", \"Dataset\"),\n",
    "                    hist.Bin(\"ht_gen\", r\"$H_T$ [GeV]\", 100,0,2500),\n",
    "                ),\n",
    "                \"ht_reco\": hist.Hist(\n",
    "                    \"Events\",\n",
    "                    hist.Cat(\"dataset\", \"Dataset\"),\n",
    "                    hist.Bin(\"ht_reco\", r\"$H_T$ [GeV]\", 100,0,2500),\n",
    "                ),\n",
    "                \"ht_reco_triggered\": hist.Hist(\n",
    "                    \"Events\",\n",
    "                    hist.Cat(\"dataset\", \"Dataset\"),\n",
    "                    hist.Bin(\"ht_reco_triggered\", r\"$H_T$ [GeV]\", 100,0,2500),\n",
    "                ),\n",
    "                \"gentracks\": hist.Hist(\n",
    "                    \"Events\",\n",
    "                    hist.Cat(\"dataset\", \"Dataset\"),\n",
    "                    hist.Bin(\"gentracks\", r\"$N_{tracks}$\", 150, 0, 150),\n",
    "                ),\n",
    "                \"nmuons\": hist.Hist(\n",
    "                    \"Events\",\n",
    "                    hist.Cat(\"dataset\", \"Dataset\"),\n",
    "                    hist.Bin(\"nmuons\", r\"$N_{muons}$\", 30, 0, 30),\n",
    "                ),\n",
    "                \"muon_pt\": hist.Hist(\n",
    "                    \"Events\",\n",
    "                    hist.Cat(\"dataset\", \"Dataset\"),\n",
    "                    hist.Bin(\"muon_pt\", r\"$Muon p_{T}$ [GeV]\", 10, 0, 200),\n",
    "                ),\n",
    "                \"muon_pt_triggered\": hist.Hist(\n",
    "                    \"Events\",\n",
    "                    hist.Cat(\"dataset\", \"Dataset\"),\n",
    "                    hist.Bin(\"muon_pt_triggered\", r\"$Muon p_{T}$ [GeV]\", 10, 0, 200),\n",
    "                ),\n",
    "                \"MET\": hist.Hist(\n",
    "                    \"Events\",\n",
    "                    hist.Cat(\"dataset\", \"Dataset\"),\n",
    "                    hist.Bin(\"MET\", r\"$p_{T}^{miss}$ [GeV]\", 50, 0, 200),\n",
    "                ),\n",
    "                \"sumw\": processor.defaultdict_accumulator(float),\n",
    "            }\n",
    "        )\n",
    "        \n",
    "    @property\n",
    "    def accumulator(self):\n",
    "        return self._accumulator\n",
    "    \n",
    "    def process(self, events):\n",
    "        output = self.accumulator\n",
    "        dataset = events.metadata['dataset']\n",
    "\n",
    "        if self.isMC: self.gensumweight = ak.sum(events.genWeight)\n",
    "        \n",
    "        output[\"sumw\"][dataset] += ak.sum(events.genWeight)\n",
    "        \n",
    "        # gen particles\n",
    "        genparticles = ak.zip({\n",
    "            \"pt\": events.GenPart.pt,\n",
    "            \"eta\": events.GenPart.eta,\n",
    "            \"phi\": events.GenPart.phi,\n",
    "            \"mass\": events.GenPart.mass,\n",
    "            \"pdgId\": events.GenPart.pdgId\n",
    "        }, with_name=\"Momentum4D\")\n",
    "        cut = (events.GenPart.status == 1) & \\\n",
    "              (genparticles.pt > 0.7) & \\\n",
    "              (abs(genparticles.eta) < 2.5)\n",
    "        genparticles = genparticles[cut]\n",
    "        genmuons = genparticles[abs(genparticles.pdgId)==13]\n",
    "    \n",
    "        # gen jets\n",
    "        jets = ak.zip({\n",
    "            \"pt\": events.GenJet.pt,\n",
    "            \"eta\": events.GenJet.eta,\n",
    "            \"phi\": events.GenJet.phi,\n",
    "            \"mass\": events.GenJet.mass,\n",
    "        }, with_name=\"Momentum4D\")\n",
    "        jetCut = (jets.pt > 30) & (abs(jets.eta)<4.7)\n",
    "        jets = jets[jetCut]\n",
    "        \n",
    "        muons = ak.zip({\n",
    "            \"pt\": events.Muon.pt,\n",
    "            \"eta\": events.Muon.eta,\n",
    "            \"phi\": events.Muon.phi,\n",
    "            \"mass\": events.Muon.mass,\n",
    "            \"mediumId\": events.Muon.mediumId\n",
    "        }, with_name=\"Momentum4D\") \n",
    "        muon_triggered = muons[events.HLT.IsoMu24 == 1]\n",
    "        muon_cut = (events.Muon.pt > 10) & \\\n",
    "            (abs(events.Muon.eta) <= 2.4) & \\\n",
    "            (events.Muon.mediumId == 1) \n",
    "        muons = muons[muon_cut]\n",
    "        muon_triggered_cut = (muon_triggered.pt > 10) & \\\n",
    "            (abs(muon_triggered.eta) <= 2.4) & \\\n",
    "            (muon_triggered.mediumId == 1) \n",
    "        muon_triggered = muon_triggered[muon_triggered_cut]\n",
    "        \n",
    "        Ak4Jets = ak.zip({\n",
    "            \"pt\": events.Jet.pt,\n",
    "            \"eta\": events.Jet.eta,\n",
    "            \"phi\": events.Jet.phi,\n",
    "            \"mass\": events.Jet.mass,\n",
    "        }, with_name=\"Momentum4D\")\n",
    "        Jets_triggered = Ak4Jets[events.HLT.PFHT1050 == 1]\n",
    "        Ak4JetCut = (Ak4Jets.pt > 30) & (abs(Ak4Jets.eta)<4.7)\n",
    "        Ak4Jets = Ak4Jets[Ak4JetCut]\n",
    "        Jets_triggeredCut = (Jets_triggered.pt > 30) & (abs(Jets_triggered.eta)<4.7)\n",
    "        Jets_triggered = Jets_triggered[Jets_triggeredCut]\n",
    "                \n",
    "        # fill out hists\n",
    "        output['ht_gen'].fill(ht_gen=ak.sum(jets.pt,axis=-1), dataset=dataset)\n",
    "        output['ht_reco'].fill(ht_reco=ak.sum(Ak4Jets.pt,axis=-1), dataset=dataset)\n",
    "        jet_trig = ak.to_numpy(ak.sum(Jets_triggered.pt,axis=-1),allow_missing=True)\n",
    "        output['ht_reco_triggered'].fill(ht_reco_triggered=jet_trig, dataset=dataset)\n",
    "        output['gentracks'].fill(gentracks=ak.num(genparticles, axis=-1), dataset=dataset)\n",
    "        \n",
    "        output['nmuons'].fill(nmuons=ak.num(muons, axis=-1), dataset=dataset)\n",
    "        muons = muons[ak.num(muons, axis=-1)>0]\n",
    "        output['muon_pt'].fill(muon_pt=ak.max(muons.pt, axis=-1), dataset=dataset)\n",
    "        muon_trig = ak.to_numpy(ak.max(muon_triggered.pt, axis=-1),allow_missing=True)\n",
    "        output['muon_pt_triggered'].fill(muon_pt_triggered=muon_trig, dataset=dataset)\n",
    "        output['MET'].fill(MET=events.MET.pt, dataset=dataset)\n",
    "                \n",
    "        return output\n",
    "        \n",
    "    def postprocess(self, accumulator):\n",
    "        return accumulator"
   ]
  },
  {
   "cell_type": "code",
   "execution_count": 3,
   "id": "a2ae7fe0-0bda-471a-b79b-cc6e25849edd",
   "metadata": {},
   "outputs": [],
   "source": [
    "def check_port(port):\n",
    "    import socket\n",
    "    sock = socket.socket(socket.AF_INET, socket.SOCK_STREAM)\n",
    "    try:\n",
    "        sock.bind((\"0.0.0.0\", port))\n",
    "        available = True\n",
    "    except:\n",
    "        available = False\n",
    "    sock.close()\n",
    "    return available"
   ]
  },
  {
   "cell_type": "markdown",
   "id": "a7f4b491-1ea5-4798-8186-8e184177ae20",
   "metadata": {},
   "source": [
    "The following section defines additional parts of the slurm Dask job. Here we source the bashrc to prepare Conda. We also pass in the x509 proxy. In order to share the proxy across the SubMIT machines you should move your proxy to your HOME directory."
   ]
  },
  {
   "cell_type": "code",
   "execution_count": 4,
   "id": "4a03cb39-ca96-48a9-ba57-c14bac3982f0",
   "metadata": {},
   "outputs": [],
   "source": [
    "slurm_env = [\n",
    "     'export XRD_RUNFORKHANDLER=1',\n",
    "     'export XRD_STREAMTIMEOUT=10',\n",
    "     f'source {os.environ[\"HOME\"]}/.bashrc',\n",
    "     f'conda activate dask',\n",
    "     f'export X509_USER_PROXY={os.environ[\"HOME\"]}/x509up_u206148'\n",
    "]\n",
    "\n",
    "extra_args=[\n",
    "     \"--output=dask_job_output_%j.out\",\n",
    "     \"--error=dask_job_output_%j.err\",\n",
    "     \"--partition=submit\",\n",
    "     \"--clusters=submit\",\n",
    "]"
   ]
  },
  {
   "cell_type": "code",
   "execution_count": 5,
   "id": "93adef70-3f14-4ace-bad2-6c5156f2d6c4",
   "metadata": {},
   "outputs": [],
   "source": [
    "n_port       = 6820\n",
    "w_port       = 9765\n",
    "cores        = 1\n",
    "processes    = 1\n",
    "memory       = \"5 GB\"\n",
    "chunksize    = 100000\n",
    "maxchunks    = None"
   ]
  },
  {
   "cell_type": "markdown",
   "id": "c66c9ee4-6c47-4931-8844-b0b89b2353d8",
   "metadata": {},
   "source": [
    "The following sets up the processor and json file. If you want to change files you can simply modify the json file"
   ]
  },
  {
   "cell_type": "code",
   "execution_count": 6,
   "id": "f20cbe8d-af0c-4a53-9fc6-0b592fdb1cc9",
   "metadata": {},
   "outputs": [],
   "source": [
    "# load samples\n",
    "file = \"../filelist/list_2018_MC_A01.txt\"\n",
    "samples = []\n",
    "with open(file, 'r') as stream:\n",
    "    for sample in stream.read().split('\\n'):\n",
    "        if '#' in sample: continue\n",
    "        if len(sample.split('/')) <= 1: continue\n",
    "        sample_name = sample.split(\"/\")[-1]\n",
    "        samples.append(sample_name)"
   ]
  },
  {
   "cell_type": "code",
   "execution_count": 7,
   "id": "3a7cfe42-357b-43cd-b0af-0c99ee1af8a7",
   "metadata": {},
   "outputs": [],
   "source": [
    "# load file names\n",
    "samples_dict = {}\n",
    "for sample_name in samples:\n",
    "    \n",
    "    # ignores SUEP files since we want to use another one\n",
    "    if 'SUEP' in sample_name: continue\n",
    "    \n",
    "    input_list = \"/home/tier3/cmsprod/catalog/t2mit/nanosu/A01/{}/RawFiles.00\".format(sample_name)\n",
    "    \n",
    "    files = []\n",
    "    Raw_list = open(input_list, \"r\")\n",
    "    for i in Raw_list:\n",
    "        file = i.split(\" \")[0]\n",
    "        files.append(file)\n",
    "    \n",
    "    samples_dict[sample_name] = files"
   ]
  },
  {
   "cell_type": "code",
   "execution_count": 8,
   "id": "2d2f91cd-9c86-47f7-b9bd-83638fc88e5f",
   "metadata": {},
   "outputs": [],
   "source": [
    "# load SUEP files\n",
    "suepDir = \"/work/submit/freerc/Carlos/\"\n",
    "suep_dict = {}\n",
    "for sample in os.listdir(suepDir):\n",
    "    #if \"M125\" not in sample: continue\n",
    "    if \"ggHpythia_generic\" not in sample: continue\n",
    "    mass = sample.split(\"_\")[2]\n",
    "    suep_dict.update({mass: [suepDir + sample + \"/GEN/total.root\"]})"
   ]
  },
  {
   "cell_type": "code",
   "execution_count": 9,
   "id": "6f87b335-d8bb-4089-9ed1-cbd367286c9f",
   "metadata": {},
   "outputs": [],
   "source": [
    "# combine QCD, data, and SUEP files\n",
    "process_dict = {}\n",
    "for key in list(samples_dict.keys()):\n",
    "    process_dict.update({key:samples_dict[key][:5]})#Only take 10 files for now.\n",
    "#process_dict = process_dict | suep_dict\n",
    "\n",
    "#process_dict"
   ]
  },
  {
   "cell_type": "code",
   "execution_count": 10,
   "id": "e145bbf1-5282-4e86-8b5a-536d3d17af8a",
   "metadata": {},
   "outputs": [],
   "source": [
    "# cross section\n",
    "xsections = {}\n",
    "for sample in list(process_dict.keys()):\n",
    "    xsection = 1.0\n",
    "    if 'QCD' in sample:\n",
    "        with open('../data/xsections_{}.json'.format('2018')) as file:\n",
    "            MC_xsecs = json.load(file)\n",
    "            try:\n",
    "                xsection *= MC_xsecs[sample][\"xsec\"]\n",
    "                xsection *= MC_xsecs[sample][\"kr\"]\n",
    "                xsection *= MC_xsecs[sample][\"br\"]\n",
    "            except:\n",
    "                print(\"WARNING: I did not find the xsection for that MC sample. Check the dataset name and the relevant yaml file\")\n",
    "                print(sample)\n",
    "        xsections.update({sample:xsection})\n",
    "    else:\n",
    "        xsections.update({sample:xsection})"
   ]
  },
  {
   "cell_type": "markdown",
   "id": "7578929b-790e-409d-bfdb-9befceae8eb1",
   "metadata": {},
   "source": [
    "The next section forms the Slurm Cluster. You can set up various parameters of the cluster here."
   ]
  },
  {
   "cell_type": "code",
   "execution_count": 11,
   "id": "161ab5ca-0d06-4c30-96bb-24fa3915ce82",
   "metadata": {},
   "outputs": [
    {
     "name": "stderr",
     "output_type": "stream",
     "text": [
      "/work/submit/freerc/miniforge3/envs/dask/lib/python3.9/site-packages/distributed/node.py:177: UserWarning: Port 8000 is already in use.\n",
      "Perhaps you already have a cluster running?\n",
      "Hosting the HTTP server on port 15073 instead\n",
      "  warnings.warn(\n"
     ]
    }
   ],
   "source": [
    "while not check_port(n_port):\n",
    "    time.sleep(5)\n",
    "\n",
    "import socket\n",
    "cluster = SLURMCluster(\n",
    "        queue='all',\n",
    "        project=\"SUEP_Slurm\",\n",
    "        cores=cores,\n",
    "        processes=processes,\n",
    "        memory=memory,\n",
    "        #retries=10,\n",
    "        walltime='00:30:00',\n",
    "        scheduler_options={\n",
    "              'port': n_port,\n",
    "              'dashboard_address': 8000,\n",
    "              'host': socket.gethostname()\n",
    "        },\n",
    "        job_extra=extra_args,\n",
    "        env_extra=slurm_env,\n",
    ")"
   ]
  },
  {
   "cell_type": "code",
   "execution_count": 12,
   "id": "9298d20e-338a-489d-9e06-8f45d8fa3240",
   "metadata": {},
   "outputs": [
    {
     "name": "stdout",
     "output_type": "stream",
     "text": [
      "<Client: 'tcp://18.12.2.18:6820' processes=0 threads=0, memory=0 B>\n"
     ]
    }
   ],
   "source": [
    "cluster.adapt(minimum=1, maximum=250)\n",
    "client = Client(cluster)\n",
    "print(client)"
   ]
  },
  {
   "cell_type": "markdown",
   "id": "25cb8d52-2382-48f9-9da3-e7ed4fbd0532",
   "metadata": {},
   "source": [
    "## Running the processor\n",
    "Now we will run the code with a performance report. This will analyze all of the input ROOT files and will store the histograms in output. Then we can analyze the output and make plots."
   ]
  },
  {
   "cell_type": "code",
   "execution_count": 23,
   "id": "0d7312b5-e2da-4548-af9f-860e7646d63b",
   "metadata": {
    "tags": []
   },
   "outputs": [
    {
     "name": "stdout",
     "output_type": "stream",
     "text": [
      "[########################################] | 100% Completed |  1min 11.6s\r"
     ]
    }
   ],
   "source": [
    "processor_instance = Simple_Process(isMC=1, era='2018', sample='test')\n",
    "with performance_report(filename=\"dask-report.html\"):\n",
    "    output = processor.run_uproot_job(process_dict,\n",
    "             treename='Events',\n",
    "             processor_instance=processor_instance,\n",
    "             executor=processor.dask_executor,\n",
    "             executor_args={\n",
    "                           'client': client,\n",
    "                           'skipbadfiles': True,\n",
    "                           'schema': processor.NanoAODSchema,\n",
    "                           'xrootdtimeout': 10,\n",
    "                           'retries': 3,\n",
    "                           },\n",
    "             chunksize=100000,\n",
    "             maxchunks=maxchunks)"
   ]
  },
  {
   "cell_type": "code",
   "execution_count": 24,
   "id": "4cf6e92f-4d9f-449f-98fe-34afd4ad7f8a",
   "metadata": {},
   "outputs": [
    {
     "name": "stdout",
     "output_type": "stream",
     "text": [
      "ht_gen\n",
      "ht_reco\n",
      "ht_reco_triggered\n",
      "gentracks\n",
      "nmuons\n",
      "muon_pt\n",
      "muon_pt_triggered\n",
      "MET\n"
     ]
    }
   ],
   "source": [
    "client.cancel(cluster)\n",
    "\n",
    "# just in case this isn't working as expected\n",
    "#coffea.util.save(output, \"unscaled_output.coffea\")\n",
    "\n",
    "# calculate normalization\n",
    "scales = {} \n",
    "for dataset in output[\"sumw\"]:\n",
    "    xsec = xsections[dataset]\n",
    "    scale = xsec / output[\"sumw\"][dataset]\n",
    "    scales.update({dataset: scale})\n",
    "\n",
    "# apply normalization to all histograms\n",
    "for key in list(output.keys()):\n",
    "    if key.lower() == 'sumw': continue\n",
    "    print(key)\n",
    "    output[key].scale(scales, axis='dataset')\n",
    "\n",
    "coffea.util.save(output, \"output.coffea\")"
   ]
  },
  {
   "cell_type": "markdown",
   "id": "0658b324-d9b8-43ce-90c2-ab7fbe3326c3",
   "metadata": {},
   "source": [
    "### We can make some plots here too! But most of the analysis is in Dask_analysis.ipynb"
   ]
  },
  {
   "cell_type": "code",
   "execution_count": 25,
   "id": "c351aea7-0ce9-4365-b67d-0de06589715b",
   "metadata": {},
   "outputs": [
    {
     "name": "stderr",
     "output_type": "stream",
     "text": [
      "/work/submit/freerc/miniforge3/envs/dask/lib/python3.9/site-packages/coffea/hist/plot.py:43: RuntimeWarning: All sumw are zero!  Cannot compute meaningful error bars\n",
      "  warnings.warn(\n",
      "/work/submit/freerc/miniforge3/envs/dask/lib/python3.9/site-packages/coffea/hist/plot.py:333: UserWarning: Attempted to set non-positive bottom ylim on a log-scaled axis.\n",
      "Invalid limit will be ignored.\n",
      "  ax.set_ylim(0, None)\n",
      "/tmp/ipykernel_3596721/4124763327.py:16: UserWarning: Attempted to set non-positive bottom ylim on a log-scaled axis.\n",
      "Invalid limit will be ignored.\n",
      "  _ = ax.set_ylim(0, 10000000000)\n"
     ]
    },
    {
     "data": {
      "image/png": "[encoded data removed]",
      "text/plain": [
       "<Figure size 720x720 with 1 Axes>"
      ]
     },
     "metadata": {
      "needs_background": "light"
     },
     "output_type": "display_data"
    }
   ],
   "source": [
    "from coffea.hist import plot\n",
    "import matplotlib.pyplot as plt\n",
    "import mplhep as hep\n",
    "\n",
    "fig = plt.figure()\n",
    "ax = fig.subplots()\n",
    "\n",
    "#hep.cms.label(data=False, year='2018')\n",
    "hep.style.use(\"ROOT\")\n",
    "# {\"ALICE\" | \"ATLAS\" | \"CMS\" | \"LHCb1\" | \"LHCb2\"}\n",
    "hep.cms.label(data=False)\n",
    "\n",
    "_ = ax.set_yscale('log')\n",
    "plot.plot1d(output['ht_reco'][\"QCD_Pt*\"], ax=ax, clear=False, stack=True)\n",
    "_ = ax.set_xlim(0,2500)\n",
    "_ = ax.set_ylim(0, 10000000000)\n",
    "ax.get_legend().remove()"
   ]
  },
  {
   "cell_type": "code",
   "execution_count": 26,
   "id": "34f446cc-ade1-4fa1-8e56-3255d90d1a36",
   "metadata": {},
   "outputs": [
    {
     "data": {
      "image/png": "[encoded data removed]",
      "text/plain": [
       "<Figure size 720x720 with 1 Axes>"
      ]
     },
     "metadata": {
      "needs_background": "light"
     },
     "output_type": "display_data"
    }
   ],
   "source": [
    "fig = plt.figure()\n",
    "ax = fig.subplots()\n",
    "\n",
    "hep.style.use(\"ROOT\")\n",
    "hep.cms.label(data=False)\n",
    "\n",
    "_ = ax.set_yscale('log')\n",
    "plot.plot1d(output['ht_gen'][\"QCD_HT*\"], ax=ax, clear=False, stack=True)\n",
    "\n",
    "_ = ax.set_ylim(0.001, 10000000000)\n",
    "ax.get_legend().remove()"
   ]
  },
  {
   "cell_type": "code",
   "execution_count": 27,
   "id": "179a8efe-6294-4206-8732-ed01e0b21954",
   "metadata": {},
   "outputs": [
    {
     "data": {
      "image/png": "[encoded data removed]",
      "text/plain": [
       "<Figure size 720x720 with 1 Axes>"
      ]
     },
     "metadata": {
      "needs_background": "light"
     },
     "output_type": "display_data"
    }
   ],
   "source": [
    "fig = plt.figure()\n",
    "ax = fig.subplots()\n",
    "\n",
    "hep.style.use(\"ROOT\")\n",
    "hep.cms.label(data=False)\n",
    "\n",
    "_ = ax.set_yscale('log')\n",
    "plot.plot1d(output['muon_pt_triggered'][\"QCD_Pt*\"], ax=ax, clear=False, stack=True)\n",
    "_ = ax.set_ylim(0.001, 10000000000)\n",
    "ax.get_legend().remove()"
   ]
  },
  {
   "cell_type": "code",
   "execution_count": 28,
   "id": "5d6462b2-9c52-42a5-9118-fd700dda514d",
   "metadata": {},
   "outputs": [
    {
     "data": {
      "image/png": "[encoded data removed]",
      "text/plain": [
       "<Figure size 720x720 with 1 Axes>"
      ]
     },
     "metadata": {
      "needs_background": "light"
     },
     "output_type": "display_data"
    }
   ],
   "source": [
    "fig = plt.figure()\n",
    "ax = fig.subplots()\n",
    "\n",
    "hep.style.use(\"ROOT\")\n",
    "hep.cms.label(data=False)\n",
    "\n",
    "_ = ax.set_yscale('log')\n",
    "plot.plot1d(output['muon_pt'][\"QCD_Pt*\"], ax=ax, clear=False, stack=True)\n",
    "_ = ax.set_ylim(0.001, 10000000000)\n",
    "ax.get_legend().remove()"
   ]
  },
  {
   "cell_type": "code",
   "execution_count": 29,
   "id": "9c5d217c-3c36-4230-882e-ef85fb0833ce",
   "metadata": {},
   "outputs": [
    {
     "name": "stdout",
     "output_type": "stream",
     "text": [
      "[0.00000000e+00 0.00000000e+00 0.00000000e+00 0.00000000e+00\n",
      " 0.00000000e+00 0.00000000e+00 0.00000000e+00 0.00000000e+00\n",
      " 0.00000000e+00 0.00000000e+00 0.00000000e+00 0.00000000e+00\n",
      " 0.00000000e+00 0.00000000e+00 0.00000000e+00 0.00000000e+00\n",
      " 0.00000000e+00 0.00000000e+00 0.00000000e+00 0.00000000e+00\n",
      " 0.00000000e+00 5.23519259e-07 7.29436965e-08 3.54855014e-06\n",
      " 1.00332713e-05 2.00332881e-05 9.85830223e-06 3.00194483e-05\n",
      " 9.94440872e-05 1.21515116e-04 7.92641193e-05 1.26656536e-04\n",
      " 4.84598986e-04 4.09977323e-04 5.25951858e-04 7.21056818e-04\n",
      " 1.14127848e-03 1.97265065e-03 3.53524612e-03 7.44622809e-03\n",
      " 2.08741017e-02 6.16206129e-02 1.53089822e-01 3.22513412e-01\n",
      " 5.07067135e-01 6.46584337e-01 7.70833314e-01 1.88869888e-02\n",
      " 8.94270773e-01 9.03940196e-01 9.28705807e-01 9.51032446e-01\n",
      " 9.58848670e-01 9.56904947e-01 9.61113989e-01 9.73894332e-01\n",
      " 9.73316758e-01 9.88211242e-01 9.90521318e-01 9.89404714e-01\n",
      " 9.97074953e-01 9.95396606e-01 9.94834191e-01 9.97529344e-01\n",
      " 9.97950680e-01 9.99088407e-01 9.98235233e-01 9.98719971e-01\n",
      " 9.94321152e-01 9.99761125e-01 9.99840408e-01 9.99746465e-01\n",
      " 9.98931103e-01 9.99964513e-01 9.99958961e-01 1.00000000e+00\n",
      " 1.00000000e+00 1.00000000e+00 1.00000000e+00 1.00000000e+00\n",
      " 1.00000000e+00 1.00000000e+00 1.00000000e+00 1.00000000e+00\n",
      " 1.00000000e+00 1.00000000e+00 1.00000000e+00 1.00000000e+00\n",
      " 1.00000000e+00 1.00000000e+00 1.00000000e+00 1.00000000e+00\n",
      " 1.00000000e+00 1.00000000e+00 1.00000000e+00 1.00000000e+00\n",
      " 1.00000000e+00 1.00000000e+00 1.00000000e+00 1.00000000e+00]\n"
     ]
    }
   ],
   "source": [
    "val_trig = 0\n",
    "val = 0\n",
    "i = 0\n",
    "for sample in output['ht_reco_triggered'].project('dataset').values():\n",
    "    if 'QCD_Pt' not in sample[0]: continue\n",
    "    bh_trig = output['ht_reco_triggered'][sample[0]].to_boost()\n",
    "    bh = output['ht_reco'][sample[0]].to_boost()\n",
    "    if i == 0:\n",
    "        bins_use = bh_trig.axes.edges[1][0]\n",
    "        val_trig = bh_trig.values()[0]\n",
    "        val= bh.values()[0]\n",
    "    else:\n",
    "        val_trig += bh_trig.values()[0]\n",
    "        val += bh.values()[0]\n",
    "    i += 1\n",
    "print(val_trig/val)"
   ]
  },
  {
   "cell_type": "code",
   "execution_count": 30,
   "id": "c63559cc-f75e-4a6e-87c1-bf4da50a672c",
   "metadata": {},
   "outputs": [],
   "source": [
    "binc = np.array([ 0.5*(bins_use[i]+bins_use[i+1])for i in range(bins_use.shape[0]-1)])\n",
    "xerr = np.diff(bins_use)*0.5"
   ]
  },
  {
   "cell_type": "code",
   "execution_count": 31,
   "id": "a0cc78d6-4d78-4a04-95b4-d48a6d563275",
   "metadata": {},
   "outputs": [
    {
     "data": {
      "image/png": "[encoded data removed]",
      "text/plain": [
       "<Figure size 720x720 with 1 Axes>"
      ]
     },
     "metadata": {
      "needs_background": "light"
     },
     "output_type": "display_data"
    }
   ],
   "source": [
    "fig = plt.figure()\n",
    "ax = fig.subplots()\n",
    "\n",
    "#hep.cms.label(data=False, year='2018')\n",
    "hep.style.use(\"ROOT\")\n",
    "# {\"ALICE\" | \"ATLAS\" | \"CMS\" | \"LHCb1\" | \"LHCb2\"}\n",
    "hep.cms.label(data=False)\n",
    "binc = np.array([ 0.5*(bins_use[i]+bins_use[i+1])for i in range(bins_use.shape[0]-1)])\n",
    "\n",
    "x = val_trig/val\n",
    "x = np.nan_to_num(x)\n",
    "plt.errorbar(binc,x, xerr=xerr,color=\"black\", fmt='o')\n",
    "_ = ax.set_ylim(0.001, 1.2)"
   ]
  },
  {
   "cell_type": "code",
   "execution_count": null,
   "id": "26533ee5-25fa-480b-bae6-880bf3ddd73e",
   "metadata": {},
   "outputs": [],
   "source": []
  },
  {
   "cell_type": "code",
   "execution_count": null,
   "id": "357a5483-d913-4834-a6b4-29e4ca68ce84",
   "metadata": {},
   "outputs": [],
   "source": []
  }
 ],
 "metadata": {
  "kernelspec": {
   "display_name": "dask",
   "language": "python",
   "name": "dask"
  },
  "language_info": {
   "codemirror_mode": {
    "name": "ipython",
    "version": 3
   },
   "file_extension": ".py",
   "mimetype": "text/x-python",
   "name": "python",
   "nbconvert_exporter": "python",
   "pygments_lexer": "ipython3",
   "version": "3.9.15"
  }
 },
 "nbformat": 4,
 "nbformat_minor": 5
}
