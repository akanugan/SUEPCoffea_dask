{
 "cells": [
  {
   "cell_type": "markdown",
   "id": "89478bce-c68d-4738-b62d-b288e49503ba",
   "metadata": {},
   "source": [
    "# Dask through Jupyter Notebooks"
   ]
  },
  {
   "cell_type": "markdown",
   "id": "0a66b82e-fde3-4595-b4f9-24e25e6ae57d",
   "metadata": {},
   "source": [
    "This notebook runs a simple study on SUEP data using Dask, creating an output coffea file that can be analyzed in Dask_analysis.ipynb."
   ]
  },
  {
   "cell_type": "code",
   "execution_count": 1,
   "id": "36c07901-136b-4e4e-9146-33a52a8d671e",
   "metadata": {
    "tags": []
   },
   "outputs": [
    {
     "name": "stderr",
     "output_type": "stream",
     "text": [
      "/home/submit/lavezzo/miniconda3/envs/SUEP/lib/python3.10/site-packages/tqdm/auto.py:22: TqdmWarning: IProgress not found. Please update jupyter and ipywidgets. See https://ipywidgets.readthedocs.io/en/stable/user_install.html\n",
      "  from .autonotebook import tqdm as notebook_tqdm\n",
      "/home/submit/lavezzo/miniconda3/envs/SUEP/lib/python3.10/site-packages/dask_jobqueue/core.py:20: FutureWarning: tmpfile is deprecated and will be removed in a future release. Please use dask.utils.tmpfile instead.\n",
      "  from distributed.utils import tmpfile\n"
     ]
    }
   ],
   "source": [
    "import os\n",
    "import sys\n",
    "import json\n",
    "import time\n",
    "import random\n",
    "import numpy as np\n",
    "import coffea\n",
    "from coffea import hist, processor\n",
    "from hist import Hist\n",
    "import matplotlib\n",
    "\n",
    "from dask_jobqueue import SLURMCluster\n",
    "from distributed import Client\n",
    "from dask.distributed import performance_report"
   ]
  },
  {
   "cell_type": "markdown",
   "id": "c841c2aa-987c-4a20-8911-a8923f3d36f1",
   "metadata": {},
   "source": [
    "We set up a coffea ABC Processor to analyze the ROOT files."
   ]
  },
  {
   "cell_type": "code",
   "execution_count": 2,
   "id": "768afee5-9257-4b71-a695-40c32101a1a1",
   "metadata": {},
   "outputs": [],
   "source": [
    "import awkward as ak\n",
    "import vector\n",
    "vector.register_awkward()\n",
    "\n",
    "class Simple_Process(processor.ProcessorABC):\n",
    "    def __init__(self, isMC: int, era: int, sample: str) -> None:\n",
    "        self.gensumweight = 1.0\n",
    "        self.era = era\n",
    "        self.isMC = isMC\n",
    "        self.sample = sample\n",
    "\n",
    "        self._accumulator = processor.dict_accumulator(\n",
    "            {\n",
    "                \"ht_ak4\": hist.Hist(\n",
    "                    \"Events\",\n",
    "                    hist.Cat(\"dataset\", \"Dataset\"),\n",
    "                    hist.Bin(\"ht_ak4\", r\"$H_T$ [GeV]\", 400,0,2000),\n",
    "                ),\n",
    "                \"ntracks\": hist.Hist(\n",
    "                    \"Events\",\n",
    "                    hist.Cat(\"dataset\", \"Dataset\"),\n",
    "                    hist.Bin(\"ntracks\", r\"$N_{tracks}$\", 250, 0, 1000),\n",
    "                ),\n",
    "                \"nmuons\": hist.Hist(\n",
    "                    \"Events\",\n",
    "                    hist.Cat(\"dataset\", \"Dataset\"),\n",
    "                    hist.Bin(\"nmuons\", r\"$N_{muons}$\", 200, 0, 200),\n",
    "                ),\n",
    "                \"muon_pt\": hist.Hist(\n",
    "                    \"Events\",\n",
    "                    hist.Cat(\"dataset\", \"Dataset\"),\n",
    "                    hist.Bin(\"muon_pt\", r\"$Muon p_{T}$ [GeV]\", 100, 0, 200),\n",
    "                ),\n",
    "                \"ntracks_500\": hist.Hist(\n",
    "                    \"Events\",\n",
    "                    hist.Cat(\"dataset\", \"Dataset\"),\n",
    "                    hist.Bin(\"ntracks_500\", r\"$N_{tracks}$\", 250, 0, 2000),\n",
    "                ),\n",
    "                \"ntracks_750\": hist.Hist(\n",
    "                    \"Events\",\n",
    "                    hist.Cat(\"dataset\", \"Dataset\"),\n",
    "                    hist.Bin(\"ntracks_750\", r\"$N_{tracks}$\", 250, 0, 2000),\n",
    "                ),\n",
    "                \"sumw\": processor.defaultdict_accumulator(float),\n",
    "            }\n",
    "        )\n",
    "        \n",
    "    @property\n",
    "    def accumulator(self):\n",
    "        return self._accumulator\n",
    "    \n",
    "    def process(self, events):\n",
    "        output = self.accumulator\n",
    "        dataset = events.metadata['dataset']\n",
    "\n",
    "        if self.isMC: self.gensumweight = ak.sum(events.genWeight)\n",
    "        \n",
    "        output[\"sumw\"][dataset] += ak.sum(events.genWeight)\n",
    "        \n",
    "        # gen particles\n",
    "        particles = ak.zip({\n",
    "            \"pt\": events.GenPart.pt,\n",
    "            \"eta\": events.GenPart.eta,\n",
    "            \"phi\": events.GenPart.phi,\n",
    "            \"mass\": events.GenPart.mass,\n",
    "            \"pdgId\": events.GenPart.pdgId\n",
    "        }, with_name=\"Momentum4D\")\n",
    "        cut = (events.GenPart.status == 1) & \\\n",
    "              (particles.pt > 0.7) & \\\n",
    "              (abs(particles.eta) < 2.5)\n",
    "        particles = particles[cut]\n",
    "        muons = particles[abs(particles.pdgId)==13]\n",
    "    \n",
    "        # gen jets\n",
    "        jets = ak.zip({\n",
    "            \"pt\": events.GenJet.pt,\n",
    "            \"eta\": events.GenJet.eta,\n",
    "            \"phi\": events.GenJet.phi,\n",
    "            \"mass\": events.GenJet.mass,\n",
    "        }, with_name=\"Momentum4D\")\n",
    "        jetCut = (jets.pt > 30) & (abs(jets.eta)<4.7)\n",
    "        jets = jets[jetCut]\n",
    "                \n",
    "        # fill out hists\n",
    "        output['ht_ak4'].fill(ht_ak4=ak.sum(jets.pt,axis=-1), dataset=dataset)\n",
    "        output['ntracks'].fill(ntracks=ak.num(particles, axis=-1), dataset=dataset)\n",
    "        \n",
    "        muons = muons[muons.pt > 2]\n",
    "        output['nmuons'].fill(nmuons=ak.num(muons, axis=-1), dataset=dataset)\n",
    "        muons = muons[ak.num(muons, axis=-1)>0]\n",
    "        output['muon_pt'].fill(muon_pt=ak.max(muons.pt, axis=-1), dataset=dataset)\n",
    "        \n",
    "        particles_500 = particles[ak.sum(jets.pt,axis=-1) > 500]\n",
    "        output['ntracks_500'].fill(ntracks_500=ak.num(particles_500, axis=-1), dataset=dataset)\n",
    "        \n",
    "        particles_750 = particles[ak.sum(jets.pt,axis=-1) > 750]\n",
    "        output['ntracks_750'].fill(ntracks_750=ak.num(particles_750, axis=-1), dataset=dataset)\n",
    "        \n",
    "        return output\n",
    "        \n",
    "    def postprocess(self, accumulator):\n",
    "        return accumulator"
   ]
  },
  {
   "cell_type": "code",
   "execution_count": 3,
   "id": "a2ae7fe0-0bda-471a-b79b-cc6e25849edd",
   "metadata": {},
   "outputs": [],
   "source": [
    "def check_port(port):\n",
    "    import socket\n",
    "    sock = socket.socket(socket.AF_INET, socket.SOCK_STREAM)\n",
    "    try:\n",
    "        sock.bind((\"0.0.0.0\", port))\n",
    "        available = True\n",
    "    except:\n",
    "        available = False\n",
    "    sock.close()\n",
    "    return available"
   ]
  },
  {
   "cell_type": "markdown",
   "id": "a7f4b491-1ea5-4798-8186-8e184177ae20",
   "metadata": {},
   "source": [
    "The following section defines additional parts of the slurm Dask job. Here we source the bashrc to prepare Conda. We also pass in the x509 proxy. In order to share the proxy across the SubMIT machines you should move your proxy to your HOME directory."
   ]
  },
  {
   "cell_type": "code",
   "execution_count": 4,
   "id": "4a03cb39-ca96-48a9-ba57-c14bac3982f0",
   "metadata": {},
   "outputs": [],
   "source": [
    "slurm_env = [\n",
    "     'export XRD_RUNFORKHANDLER=1',\n",
    "     'export XRD_STREAMTIMEOUT=10',\n",
    "     f'source {os.environ[\"HOME\"]}/.bashrc',\n",
    "     f'conda activate dask',\n",
    "     f'export X509_USER_PROXY={os.environ[\"HOME\"]}/x509up_u206148'\n",
    "]\n",
    "\n",
    "extra_args=[\n",
    "     \"--output=dask_job_output_%j.out\",\n",
    "     \"--error=dask_job_output_%j.err\",\n",
    "     \"--partition=submit\",\n",
    "     \"--clusters=submit\",\n",
    "]"
   ]
  },
  {
   "cell_type": "code",
   "execution_count": 5,
   "id": "93adef70-3f14-4ace-bad2-6c5156f2d6c4",
   "metadata": {},
   "outputs": [],
   "source": [
    "n_port       = 6820\n",
    "w_port       = 9765\n",
    "cores        = 1\n",
    "processes    = 1\n",
    "memory       = \"5 GB\"\n",
    "chunksize    = 15000\n",
    "maxchunks    = None"
   ]
  },
  {
   "cell_type": "markdown",
   "id": "c66c9ee4-6c47-4931-8844-b0b89b2353d8",
   "metadata": {},
   "source": [
    "The following sets up the processor and json file. If you want to change files you can simply modify the json file"
   ]
  },
  {
   "cell_type": "code",
   "execution_count": 6,
   "id": "f20cbe8d-af0c-4a53-9fc6-0b592fdb1cc9",
   "metadata": {},
   "outputs": [],
   "source": [
    "# load samples\n",
    "file = \"../filelist/list_2018_MC_A01.txt\"\n",
    "samples = []\n",
    "with open(file, 'r') as stream:\n",
    "    for sample in stream.read().split('\\n'):\n",
    "        if '#' in sample: continue\n",
    "        if len(sample.split('/')) <= 1: continue\n",
    "        sample_name = sample.split(\"/\")[-1]\n",
    "        samples.append(sample_name)"
   ]
  },
  {
   "cell_type": "code",
   "execution_count": 7,
   "id": "3a7cfe42-357b-43cd-b0af-0c99ee1af8a7",
   "metadata": {},
   "outputs": [],
   "source": [
    "# load file names\n",
    "samples_dict = {}\n",
    "for sample_name in samples:\n",
    "    \n",
    "    # ignores SUEP files since we want to use another one\n",
    "    if 'SUEP' in sample_name: continue\n",
    "    \n",
    "    input_list = \"/home/tier3/cmsprod/catalog/t2mit/nanosu/A01/{}/RawFiles.00\".format(sample_name)\n",
    "    \n",
    "    files = []\n",
    "    Raw_list = open(input_list, \"r\")\n",
    "    for i in Raw_list:\n",
    "        file = i.split(\" \")[0]\n",
    "        files.append(file)\n",
    "    \n",
    "    samples_dict[sample_name] = files"
   ]
  },
  {
   "cell_type": "code",
   "execution_count": 8,
   "id": "2d2f91cd-9c86-47f7-b9bd-83638fc88e5f",
   "metadata": {},
   "outputs": [
    {
     "data": {
      "text/plain": [
       "{'M750': ['/work/submit/freerc/Carlos/ggHpythia_generic_M750_T2genonly/GEN/total.root'],\n",
       " 'M125': ['/work/submit/freerc/Carlos/ggHpythia_generic_M125_T2genonly/GEN/total.root'],\n",
       " 'M1000': ['/work/submit/freerc/Carlos/ggHpythia_generic_M1000_T2genonly/GEN/total.root'],\n",
       " 'M400': ['/work/submit/freerc/Carlos/ggHpythia_generic_M400_T2genonly/GEN/total.root']}"
      ]
     },
     "execution_count": 8,
     "metadata": {},
     "output_type": "execute_result"
    }
   ],
   "source": [
    "# load SUEP files\n",
    "suepDir = \"/work/submit/freerc/Carlos/\"\n",
    "suep_dict = {}\n",
    "for sample in os.listdir(suepDir):\n",
    "    #if \"M125\" not in sample: continue\n",
    "    if \"ggHpythia_generic\" not in sample: continue\n",
    "    mass = sample.split(\"_\")[2]\n",
    "    suep_dict.update({mass: [suepDir + sample + \"/GEN/total.root\"]})\n",
    "suep_dict"
   ]
  },
  {
   "cell_type": "code",
   "execution_count": 9,
   "id": "6f87b335-d8bb-4089-9ed1-cbd367286c9f",
   "metadata": {},
   "outputs": [],
   "source": [
    "# combine QCD, data, and SUEP files\n",
    "process_dict = {}\n",
    "for key in list(samples_dict.keys()):\n",
    "    process_dict.update({key:samples_dict[key][:10]})\n",
    "process_dict = process_dict | suep_dict"
   ]
  },
  {
   "cell_type": "code",
   "execution_count": 10,
   "id": "e145bbf1-5282-4e86-8b5a-536d3d17af8a",
   "metadata": {},
   "outputs": [],
   "source": [
    "# cross section\n",
    "xsections = {}\n",
    "for sample in list(process_dict.keys()):\n",
    "    xsection = 1.0\n",
    "    if 'QCD' in sample:\n",
    "        with open('../data/xsections_{}.json'.format('2018')) as file:\n",
    "            MC_xsecs = json.load(file)\n",
    "            try:\n",
    "                xsection *= MC_xsecs[sample][\"xsec\"]\n",
    "                xsection *= MC_xsecs[sample][\"kr\"]\n",
    "                xsection *= MC_xsecs[sample][\"br\"]\n",
    "            except:\n",
    "                print(\"WARNING: I did not find the xsection for that MC sample. Check the dataset name and the relevant yaml file\")\n",
    "                print(sample)\n",
    "        xsections.update({sample:xsection})\n",
    "    else:\n",
    "        xsections.update({sample:xsection})"
   ]
  },
  {
   "cell_type": "code",
   "execution_count": 11,
   "id": "1fa99774-fe9f-4e9f-b038-d0152928380d",
   "metadata": {},
   "outputs": [],
   "source": [
    "#Set up the processor\n",
    "processor_instance = Simple_Process(isMC=1, era='2018', sample='test')"
   ]
  },
  {
   "cell_type": "markdown",
   "id": "7578929b-790e-409d-bfdb-9befceae8eb1",
   "metadata": {},
   "source": [
    "The next section forms the Slurm Cluster. You can set up various parameters of the cluster here."
   ]
  },
  {
   "cell_type": "code",
   "execution_count": 12,
   "id": "161ab5ca-0d06-4c30-96bb-24fa3915ce82",
   "metadata": {},
   "outputs": [
    {
     "name": "stderr",
     "output_type": "stream",
     "text": [
      "/home/submit/lavezzo/miniconda3/envs/SUEP/lib/python3.10/site-packages/distributed/node.py:180: UserWarning: Port 8000 is already in use.\n",
      "Perhaps you already have a cluster running?\n",
      "Hosting the HTTP server on port 33389 instead\n",
      "  warnings.warn(\n"
     ]
    }
   ],
   "source": [
    "while not check_port(n_port):\n",
    "    time.sleep(5)\n",
    "    \n",
    "import socket\n",
    "cluster = SLURMCluster(\n",
    "        queue='all',\n",
    "        project=\"SUEP_Slurm\",\n",
    "        cores=cores,\n",
    "        processes=processes,\n",
    "        memory=memory,\n",
    "        #retries=10,\n",
    "        walltime='00:30:00',\n",
    "        scheduler_options={\n",
    "              'port': n_port,\n",
    "              'dashboard_address': 8000,\n",
    "              'host': socket.gethostname()\n",
    "        },\n",
    "        job_extra=extra_args,\n",
    "        env_extra=slurm_env,\n",
    ")"
   ]
  },
  {
   "cell_type": "code",
   "execution_count": 13,
   "id": "9298d20e-338a-489d-9e06-8f45d8fa3240",
   "metadata": {},
   "outputs": [
    {
     "name": "stdout",
     "output_type": "stream",
     "text": [
      "<Client: 'tcp://18.12.2.18:6820' processes=0 threads=0, memory=0 B>\n"
     ]
    }
   ],
   "source": [
    "cluster.adapt(minimum=1, maximum=250)\n",
    "client = Client(cluster)\n",
    "print(client)"
   ]
  },
  {
   "cell_type": "markdown",
   "id": "25cb8d52-2382-48f9-9da3-e7ed4fbd0532",
   "metadata": {},
   "source": [
    "## Running the processor\n",
    "Now we will run the code with a performance report. This will analyze all of the input ROOT files and will store the histograms in output. Then we can analyze the output and make plots."
   ]
  },
  {
   "cell_type": "code",
   "execution_count": 14,
   "id": "0d7312b5-e2da-4548-af9f-860e7646d63b",
   "metadata": {
    "tags": []
   },
   "outputs": [
    {
     "name": "stdout",
     "output_type": "stream",
     "text": [
      "[########################################] | 100% Completed | 30.4s\r"
     ]
    }
   ],
   "source": [
    "with performance_report(filename=\"dask-report.html\"):\n",
    "    output = processor.run_uproot_job(suep_dict,\n",
    "             treename='Events',\n",
    "             processor_instance=processor_instance,\n",
    "             executor=processor.dask_executor,\n",
    "             executor_args={\n",
    "                           'client': client,\n",
    "                           #'skipbadfiles': skipbadfiles,\n",
    "                           'schema': processor.NanoAODSchema,\n",
    "                           'xrootdtimeout': 10,\n",
    "                           'retries': 3,\n",
    "                           },\n",
    "             chunksize=chunksize,\n",
    "             maxchunks=maxchunks)"
   ]
  },
  {
   "cell_type": "code",
   "execution_count": 15,
   "id": "4cf6e92f-4d9f-449f-98fe-34afd4ad7f8a",
   "metadata": {},
   "outputs": [
    {
     "name": "stdout",
     "output_type": "stream",
     "text": [
      "ht_ak4\n",
      "ntracks\n",
      "nmuons\n",
      "muon_pt\n",
      "ntracks_500\n",
      "ntracks_750\n"
     ]
    }
   ],
   "source": [
    "client.cancel(cluster)\n",
    "\n",
    "# just in case this isn't working as expected\n",
    "coffea.util.save(output, \"unscaled_output.coffea\")\n",
    "\n",
    "# calculate normalization\n",
    "scales = {} \n",
    "for dataset in output[\"sumw\"]:\n",
    "    xsec = xsections[dataset]\n",
    "    scale = xsec / output[\"sumw\"][dataset]\n",
    "    scales.update({dataset: scale})\n",
    "\n",
    "# apply normalization to all histograms\n",
    "for key in list(output.keys()):\n",
    "    if key.lower() == 'sumw': continue\n",
    "    print(key)\n",
    "    output[key].scale(scales, axis='dataset')\n",
    "\n",
    "coffea.util.save(output, \"output.coffea\")"
   ]
  },
  {
   "cell_type": "markdown",
   "id": "0658b324-d9b8-43ce-90c2-ab7fbe3326c3",
   "metadata": {},
   "source": [
    "### We can make some plots here too! But most of the analysis is in Dask_analysis.ipynb"
   ]
  },
  {
   "cell_type": "code",
   "execution_count": 16,
   "id": "634ec0d0-0049-424e-8078-f2a1fa300e63",
   "metadata": {},
   "outputs": [],
   "source": [
    "from coffea.hist import plot\n",
    "import matplotlib.pyplot as plt\n",
    "import mplhep as hep\n",
    "\n",
    "#hep.cms.label(data=False, year='2018')\n",
    "hep.style.use(\"ROOT\")\n",
    "# {\"ALICE\" | \"ATLAS\" | \"CMS\" | \"LHCb1\" | \"LHCb2\"}\n",
    "hep.cms.label(data=False)"
   ]
  },
  {
   "cell_type": "code",
   "execution_count": 19,
   "id": "5e7981f9-4c31-4e9c-b7f6-ee51a4ef6b6c",
   "metadata": {},
   "outputs": [
    {
     "name": "stderr",
     "output_type": "stream",
     "text": [
      "/home/submit/lavezzo/miniconda3/envs/SUEP/lib/python3.10/site-packages/numpy/core/_methods.py:44: RuntimeWarning: invalid value encountered in reduce\n",
      "  return umr_minimum(a, axis, None, out, keepdims, initial, where)\n",
      "/home/submit/lavezzo/miniconda3/envs/SUEP/lib/python3.10/site-packages/numpy/core/_methods.py:40: RuntimeWarning: invalid value encountered in reduce\n",
      "  return umr_maximum(a, axis, None, out, keepdims, initial, where)\n",
      "/home/submit/lavezzo/miniconda3/envs/SUEP/lib/python3.10/site-packages/coffea/hist/plot.py:333: UserWarning: Attempted to set non-positive bottom ylim on a log-scaled axis.\n",
      "Invalid limit will be ignored.\n",
      "  ax.set_ylim(0, None)\n",
      "/home/submit/lavezzo/miniconda3/envs/SUEP/lib/python3.10/site-packages/numpy/core/_methods.py:44: RuntimeWarning: invalid value encountered in reduce\n",
      "  return umr_minimum(a, axis, None, out, keepdims, initial, where)\n",
      "/home/submit/lavezzo/miniconda3/envs/SUEP/lib/python3.10/site-packages/numpy/core/_methods.py:40: RuntimeWarning: invalid value encountered in reduce\n",
      "  return umr_maximum(a, axis, None, out, keepdims, initial, where)\n",
      "/home/submit/lavezzo/miniconda3/envs/SUEP/lib/python3.10/site-packages/coffea/hist/plot.py:333: UserWarning: Attempted to set non-positive bottom ylim on a log-scaled axis.\n",
      "Invalid limit will be ignored.\n",
      "  ax.set_ylim(0, None)\n",
      "/home/submit/lavezzo/miniconda3/envs/SUEP/lib/python3.10/site-packages/numpy/core/_methods.py:44: RuntimeWarning: invalid value encountered in reduce\n",
      "  return umr_minimum(a, axis, None, out, keepdims, initial, where)\n",
      "/home/submit/lavezzo/miniconda3/envs/SUEP/lib/python3.10/site-packages/numpy/core/_methods.py:40: RuntimeWarning: invalid value encountered in reduce\n",
      "  return umr_maximum(a, axis, None, out, keepdims, initial, where)\n",
      "/home/submit/lavezzo/miniconda3/envs/SUEP/lib/python3.10/site-packages/coffea/hist/plot.py:333: UserWarning: Attempted to set non-positive bottom ylim on a log-scaled axis.\n",
      "Invalid limit will be ignored.\n",
      "  ax.set_ylim(0, None)\n",
      "/home/submit/lavezzo/miniconda3/envs/SUEP/lib/python3.10/site-packages/numpy/core/_methods.py:44: RuntimeWarning: invalid value encountered in reduce\n",
      "  return umr_minimum(a, axis, None, out, keepdims, initial, where)\n",
      "/home/submit/lavezzo/miniconda3/envs/SUEP/lib/python3.10/site-packages/numpy/core/_methods.py:40: RuntimeWarning: invalid value encountered in reduce\n",
      "  return umr_maximum(a, axis, None, out, keepdims, initial, where)\n",
      "/home/submit/lavezzo/miniconda3/envs/SUEP/lib/python3.10/site-packages/coffea/hist/plot.py:333: UserWarning: Attempted to set non-positive bottom ylim on a log-scaled axis.\n",
      "Invalid limit will be ignored.\n",
      "  ax.set_ylim(0, None)\n",
      "/tmp/ipykernel_68141/1475448783.py:19: UserWarning: Attempted to set non-positive bottom ylim on a log-scaled axis.\n",
      "Invalid limit will be ignored.\n",
      "  _ = ax.set_ylim(0, 1)\n"
     ]
    },
    {
     "data": {
      "image/png": "[encoded data removed]",
      "text/plain": [
       "<Figure size 720x720 with 1 Axes>"
      ]
     },
     "metadata": {
      "needs_background": "light"
     },
     "output_type": "display_data"
    }
   ],
   "source": [
    "fig = plt.figure()\n",
    "ax = fig.subplots()\n",
    "_ = ax.set_yscale('log')\n",
    "\n",
    "#plot.plot1d(h, ax=ax, clear=False, density=True)\n",
    "plot.plot1d(output['ht_ak4'][\"M125\"], ax=ax, clear=False, density=True)\n",
    "plot.plot1d(output['ht_ak4'][\"M400\"], ax=ax, clear=False, density=True)\n",
    "plot.plot1d(output['ht_ak4'][\"M750\"], ax=ax, clear=False, density=True)\n",
    "plot.plot1d(output['ht_ak4'][\"M1000\"], ax=ax, clear=False, density=True)\n",
    "\n",
    "_ = ax.set_xlim(0,2000)\n",
    "_ = ax.set_ylim(0, 1)\n",
    "_ = ax.set_ylabel(\"Normalized Events\")\n",
    "plt.rcParams['text.usetex'] = True\n",
    "labels = [r\"GF: $M_{S}=125$ GeV\",r\"GF: $M_{S}=400$ GeV\",r\"GF: $M_{S}=750$ GeV\",r\"GF: $M_{S}=1000$ GeV\"]\n",
    "\n",
    "leg = ax.legend(labels=labels)"
   ]
  },
  {
   "cell_type": "code",
   "execution_count": null,
   "id": "c351aea7-0ce9-4365-b67d-0de06589715b",
   "metadata": {},
   "outputs": [],
   "source": [
    "fig = plt.figure()\n",
    "ax = fig.subplots()\n",
    "\n",
    "#_ = ax.set_xscale('log')\n",
    "_ = ax.set_yscale('log')\n",
    "#plot.plot1d(h, ax=ax, clear=False, density=True)\n",
    "plot.plot1d(output['ht_ak4'][\"QCD_*\"], ax=ax, clear=False, stack=True)\n",
    "\n",
    "_ = ax.set_ylim(0, 100000000)\n",
    "ax.get_legend().remove()"
   ]
  },
  {
   "cell_type": "code",
   "execution_count": null,
   "id": "34f446cc-ade1-4fa1-8e56-3255d90d1a36",
   "metadata": {},
   "outputs": [],
   "source": []
  }
 ],
 "metadata": {
  "kernelspec": {
   "display_name": "SUEP",
   "language": "python",
   "name": "suep"
  },
  "language_info": {
   "codemirror_mode": {
    "name": "ipython",
    "version": 3
   },
   "file_extension": ".py",
   "mimetype": "text/x-python",
   "name": "python",
   "nbconvert_exporter": "python",
   "pygments_lexer": "ipython3",
   "version": "3.10.2"
  }
 },
 "nbformat": 4,
 "nbformat_minor": 5
}
