{
 "cells": [
  {
   "cell_type": "markdown",
   "id": "89478bce-c68d-4738-b62d-b288e49503ba",
   "metadata": {},
   "source": [
    "# Dask through Jupyter Notebooks"
   ]
  },
  {
   "cell_type": "markdown",
   "id": "0a66b82e-fde3-4595-b4f9-24e25e6ae57d",
   "metadata": {},
   "source": [
    "This notebook runs a simple study on SUEP data using Dask, creating an output coffea file that can be analyzed in Dask_analysis.ipynb."
   ]
  },
  {
   "cell_type": "code",
   "execution_count": 17,
   "id": "36c07901-136b-4e4e-9146-33a52a8d671e",
   "metadata": {
    "tags": []
   },
   "outputs": [
    {
     "name": "stderr",
     "output_type": "stream",
     "text": [
      "/work/submit/lavezzo/miniforge3/envs/SUEP/lib/python3.9/site-packages/coffea/util.py:154: FutureWarning: In coffea version v0.8.0 (target date: 31 Dec 2022), this will be an error.\n",
      "(Set coffea.deprecations_as_errors = True to get a stack trace now.)\n",
      "ImportError: coffea.hist is deprecated\n",
      "  warnings.warn(message, FutureWarning)\n"
     ]
    }
   ],
   "source": [
    "import os\n",
    "import json\n",
    "import time\n",
    "import datetime\n",
    "import random\n",
    "import numpy as np\n",
    "import coffea\n",
    "coffea.deprecations_as_errors = False #Get rid of warning for now\n",
    "from coffea import hist, processor\n",
    "from dask_jobqueue import SLURMCluster\n",
    "from distributed import Client\n",
    "from dask.distributed import performance_report"
   ]
  },
  {
   "cell_type": "markdown",
   "id": "c841c2aa-987c-4a20-8911-a8923f3d36f1",
   "metadata": {},
   "source": [
    "We set up a coffea ABC Processor to analyze the ROOT files."
   ]
  },
  {
   "cell_type": "code",
   "execution_count": 18,
   "id": "768afee5-9257-4b71-a695-40c32101a1a1",
   "metadata": {},
   "outputs": [],
   "source": [
    "import awkward as ak\n",
    "import vector\n",
    "vector.register_awkward()\n",
    "\n",
    "class Simple_Process(processor.ProcessorABC):\n",
    "    def __init__(self, isMC: int, era: int, sample: str) -> None:\n",
    "        self.gensumweight = 1.0\n",
    "        self.era = era\n",
    "        self.isMC = isMC\n",
    "        self.sample = sample\n",
    "\n",
    "        self._accumulator = processor.dict_accumulator(\n",
    "            {\n",
    "                \"ht_reco\": hist.Hist(\n",
    "                    \"Events\",\n",
    "                    hist.Cat(\"dataset\", \"Dataset\"),\n",
    "                    hist.Bin(\"ht_reco\", r\"$H_T$ [GeV]\", 50,0,2500),\n",
    "                ),\n",
    "                \"ht_reco_triggered\": hist.Hist(\n",
    "                    \"Events\",\n",
    "                    hist.Cat(\"dataset\", \"Dataset\"),\n",
    "                    hist.Bin(\"ht_reco_triggered\", r\"$H_T$ [GeV]\",  50,0,2500),\n",
    "                ),\n",
    "                \"nmuons\": hist.Hist(\n",
    "                    \"Events\",\n",
    "                    hist.Cat(\"dataset\", \"Dataset\"),\n",
    "                    hist.Bin(\"nmuons\", r\"$N_{muons}$\", 30, 0, 30),\n",
    "                ),\n",
    "                \"muon_pt\": hist.Hist(\n",
    "                    \"Events\",\n",
    "                    hist.Cat(\"dataset\", \"Dataset\"),\n",
    "                    hist.Bin(\"muon_pt\", r\"$Muon p_{T}$ [GeV]\", 10, 0, 200),\n",
    "                ),\n",
    "                \"muon_pt_triggered\": hist.Hist(\n",
    "                    \"Events\",\n",
    "                    hist.Cat(\"dataset\", \"Dataset\"),\n",
    "                    hist.Bin(\"muon_pt_triggered\", r\"$Muon p_{T}$ [GeV]\", 10, 0, 200),\n",
    "                ),\n",
    "                \"MET\": hist.Hist(\n",
    "                    \"Events\",\n",
    "                    hist.Cat(\"dataset\", \"Dataset\"),\n",
    "                    hist.Bin(\"MET\", r\"$p_{T}^{miss}$ [GeV]\", 50, 0, 200),\n",
    "                ),\n",
    "                \"sumw\": processor.defaultdict_accumulator(float),\n",
    "            }\n",
    "        )\n",
    "        \n",
    "    @property\n",
    "    def accumulator(self):\n",
    "        return self._accumulator\n",
    "    \n",
    "    def process(self, events):\n",
    "        output = self.accumulator\n",
    "        dataset = events.metadata['dataset']\n",
    "        #if \"Muon\" not in dataset:\n",
    "        try:\n",
    "            self.gensumweight = ak.sum(events.genWeight)\n",
    "            output[\"sumw\"][dataset] += ak.sum(events.genWeight)\n",
    "        except:\n",
    "            output[\"sumw\"][dataset] = 1.0\n",
    "        #output[\"sumw\"][dataset] = 1.0\n",
    "        \n",
    "        muons = ak.zip({\n",
    "            \"pt\": events.Muon.pt,\n",
    "            \"eta\": events.Muon.eta,\n",
    "            \"phi\": events.Muon.phi,\n",
    "            \"mass\": events.Muon.mass,\n",
    "            \"mediumId\": events.Muon.mediumId\n",
    "        }, with_name=\"Momentum4D\") \n",
    "        muon_triggered = muons[events.HLT.IsoMu24 == 1]\n",
    "        muon_cut = (events.Muon.pt > 10) & \\\n",
    "            (abs(events.Muon.eta) <= 2.4) & \\\n",
    "            (events.Muon.mediumId == 1) \n",
    "        muons = muons[muon_cut]\n",
    "        muon_triggered_cut = (muon_triggered.pt > 10) & \\\n",
    "            (abs(muon_triggered.eta) <= 2.4) & \\\n",
    "            (muon_triggered.mediumId == 1) \n",
    "        muon_triggered = muon_triggered[muon_triggered_cut]\n",
    "        \n",
    "        Ak4Jets = ak.zip({\n",
    "            \"pt\": events.Jet.pt,\n",
    "            \"eta\": events.Jet.eta,\n",
    "            \"phi\": events.Jet.phi,\n",
    "            \"mass\": events.Jet.mass,\n",
    "        }, with_name=\"Momentum4D\")\n",
    "        #Ak4Jets = Ak4Jets[events.HLT.Mu45_eta2p1 == 1]#for 2016\n",
    "        \n",
    "        if self.era == 2016:\n",
    "            Jets_triggered = Ak4Jets[(events.HLT.PFHT900 == 1) & (events.HLT.Mu50 == 1)]\n",
    "        else:\n",
    "            Jets_triggered = Ak4Jets[(events.HLT.PFHT1050 == 1) & (events.HLT.Mu50 == 1)]\n",
    "        Ak4Jets = Ak4Jets[events.HLT.Mu50 == 1]\n",
    "        Ak4JetCut = (Ak4Jets.pt > 30) & (abs(Ak4Jets.eta)<4.7)\n",
    "        Ak4Jets = Ak4Jets[Ak4JetCut]\n",
    "        Jets_triggeredCut = (Jets_triggered.pt > 30) & (abs(Jets_triggered.eta)<4.7)\n",
    "        Jets_triggered = Jets_triggered[Jets_triggeredCut]\n",
    "                \n",
    "        # fill out hists\n",
    "\n",
    "        output['ht_reco'].fill(ht_reco=ak.sum(Ak4Jets.pt,axis=-1), dataset=dataset)\n",
    "        jet_trig = ak.to_numpy(ak.sum(Jets_triggered.pt,axis=-1),allow_missing=True)\n",
    "        output['ht_reco_triggered'].fill(ht_reco_triggered=jet_trig, dataset=dataset)\n",
    "        \n",
    "        output['nmuons'].fill(nmuons=ak.num(muons, axis=-1), dataset=dataset)\n",
    "        muons = muons[ak.num(muons, axis=-1)>0]\n",
    "        output['muon_pt'].fill(muon_pt=ak.max(muons.pt, axis=-1), dataset=dataset)\n",
    "        muon_trig = ak.to_numpy(ak.max(muon_triggered.pt, axis=-1),allow_missing=True)\n",
    "        output['muon_pt_triggered'].fill(muon_pt_triggered=muon_trig, dataset=dataset)\n",
    "        output['MET'].fill(MET=events.MET.pt, dataset=dataset)\n",
    "                \n",
    "        return output\n",
    "        \n",
    "    def postprocess(self, accumulator):\n",
    "        return accumulator"
   ]
  },
  {
   "cell_type": "markdown",
   "id": "c66c9ee4-6c47-4931-8844-b0b89b2353d8",
   "metadata": {},
   "source": [
    "The following sets up the processor and json file. If you want to change files you can simply modify the json file"
   ]
  },
  {
   "cell_type": "code",
   "execution_count": 19,
   "id": "3a7cfe42-357b-43cd-b0af-0c99ee1af8a7",
   "metadata": {},
   "outputs": [
    {
     "name": "stdout",
     "output_type": "stream",
     "text": [
      "dict_keys(['QCDHT1000to1500', 'QCDHT1000to1500preVFP', 'QCDHT100to200', 'QCDHT100to200preVFP', 'QCDHT1500to2000', 'QCDHT1500to2000preVFP', 'QCDHT2000toInf', 'QCDHT2000toInfpreVFP', 'QCDHT200to300', 'QCDHT200to300preVFP', 'QCDHT300to500', 'QCDHT300to500preVFP', 'QCDHT500to700', 'QCDHT500to700preVFP', 'QCDHT50to100', 'QCDHT50to100preVFP', 'QCDHT700to1000', 'QCDHT700to1000preVFP'])\n"
     ]
    }
   ],
   "source": [
    "# load file names\n",
    "year = 2016\n",
    "outDir = '/home/submit/{}/public_html/{}/'.format(os.environ['USER'], 'SUEP/analysis/trigSF/')\n",
    "\n",
    "\n",
    "if not os.path.isdir(outDir): os.mkdir(outDir)\n",
    "\n",
    "with open('/home/submit/lavezzo/luca_json/'+str(year)+'_new.json', 'r') as f: samples = json.load(f)\n",
    "\n",
    "datalist = []\n",
    "nBad = 0\n",
    "for k in list(samples.keys()):\n",
    "\n",
    "    if 'data' in k.lower(): \n",
    "        datalist += samples.pop(k)\n",
    "\n",
    "if len(datalist) >0: samples['Data'] = datalist\n",
    "\n",
    "print(samples.keys())"
   ]
  },
  {
   "cell_type": "code",
   "execution_count": 19,
   "id": "930078fc-f3a5-4faf-a897-9f0638c015c3",
   "metadata": {},
   "outputs": [],
   "source": [
    "# produce a skimmed dict with 10% of files of original samples\n",
    "fraction = 0.1\n",
    "\n",
    "skimmedSamples = {}\n",
    "for k in list(samples.keys()):\n",
    "\n",
    "    nFiles = round(len(samples[k])*fraction)\n",
    "    toAdd = random.sample(samples[k], nFiles)\n",
    "    skimmedSamples[k] = toAdd"
   ]
  },
  {
   "cell_type": "code",
   "execution_count": 20,
   "id": "e145bbf1-5282-4e86-8b5a-536d3d17af8a",
   "metadata": {},
   "outputs": [
    {
     "name": "stdout",
     "output_type": "stream",
     "text": [
      "WARNING: I did not find the xsection for that MC sample. Check the dataset name and the relevant yaml file\n",
      "QCD_HT200to300_TuneCP5_PSWeights_13TeV-madgraphMLM-pythia8+RunIISummer20UL16MiniAODAPVv2-106X_mcRun2_asymptotic_preVFP_v11-v1+MINIAODSIM\n"
     ]
    }
   ],
   "source": [
    "# cross section\n",
    "xsections = {}\n",
    "for sample in list(samples.keys()):\n",
    "    xsection = 1.0\n",
    "    if 'QCD' in sample:\n",
    "        with open('../data/xsections_{}.json'.format(year)) as file:\n",
    "            MC_xsecs = json.load(file)\n",
    "\n",
    "            if year == 2016:\n",
    "                if 'preVFP' in sample:\n",
    "                    sample_name = 'QCD_'+sample[3:-6]+'_TuneCP5_PSWeights_13TeV-madgraphMLM-pythia8+RunIISummer20UL16MiniAODAPVv2-106X_mcRun2_asymptotic_preVFP_v11-v1+MINIAODSIM'\n",
    "                else:\n",
    "                    sample_name = \"QCD_\"+sample[3:]+\"_TuneCP5_PSWeights_13TeV-madgraphMLM-pythia8+RunIISummer20UL16MiniAODv2-106X_mcRun2_asymptotic_v17-v1+MINIAODSIM\"\n",
    "            elif year == 2017:\n",
    "                sample_name = 'QCD_'+sample[3:]+\"_TuneCP5_PSWeights_13TeV-madgraph-pythia8+RunIISummer20UL17MiniAODv2-106X_mc2017_realistic_v9-v1+MINIAODSIM\"\n",
    "\n",
    "            try:\n",
    "                xsection *= MC_xsecs[sample_name][\"xsec\"]\n",
    "                xsection *= MC_xsecs[sample_name][\"kr\"]\n",
    "                xsection *= MC_xsecs[sample_name][\"br\"]\n",
    "            except:\n",
    "                print(\"WARNING: I did not find the xsection for that MC sample. Check the dataset name and the relevant yaml file\")\n",
    "                print(sample_name)\n",
    "\n",
    "        xsections.update({sample:xsection})\n",
    "    else:\n",
    "        xsections.update({sample:xsection})"
   ]
  },
  {
   "cell_type": "code",
   "execution_count": 21,
   "id": "679f5e40-fb32-4152-8208-93dec2ca75a0",
   "metadata": {},
   "outputs": [
    {
     "data": {
      "text/plain": [
       "{'QCDHT1000to1500': 1118.0,\n",
       " 'QCDHT1000to1500preVFP': 1118.0,\n",
       " 'QCDHT100to200': 23630000.0,\n",
       " 'QCDHT100to200preVFP': 23630000.0,\n",
       " 'QCDHT1500to2000': 108.9,\n",
       " 'QCDHT1500to2000preVFP': 108.9,\n",
       " 'QCDHT2000toInf': 21.93,\n",
       " 'QCDHT2000toInfpreVFP': 21.93,\n",
       " 'QCDHT200to300': 1554000.0,\n",
       " 'QCDHT200to300preVFP': 1.0,\n",
       " 'QCDHT300to500': 323800.0,\n",
       " 'QCDHT300to500preVFP': 323800.0,\n",
       " 'QCDHT500to700': 30280.0,\n",
       " 'QCDHT500to700preVFP': 30280.0,\n",
       " 'QCDHT50to100': 186100000.0,\n",
       " 'QCDHT50to100preVFP': 186100000.0,\n",
       " 'QCDHT700to1000': 6392.0,\n",
       " 'QCDHT700to1000preVFP': 6392.0}"
      ]
     },
     "execution_count": 21,
     "metadata": {},
     "output_type": "execute_result"
    }
   ],
   "source": [
    "xsections"
   ]
  },
  {
   "cell_type": "markdown",
   "id": "541e97f8-0e90-4a98-b20b-f25a43f8b04f",
   "metadata": {
    "jp-MarkdownHeadingCollapsed": true,
    "tags": []
   },
   "source": [
    "## Dask Slurm Cluster\n",
    "WARNING: this is a bit finnicky. Below there is a more stable \"Futures Executor\" which runs the jobs to the local machine instead of using a Dask Cluster on Slurm."
   ]
  },
  {
   "cell_type": "markdown",
   "id": "7578929b-790e-409d-bfdb-9befceae8eb1",
   "metadata": {},
   "source": [
    "The next section forms the Slurm Cluster. You can set up various parameters of the cluster here."
   ]
  },
  {
   "cell_type": "code",
   "execution_count": null,
   "id": "3f7a37c0-96ad-4947-8e7e-af2439a26879",
   "metadata": {},
   "outputs": [],
   "source": [
    "def check_port(port):\n",
    "    import socket\n",
    "    sock = socket.socket(socket.AF_INET, socket.SOCK_STREAM)\n",
    "    try:\n",
    "        sock.bind((\"0.0.0.0\", port))\n",
    "        available = True\n",
    "    except:\n",
    "        available = False\n",
    "    sock.close()\n",
    "    return available\n",
    "\n",
    "slurm_env = [\n",
    "    'export XRD_RUNFORKHANDLER=1',\n",
    "    'export XRD_STREAMTIMEOUT=100',\n",
    "     f'source {os.environ[\"HOME\"]}/.bashrc',\n",
    "     f'conda activate SUEP',\n",
    "     f'export X509_USER_PROXY={os.environ[\"HOME\"]}/x509up_u210253',\n",
    "     'echo \"----- Found Proxy in: $X509_USER_PROXY\"',\n",
    "     'voms-proxy-info',\n",
    "     f'sleep $[ ( $RANDOM % 100 )  + 1 ]s'\n",
    "]\n",
    "\n",
    "extra_args=[\n",
    "     \"--output=logs/dask_job_output_%j.out\",\n",
    "     \"--error=logs/dask_job_output_%j.err\",\n",
    "     \"--partition=submit\",\n",
    "     \"--clusters=submit\",\n",
    "]\n",
    "\n",
    "n_port       = 6820\n",
    "w_port       = 9765\n",
    "cores        = 1\n",
    "processes    = 100\n",
    "memory       = \"5 GB\"\n",
    "chunksize    = 10000000\n",
    "maxchunks    = None"
   ]
  },
  {
   "cell_type": "code",
   "execution_count": 10,
   "id": "161ab5ca-0d06-4c30-96bb-24fa3915ce82",
   "metadata": {},
   "outputs": [
    {
     "name": "stderr",
     "output_type": "stream",
     "text": [
      "/work/submit/lavezzo/miniforge3/envs/SUEP/lib/python3.9/site-packages/dask_jobqueue/core.py:255: FutureWarning: job_extra has been renamed to job_extra_directives. You are still using it (even if only set to []; please also check config files). If you did not set job_extra_directives yet, job_extra will be respected for now, but it will be removed in a future release. If you already set job_extra_directives, job_extra is ignored and you can remove it.\n",
      "  warnings.warn(warn, FutureWarning)\n",
      "/work/submit/lavezzo/miniforge3/envs/SUEP/lib/python3.9/site-packages/dask_jobqueue/core.py:274: FutureWarning: env_extra has been renamed to job_script_prologue. You are still using it (even if only set to []; please also check config files). If you did not set job_script_prologue yet, env_extra will be respected for now, but it will be removed in a future release. If you already set job_script_prologue, env_extra is ignored and you can remove it.\n",
      "  warnings.warn(warn, FutureWarning)\n",
      "/work/submit/lavezzo/miniforge3/envs/SUEP/lib/python3.9/site-packages/dask_jobqueue/slurm.py:49: FutureWarning: project has been renamed to account as this kwarg was used wit -A option. You are still using it (please also check config files). If you did not set account yet, project will be respected for now, but it will be removed in a future release. If you already set account, project is ignored and you can remove it.\n",
      "  warnings.warn(warn, FutureWarning)\n"
     ]
    }
   ],
   "source": [
    "while not check_port(n_port):\n",
    "    n_port += 1\n",
    "    time.sleep(5)\n",
    "\n",
    "import socket\n",
    "cluster = SLURMCluster(\n",
    "        queue='all',\n",
    "        project=\"SUEP_Slurm\",\n",
    "        cores=10,\n",
    "        processes=processes,\n",
    "        memory=memory,\n",
    "        walltime='00:30:00',\n",
    "        scheduler_options={\n",
    "              'port': n_port,\n",
    "              'dashboard_address': 8001,\n",
    "              'host': socket.gethostname()\n",
    "        },\n",
    "        job_extra=extra_args,\n",
    "        env_extra=slurm_env,\n",
    ")"
   ]
  },
  {
   "cell_type": "code",
   "execution_count": 11,
   "id": "9298d20e-338a-489d-9e06-8f45d8fa3240",
   "metadata": {},
   "outputs": [
    {
     "name": "stdout",
     "output_type": "stream",
     "text": [
      "<Client: 'tcp://18.12.2.9:6822' processes=0 threads=0, memory=0 B>\n"
     ]
    }
   ],
   "source": [
    "cluster.adapt(minimum=1, maximum=10)\n",
    "client = Client(cluster)\n",
    "print(client)"
   ]
  },
  {
   "cell_type": "code",
   "execution_count": 13,
   "id": "0d7312b5-e2da-4548-af9f-860e7646d63b",
   "metadata": {
    "tags": []
   },
   "outputs": [
    {
     "name": "stdout",
     "output_type": "stream",
     "text": [
      "[                                        ] | 0% Completed |  0.3s"
     ]
    },
    {
     "name": "stderr",
     "output_type": "stream",
     "text": [
      "/work/submit/lavezzo/miniforge3/envs/SUEP/lib/python3.9/site-packages/dask_jobqueue/core.py:255: FutureWarning: job_extra has been renamed to job_extra_directives. You are still using it (even if only set to []; please also check config files). If you did not set job_extra_directives yet, job_extra will be respected for now, but it will be removed in a future release. If you already set job_extra_directives, job_extra is ignored and you can remove it.\n",
      "  warnings.warn(warn, FutureWarning)\n",
      "/work/submit/lavezzo/miniforge3/envs/SUEP/lib/python3.9/site-packages/dask_jobqueue/core.py:274: FutureWarning: env_extra has been renamed to job_script_prologue. You are still using it (even if only set to []; please also check config files). If you did not set job_script_prologue yet, env_extra will be respected for now, but it will be removed in a future release. If you already set job_script_prologue, env_extra is ignored and you can remove it.\n",
      "  warnings.warn(warn, FutureWarning)\n",
      "/work/submit/lavezzo/miniforge3/envs/SUEP/lib/python3.9/site-packages/dask_jobqueue/slurm.py:49: FutureWarning: project has been renamed to account as this kwarg was used wit -A option. You are still using it (please also check config files). If you did not set account yet, project will be respected for now, but it will be removed in a future release. If you already set account, project is ignored and you can remove it.\n",
      "  warnings.warn(warn, FutureWarning)\n"
     ]
    },
    {
     "name": "stdout",
     "output_type": "stream",
     "text": [
      "[                                        ] | 0% Completed |  4.4s"
     ]
    },
    {
     "name": "stderr",
     "output_type": "stream",
     "text": [
      "/work/submit/lavezzo/miniforge3/envs/SUEP/lib/python3.9/site-packages/dask_jobqueue/core.py:255: FutureWarning: job_extra has been renamed to job_extra_directives. You are still using it (even if only set to []; please also check config files). If you did not set job_extra_directives yet, job_extra will be respected for now, but it will be removed in a future release. If you already set job_extra_directives, job_extra is ignored and you can remove it.\n",
      "  warnings.warn(warn, FutureWarning)\n",
      "/work/submit/lavezzo/miniforge3/envs/SUEP/lib/python3.9/site-packages/dask_jobqueue/core.py:274: FutureWarning: env_extra has been renamed to job_script_prologue. You are still using it (even if only set to []; please also check config files). If you did not set job_script_prologue yet, env_extra will be respected for now, but it will be removed in a future release. If you already set job_script_prologue, env_extra is ignored and you can remove it.\n",
      "  warnings.warn(warn, FutureWarning)\n",
      "/work/submit/lavezzo/miniforge3/envs/SUEP/lib/python3.9/site-packages/dask_jobqueue/slurm.py:49: FutureWarning: project has been renamed to account as this kwarg was used wit -A option. You are still using it (please also check config files). If you did not set account yet, project will be respected for now, but it will be removed in a future release. If you already set account, project is ignored and you can remove it.\n",
      "  warnings.warn(warn, FutureWarning)\n"
     ]
    },
    {
     "name": "stdout",
     "output_type": "stream",
     "text": [
      "[                                        ] | 0% Completed |  8.3s"
     ]
    },
    {
     "name": "stderr",
     "output_type": "stream",
     "text": [
      "/work/submit/lavezzo/miniforge3/envs/SUEP/lib/python3.9/site-packages/dask_jobqueue/core.py:255: FutureWarning: job_extra has been renamed to job_extra_directives. You are still using it (even if only set to []; please also check config files). If you did not set job_extra_directives yet, job_extra will be respected for now, but it will be removed in a future release. If you already set job_extra_directives, job_extra is ignored and you can remove it.\n",
      "  warnings.warn(warn, FutureWarning)\n",
      "/work/submit/lavezzo/miniforge3/envs/SUEP/lib/python3.9/site-packages/dask_jobqueue/core.py:274: FutureWarning: env_extra has been renamed to job_script_prologue. You are still using it (even if only set to []; please also check config files). If you did not set job_script_prologue yet, env_extra will be respected for now, but it will be removed in a future release. If you already set job_script_prologue, env_extra is ignored and you can remove it.\n",
      "  warnings.warn(warn, FutureWarning)\n",
      "/work/submit/lavezzo/miniforge3/envs/SUEP/lib/python3.9/site-packages/dask_jobqueue/slurm.py:49: FutureWarning: project has been renamed to account as this kwarg was used wit -A option. You are still using it (please also check config files). If you did not set account yet, project will be respected for now, but it will be removed in a future release. If you already set account, project is ignored and you can remove it.\n",
      "  warnings.warn(warn, FutureWarning)\n"
     ]
    },
    {
     "name": "stdout",
     "output_type": "stream",
     "text": [
      "[                                        ] | 0% Completed | 12.3s"
     ]
    },
    {
     "name": "stderr",
     "output_type": "stream",
     "text": [
      "/work/submit/lavezzo/miniforge3/envs/SUEP/lib/python3.9/site-packages/dask_jobqueue/core.py:255: FutureWarning: job_extra has been renamed to job_extra_directives. You are still using it (even if only set to []; please also check config files). If you did not set job_extra_directives yet, job_extra will be respected for now, but it will be removed in a future release. If you already set job_extra_directives, job_extra is ignored and you can remove it.\n",
      "  warnings.warn(warn, FutureWarning)\n",
      "/work/submit/lavezzo/miniforge3/envs/SUEP/lib/python3.9/site-packages/dask_jobqueue/core.py:274: FutureWarning: env_extra has been renamed to job_script_prologue. You are still using it (even if only set to []; please also check config files). If you did not set job_script_prologue yet, env_extra will be respected for now, but it will be removed in a future release. If you already set job_script_prologue, env_extra is ignored and you can remove it.\n",
      "  warnings.warn(warn, FutureWarning)\n",
      "/work/submit/lavezzo/miniforge3/envs/SUEP/lib/python3.9/site-packages/dask_jobqueue/slurm.py:49: FutureWarning: project has been renamed to account as this kwarg was used wit -A option. You are still using it (please also check config files). If you did not set account yet, project will be respected for now, but it will be removed in a future release. If you already set account, project is ignored and you can remove it.\n",
      "  warnings.warn(warn, FutureWarning)\n"
     ]
    },
    {
     "name": "stdout",
     "output_type": "stream",
     "text": [
      "[                                        ] | 0% Completed | 16.4s"
     ]
    },
    {
     "name": "stderr",
     "output_type": "stream",
     "text": [
      "/work/submit/lavezzo/miniforge3/envs/SUEP/lib/python3.9/site-packages/dask_jobqueue/core.py:255: FutureWarning: job_extra has been renamed to job_extra_directives. You are still using it (even if only set to []; please also check config files). If you did not set job_extra_directives yet, job_extra will be respected for now, but it will be removed in a future release. If you already set job_extra_directives, job_extra is ignored and you can remove it.\n",
      "  warnings.warn(warn, FutureWarning)\n",
      "/work/submit/lavezzo/miniforge3/envs/SUEP/lib/python3.9/site-packages/dask_jobqueue/core.py:274: FutureWarning: env_extra has been renamed to job_script_prologue. You are still using it (even if only set to []; please also check config files). If you did not set job_script_prologue yet, env_extra will be respected for now, but it will be removed in a future release. If you already set job_script_prologue, env_extra is ignored and you can remove it.\n",
      "  warnings.warn(warn, FutureWarning)\n",
      "/work/submit/lavezzo/miniforge3/envs/SUEP/lib/python3.9/site-packages/dask_jobqueue/slurm.py:49: FutureWarning: project has been renamed to account as this kwarg was used wit -A option. You are still using it (please also check config files). If you did not set account yet, project will be respected for now, but it will be removed in a future release. If you already set account, project is ignored and you can remove it.\n",
      "  warnings.warn(warn, FutureWarning)\n"
     ]
    },
    {
     "name": "stdout",
     "output_type": "stream",
     "text": [
      "[                                        ] | 0% Completed | 20.4s"
     ]
    },
    {
     "name": "stderr",
     "output_type": "stream",
     "text": [
      "/work/submit/lavezzo/miniforge3/envs/SUEP/lib/python3.9/site-packages/dask_jobqueue/core.py:255: FutureWarning: job_extra has been renamed to job_extra_directives. You are still using it (even if only set to []; please also check config files). If you did not set job_extra_directives yet, job_extra will be respected for now, but it will be removed in a future release. If you already set job_extra_directives, job_extra is ignored and you can remove it.\n",
      "  warnings.warn(warn, FutureWarning)\n",
      "/work/submit/lavezzo/miniforge3/envs/SUEP/lib/python3.9/site-packages/dask_jobqueue/core.py:274: FutureWarning: env_extra has been renamed to job_script_prologue. You are still using it (even if only set to []; please also check config files). If you did not set job_script_prologue yet, env_extra will be respected for now, but it will be removed in a future release. If you already set job_script_prologue, env_extra is ignored and you can remove it.\n",
      "  warnings.warn(warn, FutureWarning)\n",
      "/work/submit/lavezzo/miniforge3/envs/SUEP/lib/python3.9/site-packages/dask_jobqueue/slurm.py:49: FutureWarning: project has been renamed to account as this kwarg was used wit -A option. You are still using it (please also check config files). If you did not set account yet, project will be respected for now, but it will be removed in a future release. If you already set account, project is ignored and you can remove it.\n",
      "  warnings.warn(warn, FutureWarning)\n"
     ]
    },
    {
     "name": "stdout",
     "output_type": "stream",
     "text": [
      "[                                        ] | 0% Completed | 24.2s"
     ]
    },
    {
     "name": "stderr",
     "output_type": "stream",
     "text": [
      "/work/submit/lavezzo/miniforge3/envs/SUEP/lib/python3.9/site-packages/dask_jobqueue/core.py:255: FutureWarning: job_extra has been renamed to job_extra_directives. You are still using it (even if only set to []; please also check config files). If you did not set job_extra_directives yet, job_extra will be respected for now, but it will be removed in a future release. If you already set job_extra_directives, job_extra is ignored and you can remove it.\n",
      "  warnings.warn(warn, FutureWarning)\n",
      "/work/submit/lavezzo/miniforge3/envs/SUEP/lib/python3.9/site-packages/dask_jobqueue/core.py:274: FutureWarning: env_extra has been renamed to job_script_prologue. You are still using it (even if only set to []; please also check config files). If you did not set job_script_prologue yet, env_extra will be respected for now, but it will be removed in a future release. If you already set job_script_prologue, env_extra is ignored and you can remove it.\n",
      "  warnings.warn(warn, FutureWarning)\n",
      "/work/submit/lavezzo/miniforge3/envs/SUEP/lib/python3.9/site-packages/dask_jobqueue/slurm.py:49: FutureWarning: project has been renamed to account as this kwarg was used wit -A option. You are still using it (please also check config files). If you did not set account yet, project will be respected for now, but it will be removed in a future release. If you already set account, project is ignored and you can remove it.\n",
      "  warnings.warn(warn, FutureWarning)\n"
     ]
    },
    {
     "name": "stdout",
     "output_type": "stream",
     "text": [
      "[                                        ] | 0% Completed | 32.4s"
     ]
    },
    {
     "name": "stderr",
     "output_type": "stream",
     "text": [
      "/work/submit/lavezzo/miniforge3/envs/SUEP/lib/python3.9/site-packages/dask_jobqueue/core.py:255: FutureWarning: job_extra has been renamed to job_extra_directives. You are still using it (even if only set to []; please also check config files). If you did not set job_extra_directives yet, job_extra will be respected for now, but it will be removed in a future release. If you already set job_extra_directives, job_extra is ignored and you can remove it.\n",
      "  warnings.warn(warn, FutureWarning)\n",
      "/work/submit/lavezzo/miniforge3/envs/SUEP/lib/python3.9/site-packages/dask_jobqueue/core.py:274: FutureWarning: env_extra has been renamed to job_script_prologue. You are still using it (even if only set to []; please also check config files). If you did not set job_script_prologue yet, env_extra will be respected for now, but it will be removed in a future release. If you already set job_script_prologue, env_extra is ignored and you can remove it.\n",
      "  warnings.warn(warn, FutureWarning)\n",
      "/work/submit/lavezzo/miniforge3/envs/SUEP/lib/python3.9/site-packages/dask_jobqueue/slurm.py:49: FutureWarning: project has been renamed to account as this kwarg was used wit -A option. You are still using it (please also check config files). If you did not set account yet, project will be respected for now, but it will be removed in a future release. If you already set account, project is ignored and you can remove it.\n",
      "  warnings.warn(warn, FutureWarning)\n"
     ]
    },
    {
     "name": "stdout",
     "output_type": "stream",
     "text": [
      "[                                        ] | 0% Completed | 36.3s"
     ]
    },
    {
     "name": "stderr",
     "output_type": "stream",
     "text": [
      "/work/submit/lavezzo/miniforge3/envs/SUEP/lib/python3.9/site-packages/dask_jobqueue/core.py:255: FutureWarning: job_extra has been renamed to job_extra_directives. You are still using it (even if only set to []; please also check config files). If you did not set job_extra_directives yet, job_extra will be respected for now, but it will be removed in a future release. If you already set job_extra_directives, job_extra is ignored and you can remove it.\n",
      "  warnings.warn(warn, FutureWarning)\n",
      "/work/submit/lavezzo/miniforge3/envs/SUEP/lib/python3.9/site-packages/dask_jobqueue/core.py:274: FutureWarning: env_extra has been renamed to job_script_prologue. You are still using it (even if only set to []; please also check config files). If you did not set job_script_prologue yet, env_extra will be respected for now, but it will be removed in a future release. If you already set job_script_prologue, env_extra is ignored and you can remove it.\n",
      "  warnings.warn(warn, FutureWarning)\n",
      "/work/submit/lavezzo/miniforge3/envs/SUEP/lib/python3.9/site-packages/dask_jobqueue/slurm.py:49: FutureWarning: project has been renamed to account as this kwarg was used wit -A option. You are still using it (please also check config files). If you did not set account yet, project will be respected for now, but it will be removed in a future release. If you already set account, project is ignored and you can remove it.\n",
      "  warnings.warn(warn, FutureWarning)\n"
     ]
    },
    {
     "name": "stdout",
     "output_type": "stream",
     "text": [
      "[                                        ] | 0% Completed | 40.3s"
     ]
    },
    {
     "name": "stderr",
     "output_type": "stream",
     "text": [
      "/work/submit/lavezzo/miniforge3/envs/SUEP/lib/python3.9/site-packages/dask_jobqueue/core.py:255: FutureWarning: job_extra has been renamed to job_extra_directives. You are still using it (even if only set to []; please also check config files). If you did not set job_extra_directives yet, job_extra will be respected for now, but it will be removed in a future release. If you already set job_extra_directives, job_extra is ignored and you can remove it.\n",
      "  warnings.warn(warn, FutureWarning)\n",
      "/work/submit/lavezzo/miniforge3/envs/SUEP/lib/python3.9/site-packages/dask_jobqueue/core.py:274: FutureWarning: env_extra has been renamed to job_script_prologue. You are still using it (even if only set to []; please also check config files). If you did not set job_script_prologue yet, env_extra will be respected for now, but it will be removed in a future release. If you already set job_script_prologue, env_extra is ignored and you can remove it.\n",
      "  warnings.warn(warn, FutureWarning)\n",
      "/work/submit/lavezzo/miniforge3/envs/SUEP/lib/python3.9/site-packages/dask_jobqueue/slurm.py:49: FutureWarning: project has been renamed to account as this kwarg was used wit -A option. You are still using it (please also check config files). If you did not set account yet, project will be respected for now, but it will be removed in a future release. If you already set account, project is ignored and you can remove it.\n",
      "  warnings.warn(warn, FutureWarning)\n"
     ]
    },
    {
     "name": "stdout",
     "output_type": "stream",
     "text": [
      "[                                        ] | 0% Completed | 44.3s"
     ]
    },
    {
     "name": "stderr",
     "output_type": "stream",
     "text": [
      "/work/submit/lavezzo/miniforge3/envs/SUEP/lib/python3.9/site-packages/dask_jobqueue/core.py:255: FutureWarning: job_extra has been renamed to job_extra_directives. You are still using it (even if only set to []; please also check config files). If you did not set job_extra_directives yet, job_extra will be respected for now, but it will be removed in a future release. If you already set job_extra_directives, job_extra is ignored and you can remove it.\n",
      "  warnings.warn(warn, FutureWarning)\n",
      "/work/submit/lavezzo/miniforge3/envs/SUEP/lib/python3.9/site-packages/dask_jobqueue/core.py:274: FutureWarning: env_extra has been renamed to job_script_prologue. You are still using it (even if only set to []; please also check config files). If you did not set job_script_prologue yet, env_extra will be respected for now, but it will be removed in a future release. If you already set job_script_prologue, env_extra is ignored and you can remove it.\n",
      "  warnings.warn(warn, FutureWarning)\n",
      "/work/submit/lavezzo/miniforge3/envs/SUEP/lib/python3.9/site-packages/dask_jobqueue/slurm.py:49: FutureWarning: project has been renamed to account as this kwarg was used wit -A option. You are still using it (please also check config files). If you did not set account yet, project will be respected for now, but it will be removed in a future release. If you already set account, project is ignored and you can remove it.\n",
      "  warnings.warn(warn, FutureWarning)\n"
     ]
    },
    {
     "name": "stdout",
     "output_type": "stream",
     "text": [
      "[                                        ] | 0% Completed | 48.3s"
     ]
    },
    {
     "name": "stderr",
     "output_type": "stream",
     "text": [
      "/work/submit/lavezzo/miniforge3/envs/SUEP/lib/python3.9/site-packages/dask_jobqueue/core.py:255: FutureWarning: job_extra has been renamed to job_extra_directives. You are still using it (even if only set to []; please also check config files). If you did not set job_extra_directives yet, job_extra will be respected for now, but it will be removed in a future release. If you already set job_extra_directives, job_extra is ignored and you can remove it.\n",
      "  warnings.warn(warn, FutureWarning)\n",
      "/work/submit/lavezzo/miniforge3/envs/SUEP/lib/python3.9/site-packages/dask_jobqueue/core.py:274: FutureWarning: env_extra has been renamed to job_script_prologue. You are still using it (even if only set to []; please also check config files). If you did not set job_script_prologue yet, env_extra will be respected for now, but it will be removed in a future release. If you already set job_script_prologue, env_extra is ignored and you can remove it.\n",
      "  warnings.warn(warn, FutureWarning)\n",
      "/work/submit/lavezzo/miniforge3/envs/SUEP/lib/python3.9/site-packages/dask_jobqueue/slurm.py:49: FutureWarning: project has been renamed to account as this kwarg was used wit -A option. You are still using it (please also check config files). If you did not set account yet, project will be respected for now, but it will be removed in a future release. If you already set account, project is ignored and you can remove it.\n",
      "  warnings.warn(warn, FutureWarning)\n"
     ]
    },
    {
     "name": "stdout",
     "output_type": "stream",
     "text": [
      "[                                        ] | 0% Completed | 52.4s"
     ]
    },
    {
     "name": "stderr",
     "output_type": "stream",
     "text": [
      "/work/submit/lavezzo/miniforge3/envs/SUEP/lib/python3.9/site-packages/dask_jobqueue/core.py:255: FutureWarning: job_extra has been renamed to job_extra_directives. You are still using it (even if only set to []; please also check config files). If you did not set job_extra_directives yet, job_extra will be respected for now, but it will be removed in a future release. If you already set job_extra_directives, job_extra is ignored and you can remove it.\n",
      "  warnings.warn(warn, FutureWarning)\n",
      "/work/submit/lavezzo/miniforge3/envs/SUEP/lib/python3.9/site-packages/dask_jobqueue/core.py:274: FutureWarning: env_extra has been renamed to job_script_prologue. You are still using it (even if only set to []; please also check config files). If you did not set job_script_prologue yet, env_extra will be respected for now, but it will be removed in a future release. If you already set job_script_prologue, env_extra is ignored and you can remove it.\n",
      "  warnings.warn(warn, FutureWarning)\n",
      "/work/submit/lavezzo/miniforge3/envs/SUEP/lib/python3.9/site-packages/dask_jobqueue/slurm.py:49: FutureWarning: project has been renamed to account as this kwarg was used wit -A option. You are still using it (please also check config files). If you did not set account yet, project will be respected for now, but it will be removed in a future release. If you already set account, project is ignored and you can remove it.\n",
      "  warnings.warn(warn, FutureWarning)\n"
     ]
    },
    {
     "name": "stdout",
     "output_type": "stream",
     "text": [
      "[                                        ] | 0% Completed | 56.2s"
     ]
    },
    {
     "name": "stderr",
     "output_type": "stream",
     "text": [
      "/work/submit/lavezzo/miniforge3/envs/SUEP/lib/python3.9/site-packages/dask_jobqueue/core.py:255: FutureWarning: job_extra has been renamed to job_extra_directives. You are still using it (even if only set to []; please also check config files). If you did not set job_extra_directives yet, job_extra will be respected for now, but it will be removed in a future release. If you already set job_extra_directives, job_extra is ignored and you can remove it.\n",
      "  warnings.warn(warn, FutureWarning)\n",
      "/work/submit/lavezzo/miniforge3/envs/SUEP/lib/python3.9/site-packages/dask_jobqueue/core.py:274: FutureWarning: env_extra has been renamed to job_script_prologue. You are still using it (even if only set to []; please also check config files). If you did not set job_script_prologue yet, env_extra will be respected for now, but it will be removed in a future release. If you already set job_script_prologue, env_extra is ignored and you can remove it.\n",
      "  warnings.warn(warn, FutureWarning)\n",
      "/work/submit/lavezzo/miniforge3/envs/SUEP/lib/python3.9/site-packages/dask_jobqueue/slurm.py:49: FutureWarning: project has been renamed to account as this kwarg was used wit -A option. You are still using it (please also check config files). If you did not set account yet, project will be respected for now, but it will be removed in a future release. If you already set account, project is ignored and you can remove it.\n",
      "  warnings.warn(warn, FutureWarning)\n"
     ]
    },
    {
     "name": "stdout",
     "output_type": "stream",
     "text": [
      "[                                        ] | 0% Completed |  1min  0.4s"
     ]
    },
    {
     "name": "stderr",
     "output_type": "stream",
     "text": [
      "/work/submit/lavezzo/miniforge3/envs/SUEP/lib/python3.9/site-packages/dask_jobqueue/core.py:255: FutureWarning: job_extra has been renamed to job_extra_directives. You are still using it (even if only set to []; please also check config files). If you did not set job_extra_directives yet, job_extra will be respected for now, but it will be removed in a future release. If you already set job_extra_directives, job_extra is ignored and you can remove it.\n",
      "  warnings.warn(warn, FutureWarning)\n",
      "/work/submit/lavezzo/miniforge3/envs/SUEP/lib/python3.9/site-packages/dask_jobqueue/core.py:274: FutureWarning: env_extra has been renamed to job_script_prologue. You are still using it (even if only set to []; please also check config files). If you did not set job_script_prologue yet, env_extra will be respected for now, but it will be removed in a future release. If you already set job_script_prologue, env_extra is ignored and you can remove it.\n",
      "  warnings.warn(warn, FutureWarning)\n",
      "/work/submit/lavezzo/miniforge3/envs/SUEP/lib/python3.9/site-packages/dask_jobqueue/slurm.py:49: FutureWarning: project has been renamed to account as this kwarg was used wit -A option. You are still using it (please also check config files). If you did not set account yet, project will be respected for now, but it will be removed in a future release. If you already set account, project is ignored and you can remove it.\n",
      "  warnings.warn(warn, FutureWarning)\n"
     ]
    },
    {
     "name": "stdout",
     "output_type": "stream",
     "text": [
      "[                                        ] | 0% Completed |  1min  2.2s"
     ]
    },
    {
     "ename": "KeyboardInterrupt",
     "evalue": "",
     "output_type": "error",
     "traceback": [
      "\u001b[0;31m---------------------------------------------------------------------------\u001b[0m",
      "\u001b[0;31mKeyboardInterrupt\u001b[0m                         Traceback (most recent call last)",
      "Input \u001b[0;32mIn [13]\u001b[0m, in \u001b[0;36m<cell line: 2>\u001b[0;34m()\u001b[0m\n\u001b[1;32m      2\u001b[0m \u001b[38;5;28;01mwith\u001b[39;00m performance_report(filename\u001b[38;5;241m=\u001b[39m\u001b[38;5;124m\"\u001b[39m\u001b[38;5;124mdask-report.html\u001b[39m\u001b[38;5;124m\"\u001b[39m):\n\u001b[1;32m      4\u001b[0m     runner \u001b[38;5;241m=\u001b[39m processor\u001b[38;5;241m.\u001b[39mRunner(\n\u001b[1;32m      5\u001b[0m         executor \u001b[38;5;241m=\u001b[39m processor\u001b[38;5;241m.\u001b[39mdask_executor(client \u001b[38;5;241m=\u001b[39m client, retries\u001b[38;5;241m=\u001b[39m \u001b[38;5;241m4\u001b[39m),\n\u001b[1;32m      6\u001b[0m         schema \u001b[38;5;241m=\u001b[39m processor\u001b[38;5;241m.\u001b[39mNanoAODSchema,\n\u001b[0;32m   (...)\u001b[0m\n\u001b[1;32m      9\u001b[0m         skipbadfiles\u001b[38;5;241m=\u001b[39m\u001b[38;5;28;01mTrue\u001b[39;00m\n\u001b[1;32m     10\u001b[0m     )\n\u001b[0;32m---> 12\u001b[0m     output \u001b[38;5;241m=\u001b[39m \u001b[43mrunner\u001b[49m\u001b[38;5;241;43m.\u001b[39;49m\u001b[43mautomatic_retries\u001b[49m\u001b[43m(\u001b[49m\u001b[43mretries\u001b[49m\u001b[38;5;241;43m=\u001b[39;49m\u001b[38;5;241;43m3\u001b[39;49m\u001b[43m,\u001b[49m\u001b[43m \u001b[49m\u001b[43mskipbadfiles\u001b[49m\u001b[38;5;241;43m=\u001b[39;49m\u001b[38;5;28;43;01mTrue\u001b[39;49;00m\u001b[43m,\u001b[49m\u001b[43m \u001b[49m\u001b[43mfunc\u001b[49m\u001b[38;5;241;43m=\u001b[39;49m\u001b[43mrunner\u001b[49m\u001b[38;5;241;43m.\u001b[39;49m\u001b[43mrun\u001b[49m\u001b[43m,\u001b[49m\n\u001b[1;32m     13\u001b[0m \u001b[43m        \u001b[49m\u001b[43mfileset\u001b[49m\u001b[38;5;241;43m=\u001b[39;49m\u001b[43mskimmedSamples\u001b[49m\u001b[43m,\u001b[49m\n\u001b[1;32m     14\u001b[0m \u001b[43m        \u001b[49m\u001b[43mtreename\u001b[49m\u001b[38;5;241;43m=\u001b[39;49m\u001b[38;5;124;43m\"\u001b[39;49m\u001b[38;5;124;43mEvents\u001b[39;49m\u001b[38;5;124;43m\"\u001b[39;49m\u001b[43m,\u001b[49m\n\u001b[1;32m     15\u001b[0m \u001b[43m        \u001b[49m\u001b[43mprocessor_instance\u001b[49m\u001b[38;5;241;43m=\u001b[39;49m\u001b[43mprocessor_instance\u001b[49m\u001b[43m,\u001b[49m\n\u001b[1;32m     16\u001b[0m \u001b[43m    \u001b[49m\u001b[43m)\u001b[49m\n\u001b[1;32m     18\u001b[0m     now \u001b[38;5;241m=\u001b[39m datetime\u001b[38;5;241m.\u001b[39mdatetime\u001b[38;5;241m.\u001b[39mnow()\n\u001b[1;32m     19\u001b[0m     coffea\u001b[38;5;241m.\u001b[39mutil\u001b[38;5;241m.\u001b[39msave(output, \u001b[38;5;124m\"\u001b[39m\u001b[38;5;124munscaled-\u001b[39m\u001b[38;5;132;01m{}\u001b[39;00m\u001b[38;5;124m.coffea\u001b[39m\u001b[38;5;124m\"\u001b[39m\u001b[38;5;241m.\u001b[39mformat(now\u001b[38;5;241m.\u001b[39mstrftime(\u001b[38;5;124m\"\u001b[39m\u001b[38;5;124m%\u001b[39m\u001b[38;5;124mH:\u001b[39m\u001b[38;5;124m%\u001b[39m\u001b[38;5;124mM:\u001b[39m\u001b[38;5;124m%\u001b[39m\u001b[38;5;124mS\u001b[39m\u001b[38;5;124m\"\u001b[39m)))\n",
      "File \u001b[0;32m/work/submit/lavezzo/miniforge3/envs/SUEP/lib/python3.9/site-packages/coffea/processor/executor.py:1337\u001b[0m, in \u001b[0;36mRunner.automatic_retries\u001b[0;34m(retries, skipbadfiles, func, *args, **kwargs)\u001b[0m\n\u001b[1;32m   1335\u001b[0m \u001b[38;5;28;01mwhile\u001b[39;00m retry_count \u001b[38;5;241m<\u001b[39m\u001b[38;5;241m=\u001b[39m retries:\n\u001b[1;32m   1336\u001b[0m     \u001b[38;5;28;01mtry\u001b[39;00m:\n\u001b[0;32m-> 1337\u001b[0m         \u001b[38;5;28;01mreturn\u001b[39;00m \u001b[43mfunc\u001b[49m\u001b[43m(\u001b[49m\u001b[38;5;241;43m*\u001b[39;49m\u001b[43margs\u001b[49m\u001b[43m,\u001b[49m\u001b[43m \u001b[49m\u001b[38;5;241;43m*\u001b[39;49m\u001b[38;5;241;43m*\u001b[39;49m\u001b[43mkwargs\u001b[49m\u001b[43m)\u001b[49m\n\u001b[1;32m   1338\u001b[0m     \u001b[38;5;66;03m# catch xrootd errors and optionally skip\u001b[39;00m\n\u001b[1;32m   1339\u001b[0m     \u001b[38;5;66;03m# or retry to read the file\u001b[39;00m\n\u001b[1;32m   1340\u001b[0m     \u001b[38;5;28;01mexcept\u001b[39;00m \u001b[38;5;167;01mException\u001b[39;00m \u001b[38;5;28;01mas\u001b[39;00m e:\n",
      "File \u001b[0;32m/work/submit/lavezzo/miniforge3/envs/SUEP/lib/python3.9/site-packages/coffea/processor/executor.py:1768\u001b[0m, in \u001b[0;36mRunner.run\u001b[0;34m(self, fileset, processor_instance, treename)\u001b[0m\n\u001b[1;32m   1766\u001b[0m     chunks \u001b[38;5;241m=\u001b[39m fileset\n\u001b[1;32m   1767\u001b[0m \u001b[38;5;28;01melse\u001b[39;00m:\n\u001b[0;32m-> 1768\u001b[0m     chunks \u001b[38;5;241m=\u001b[39m \u001b[38;5;28;43mself\u001b[39;49m\u001b[38;5;241;43m.\u001b[39;49m\u001b[43mpreprocess\u001b[49m\u001b[43m(\u001b[49m\u001b[43mfileset\u001b[49m\u001b[43m,\u001b[49m\u001b[43m \u001b[49m\u001b[43mtreename\u001b[49m\u001b[43m)\u001b[49m\n\u001b[1;32m   1770\u001b[0m \u001b[38;5;28;01mif\u001b[39;00m \u001b[38;5;28mself\u001b[39m\u001b[38;5;241m.\u001b[39mprocessor_compression \u001b[38;5;129;01mis\u001b[39;00m \u001b[38;5;28;01mNone\u001b[39;00m:\n\u001b[1;32m   1771\u001b[0m     pi_to_send \u001b[38;5;241m=\u001b[39m processor_instance\n",
      "File \u001b[0;32m/work/submit/lavezzo/miniforge3/envs/SUEP/lib/python3.9/site-packages/coffea/processor/executor.py:1720\u001b[0m, in \u001b[0;36mRunner.preprocess\u001b[0;34m(self, fileset, treename)\u001b[0m\n\u001b[1;32m   1717\u001b[0m \u001b[38;5;28;01mfor\u001b[39;00m filemeta \u001b[38;5;129;01min\u001b[39;00m fileset:\n\u001b[1;32m   1718\u001b[0m     filemeta\u001b[38;5;241m.\u001b[39mmaybe_populate(\u001b[38;5;28mself\u001b[39m\u001b[38;5;241m.\u001b[39mmetadata_cache)\n\u001b[0;32m-> 1720\u001b[0m \u001b[38;5;28;43mself\u001b[39;49m\u001b[38;5;241;43m.\u001b[39;49m\u001b[43m_preprocess_fileset\u001b[49m\u001b[43m(\u001b[49m\u001b[43mfileset\u001b[49m\u001b[43m)\u001b[49m\n\u001b[1;32m   1721\u001b[0m fileset \u001b[38;5;241m=\u001b[39m \u001b[38;5;28mself\u001b[39m\u001b[38;5;241m.\u001b[39m_filter_badfiles(fileset)\n\u001b[1;32m   1723\u001b[0m \u001b[38;5;66;03m# reverse fileset list to match the order of files as presented in version\u001b[39;00m\n\u001b[1;32m   1724\u001b[0m \u001b[38;5;66;03m# v0.7.4. This fixes tests using maxchunks.\u001b[39;00m\n",
      "File \u001b[0;32m/work/submit/lavezzo/miniforge3/envs/SUEP/lib/python3.9/site-packages/coffea/processor/executor.py:1447\u001b[0m, in \u001b[0;36mRunner._preprocess_fileset\u001b[0;34m(self, fileset)\u001b[0m\n\u001b[1;32m   1440\u001b[0m pre_executor \u001b[38;5;241m=\u001b[39m \u001b[38;5;28mself\u001b[39m\u001b[38;5;241m.\u001b[39mpre_executor\u001b[38;5;241m.\u001b[39mcopy(\u001b[38;5;241m*\u001b[39m\u001b[38;5;241m*\u001b[39mpre_arg_override)\n\u001b[1;32m   1441\u001b[0m closure \u001b[38;5;241m=\u001b[39m partial(\n\u001b[1;32m   1442\u001b[0m     \u001b[38;5;28mself\u001b[39m\u001b[38;5;241m.\u001b[39mautomatic_retries,\n\u001b[1;32m   1443\u001b[0m     \u001b[38;5;28mself\u001b[39m\u001b[38;5;241m.\u001b[39mretries,\n\u001b[1;32m   1444\u001b[0m     \u001b[38;5;28mself\u001b[39m\u001b[38;5;241m.\u001b[39mskipbadfiles,\n\u001b[1;32m   1445\u001b[0m     partial(\u001b[38;5;28mself\u001b[39m\u001b[38;5;241m.\u001b[39mmetadata_fetcher, \u001b[38;5;28mself\u001b[39m\u001b[38;5;241m.\u001b[39mxrootdtimeout, \u001b[38;5;28mself\u001b[39m\u001b[38;5;241m.\u001b[39malign_clusters),\n\u001b[1;32m   1446\u001b[0m )\n\u001b[0;32m-> 1447\u001b[0m out, _ \u001b[38;5;241m=\u001b[39m \u001b[43mpre_executor\u001b[49m\u001b[43m(\u001b[49m\u001b[43mto_get\u001b[49m\u001b[43m,\u001b[49m\u001b[43m \u001b[49m\u001b[43mclosure\u001b[49m\u001b[43m,\u001b[49m\u001b[43m \u001b[49m\u001b[43mout\u001b[49m\u001b[43m)\u001b[49m\n\u001b[1;32m   1448\u001b[0m \u001b[38;5;28;01mwhile\u001b[39;00m out:\n\u001b[1;32m   1449\u001b[0m     item \u001b[38;5;241m=\u001b[39m out\u001b[38;5;241m.\u001b[39mpop()\n",
      "File \u001b[0;32m/work/submit/lavezzo/miniforge3/envs/SUEP/lib/python3.9/site-packages/coffea/processor/executor.py:969\u001b[0m, in \u001b[0;36mDaskExecutor.__call__\u001b[0;34m(self, items, function, accumulator)\u001b[0m\n\u001b[1;32m    966\u001b[0m         \u001b[38;5;28;01mfrom\u001b[39;00m \u001b[38;5;21;01mdistributed\u001b[39;00m \u001b[38;5;28;01mimport\u001b[39;00m progress\n\u001b[1;32m    968\u001b[0m         \u001b[38;5;66;03m# FIXME: fancy widget doesn't appear, have to live with boring pbar\u001b[39;00m\n\u001b[0;32m--> 969\u001b[0m         \u001b[43mprogress\u001b[49m\u001b[43m(\u001b[49m\u001b[43mwork\u001b[49m\u001b[43m,\u001b[49m\u001b[43m \u001b[49m\u001b[43mmulti\u001b[49m\u001b[38;5;241;43m=\u001b[39;49m\u001b[38;5;28;43;01mTrue\u001b[39;49;00m\u001b[43m,\u001b[49m\u001b[43m \u001b[49m\u001b[43mnotebook\u001b[49m\u001b[38;5;241;43m=\u001b[39;49m\u001b[38;5;28;43;01mFalse\u001b[39;49;00m\u001b[43m)\u001b[49m\n\u001b[1;32m    970\u001b[0m     \u001b[38;5;28;01mreturn\u001b[39;00m (\n\u001b[1;32m    971\u001b[0m         accumulate(\n\u001b[1;32m    972\u001b[0m             [\n\u001b[0;32m   (...)\u001b[0m\n\u001b[1;32m    979\u001b[0m         \u001b[38;5;241m0\u001b[39m,\n\u001b[1;32m    980\u001b[0m     )\n\u001b[1;32m    981\u001b[0m \u001b[38;5;28;01mexcept\u001b[39;00m KilledWorker \u001b[38;5;28;01mas\u001b[39;00m ex:\n",
      "File \u001b[0;32m/work/submit/lavezzo/miniforge3/envs/SUEP/lib/python3.9/site-packages/distributed/diagnostics/progressbar.py:475\u001b[0m, in \u001b[0;36mprogress\u001b[0;34m(notebook, multi, complete, *futures, **kwargs)\u001b[0m\n\u001b[1;32m    473\u001b[0m     \u001b[38;5;28;01mreturn\u001b[39;00m bar\n\u001b[1;32m    474\u001b[0m \u001b[38;5;28;01melse\u001b[39;00m:\n\u001b[0;32m--> 475\u001b[0m     \u001b[43mTextProgressBar\u001b[49m\u001b[43m(\u001b[49m\u001b[43mfutures\u001b[49m\u001b[43m,\u001b[49m\u001b[43m \u001b[49m\u001b[43mcomplete\u001b[49m\u001b[38;5;241;43m=\u001b[39;49m\u001b[43mcomplete\u001b[49m\u001b[43m,\u001b[49m\u001b[43m \u001b[49m\u001b[38;5;241;43m*\u001b[39;49m\u001b[38;5;241;43m*\u001b[39;49m\u001b[43mkwargs\u001b[49m\u001b[43m)\u001b[49m\n",
      "File \u001b[0;32m/work/submit/lavezzo/miniforge3/envs/SUEP/lib/python3.9/site-packages/distributed/diagnostics/progressbar.py:134\u001b[0m, in \u001b[0;36mTextProgressBar.__init__\u001b[0;34m(self, keys, scheduler, interval, width, loop, complete, start, **kwargs)\u001b[0m\n\u001b[1;32m    131\u001b[0m \u001b[38;5;28mself\u001b[39m\u001b[38;5;241m.\u001b[39mwidth \u001b[38;5;241m=\u001b[39m width\n\u001b[1;32m    133\u001b[0m \u001b[38;5;28;01mif\u001b[39;00m start:\n\u001b[0;32m--> 134\u001b[0m     \u001b[43mloop_runner\u001b[49m\u001b[38;5;241;43m.\u001b[39;49m\u001b[43mrun_sync\u001b[49m\u001b[43m(\u001b[49m\u001b[38;5;28;43mself\u001b[39;49m\u001b[38;5;241;43m.\u001b[39;49m\u001b[43mlisten\u001b[49m\u001b[43m)\u001b[49m\n",
      "File \u001b[0;32m/work/submit/lavezzo/miniforge3/envs/SUEP/lib/python3.9/site-packages/distributed/utils.py:580\u001b[0m, in \u001b[0;36mLoopRunner.run_sync\u001b[0;34m(self, func, *args, **kwargs)\u001b[0m\n\u001b[1;32m    578\u001b[0m \u001b[38;5;28mself\u001b[39m\u001b[38;5;241m.\u001b[39mstart()\n\u001b[1;32m    579\u001b[0m \u001b[38;5;28;01mtry\u001b[39;00m:\n\u001b[0;32m--> 580\u001b[0m     \u001b[38;5;28;01mreturn\u001b[39;00m \u001b[43msync\u001b[49m\u001b[43m(\u001b[49m\u001b[38;5;28;43mself\u001b[39;49m\u001b[38;5;241;43m.\u001b[39;49m\u001b[43mloop\u001b[49m\u001b[43m,\u001b[49m\u001b[43m \u001b[49m\u001b[43mfunc\u001b[49m\u001b[43m,\u001b[49m\u001b[43m \u001b[49m\u001b[38;5;241;43m*\u001b[39;49m\u001b[43margs\u001b[49m\u001b[43m,\u001b[49m\u001b[43m \u001b[49m\u001b[38;5;241;43m*\u001b[39;49m\u001b[38;5;241;43m*\u001b[39;49m\u001b[43mkwargs\u001b[49m\u001b[43m)\u001b[49m\n\u001b[1;32m    581\u001b[0m \u001b[38;5;28;01mfinally\u001b[39;00m:\n\u001b[1;32m    582\u001b[0m     \u001b[38;5;28mself\u001b[39m\u001b[38;5;241m.\u001b[39mstop()\n",
      "File \u001b[0;32m/work/submit/lavezzo/miniforge3/envs/SUEP/lib/python3.9/site-packages/distributed/utils.py:401\u001b[0m, in \u001b[0;36msync\u001b[0;34m(loop, func, callback_timeout, *args, **kwargs)\u001b[0m\n\u001b[1;32m    399\u001b[0m \u001b[38;5;28;01melse\u001b[39;00m:\n\u001b[1;32m    400\u001b[0m     \u001b[38;5;28;01mwhile\u001b[39;00m \u001b[38;5;129;01mnot\u001b[39;00m e\u001b[38;5;241m.\u001b[39mis_set():\n\u001b[0;32m--> 401\u001b[0m         \u001b[43mwait\u001b[49m\u001b[43m(\u001b[49m\u001b[38;5;241;43m10\u001b[39;49m\u001b[43m)\u001b[49m\n\u001b[1;32m    403\u001b[0m \u001b[38;5;28;01mif\u001b[39;00m error:\n\u001b[1;32m    404\u001b[0m     typ, exc, tb \u001b[38;5;241m=\u001b[39m error\n",
      "File \u001b[0;32m/work/submit/lavezzo/miniforge3/envs/SUEP/lib/python3.9/site-packages/distributed/utils.py:390\u001b[0m, in \u001b[0;36msync.<locals>.wait\u001b[0;34m(timeout)\u001b[0m\n\u001b[1;32m    388\u001b[0m \u001b[38;5;28;01mdef\u001b[39;00m \u001b[38;5;21mwait\u001b[39m(timeout):\n\u001b[1;32m    389\u001b[0m     \u001b[38;5;28;01mtry\u001b[39;00m:\n\u001b[0;32m--> 390\u001b[0m         \u001b[38;5;28;01mreturn\u001b[39;00m \u001b[43me\u001b[49m\u001b[38;5;241;43m.\u001b[39;49m\u001b[43mwait\u001b[49m\u001b[43m(\u001b[49m\u001b[43mtimeout\u001b[49m\u001b[43m)\u001b[49m\n\u001b[1;32m    391\u001b[0m     \u001b[38;5;28;01mexcept\u001b[39;00m \u001b[38;5;167;01mKeyboardInterrupt\u001b[39;00m:\n\u001b[1;32m    392\u001b[0m         loop\u001b[38;5;241m.\u001b[39madd_callback(cancel)\n",
      "File \u001b[0;32m/work/submit/lavezzo/miniforge3/envs/SUEP/lib/python3.9/threading.py:581\u001b[0m, in \u001b[0;36mEvent.wait\u001b[0;34m(self, timeout)\u001b[0m\n\u001b[1;32m    579\u001b[0m signaled \u001b[38;5;241m=\u001b[39m \u001b[38;5;28mself\u001b[39m\u001b[38;5;241m.\u001b[39m_flag\n\u001b[1;32m    580\u001b[0m \u001b[38;5;28;01mif\u001b[39;00m \u001b[38;5;129;01mnot\u001b[39;00m signaled:\n\u001b[0;32m--> 581\u001b[0m     signaled \u001b[38;5;241m=\u001b[39m \u001b[38;5;28;43mself\u001b[39;49m\u001b[38;5;241;43m.\u001b[39;49m\u001b[43m_cond\u001b[49m\u001b[38;5;241;43m.\u001b[39;49m\u001b[43mwait\u001b[49m\u001b[43m(\u001b[49m\u001b[43mtimeout\u001b[49m\u001b[43m)\u001b[49m\n\u001b[1;32m    582\u001b[0m \u001b[38;5;28;01mreturn\u001b[39;00m signaled\n",
      "File \u001b[0;32m/work/submit/lavezzo/miniforge3/envs/SUEP/lib/python3.9/threading.py:316\u001b[0m, in \u001b[0;36mCondition.wait\u001b[0;34m(self, timeout)\u001b[0m\n\u001b[1;32m    314\u001b[0m \u001b[38;5;28;01melse\u001b[39;00m:\n\u001b[1;32m    315\u001b[0m     \u001b[38;5;28;01mif\u001b[39;00m timeout \u001b[38;5;241m>\u001b[39m \u001b[38;5;241m0\u001b[39m:\n\u001b[0;32m--> 316\u001b[0m         gotit \u001b[38;5;241m=\u001b[39m \u001b[43mwaiter\u001b[49m\u001b[38;5;241;43m.\u001b[39;49m\u001b[43macquire\u001b[49m\u001b[43m(\u001b[49m\u001b[38;5;28;43;01mTrue\u001b[39;49;00m\u001b[43m,\u001b[49m\u001b[43m \u001b[49m\u001b[43mtimeout\u001b[49m\u001b[43m)\u001b[49m\n\u001b[1;32m    317\u001b[0m     \u001b[38;5;28;01melse\u001b[39;00m:\n\u001b[1;32m    318\u001b[0m         gotit \u001b[38;5;241m=\u001b[39m waiter\u001b[38;5;241m.\u001b[39macquire(\u001b[38;5;28;01mFalse\u001b[39;00m)\n",
      "\u001b[0;31mKeyboardInterrupt\u001b[0m: "
     ]
    },
    {
     "name": "stderr",
     "output_type": "stream",
     "text": [
      "/work/submit/lavezzo/miniforge3/envs/SUEP/lib/python3.9/site-packages/dask_jobqueue/core.py:255: FutureWarning: job_extra has been renamed to job_extra_directives. You are still using it (even if only set to []; please also check config files). If you did not set job_extra_directives yet, job_extra will be respected for now, but it will be removed in a future release. If you already set job_extra_directives, job_extra is ignored and you can remove it.\n",
      "  warnings.warn(warn, FutureWarning)\n",
      "/work/submit/lavezzo/miniforge3/envs/SUEP/lib/python3.9/site-packages/dask_jobqueue/core.py:274: FutureWarning: env_extra has been renamed to job_script_prologue. You are still using it (even if only set to []; please also check config files). If you did not set job_script_prologue yet, env_extra will be respected for now, but it will be removed in a future release. If you already set job_script_prologue, env_extra is ignored and you can remove it.\n",
      "  warnings.warn(warn, FutureWarning)\n",
      "/work/submit/lavezzo/miniforge3/envs/SUEP/lib/python3.9/site-packages/dask_jobqueue/slurm.py:49: FutureWarning: project has been renamed to account as this kwarg was used wit -A option. You are still using it (please also check config files). If you did not set account yet, project will be respected for now, but it will be removed in a future release. If you already set account, project is ignored and you can remove it.\n",
      "  warnings.warn(warn, FutureWarning)\n",
      "/work/submit/lavezzo/miniforge3/envs/SUEP/lib/python3.9/site-packages/dask_jobqueue/core.py:255: FutureWarning: job_extra has been renamed to job_extra_directives. You are still using it (even if only set to []; please also check config files). If you did not set job_extra_directives yet, job_extra will be respected for now, but it will be removed in a future release. If you already set job_extra_directives, job_extra is ignored and you can remove it.\n",
      "  warnings.warn(warn, FutureWarning)\n",
      "/work/submit/lavezzo/miniforge3/envs/SUEP/lib/python3.9/site-packages/dask_jobqueue/core.py:274: FutureWarning: env_extra has been renamed to job_script_prologue. You are still using it (even if only set to []; please also check config files). If you did not set job_script_prologue yet, env_extra will be respected for now, but it will be removed in a future release. If you already set job_script_prologue, env_extra is ignored and you can remove it.\n",
      "  warnings.warn(warn, FutureWarning)\n",
      "/work/submit/lavezzo/miniforge3/envs/SUEP/lib/python3.9/site-packages/dask_jobqueue/slurm.py:49: FutureWarning: project has been renamed to account as this kwarg was used wit -A option. You are still using it (please also check config files). If you did not set account yet, project will be respected for now, but it will be removed in a future release. If you already set account, project is ignored and you can remove it.\n",
      "  warnings.warn(warn, FutureWarning)\n"
     ]
    }
   ],
   "source": [
    "processor_instance = Simple_Process(isMC=1, era=year, sample='test')\n",
    "with performance_report(filename=\"dask-report.html\"):\n",
    "\n",
    "    runner = processor.Runner(\n",
    "        executor = processor.dask_executor(client = client, retries= 4),\n",
    "        schema = processor.NanoAODSchema,\n",
    "        xrootdtimeout = 60,\n",
    "        chunksize=10000,\n",
    "        skipbadfiles=True\n",
    "    )\n",
    "\n",
    "    output = runner.automatic_retries(retries=3, skipbadfiles=True, func=runner.run,\n",
    "        fileset=skimmedSamples,\n",
    "        treename=\"Events\",\n",
    "        processor_instance=processor_instance,\n",
    "    )\n",
    "\n",
    "    now = datetime.datetime.now()\n",
    "    coffea.util.save(output, \"unscaled-{}.coffea\".format(now.strftime(\"%H:%M:%S\")))"
   ]
  },
  {
   "cell_type": "code",
   "execution_count": 14,
   "id": "54cbbc5f-9fae-4875-908f-6e553d61feb8",
   "metadata": {},
   "outputs": [
    {
     "name": "stderr",
     "output_type": "stream",
     "text": [
      "/work/submit/lavezzo/miniforge3/envs/SUEP/lib/python3.9/site-packages/dask_jobqueue/core.py:255: FutureWarning: job_extra has been renamed to job_extra_directives. You are still using it (even if only set to []; please also check config files). If you did not set job_extra_directives yet, job_extra will be respected for now, but it will be removed in a future release. If you already set job_extra_directives, job_extra is ignored and you can remove it.\n",
      "  warnings.warn(warn, FutureWarning)\n",
      "/work/submit/lavezzo/miniforge3/envs/SUEP/lib/python3.9/site-packages/dask_jobqueue/core.py:274: FutureWarning: env_extra has been renamed to job_script_prologue. You are still using it (even if only set to []; please also check config files). If you did not set job_script_prologue yet, env_extra will be respected for now, but it will be removed in a future release. If you already set job_script_prologue, env_extra is ignored and you can remove it.\n",
      "  warnings.warn(warn, FutureWarning)\n",
      "/work/submit/lavezzo/miniforge3/envs/SUEP/lib/python3.9/site-packages/dask_jobqueue/slurm.py:49: FutureWarning: project has been renamed to account as this kwarg was used wit -A option. You are still using it (please also check config files). If you did not set account yet, project will be respected for now, but it will be removed in a future release. If you already set account, project is ignored and you can remove it.\n",
      "  warnings.warn(warn, FutureWarning)\n",
      "/work/submit/lavezzo/miniforge3/envs/SUEP/lib/python3.9/site-packages/dask_jobqueue/core.py:255: FutureWarning: job_extra has been renamed to job_extra_directives. You are still using it (even if only set to []; please also check config files). If you did not set job_extra_directives yet, job_extra will be respected for now, but it will be removed in a future release. If you already set job_extra_directives, job_extra is ignored and you can remove it.\n",
      "  warnings.warn(warn, FutureWarning)\n",
      "/work/submit/lavezzo/miniforge3/envs/SUEP/lib/python3.9/site-packages/dask_jobqueue/core.py:274: FutureWarning: env_extra has been renamed to job_script_prologue. You are still using it (even if only set to []; please also check config files). If you did not set job_script_prologue yet, env_extra will be respected for now, but it will be removed in a future release. If you already set job_script_prologue, env_extra is ignored and you can remove it.\n",
      "  warnings.warn(warn, FutureWarning)\n",
      "/work/submit/lavezzo/miniforge3/envs/SUEP/lib/python3.9/site-packages/dask_jobqueue/slurm.py:49: FutureWarning: project has been renamed to account as this kwarg was used wit -A option. You are still using it (please also check config files). If you did not set account yet, project will be respected for now, but it will be removed in a future release. If you already set account, project is ignored and you can remove it.\n",
      "  warnings.warn(warn, FutureWarning)\n",
      "/work/submit/lavezzo/miniforge3/envs/SUEP/lib/python3.9/site-packages/dask_jobqueue/core.py:255: FutureWarning: job_extra has been renamed to job_extra_directives. You are still using it (even if only set to []; please also check config files). If you did not set job_extra_directives yet, job_extra will be respected for now, but it will be removed in a future release. If you already set job_extra_directives, job_extra is ignored and you can remove it.\n",
      "  warnings.warn(warn, FutureWarning)\n",
      "/work/submit/lavezzo/miniforge3/envs/SUEP/lib/python3.9/site-packages/dask_jobqueue/core.py:274: FutureWarning: env_extra has been renamed to job_script_prologue. You are still using it (even if only set to []; please also check config files). If you did not set job_script_prologue yet, env_extra will be respected for now, but it will be removed in a future release. If you already set job_script_prologue, env_extra is ignored and you can remove it.\n",
      "  warnings.warn(warn, FutureWarning)\n",
      "/work/submit/lavezzo/miniforge3/envs/SUEP/lib/python3.9/site-packages/dask_jobqueue/slurm.py:49: FutureWarning: project has been renamed to account as this kwarg was used wit -A option. You are still using it (please also check config files). If you did not set account yet, project will be respected for now, but it will be removed in a future release. If you already set account, project is ignored and you can remove it.\n",
      "  warnings.warn(warn, FutureWarning)\n",
      "/work/submit/lavezzo/miniforge3/envs/SUEP/lib/python3.9/site-packages/dask_jobqueue/core.py:255: FutureWarning: job_extra has been renamed to job_extra_directives. You are still using it (even if only set to []; please also check config files). If you did not set job_extra_directives yet, job_extra will be respected for now, but it will be removed in a future release. If you already set job_extra_directives, job_extra is ignored and you can remove it.\n",
      "  warnings.warn(warn, FutureWarning)\n",
      "/work/submit/lavezzo/miniforge3/envs/SUEP/lib/python3.9/site-packages/dask_jobqueue/core.py:274: FutureWarning: env_extra has been renamed to job_script_prologue. You are still using it (even if only set to []; please also check config files). If you did not set job_script_prologue yet, env_extra will be respected for now, but it will be removed in a future release. If you already set job_script_prologue, env_extra is ignored and you can remove it.\n",
      "  warnings.warn(warn, FutureWarning)\n",
      "/work/submit/lavezzo/miniforge3/envs/SUEP/lib/python3.9/site-packages/dask_jobqueue/slurm.py:49: FutureWarning: project has been renamed to account as this kwarg was used wit -A option. You are still using it (please also check config files). If you did not set account yet, project will be respected for now, but it will be removed in a future release. If you already set account, project is ignored and you can remove it.\n",
      "  warnings.warn(warn, FutureWarning)\n",
      "/work/submit/lavezzo/miniforge3/envs/SUEP/lib/python3.9/site-packages/dask_jobqueue/core.py:255: FutureWarning: job_extra has been renamed to job_extra_directives. You are still using it (even if only set to []; please also check config files). If you did not set job_extra_directives yet, job_extra will be respected for now, but it will be removed in a future release. If you already set job_extra_directives, job_extra is ignored and you can remove it.\n",
      "  warnings.warn(warn, FutureWarning)\n",
      "/work/submit/lavezzo/miniforge3/envs/SUEP/lib/python3.9/site-packages/dask_jobqueue/core.py:274: FutureWarning: env_extra has been renamed to job_script_prologue. You are still using it (even if only set to []; please also check config files). If you did not set job_script_prologue yet, env_extra will be respected for now, but it will be removed in a future release. If you already set job_script_prologue, env_extra is ignored and you can remove it.\n",
      "  warnings.warn(warn, FutureWarning)\n",
      "/work/submit/lavezzo/miniforge3/envs/SUEP/lib/python3.9/site-packages/dask_jobqueue/slurm.py:49: FutureWarning: project has been renamed to account as this kwarg was used wit -A option. You are still using it (please also check config files). If you did not set account yet, project will be respected for now, but it will be removed in a future release. If you already set account, project is ignored and you can remove it.\n",
      "  warnings.warn(warn, FutureWarning)\n",
      "/work/submit/lavezzo/miniforge3/envs/SUEP/lib/python3.9/site-packages/dask_jobqueue/core.py:255: FutureWarning: job_extra has been renamed to job_extra_directives. You are still using it (even if only set to []; please also check config files). If you did not set job_extra_directives yet, job_extra will be respected for now, but it will be removed in a future release. If you already set job_extra_directives, job_extra is ignored and you can remove it.\n",
      "  warnings.warn(warn, FutureWarning)\n",
      "/work/submit/lavezzo/miniforge3/envs/SUEP/lib/python3.9/site-packages/dask_jobqueue/core.py:274: FutureWarning: env_extra has been renamed to job_script_prologue. You are still using it (even if only set to []; please also check config files). If you did not set job_script_prologue yet, env_extra will be respected for now, but it will be removed in a future release. If you already set job_script_prologue, env_extra is ignored and you can remove it.\n",
      "  warnings.warn(warn, FutureWarning)\n",
      "/work/submit/lavezzo/miniforge3/envs/SUEP/lib/python3.9/site-packages/dask_jobqueue/slurm.py:49: FutureWarning: project has been renamed to account as this kwarg was used wit -A option. You are still using it (please also check config files). If you did not set account yet, project will be respected for now, but it will be removed in a future release. If you already set account, project is ignored and you can remove it.\n",
      "  warnings.warn(warn, FutureWarning)\n",
      "/work/submit/lavezzo/miniforge3/envs/SUEP/lib/python3.9/site-packages/dask_jobqueue/core.py:255: FutureWarning: job_extra has been renamed to job_extra_directives. You are still using it (even if only set to []; please also check config files). If you did not set job_extra_directives yet, job_extra will be respected for now, but it will be removed in a future release. If you already set job_extra_directives, job_extra is ignored and you can remove it.\n",
      "  warnings.warn(warn, FutureWarning)\n",
      "/work/submit/lavezzo/miniforge3/envs/SUEP/lib/python3.9/site-packages/dask_jobqueue/core.py:274: FutureWarning: env_extra has been renamed to job_script_prologue. You are still using it (even if only set to []; please also check config files). If you did not set job_script_prologue yet, env_extra will be respected for now, but it will be removed in a future release. If you already set job_script_prologue, env_extra is ignored and you can remove it.\n",
      "  warnings.warn(warn, FutureWarning)\n",
      "/work/submit/lavezzo/miniforge3/envs/SUEP/lib/python3.9/site-packages/dask_jobqueue/slurm.py:49: FutureWarning: project has been renamed to account as this kwarg was used wit -A option. You are still using it (please also check config files). If you did not set account yet, project will be respected for now, but it will be removed in a future release. If you already set account, project is ignored and you can remove it.\n",
      "  warnings.warn(warn, FutureWarning)\n",
      "/work/submit/lavezzo/miniforge3/envs/SUEP/lib/python3.9/site-packages/dask_jobqueue/core.py:255: FutureWarning: job_extra has been renamed to job_extra_directives. You are still using it (even if only set to []; please also check config files). If you did not set job_extra_directives yet, job_extra will be respected for now, but it will be removed in a future release. If you already set job_extra_directives, job_extra is ignored and you can remove it.\n",
      "  warnings.warn(warn, FutureWarning)\n",
      "/work/submit/lavezzo/miniforge3/envs/SUEP/lib/python3.9/site-packages/dask_jobqueue/core.py:274: FutureWarning: env_extra has been renamed to job_script_prologue. You are still using it (even if only set to []; please also check config files). If you did not set job_script_prologue yet, env_extra will be respected for now, but it will be removed in a future release. If you already set job_script_prologue, env_extra is ignored and you can remove it.\n",
      "  warnings.warn(warn, FutureWarning)\n",
      "/work/submit/lavezzo/miniforge3/envs/SUEP/lib/python3.9/site-packages/dask_jobqueue/slurm.py:49: FutureWarning: project has been renamed to account as this kwarg was used wit -A option. You are still using it (please also check config files). If you did not set account yet, project will be respected for now, but it will be removed in a future release. If you already set account, project is ignored and you can remove it.\n",
      "  warnings.warn(warn, FutureWarning)\n",
      "/work/submit/lavezzo/miniforge3/envs/SUEP/lib/python3.9/site-packages/dask_jobqueue/core.py:255: FutureWarning: job_extra has been renamed to job_extra_directives. You are still using it (even if only set to []; please also check config files). If you did not set job_extra_directives yet, job_extra will be respected for now, but it will be removed in a future release. If you already set job_extra_directives, job_extra is ignored and you can remove it.\n",
      "  warnings.warn(warn, FutureWarning)\n",
      "/work/submit/lavezzo/miniforge3/envs/SUEP/lib/python3.9/site-packages/dask_jobqueue/core.py:274: FutureWarning: env_extra has been renamed to job_script_prologue. You are still using it (even if only set to []; please also check config files). If you did not set job_script_prologue yet, env_extra will be respected for now, but it will be removed in a future release. If you already set job_script_prologue, env_extra is ignored and you can remove it.\n",
      "  warnings.warn(warn, FutureWarning)\n",
      "/work/submit/lavezzo/miniforge3/envs/SUEP/lib/python3.9/site-packages/dask_jobqueue/slurm.py:49: FutureWarning: project has been renamed to account as this kwarg was used wit -A option. You are still using it (please also check config files). If you did not set account yet, project will be respected for now, but it will be removed in a future release. If you already set account, project is ignored and you can remove it.\n",
      "  warnings.warn(warn, FutureWarning)\n"
     ]
    }
   ],
   "source": [
    "client.cancel(cluster)"
   ]
  },
  {
   "cell_type": "markdown",
   "id": "2a8ebaa2-1f54-41bf-b039-39d9c50741fb",
   "metadata": {},
   "source": [
    "## Futures Executor"
   ]
  },
  {
   "cell_type": "code",
   "execution_count": 12,
   "id": "c844433b-1d0b-442f-adb1-c2921c17929c",
   "metadata": {},
   "outputs": [
    {
     "data": {
      "text/html": [
       "<pre style=\"white-space:pre;overflow-x:auto;line-height:normal;font-family:Menlo,'DejaVu Sans Mono',consolas,'Courier New',monospace\">     <span style=\"color: #000080; text-decoration-color: #000080; font-weight: bold\">Processing</span> <span style=\"color: #800080; text-decoration-color: #800080\">100%</span> <span style=\"color: #729c1f; text-decoration-color: #729c1f\">━━━━━━━━━━━━━━━━━━━━━━━━━━━━━━━━━━━━━━━━━━━━━━━━━━━</span> <span style=\"color: #000080; text-decoration-color: #000080; font-weight: bold\">52/52</span> [ <span style=\"color: #808000; text-decoration-color: #808000\">0:06:45</span> &lt; <span style=\"color: #008080; text-decoration-color: #008080\">0:00:00</span> | <span style=\"color: #800000; text-decoration-color: #800000\">0.1</span>  <span style=\"color: #800000; text-decoration-color: #800000\">chunk/s</span> ]\n",
       "<span style=\"color: #000080; text-decoration-color: #000080; font-weight: bold\">Merging (local)</span> <span style=\"color: #800080; text-decoration-color: #800080\">100%</span> <span style=\"color: #729c1f; text-decoration-color: #729c1f\">━━━━━━━━━━━━━━━━━━━━━━━━━━━━━━━━━━━━━━━━━━━━━━━━━━━</span> <span style=\"color: #000080; text-decoration-color: #000080; font-weight: bold\">52/52</span> [ <span style=\"color: #808000; text-decoration-color: #808000\">0:06:45</span> &lt; <span style=\"color: #008080; text-decoration-color: #008080\">0:00:00</span> | <span style=\"color: #800000; text-decoration-color: #800000\">?  </span> <span style=\"color: #800000; text-decoration-color: #800000\">merges/s</span> ]\n",
       "</pre>\n"
      ],
      "text/plain": [
       "     \u001b[1;34mProcessing\u001b[0m \u001b[35m100%\u001b[0m \u001b[38;2;114;156;31m━━━━━━━━━━━━━━━━━━━━━━━━━━━━━━━━━━━━━━━━━━━━━━━━━━━\u001b[0m \u001b[1;34m52/52\u001b[0m [ \u001b[33m0:06:45\u001b[0m < \u001b[36m0:00:00\u001b[0m | \u001b[31m0.1\u001b[0m  \u001b[31mchunk/s\u001b[0m ]\n",
       "\u001b[1;34mMerging (local)\u001b[0m \u001b[35m100%\u001b[0m \u001b[38;2;114;156;31m━━━━━━━━━━━━━━━━━━━━━━━━━━━━━━━━━━━━━━━━━━━━━━━━━━━\u001b[0m \u001b[1;34m52/52\u001b[0m [ \u001b[33m0:06:45\u001b[0m < \u001b[36m0:00:00\u001b[0m | \u001b[31m?  \u001b[0m \u001b[31mmerges/s\u001b[0m ]\n"
      ]
     },
     "metadata": {},
     "output_type": "display_data"
    },
    {
     "data": {
      "text/html": [
       "<pre style=\"white-space:pre;overflow-x:auto;line-height:normal;font-family:Menlo,'DejaVu Sans Mono',consolas,'Courier New',monospace\"></pre>\n"
      ],
      "text/plain": []
     },
     "metadata": {},
     "output_type": "display_data"
    },
    {
     "data": {
      "text/html": [
       "<pre style=\"white-space:pre;overflow-x:auto;line-height:normal;font-family:Menlo,'DejaVu Sans Mono',consolas,'Courier New',monospace\">\n",
       "</pre>\n"
      ],
      "text/plain": [
       "\n"
      ]
     },
     "metadata": {},
     "output_type": "display_data"
    },
    {
     "name": "stdout",
     "output_type": "stream",
     "text": [
      "Exceptions: 0\n"
     ]
    }
   ],
   "source": [
    "processor_instance = Simple_Process(isMC=1, era=year, sample='test')\n",
    "\n",
    "runner = processor.Runner(\n",
    "        executor = processor.futures_executor(workers = 20),\n",
    "        #executor = processor.IterativeExecutor(workers=20),\n",
    "        schema = processor.NanoAODSchema,\n",
    "        xrootdtimeout = 120,\n",
    "        chunksize = 10000000,\n",
    "        skipbadfiles=True\n",
    "    )\n",
    "\n",
    "output = runner.automatic_retries(retries=3, skipbadfiles=True, func=runner.run,\n",
    "    fileset=skimmedSamples,\n",
    "    treename=\"Events\",\n",
    "    processor_instance=processor_instance,\n",
    ")\n",
    "\n",
    "now = datetime.datetime.now()\n",
    "coffea.util.save(output, \"unscaled-{}.coffea\".format(now.strftime(\"%H:%M:%S\")))\n",
    "\n",
    "print(\"Exceptions:\", output['exception'])"
   ]
  },
  {
   "cell_type": "markdown",
   "id": "19694fe5-5833-410b-94dc-5e1864f9bafd",
   "metadata": {},
   "source": [
    "## Analysis"
   ]
  },
  {
   "cell_type": "code",
   "execution_count": 22,
   "id": "b4133ea4-84f4-4760-a0d4-8afc9c699b46",
   "metadata": {},
   "outputs": [
    {
     "name": "stdout",
     "output_type": "stream",
     "text": [
      "ht_reco\n",
      "ht_reco_triggered\n",
      "nmuons\n",
      "muon_pt\n",
      "muon_pt_triggered\n",
      "MET\n"
     ]
    }
   ],
   "source": [
    "# just in case this isn't working as expected\n",
    "#coffea.util.save(output, \"unscaled_output.coffea\")\n",
    "\n",
    "outputs = coffea.util.load(\"unscaled-21:18:19.coffea\")\n",
    "output = outputs['out']\n",
    "\n",
    "# calculate normalization\n",
    "scales = {} \n",
    "for dataset in output[\"sumw\"]:\n",
    "    lumi = 1.0 # don't need to normalize to lumi for this\n",
    "    if \"muon\"  in dataset.lower() or 'data' in dataset.lower():\n",
    "        scale = 1.0\n",
    "    else:\n",
    "        xsec = xsections[dataset]\n",
    "        scale = lumi * xsec / output[\"sumw\"][dataset]\n",
    "    scales.update({dataset: scale})\n",
    "\n",
    "\n",
    "# apply normalization to all histograms\n",
    "for key in list(output.keys()):\n",
    "    if key.lower() == 'sumw': continue\n",
    "    print(key)\n",
    "    output[key].scale(scales, axis='dataset')\n",
    "\n",
    "coffea.util.save(output, \"10percent_MC_2016.coffea\")"
   ]
  },
  {
   "cell_type": "markdown",
   "id": "0658b324-d9b8-43ce-90c2-ab7fbe3326c3",
   "metadata": {},
   "source": [
    "### We can make some plots here too! But most of the analysis is in Dask_analysis.ipynb"
   ]
  },
  {
   "cell_type": "code",
   "execution_count": 30,
   "id": "7f1bf8ff-9d02-40ac-825d-e11e1ea8b20e",
   "metadata": {},
   "outputs": [],
   "source": [
    "output = coffea.util.load(\"10percent_MC_2016.coffea\")\n",
    "output_mu = coffea.util.load(\"10percent_Muon_2016.coffea\")"
   ]
  },
  {
   "cell_type": "code",
   "execution_count": 31,
   "id": "c351aea7-0ce9-4365-b67d-0de06589715b",
   "metadata": {},
   "outputs": [
    {
     "name": "stderr",
     "output_type": "stream",
     "text": [
      "/work/submit/lavezzo/miniforge3/envs/SUEP/lib/python3.9/site-packages/coffea/hist/plot.py:333: UserWarning: Attempt to set non-positive ylim on a log-scaled axis will be ignored.\n",
      "  ax.set_ylim(0, None)\n"
     ]
    },
    {
     "data": {
      "image/png": "[encoded data removed]",
      "text/plain": [
       "<Figure size 720x720 with 1 Axes>"
      ]
     },
     "metadata": {
      "needs_background": "light"
     },
     "output_type": "display_data"
    }
   ],
   "source": [
    "from coffea.hist import plot\n",
    "import matplotlib.pyplot as plt\n",
    "import mplhep as hep\n",
    "\n",
    "fig = plt.figure()\n",
    "ax = fig.subplots()\n",
    "\n",
    "#hep.cms.label(data=False, year='2018')\n",
    "hep.style.use(\"ROOT\")\n",
    "# {\"ALICE\" | \"ATLAS\" | \"CMS\" | \"LHCb1\" | \"LHCb2\"}\n",
    "hep.cms.label(data=False)\n",
    "\n",
    "_ = ax.set_yscale('log')\n",
    "coffea.hist.plot.plot1d(output['ht_reco']['QCDHT*'], ax=ax, clear=False, stack=True, density=True)\n",
    "coffea.hist.plot.plot1d(output_mu['ht_reco']['Data'], ax=ax, clear=False, stack=False, density=True)\n",
    "\n",
    "_ = ax.set_xlim(0, 2500)\n",
    "_ = ax.set_ylim(1e-7, 1e-1)\n",
    "ax.get_legend().remove()\n",
    "\n",
    "plt.savefig(outDir + 'ht_reco_{}.pdf'.format(year))"
   ]
  },
  {
   "cell_type": "code",
   "execution_count": 32,
   "id": "9baeddee-951a-4b9a-9057-a8814e752b3e",
   "metadata": {},
   "outputs": [
    {
     "name": "stderr",
     "output_type": "stream",
     "text": [
      "/work/submit/lavezzo/miniforge3/envs/SUEP/lib/python3.9/site-packages/coffea/hist/plot.py:43: RuntimeWarning: All sumw are zero!  Cannot compute meaningful error bars\n",
      "  warnings.warn(\n",
      "/work/submit/lavezzo/miniforge3/envs/SUEP/lib/python3.9/site-packages/coffea/hist/plot.py:333: UserWarning: Attempt to set non-positive ylim on a log-scaled axis will be ignored.\n",
      "  ax.set_ylim(0, None)\n",
      "/work/submit/lavezzo/miniforge3/envs/SUEP/lib/python3.9/site-packages/coffea/hist/plot.py:333: UserWarning: Attempt to set non-positive ylim on a log-scaled axis will be ignored.\n",
      "  ax.set_ylim(0, None)\n"
     ]
    },
    {
     "data": {
      "image/png": "[encoded data removed]",
      "text/plain": [
       "<Figure size 720x720 with 1 Axes>"
      ]
     },
     "metadata": {
      "needs_background": "light"
     },
     "output_type": "display_data"
    }
   ],
   "source": [
    "fig = plt.figure()\n",
    "ax = fig.subplots()\n",
    "\n",
    "#hep.cms.label(data=False, year='2018')\n",
    "hep.style.use(\"ROOT\")\n",
    "# {\"ALICE\" | \"ATLAS\" | \"CMS\" | \"LHCb1\" | \"LHCb2\"}\n",
    "hep.cms.label(data=False)\n",
    "\n",
    "_ = ax.set_yscale('log')\n",
    "coffea.hist.plot.plot1d(output['ht_reco_triggered']['QCDHT*'], ax=ax, clear=False, stack=True, density=True)\n",
    "coffea.hist.plot.plot1d(output_mu['ht_reco_triggered'][\"Data\"], ax=ax, clear=False, stack=False, density=True)\n",
    "_ = ax.set_xlim(500, 2500)\n",
    "_ = ax.set_ylim(1e-5, 1e-1)\n",
    "ax.get_legend().remove()\n",
    "\n",
    "plt.savefig(outDir + 'ht_reco_triggered_{}.pdf'.format(year))"
   ]
  },
  {
   "cell_type": "code",
   "execution_count": 33,
   "id": "9c5d217c-3c36-4230-882e-ef85fb0833ce",
   "metadata": {},
   "outputs": [],
   "source": [
    "val_trig = 0\n",
    "val = 0\n",
    "var_trig = 0\n",
    "var = 0\n",
    "i = 0\n",
    "for sample in output['ht_reco_triggered'].project('dataset').values():\n",
    "    if 'QCDHT' not in sample[0]: continue\n",
    "    bh_trig = output['ht_reco_triggered'][sample[0]].to_boost()\n",
    "    bh = output['ht_reco'][sample[0]].to_boost() \n",
    "    if i == 0:\n",
    "        bins_use = bh_trig.axes.edges[1][0]\n",
    "        val_trig = bh_trig.values()[0]\n",
    "        val= bh.values()[0]\n",
    "        var_trig = bh_trig.variances()[0]\n",
    "        var= bh.variances()[0]\n",
    "    else:\n",
    "        val_trig += bh_trig.values()[0]\n",
    "        val += bh.values()[0]\n",
    "        var_trig += bh_trig.variances()[0]\n",
    "        var += bh.variances()[0]\n",
    "    i += 1\n",
    "\n",
    "#val_trig = np.array([ x+y for x,y in zip(val_trig[0::2], val_trig[1::2]) ])\n",
    "#val = np.array([ x+y for x,y in zip(val[0::2], val[1::2]) ])\n",
    "#var_trig = np.array([ x+y for x,y in zip(var_trig[0::2], var_trig[1::2]) ])\n",
    "#var = np.array([ x+y for x,y in zip(var[0::2], var[1::2]) ])\n",
    "x = val_trig/val\n",
    "x2 = np.nan_to_num(x)*100"
   ]
  },
  {
   "cell_type": "code",
   "execution_count": 34,
   "id": "b202fa32-94f7-48ca-9ea7-7ac9c90c5a89",
   "metadata": {},
   "outputs": [],
   "source": [
    "val_trig_data = 0\n",
    "val_data = 0\n",
    "var_trig_data = 0\n",
    "var_data = 0\n",
    "i = 0\n",
    "for sample in output_mu['ht_reco_triggered'].project('dataset').values():\n",
    "    if 'data' not in sample[0].lower(): continue\n",
    "    bh_trig_data = output_mu['ht_reco_triggered'][sample[0]].to_boost()\n",
    "    bh_data = output_mu['ht_reco'][sample[0]].to_boost()\n",
    "    if i == 0:\n",
    "        val_trig_data = bh_trig_data.values()[0]\n",
    "        val_data= bh_data.values()[0]\n",
    "        var_trig_data = bh_trig_data.variances()[0]\n",
    "        var_data= bh_data.variances()[0]\n",
    "    else:\n",
    "        val_trig_data += bh_trig_data.values()[0]\n",
    "        val_data += bh_data.values()[0]\n",
    "        var_trig_data+= bh_trig_data.variances()[0]\n",
    "        var_data += bh_data.variances()[0]\n",
    "    i += 1\n",
    "    \n",
    "    \n",
    "#val_trig_data = np.array([ x+y for x,y in zip(val_trig_data[0::2], val_trig_data[1::2]) ])\n",
    "#val_data = np.array([ x+y for x,y in zip(val_data[0::2], val_data[1::2]) ])\n",
    "#var_trig_data = np.array([ x+y for x,y in zip(var_trig_data[0::2], var_trig_data[1::2]) ])\n",
    "#var_data = np.array([ x+y for x,y in zip(var_data[0::2], var_data[1::2]) ])\n",
    "x_data = val_trig_data/val_data\n",
    "x_data2 = np.nan_to_num(x_data)*100"
   ]
  },
  {
   "cell_type": "code",
   "execution_count": 35,
   "id": "179d7137-21a8-4865-bb26-c171f876d1cd",
   "metadata": {},
   "outputs": [],
   "source": [
    "#bins_use=bins_use[0::2]\n",
    "import hist\n",
    "from hist import intervals\n",
    "MC_err = hist.intervals.ratio_uncertainty(num=val_trig,denom=val,uncertainty_type='efficiency')\n",
    "data_err = hist.intervals.ratio_uncertainty(num=val_trig_data,denom=val_data,uncertainty_type='efficiency')"
   ]
  },
  {
   "cell_type": "code",
   "execution_count": 36,
   "id": "c63559cc-f75e-4a6e-87c1-bf4da50a672c",
   "metadata": {},
   "outputs": [],
   "source": [
    "binc = np.array([ 0.5*(bins_use[i]+bins_use[i+1])for i in range(bins_use.shape[0]-1)])\n",
    "xerr = np.diff(bins_use)*0.5"
   ]
  },
  {
   "cell_type": "code",
   "execution_count": 37,
   "id": "a0cc78d6-4d78-4a04-95b4-d48a6d563275",
   "metadata": {},
   "outputs": [
    {
     "data": {
      "image/png": "[encoded data removed]",
      "text/plain": [
       "<Figure size 720x720 with 1 Axes>"
      ]
     },
     "metadata": {
      "needs_background": "light"
     },
     "output_type": "display_data"
    }
   ],
   "source": [
    "fig = plt.figure()\n",
    "ax = fig.subplots()\n",
    "\n",
    "hep.cms.label(data=False, year='SingleMuon '+str(year))\n",
    "hep.style.use(\"ROOT\")\n",
    "# {\"ALICE\" | \"ATLAS\" | \"CMS\" | \"LHCb1\" | \"LHCb2\"}\n",
    "hep.cms.label(data=False)\n",
    "binc = np.array([ 0.5*(bins_use[i]+bins_use[i+1])for i in range(bins_use.shape[0]-1)])\n",
    "plt.errorbar(binc,x_data2, xerr=xerr,yerr=[data_err[0],data_err[1]],color=\"red\", fmt='o')\n",
    "plt.errorbar(binc,x2, xerr=xerr,yerr=[MC_err[0],MC_err[1]],color=\"black\", fmt='o')\n",
    "#plt.axvline(x=1200, color='gray',ls='--', lw=2)\n",
    "_ = ax.set_ylim(0.001, 130)\n",
    "_ = ax.set_ylabel(\"Efficiency\")\n",
    "_ = ax.set_xlabel(r\"AK4 $H_{T}$ [GeV]\")\n",
    "plt.rcParams['text.usetex'] = True\n",
    "labels = [r\"QCD MC\",r\"Data\"]\n",
    "leg = ax.legend(labels=labels)\n",
    "plt.axvline(x=1200, color='gray',ls='--', lw=2)\n",
    "\n",
    "plt.savefig(outDir + 'eff_{}.pdf'.format(year))"
   ]
  },
  {
   "cell_type": "code",
   "execution_count": 38,
   "id": "26533ee5-25fa-480b-bae6-880bf3ddd73e",
   "metadata": {},
   "outputs": [
    {
     "name": "stderr",
     "output_type": "stream",
     "text": [
      "/tmp/ipykernel_3824624/1942878560.py:1: RuntimeWarning: divide by zero encountered in true_divide\n",
      "  z=np.nan_to_num(x_data2/x2)\n",
      "/tmp/ipykernel_3824624/1942878560.py:1: RuntimeWarning: invalid value encountered in true_divide\n",
      "  z=np.nan_to_num(x_data2/x2)\n",
      "/tmp/ipykernel_3824624/1942878560.py:5: RuntimeWarning: divide by zero encountered in true_divide\n",
      "  z_down = z - np.nan_to_num((x_data2-data_err[1])/(x2+MC_err[0]))\n"
     ]
    }
   ],
   "source": [
    "z=np.nan_to_num(x_data2/x2)\n",
    "z=np.clip(z,0,15)\n",
    "z_up = np.nan_to_num((x_data2+data_err[0])/(x2-MC_err[1])) - z\n",
    "z_up = np.clip(z_up,0,15)\n",
    "z_down = z - np.nan_to_num((x_data2-data_err[1])/(x2+MC_err[0]))\n",
    "z_down = np.clip(z_down,0,15)"
   ]
  },
  {
   "cell_type": "code",
   "execution_count": 39,
   "id": "357a5483-d913-4834-a6b4-29e4ca68ce84",
   "metadata": {},
   "outputs": [],
   "source": [
    "#z=np.clip(z,0,1.5)\n",
    "#z_up=np.clip(z_up,0,1.5)\n",
    "#_down=np.clip(z_down,0,1.5)"
   ]
  },
  {
   "cell_type": "code",
   "execution_count": 40,
   "id": "85410be5-4aec-4c03-94ff-6a5577c2a825",
   "metadata": {},
   "outputs": [
    {
     "data": {
      "image/png": "[encoded data removed]",
      "text/plain": [
       "<Figure size 720x720 with 1 Axes>"
      ]
     },
     "metadata": {
      "needs_background": "light"
     },
     "output_type": "display_data"
    }
   ],
   "source": [
    "fig = plt.figure()\n",
    "ax = fig.subplots()\n",
    "\n",
    "hep.cms.label(data=False, year='SingleMuon '+str(year))\n",
    "hep.style.use(\"ROOT\")\n",
    "# {\"ALICE\" | \"ATLAS\" | \"CMS\" | \"LHCb1\" | \"LHCb2\"}\n",
    "hep.cms.label(data=False)\n",
    "plt.errorbar(binc,z, xerr=xerr,yerr=[z_up,z_down],color=\"red\", fmt='o')\n",
    "_ = ax.set_ylim(0.001, 1.5)\n",
    "_ = ax.set_ylabel(\"Scale Factor\")\n",
    "_ = ax.set_xlabel(r\"AK4 $H_{T}$ [GeV]\")\n",
    "plt.axvline(x=1200, color='gray',ls='--', lw=2)\n",
    "\n",
    "plt.savefig(outDir + 'trigSF_{}.pdf'.format(year))"
   ]
  },
  {
   "cell_type": "code",
   "execution_count": 41,
   "id": "a9169416-be4b-4150-882b-ce40e0426b6e",
   "metadata": {},
   "outputs": [],
   "source": [
    "import uproot\n",
    "outfile = uproot.recreate(outDir+\"trigSF_{}.root\".format(year))"
   ]
  },
  {
   "cell_type": "code",
   "execution_count": 42,
   "id": "d6b4f555-c7cf-411a-b320-4c5a046bf8ea",
   "metadata": {},
   "outputs": [],
   "source": [
    "z_var = np.maximum(z_up,z_down)"
   ]
  },
  {
   "cell_type": "code",
   "execution_count": 43,
   "id": "6b7ec40e-27d6-42c3-b84a-ca6ef8e34499",
   "metadata": {},
   "outputs": [
    {
     "data": {
      "text/plain": [
       "array([1.50000000e+01, 1.50000000e+01, 1.50000000e+01, 1.50000000e+01,\n",
       "       1.50000000e+01, 1.50000000e+01, 1.50000000e+01, 1.50000000e+01,\n",
       "       0.00000000e+00, 0.00000000e+00, 0.00000000e+00, 3.02601505e-02,\n",
       "       1.33013730e-02, 2.83684425e+00, 6.60732683e-01, 1.53535149e-01,\n",
       "       1.99733824e-02, 5.53714764e-03, 2.88024612e-03, 3.11405635e-03,\n",
       "       3.38847380e-03, 4.35936698e-03, 4.93450225e-03, 5.22216349e-03,\n",
       "       5.83220354e-03, 7.31303772e-03, 7.82895858e-03, 8.25160791e-03,\n",
       "       8.31565179e-03, 9.30415832e-03, 9.45990774e-03, 9.65637402e-03,\n",
       "       9.77381211e-03, 9.65847853e-03, 9.76070745e-03, 9.88272094e-03,\n",
       "       9.75426608e-03, 9.81511771e-03, 9.89460058e-03, 9.86923682e-03,\n",
       "       9.89110785e-03, 9.85657079e-03, 9.88928173e-03, 9.69020374e-03,\n",
       "       9.88423534e-03, 9.88439787e-03, 9.90099010e-03, 9.86815173e-03,\n",
       "       9.86877031e-03, 9.90099010e-03])"
      ]
     },
     "execution_count": 43,
     "metadata": {},
     "output_type": "execute_result"
    }
   ],
   "source": [
    "z_var"
   ]
  },
  {
   "cell_type": "code",
   "execution_count": 44,
   "id": "acd26726-5a76-4450-9e07-594e46733ade",
   "metadata": {},
   "outputs": [],
   "source": [
    "import boost_histogram as bh\n",
    "newhist = bh.Histogram(bh.axis.Variable(bins_use),storage=bh.storage.Weight())\n",
    "newhist[:] = np.stack([z, z_var], axis=-1)"
   ]
  },
  {
   "cell_type": "code",
   "execution_count": 45,
   "id": "7b882991-0ef7-40d3-94e5-e8a37355ddd9",
   "metadata": {},
   "outputs": [],
   "source": [
    "#outfile['efficiency_Data'] = x_data2\n",
    "#outfile['efficiency_MC'] = x_2\n",
    "outfile['TriggerSF'] = newhist\n",
    "outfile.close()"
   ]
  },
  {
   "cell_type": "code",
   "execution_count": 13,
   "id": "43a46131-64ad-4d42-8cdd-14486520ae1a",
   "metadata": {},
   "outputs": [],
   "source": [
    "import uproot\n",
    "import mplhep as hep\n",
    "import matplotlib.pyplot as plt\n",
    "\n",
    "infile = uproot.open(\"/home/submit/lavezzo/SUEP/paper_version/SUEPCoffea_dask/data/trigSF/trigSF_2018.root\")"
   ]
  },
  {
   "cell_type": "code",
   "execution_count": 25,
   "id": "44084b1b-ba60-4bd0-980c-ebc64da6ffde",
   "metadata": {},
   "outputs": [
    {
     "data": {
      "image/png": "[encoded data removed]",
      "text/plain": [
       "<Figure size 720x720 with 1 Axes>"
      ]
     },
     "metadata": {
      "needs_background": "light"
     },
     "output_type": "display_data"
    }
   ],
   "source": [
    "h = infile['TriggerSF'].to_hist()\n",
    "binc = h.axes[0].centers\n",
    "z = h.values()\n",
    "z_up, z_down = h.variances(), h.variances()\n",
    "\n",
    "fig = plt.figure()\n",
    "ax = fig.subplots()\n",
    "\n",
    "hep.cms.label(data=False, year='SingleMuon 2018')\n",
    "hep.style.use(\"ROOT\")\n",
    "# {\"ALICE\" | \"ATLAS\" | \"CMS\" | \"LHCb1\" | \"LHCb2\"}\n",
    "hep.cms.label(data=False)\n",
    "plt.errorbar(binc,z,yerr=[z_up,z_down],color=\"red\", fmt='o')\n",
    "_ = ax.set_ylim(0.001, 1.5)\n",
    "_ = ax.set_ylabel(\"Scale Factor\")\n",
    "_ = ax.set_xlabel(r\"AK4 $H_{T}$ [GeV]\")\n",
    "plt.axvline(x=1200, color='gray',ls='--', lw=2)\n",
    "\n",
    "plt.savefig(outDir + 'trigSF_{}.pdf'.format(2018))"
   ]
  },
  {
   "cell_type": "code",
   "execution_count": null,
   "id": "d19b9ddf-f790-499a-919d-e7d574729f03",
   "metadata": {},
   "outputs": [],
   "source": []
  }
 ],
 "metadata": {
  "kernelspec": {
   "display_name": "SUEP",
   "language": "python",
   "name": "suep"
  },
  "language_info": {
   "codemirror_mode": {
    "name": "ipython",
    "version": 3
   },
   "file_extension": ".py",
   "mimetype": "text/x-python",
   "name": "python",
   "nbconvert_exporter": "python",
   "pygments_lexer": "ipython3",
   "version": "3.9.15"
  }
 },
 "nbformat": 4,
 "nbformat_minor": 5
}
